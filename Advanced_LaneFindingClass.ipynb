{
 "cells": [
  {
   "cell_type": "markdown",
   "metadata": {},
   "source": [
    "# Project: Advanced Lane Finding - Main"
   ]
  },
  {
   "cell_type": "markdown",
   "metadata": {},
   "source": [
    "### <font color='red'> Note: Run 'Advanced_LaneFinding - PreProcessing' to generate camera calibration, perspective transform matrices before running this! </font>\n",
    "\n",
    "### Pipeline procedure\n",
    "1. Load camera calibration, perspective transform matrices\n",
    "2. Gradient & color filtering\n",
    "3. Undistort & unwarp\n",
    "4. Find lane lines:\n",
    "    a) Use sliding window for first image or when reset is needed\n",
    "    b) Use lookback for subsequent images"
   ]
  },
  {
   "cell_type": "markdown",
   "metadata": {},
   "source": [
    "### Import libraries"
   ]
  },
  {
   "cell_type": "code",
   "execution_count": 1,
   "metadata": {
    "collapsed": false
   },
   "outputs": [],
   "source": [
    "import numpy as np\n",
    "import cv2\n",
    "import matplotlib.pyplot as plt\n",
    "import matplotlib.image as mpimg\n",
    "import glob\n",
    "import pickle\n",
    "\n",
    "%matplotlib inline"
   ]
  },
  {
   "cell_type": "code",
   "execution_count": 2,
   "metadata": {
    "collapsed": false
   },
   "outputs": [],
   "source": [
    "try:\n",
    "    with open('cameraCalibration_perspectiveTransform_matrices.pkl', 'rb') as f:\n",
    "        data = pickle.load(f)\n",
    "    mtx = data['mtx']\n",
    "    dist = data['dist']\n",
    "    M = data['M']\n",
    "except FileNotFoundError:\n",
    "    print(\"Run 'Advanced_LaneFinding - PreProcessing' to generate camera calibration, \",\n",
    "          \"perspective transform matrices before running this!\")\n",
    "\n",
    "def apply_gradx_color_filter(img, s_thresh=(170, 255), sx_thresh=(20, 100)):\n",
    "    \"\"\"Apply sobel filter along x and s-channel color filter\"\"\"\n",
    "    img = np.copy(img)\n",
    "\n",
    "    # Convert to HLS color space and separate the V channel\n",
    "    hls = cv2.cvtColor(img, cv2.COLOR_RGB2HLS)\n",
    "    l_channel = hls[:,:,1]\n",
    "    s_channel = hls[:,:,2]\n",
    "\n",
    "    # Sobel x\n",
    "    sobelx = cv2.Sobel(l_channel, cv2.CV_64F, 1, 0) # Take the derivative in x\n",
    "    abs_sobelx = np.absolute(sobelx) # Absolute x derivative to accentuate lines away from horizontal\n",
    "    scaled_sobel = np.uint8(255*abs_sobelx/np.max(abs_sobelx))\n",
    "\n",
    "    # Threshold x gradient\n",
    "    sxbinary = np.zeros_like(scaled_sobel)\n",
    "    sxbinary[(scaled_sobel >= sx_thresh[0]) & (scaled_sobel <= sx_thresh[1])] = 1\n",
    "\n",
    "    # Threshold color channel\n",
    "    s_binary = np.zeros_like(s_channel)\n",
    "    s_binary[(s_channel >= s_thresh[0]) & (s_channel <= s_thresh[1])] = 1\n",
    "\n",
    "    # # Stack each channel\n",
    "    # color_binary = np.dstack(( np.zeros_like(sxbinary), sxbinary, s_binary)) * 255\n",
    "\n",
    "    combined = np.zeros_like(s_channel)\n",
    "    combined[((sxbinary == 1)  | (s_binary == 1))] = 1\n",
    "\n",
    "    return combined\n",
    "\n",
    "def undistort_image(img, mtx, dist):\n",
    "    return cv2.undistort(img, mtx, dist, None, mtx)\n",
    "\n",
    "def warp_perspective(img, M):\n",
    "    \"\"\"\n",
    "    `img` is the undistored image\n",
    "    `M` is the perspective transform matrix\n",
    "    \"\"\"\n",
    "    warped = cv2.warpPerspective(img, M, (img.shape[1], img.shape[0]), \n",
    "                                      flags=cv2.INTER_LINEAR)\n",
    "    return warped\n",
    "\n",
    "def find_lane_pixels(binary_warped, nwindows=9, margin=100, min_pixels=50):\n",
    "    # Take a histogram of the bottom half of the image\n",
    "    histogram = np.sum(binary_warped[binary_warped.shape[0]//2:,:], axis=0)\n",
    "\n",
    "    # Create an output image to draw on and visualize the result\n",
    "    out_img = np.dstack((binary_warped, binary_warped, binary_warped))\n",
    "\n",
    "    # Find the peak of the left and right halves of the histogram\n",
    "    # These will be the starting point for the left and right lines\n",
    "    midpoint = np.int(histogram.shape[0]//2)\n",
    "    leftx_base = np.argmax(histogram[:midpoint])\n",
    "    rightx_base = np.argmax(histogram[midpoint:]) + midpoint\n",
    "\n",
    "    # Set height of windows - based on nwindows above and image shape\n",
    "    window_height = np.int(binary_warped.shape[0]//nwindows)\n",
    "    # Identify the x and y positions of all nonzero pixels in the image\n",
    "    nonzero = binary_warped.nonzero()\n",
    "    nonzeroy = np.array(nonzero[0])\n",
    "    nonzerox = np.array(nonzero[1])\n",
    "    # Current positions to be updated later for each window in nwindows\n",
    "    leftx_current = leftx_base\n",
    "    rightx_current = rightx_base\n",
    "\n",
    "    # Create empty lists to receive left and right lane pixel indices\n",
    "    left_lane_inds = []\n",
    "    right_lane_inds = []\n",
    "\n",
    "    # Step through the windows one by one\n",
    "    for window in range(nwindows):\n",
    "        # Identify window boundaries in x and y (and right and left)\n",
    "        win_y_low = binary_warped.shape[0] - (window+1)*window_height\n",
    "        win_y_high = binary_warped.shape[0] - window*window_height\n",
    "\n",
    "        ### TO-DO: Find the four below boundaries of the window ###\n",
    "        win_xleft_low = leftx_current - margin  # Update this\n",
    "        win_xleft_high = leftx_current + margin  # Update this\n",
    "        win_xright_low = rightx_current - margin  # Update this\n",
    "        win_xright_high = rightx_current + margin  # Update this\n",
    "\n",
    "        # Draw the windows on the visualization image\n",
    "        cv2.rectangle(out_img,(win_xleft_low,win_y_low),\n",
    "                              (win_xleft_high,win_y_high),\n",
    "                      (0,255,0), 2) \n",
    "        cv2.rectangle(out_img,(win_xright_low,win_y_low),\n",
    "                              (win_xright_high,win_y_high),\n",
    "                      (0,255,0), 2)\n",
    "\n",
    "        ### indIdentify the nonzero pixels in x and y within the window ###\n",
    "        good_left_inds = np.where((nonzerox >= win_xleft_low) &\n",
    "                                  (nonzerox < win_xleft_high) &\n",
    "                                  (nonzeroy >= win_y_low) &\n",
    "                                  (nonzeroy < win_y_high))[0]\n",
    "        # list(zip(nonzerox[nz_left], nonzeroy[nz_left]))\n",
    "        good_right_inds = np.where((nonzerox >= win_xright_low) &\n",
    "                                  (nonzerox < win_xright_high) &\n",
    "                                  (nonzeroy >= win_y_low) &\n",
    "                                  (nonzeroy < win_y_high))[0]\n",
    "\n",
    "        # Append these indices to the lists\n",
    "        left_lane_inds.append(good_left_inds)\n",
    "        right_lane_inds.append(good_right_inds)\n",
    "\n",
    "        ### If you found > min_pixels, recenter next window ###\n",
    "        ### (`right` or `leftx_current`) on their mean position ###\n",
    "        if len(good_left_inds) > min_pixels:\n",
    "            leftx_current = int(np.mean(nonzerox[good_left_inds]))\n",
    "\n",
    "        if len(good_right_inds) > min_pixels:\n",
    "            rightx_current = int(np.mean(nonzerox[good_right_inds]))\n",
    "\n",
    "\n",
    "    # Concatenate the arrays of indices (previously was a list of lists of pixels)\n",
    "    try:\n",
    "        left_lane_inds = np.concatenate(left_lane_inds)\n",
    "        right_lane_inds = np.concatenate(right_lane_inds)\n",
    "    except ValueError:\n",
    "        # Avoids an error if the above is not implemented fully\n",
    "        pass\n",
    "\n",
    "    # Extract left and right line pixel positions\n",
    "    leftx = nonzerox[left_lane_inds]\n",
    "    lefty = nonzeroy[left_lane_inds] \n",
    "    rightx = nonzerox[right_lane_inds]\n",
    "    righty = nonzeroy[right_lane_inds]\n",
    "\n",
    "    return leftx, lefty, rightx, righty, out_img\n",
    "\n",
    "def search_around_poly(binary_warped, left_fit, right_fit, margin=100):\n",
    "    # Grab activated pixels\n",
    "    nonzero = binary_warped.nonzero()\n",
    "    nonzeroy = np.array(nonzero[0])\n",
    "    nonzerox = np.array(nonzero[1])\n",
    "    \n",
    "    ### Set the area of search based on activated x-values ###\n",
    "    ### within the +/- margin of our polynomial function ###\n",
    "    ### Hint: consider the window areas for the similarly named variables ###\n",
    "    ### in the previous quiz, but change the windows to our new search area ###\n",
    "    left_lane_inds = np.where((nonzerox >= (np.polyval(left_fit, nonzeroy) - margin)) &\n",
    "                              (nonzerox <= (np.polyval(left_fit, nonzeroy) + margin)))\n",
    "    right_lane_inds = np.where((nonzerox >= (np.polyval(right_fit, nonzeroy) - margin)) &\n",
    "                              (nonzerox <= (np.polyval(right_fit, nonzeroy) + margin)))\n",
    "    \n",
    "    # Again, extract left and right line pixel positions\n",
    "    leftx = nonzerox[left_lane_inds]\n",
    "    lefty = nonzeroy[left_lane_inds] \n",
    "    rightx = nonzerox[right_lane_inds]\n",
    "    righty = nonzeroy[right_lane_inds]\n",
    "\n",
    "    return leftx, lefty, rightx, righty\n",
    "\n",
    "def fit_lane_polynomials(ylen, leftx, lefty, rightx, righty, order=2):\n",
    "    ### Fit a second order polynomial to each using `np.polyfit` ###\n",
    "    left_fit = np.polyfit(lefty, leftx, order)\n",
    "    right_fit = np.polyfit(righty, rightx, order)\n",
    "\n",
    "    # Generate x and y values for plotting\n",
    "    ploty = np.linspace(0, ylen-1, ylen)\n",
    "    left_fitx = np.polyval(left_fit, ploty)\n",
    "    right_fitx = np.polyval(right_fit, ploty)\n",
    "\n",
    "    return left_fit, right_fit, left_fitx, right_fitx, ploty\n",
    "\n",
    "def get_poly_lanes(img, prev_left_fit=None, prev_right_fit=None):\n",
    "    # Apply Sobel Gradient filter, color filter\n",
    "    img_filt = apply_gradx_color_filter(img)\n",
    "\n",
    "    # Undistort and unwarp image\n",
    "    img_undistort = undistort_image(img=img_filt, mtx=mtx, dist=dist)\n",
    "    img_unwarp = warp_perspective(img=img_undistort, M=M)\n",
    "\n",
    "    # Find lane pixels\n",
    "    if prev_left_fit is None or prev_right_fit is None:\n",
    "        leftx, lefty, rightx, righty, out_img = find_lane_pixels(img_unwarp)\n",
    "    else:\n",
    "        # detect lines around previous fit\n",
    "        leftx, lefty, rightx, righty = search_around_poly(img_unwarp, left_fit=prev_left_fit,\n",
    "                                                          right_fit=prev_right_fit, margin=50)\n",
    "\n",
    "    # Fit polynomials lines to left, right lanes\n",
    "    left_fit, right_fit, left_fitx, right_fitx, ploty = fit_lane_polynomials(img.shape[0], leftx, lefty, rightx, righty)\n",
    "\n",
    "    return img_unwarp, left_fit, right_fit, left_fitx, right_fitx, ploty, img_filt\n",
    "\n",
    "def plot_lane_lines(img, left_x, right_x, y):\n",
    "    for i in range(len(left_x)-1):\n",
    "        cv2.line(img, (int(left_x[i]), int(y[i+1])), (int(left_x[i+1]), int(y[i+1])), color=(255, 0, 0), thickness=5)\n",
    "        cv2.line(img, (int(right_x[i]), int(y[i+1])), (int(right_x[i+1]), int(y[i+1])), color=(255, 0, 0), thickness=5)\n",
    "\n",
    "def weighted_img(img, initial_img, α=0.8, β=1., γ=0.):\n",
    "    \"\"\"\n",
    "    `img` is the output of the hough_lines(), An image with lines drawn on it.\n",
    "    Should be a blank image (all black) with lines drawn on it.\n",
    "\n",
    "    `initial_img` should be the image before any processing.\n",
    "\n",
    "    The result image is computed as follows:\n",
    "\n",
    "    initial_img * α + img * β + γ\n",
    "    NOTE: initial_img and img must be the same shape!\n",
    "    \"\"\"\n",
    "    return cv2.addWeighted(initial_img, α, img, β, γ)\n",
    "\n",
    "def add_lanes_poly(image, left_fitx, right_fitx, y):\n",
    "    # create lanes poly\n",
    "    pts = np.vstack([np.vstack([left_fitx, y]).astype(np.int32).T, \n",
    "                     np.vstack([right_fitx[::-1], y[::-1]]).astype(np.int32).T])\n",
    "    lanes_poly = np.zeros([image.shape[0], image.shape[1], 3])\n",
    "    lanes_img = cv2.fillPoly(lanes_poly,  [pts],  (255, 0, 0))\n",
    "\n",
    "    # unwarp lanes perspective\n",
    "    lanes_img_warp = warp_perspective(img=lanes_img, M=np.linalg.inv(M)).astype(np.uint8)\n",
    "\n",
    "\n",
    "    return weighted_img(img=lanes_img_warp, initial_img=image, α=1.0, β=0.5)\n",
    "\n",
    "def calc_poly_curve_radius(poly_fit, y_eval):\n",
    "    return ((1 + (2*poly_fit[0]*y_eval+poly_fit[1])**2)**1.5)/(2*abs(poly_fit[0]))\n",
    "\n",
    "def calc_lane_curve_radius(poly_fit, y_eval, xm_per_pix, ym_per_pix):\n",
    "    # convert poly fit from pixels to m\n",
    "    real_fit = np.copy(poly_fit)\n",
    "    real_fit[0] *= xm_per_pix/(ym_per_pix**2)\n",
    "    real_fit[1] *= (xm_per_pix/ym_per_pix)\n",
    "    y_eval_m = y_eval*ym_per_pix\n",
    "    \n",
    "    return calc_poly_curve_radius(real_fit, y_eval_m)\n",
    "\n",
    "font                   = cv2.FONT_HERSHEY_SIMPLEX\n",
    "bottomLeftCornerOfText = (50, 50)\n",
    "bottomLeftCornerOfText2 = (50, 100)\n",
    "bottomLeftCornerOfText3 = (50, 150)\n",
    "fontScale              = 1\n",
    "fontColor              = (255,255,255)\n",
    "lineType               = 2\n",
    "\n",
    "class LaneFinding():\n",
    "    def __init__(self):\n",
    "        self.ym_per_pix = 36/720.\n",
    "        self.xm_per_pix = 3.7/700.\n",
    "        self.n_hist = 6\n",
    "        \n",
    "        # was the line detected in the last iteration?\n",
    "        self.detected = False  \n",
    "        \n",
    "        self.best_x_vals = [None, None]\n",
    "        self.recent_x_vals = [[None, None]]\n",
    "        \n",
    "        self.best_fits = [None, None]  \n",
    "        self.recent_fits = [[None, None]]\n",
    "        \n",
    "        #radius of curvature of the line in some units\n",
    "        self.radius_of_curvatures = [[None, None]]\n",
    "        self.best_radius = None\n",
    "        \n",
    "        #distance in meters of vehicle center from the line\n",
    "        self.line_base_pos = [None]\n",
    "        \n",
    "        self.frame_count = 0\n",
    "        \n",
    "    def update_best_fits(self):\n",
    "        if len(self.recent_fits) > self.n_hist:\n",
    "            self.recent_fits = self.recent_fits[-self.n_hist:]\n",
    "            self.recent_x_vals = self.recent_x_vals[-self.n_hist:]\n",
    "            self.radius_of_curvatures = self.radius_of_curvatures[-self.n_hist:]\n",
    "            self.line_base_pos = self.line_base_pos[-self.n_hist:]\n",
    "        \n",
    "        best_fit_left = np.mean(np.array([fits[0] for fits in self.recent_fits if fits[0] is not None]), axis=0)\n",
    "        best_fit_right = np.mean(np.array([fits[1] for fits in self.recent_fits if fits[1] is not None]), axis=0)\n",
    "        if not np.all(np.isnan(best_fit_left)) and not np.all(np.isnan(best_fit_right)):\n",
    "            self.best_fits = [best_fit_left, best_fit_right]\n",
    "        else:\n",
    "            self.best_fits = [None, None]\n",
    "        \n",
    "        best_xvals_left = np.mean(np.array([xvals[0] for xvals in self.recent_x_vals if xvals[0] is not None]), axis=0)\n",
    "        best_xvals_right = np.mean(np.array([xvals[1] for xvals in self.recent_x_vals if xvals[1] is not None]), axis=0)\n",
    "        if not np.all(np.isnan(best_xvals_left)) and not np.all(np.isnan(best_xvals_left)):\n",
    "            self.best_x_vals = [best_xvals_left, best_xvals_right]\n",
    "        else:\n",
    "            self.best_x_vals = [None, None]\n",
    "        \n",
    "        avg_radius_left = np.mean(np.array([radii[0] for radii in self.radius_of_curvatures if radii[0] is not None]), axis=0)\n",
    "        avg_radius_right = np.mean(np.array([radii[1] for radii in self.radius_of_curvatures if radii[1] is not None]), axis=0)\n",
    "        self.best_radius = 0.5*(avg_radius_left + avg_radius_right)\n",
    "        \n",
    "    \n",
    "    def process_image(self, image):\n",
    "        self.frame_count += 1\n",
    "        img_unwarp, left_fit, right_fit, left_fitx, right_fitx, ploty, img_filt = get_poly_lanes(image, prev_left_fit=self.best_fits[0],\n",
    "                                                                                       prev_right_fit=self.best_fits[1])\n",
    "        \n",
    "        plot_lane_lines(img_filt, left_fitx, right_fitx, ploty)\n",
    "        left_curv_radius = calc_lane_curve_radius(left_fit, image.shape[0], \n",
    "                                                  self.xm_per_pix, self.ym_per_pix)\n",
    "        right_curv_radius = calc_lane_curve_radius(right_fit, image.shape[0], \n",
    "                                                   self.xm_per_pix, self.ym_per_pix)\n",
    "        \n",
    "        curve_ratio = left_curv_radius/right_curv_radius\n",
    "        lane_diff = (right_fitx - left_fitx) * self.xm_per_pix\n",
    "        \n",
    "        lane_width_base = lane_diff[-1] # lane width at base\n",
    "        lane_width_max = np.max(lane_diff)\n",
    "        lane_width_min = np.min(lane_diff)\n",
    "        \n",
    "        if max(left_curv_radius, right_curv_radius) > 1000:\n",
    "            curve_ratio = 1.\n",
    "            \n",
    "        if (curve_ratio > 0.4) and (curve_ratio < 2.5) and (lane_width_base > 3.45) and \\\n",
    "            (lane_width_base < 3.95):\n",
    "#                 and ((lane_width_max - lane_width_min) < 0.6):\n",
    "            # fit looks good!\n",
    "            self.recent_fits.append([left_fit, right_fit])\n",
    "            self.recent_x_vals.append([left_fitx, right_fitx])\n",
    "            self.radius_of_curvatures.append([left_curv_radius, right_curv_radius])\n",
    "        else:\n",
    "            # fit looks bad!\n",
    "            self.recent_fits.append([None, None])\n",
    "            self.recent_x_vals.append([None, None])\n",
    "            self.radius_of_curvatures.append([None, None])\n",
    "            \n",
    "            print(\"Lane width base = \", lane_width_base)\n",
    "            print(\"Lane width min = \", lane_width_min)\n",
    "            print(\"Lane width max = \", lane_width_max)\n",
    "            print(\"Curve Ratio = \", curve_ratio)\n",
    "            \n",
    "#             img_wlanes_tmp = add_lanes_poly(image=image, left_fitx=left_fitx, right_fitx=right_fitx, y=ploty)\n",
    "            \n",
    "#             cv2.putText(img_wlanes_tmp, \"Radius of Curvature (Left) = {0:.1f}\".format(left_curv_radius),\n",
    "#                         bottomLeftCornerOfText, font, fontScale, fontColor, lineType)        \n",
    "#             cv2.putText(img_wlanes_tmp, \"Radius of Curvature (Right) = {0:.1f}\".format(right_curv_radius),\n",
    "#                         bottomLeftCornerOfText2, font, fontScale, fontColor, lineType)\n",
    "#             cv2.putText(img_wlanes_tmp, \"Base Lane Width, min, max = {0:.2f}\".format(lane_width_base),\n",
    "#                         bottomLeftCornerOfText3, font, fontScale, fontColor, lineType)\n",
    "            \n",
    "#             plt.imsave(\"debug/test_{}_grad.png\".format(self.frame_count), img_filt)\n",
    "#             plt.imsave(\"debug/test_{}_unwarp.png\".format(self.frame_count), img_unwarp)\n",
    "#             plt.imsave(\"debug/test_{}.png\".format(self.frame_count), img_wlanes_tmp)\n",
    "        \n",
    "        self.update_best_fits()\n",
    "\n",
    "        if self.best_x_vals[0] is not None:\n",
    "            img_wlanes = add_lanes_poly(image=image, left_fitx=self.best_x_vals[0], right_fitx=self.best_x_vals[1], y=ploty)\n",
    "        else:\n",
    "            img_wlanes = add_lanes_poly(image=image, left_fitx=left_fitx, right_fitx=right_fitx, y=ploty)        \n",
    "        \n",
    "        cv2.putText(img_wlanes, \"Radius of Curvature (Left) = {0:.1f}\".format(left_curv_radius),\n",
    "                    bottomLeftCornerOfText, font, fontScale, fontColor, lineType)        \n",
    "        cv2.putText(img_wlanes, \"Radius of Curvature (Right) = {0:.1f}\".format(right_curv_radius),\n",
    "                    bottomLeftCornerOfText2, font, fontScale, fontColor, lineType)\n",
    "        cv2.putText(img_wlanes, \"Radius of Curvature = {0:.1f}\".format(self.best_radius),\n",
    "                    bottomLeftCornerOfText3, font, fontScale, fontColor, lineType)\n",
    "        return img_wlanes"
   ]
  },
  {
   "cell_type": "markdown",
   "metadata": {},
   "source": [
    "### Testing Video"
   ]
  },
  {
   "cell_type": "code",
   "execution_count": 3,
   "metadata": {
    "collapsed": true
   },
   "outputs": [],
   "source": [
    "lane_detection = LaneFinding()"
   ]
  },
  {
   "cell_type": "code",
   "execution_count": 4,
   "metadata": {
    "collapsed": false,
    "scrolled": true
   },
   "outputs": [
    {
     "name": "stdout",
     "output_type": "stream",
     "text": [
      "Moviepy - Building video project_video_out.mp4.\n",
      "Moviepy - Writing video project_video_out.mp4\n",
      "\n"
     ]
    },
    {
     "name": "stderr",
     "output_type": "stream",
     "text": [
      "t:  45%|█████████████████████████████▍                                    | 561/1260 [01:22<01:38,  7.08it/s, now=None]"
     ]
    },
    {
     "name": "stdout",
     "output_type": "stream",
     "text": [
      "Lane width base =  3.95657986057\n",
      "Lane width min =  3.95657986057\n",
      "Lane width max =  5.14958063883\n",
      "Curve Ratio =  1.0\n"
     ]
    },
    {
     "name": "stderr",
     "output_type": "stream",
     "text": [
      "\r",
      "t:  45%|█████████████████████████████▍                                    | 562/1260 [01:22<01:43,  6.75it/s, now=None]"
     ]
    },
    {
     "name": "stdout",
     "output_type": "stream",
     "text": [
      "Lane width base =  3.98910242491\n",
      "Lane width min =  3.98910242491\n",
      "Lane width max =  4.89858817716\n",
      "Curve Ratio =  1.0\n"
     ]
    },
    {
     "name": "stderr",
     "output_type": "stream",
     "text": [
      "\r",
      "t:  45%|█████████████████████████████▍                                    | 563/1260 [01:22<01:46,  6.57it/s, now=None]"
     ]
    },
    {
     "name": "stdout",
     "output_type": "stream",
     "text": [
      "Lane width base =  3.95946451976\n",
      "Lane width min =  3.95946451976\n",
      "Lane width max =  5.12487106018\n",
      "Curve Ratio =  1.0\n"
     ]
    },
    {
     "name": "stderr",
     "output_type": "stream",
     "text": [
      "t:  48%|███████████████████████████████▋                                  | 604/1260 [01:28<01:32,  7.09it/s, now=None]"
     ]
    },
    {
     "name": "stdout",
     "output_type": "stream",
     "text": [
      "Lane width base =  3.96488361363\n",
      "Lane width min =  3.96488361363\n",
      "Lane width max =  4.78110898928\n",
      "Curve Ratio =  0.925797643495\n"
     ]
    },
    {
     "name": "stderr",
     "output_type": "stream",
     "text": [
      "\r",
      "t:  48%|███████████████████████████████▋                                  | 605/1260 [01:28<01:35,  6.88it/s, now=None]"
     ]
    },
    {
     "name": "stdout",
     "output_type": "stream",
     "text": [
      "Lane width base =  3.95987292425\n",
      "Lane width min =  3.95987292425\n",
      "Lane width max =  4.76160480176\n",
      "Curve Ratio =  1.0\n"
     ]
    },
    {
     "name": "stderr",
     "output_type": "stream",
     "text": [
      "t:  48%|███████████████████████████████▉                                  | 609/1260 [01:29<01:34,  6.92it/s, now=None]"
     ]
    },
    {
     "name": "stdout",
     "output_type": "stream",
     "text": [
      "Lane width base =  3.95130123277\n",
      "Lane width min =  3.94983002837\n",
      "Lane width max =  4.49022119533\n",
      "Curve Ratio =  1.72942434152\n"
     ]
    },
    {
     "name": "stderr",
     "output_type": "stream",
     "text": [
      "t:  80%|███████████████████████████████████████████████████▋             | 1002/1260 [02:26<00:36,  7.05it/s, now=None]"
     ]
    },
    {
     "name": "stdout",
     "output_type": "stream",
     "text": [
      "Lane width base =  3.95670839613\n",
      "Lane width min =  3.95670839613\n",
      "Lane width max =  4.67519208081\n",
      "Curve Ratio =  1.18991889311\n"
     ]
    },
    {
     "name": "stderr",
     "output_type": "stream",
     "text": [
      "\r",
      "t:  80%|███████████████████████████████████████████████████▋             | 1003/1260 [02:26<00:37,  6.81it/s, now=None]"
     ]
    },
    {
     "name": "stdout",
     "output_type": "stream",
     "text": [
      "Lane width base =  3.97289374998\n",
      "Lane width min =  3.97289374998\n",
      "Lane width max =  4.94796163941\n",
      "Curve Ratio =  1.24407248415\n"
     ]
    },
    {
     "name": "stderr",
     "output_type": "stream",
     "text": [
      "\r",
      "t:  80%|███████████████████████████████████████████████████▊             | 1004/1260 [02:26<00:38,  6.58it/s, now=None]"
     ]
    },
    {
     "name": "stdout",
     "output_type": "stream",
     "text": [
      "Lane width base =  4.02559872823\n",
      "Lane width min =  4.02559872823\n",
      "Lane width max =  4.90119613765\n",
      "Curve Ratio =  0.887279229293\n"
     ]
    },
    {
     "name": "stderr",
     "output_type": "stream",
     "text": [
      "\r",
      "t:  80%|███████████████████████████████████████████████████▊             | 1005/1260 [02:26<00:39,  6.51it/s, now=None]"
     ]
    },
    {
     "name": "stdout",
     "output_type": "stream",
     "text": [
      "Lane width base =  4.06889604412\n",
      "Lane width min =  4.06889604412\n",
      "Lane width max =  4.80046971276\n",
      "Curve Ratio =  0.908592597508\n"
     ]
    },
    {
     "name": "stderr",
     "output_type": "stream",
     "text": [
      "t:  82%|████████████████████████████████████████████████████▉            | 1027/1260 [02:30<00:35,  6.55it/s, now=None]"
     ]
    },
    {
     "name": "stdout",
     "output_type": "stream",
     "text": [
      "Lane width base =  3.95668964159\n",
      "Lane width min =  3.95668964159\n",
      "Lane width max =  4.5440163339\n",
      "Curve Ratio =  1.32180093848\n"
     ]
    },
    {
     "name": "stderr",
     "output_type": "stream",
     "text": [
      "t:  82%|█████████████████████████████████████████████████████▏           | 1030/1260 [02:30<00:34,  6.74it/s, now=None]"
     ]
    },
    {
     "name": "stdout",
     "output_type": "stream",
     "text": [
      "Lane width base =  3.96122306974\n",
      "Lane width min =  3.96122306974\n",
      "Lane width max =  4.48105810538\n",
      "Curve Ratio =  1.51038661429\n"
     ]
    },
    {
     "name": "stderr",
     "output_type": "stream",
     "text": [
      "\r",
      "t:  82%|█████████████████████████████████████████████████████▏           | 1031/1260 [02:30<00:35,  6.46it/s, now=None]"
     ]
    },
    {
     "name": "stdout",
     "output_type": "stream",
     "text": [
      "Lane width base =  3.9559173418\n",
      "Lane width min =  3.9433822958\n",
      "Lane width max =  4.41997335638\n",
      "Curve Ratio =  1.82759330384\n"
     ]
    },
    {
     "name": "stderr",
     "output_type": "stream",
     "text": [
      "t:  82%|█████████████████████████████████████████████████████▎           | 1033/1260 [02:31<00:36,  6.27it/s, now=None]"
     ]
    },
    {
     "name": "stdout",
     "output_type": "stream",
     "text": [
      "Lane width base =  4.01039531586\n",
      "Lane width min =  3.99121482781\n",
      "Lane width max =  4.53032178147\n",
      "Curve Ratio =  1.0\n"
     ]
    },
    {
     "name": "stderr",
     "output_type": "stream",
     "text": []
    },
    {
     "name": "stdout",
     "output_type": "stream",
     "text": [
      "Moviepy - Done !\n",
      "Moviepy - video ready project_video_out.mp4\n",
      "Wall time: 3min 6s\n"
     ]
    }
   ],
   "source": [
    "from moviepy.editor import VideoFileClip\n",
    "white_output = 'project_video_out.mp4'\n",
    "clip1 = VideoFileClip(\"project_video.mp4\")#.subclip(18,25)\n",
    "white_clip = clip1.fl_image(lane_detection.process_image)\n",
    "%time white_clip.write_videofile(white_output, audio=False)\n",
    "clip1.close()"
   ]
  },
  {
   "cell_type": "code",
   "execution_count": null,
   "metadata": {
    "collapsed": true
   },
   "outputs": [],
   "source": []
  },
  {
   "cell_type": "code",
   "execution_count": 5,
   "metadata": {
    "collapsed": true
   },
   "outputs": [],
   "source": [
    "# from moviepy.editor import VideoFileClip\n",
    "# clip1 = VideoFileClip(\"project_video.mp4\").subclip(18,25)"
   ]
  },
  {
   "cell_type": "code",
   "execution_count": 6,
   "metadata": {
    "collapsed": false
   },
   "outputs": [],
   "source": [
    "# plt.imshow(lane_detection.process_image(clip1.get_frame(2/25.)))"
   ]
  },
  {
   "cell_type": "code",
   "execution_count": null,
   "metadata": {
    "collapsed": true
   },
   "outputs": [],
   "source": []
  }
 ],
 "metadata": {
  "anaconda-cloud": {},
  "kernelspec": {
   "display_name": "Python [conda root]",
   "language": "python",
   "name": "conda-root-py"
  },
  "language_info": {
   "codemirror_mode": {
    "name": "ipython",
    "version": 3
   },
   "file_extension": ".py",
   "mimetype": "text/x-python",
   "name": "python",
   "nbconvert_exporter": "python",
   "pygments_lexer": "ipython3",
   "version": "3.5.2"
  }
 },
 "nbformat": 4,
 "nbformat_minor": 1
}
