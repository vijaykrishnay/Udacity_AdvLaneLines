{
 "cells": [
  {
   "cell_type": "markdown",
   "metadata": {},
   "source": [
    "# Project: Advanced Lane Finding - Main"
   ]
  },
  {
   "cell_type": "markdown",
   "metadata": {},
   "source": [
    "### <font color='red'> Note: Run 'Advanced_LaneFinding - PreProcessing' to generate camera calibration, perspective transform matrices before running this! </font>\n",
    "\n",
    "### Pipeline procedure\n",
    "1. Load camera calibration, perspective transform matrices\n",
    "2. Gradient & color filtering\n",
    "3. Undistort & unwarp\n",
    "4. Find lane lines:\n",
    "    a) Use sliding window for first image or when reset is needed\n",
    "    b) Use lookback for subsequent images"
   ]
  },
  {
   "cell_type": "markdown",
   "metadata": {},
   "source": [
    "### Import libraries"
   ]
  },
  {
   "cell_type": "code",
   "execution_count": 1,
   "metadata": {
    "collapsed": false
   },
   "outputs": [],
   "source": [
    "import os\n",
    "import numpy as np\n",
    "import cv2\n",
    "import matplotlib.pyplot as plt\n",
    "import matplotlib.image as mpimg\n",
    "import glob\n",
    "import pickle\n",
    "\n",
    "%matplotlib inline"
   ]
  },
  {
   "cell_type": "code",
   "execution_count": 2,
   "metadata": {
    "collapsed": false
   },
   "outputs": [],
   "source": [
    "def apply_gradx_color_filter_old(img, s_thresh=(170, 255), sx_thresh=(20, 100)):\n",
    "    \"\"\"Apply sobel filter along x and s-channel color filter\"\"\"\n",
    "    img = np.copy(img)\n",
    "\n",
    "    # Convert to HLS color space and separate the V channel\n",
    "    hls = cv2.cvtColor(img, cv2.COLOR_RGB2HLS)\n",
    "    l_channel = hls[:,:,1]\n",
    "    s_channel = hls[:,:,2]\n",
    "\n",
    "    # Sobel x\n",
    "    sobelx = cv2.Sobel(l_channel, cv2.CV_64F, 1, 0) # Take the derivative in x\n",
    "    abs_sobelx = np.absolute(sobelx) # Absolute x derivative to accentuate lines away from horizontal\n",
    "    scaled_sobel = np.uint8(255*abs_sobelx/np.max(abs_sobelx))\n",
    "\n",
    "    # Threshold x gradient\n",
    "    sxbinary = np.zeros_like(scaled_sobel)\n",
    "    sxbinary[(scaled_sobel >= sx_thresh[0]) & (scaled_sobel <= sx_thresh[1])] = 1\n",
    "\n",
    "    # Threshold color channel\n",
    "    s_binary = np.zeros_like(s_channel)\n",
    "    s_binary[(s_channel >= s_thresh[0]) & (s_channel <= s_thresh[1])] = 1\n",
    "\n",
    "    # # Stack each channel\n",
    "    # color_binary = np.dstack(( np.zeros_like(sxbinary), sxbinary, s_binary)) * 255\n",
    "\n",
    "    combined = np.zeros_like(s_channel)\n",
    "    combined[((sxbinary == 1)  | (s_binary == 1))] = 1\n",
    "\n",
    "    return combined\n",
    "\n",
    "def apply_gradx_color_filter(img, s_thresh=(170, 255), sx_thresh=(100, 255), l_thresh=(170, 255)):\n",
    "    \"\"\"Apply sobel filter along x and s-channel color filter\"\"\"\n",
    "    img = np.copy(img)\n",
    "    \n",
    "    # Convert to HLS color space and separate the V channel\n",
    "    hls = cv2.cvtColor(img, cv2.COLOR_RGB2HLS)\n",
    "    l_channel = hls[:,:,1]\n",
    "    s_channel = hls[:,:,2]\n",
    "    \n",
    "    mask_yellow = cv2.inRange(img, (128, 128, 0), (255, 255, 90))\n",
    "    l_channel[mask_yellow > 128] = 255\n",
    "    \n",
    "    # Sobel x\n",
    "    sobelx = cv2.Sobel(l_channel, cv2.CV_64F, 1, 0) # Take the derivative in x\n",
    "    abs_sobelx = np.absolute(sobelx) # Absolute x derivative to accentuate lines away from horizontal\n",
    "    scaled_sobel = np.uint8(255*abs_sobelx/np.max(abs_sobelx))\n",
    "    \n",
    "    # Threshold x gradient\n",
    "    sxbinary = np.zeros_like(scaled_sobel)\n",
    "    sxbinary[(scaled_sobel >= sx_thresh[0]) & (scaled_sobel <= sx_thresh[1])] = 1\n",
    "    \n",
    "    # Threshold color channel\n",
    "    s_binary = np.zeros_like(s_channel)\n",
    "    s_binary[(s_channel >= s_thresh[0]) & (s_channel <= s_thresh[1])] = 1\n",
    "    \n",
    "    # Threshold color channel\n",
    "    l_binary = np.zeros_like(l_channel)\n",
    "    l_binary[(l_channel >= l_thresh[0]) & (l_channel <= l_thresh[1])] = 1\n",
    "    \n",
    "    # # Stack each channel\n",
    "    # color_binary = np.dstack(( np.zeros_like(sxbinary), sxbinary, s_binary)) * 255\n",
    "    \n",
    "    combined = np.zeros_like(s_channel)\n",
    "    combined[((sxbinary == 1)  | (s_binary == 1) | (l_binary == 1))] = 1\n",
    "    \n",
    "    return combined\n",
    "\n",
    "def undistort_image(img, mtx, dist):\n",
    "    return cv2.undistort(img, mtx, dist, None, mtx)\n",
    "\n",
    "def warp_perspective(img, M):\n",
    "    \"\"\"\n",
    "    `img` is the undistored image\n",
    "    `M` is the perspective transform matrix\n",
    "    \"\"\"\n",
    "    warped = cv2.warpPerspective(img, M, (img.shape[1], img.shape[0]), \n",
    "                                      flags=cv2.INTER_LINEAR)\n",
    "    return warped\n",
    "\n",
    "def find_lane_pixels(binary_warped, nwindows=9, margin=100, min_pixels=50):\n",
    "    # Take a histogram of the bottom half of the image\n",
    "    histogram = np.sum(binary_warped[binary_warped.shape[0]//2:,:], axis=0)\n",
    "\n",
    "    # Create an output image to draw on and visualize the result\n",
    "    out_img = np.dstack((binary_warped, binary_warped, binary_warped))\n",
    "\n",
    "    # Find the peak of the left and right halves of the histogram\n",
    "    # These will be the starting point for the left and right lines\n",
    "    midpoint = np.int(histogram.shape[0]//2)\n",
    "    leftx_base = np.argmax(histogram[:midpoint])\n",
    "    rightx_base = np.argmax(histogram[midpoint:]) + midpoint\n",
    "\n",
    "    # Set height of windows - based on nwindows above and image shape\n",
    "    window_height = np.int(binary_warped.shape[0]//nwindows)\n",
    "    # Identify the x and y positions of all nonzero pixels in the image\n",
    "    nonzero = binary_warped.nonzero()\n",
    "    nonzeroy = np.array(nonzero[0])\n",
    "    nonzerox = np.array(nonzero[1])\n",
    "    # Current positions to be updated later for each window in nwindows\n",
    "    leftx_current = leftx_base\n",
    "    rightx_current = rightx_base\n",
    "\n",
    "    # Create empty lists to receive left and right lane pixel indices\n",
    "    left_lane_inds = []\n",
    "    right_lane_inds = []\n",
    "\n",
    "    # Step through the windows one by one\n",
    "    for window in range(nwindows):\n",
    "        # Identify window boundaries in x and y (and right and left)\n",
    "        win_y_low = binary_warped.shape[0] - (window+1)*window_height\n",
    "        win_y_high = binary_warped.shape[0] - window*window_height\n",
    "\n",
    "        ### TO-DO: Find the four below boundaries of the window ###\n",
    "        win_xleft_low = leftx_current - margin  # Update this\n",
    "        win_xleft_high = leftx_current + margin  # Update this\n",
    "        win_xright_low = rightx_current - margin  # Update this\n",
    "        win_xright_high = rightx_current + margin  # Update this\n",
    "\n",
    "        # Draw the windows on the visualization image\n",
    "        cv2.rectangle(out_img,(win_xleft_low,win_y_low),\n",
    "                              (win_xleft_high,win_y_high),\n",
    "                      (0,255,0), 2) \n",
    "        cv2.rectangle(out_img,(win_xright_low,win_y_low),\n",
    "                              (win_xright_high,win_y_high),\n",
    "                      (0,255,0), 2)\n",
    "\n",
    "        ### indIdentify the nonzero pixels in x and y within the window ###\n",
    "        good_left_inds = np.where((nonzerox >= win_xleft_low) &\n",
    "                                  (nonzerox < win_xleft_high) &\n",
    "                                  (nonzeroy >= win_y_low) &\n",
    "                                  (nonzeroy < win_y_high))[0]\n",
    "        # list(zip(nonzerox[nz_left], nonzeroy[nz_left]))\n",
    "        good_right_inds = np.where((nonzerox >= win_xright_low) &\n",
    "                                  (nonzerox < win_xright_high) &\n",
    "                                  (nonzeroy >= win_y_low) &\n",
    "                                  (nonzeroy < win_y_high))[0]\n",
    "\n",
    "        # Append these indices to the lists\n",
    "        left_lane_inds.append(good_left_inds)\n",
    "        right_lane_inds.append(good_right_inds)\n",
    "\n",
    "        ### If you found > min_pixels, recenter next window ###\n",
    "        ### (`right` or `leftx_current`) on their mean position ###\n",
    "        if len(good_left_inds) > min_pixels:\n",
    "            leftx_current = int(np.mean(nonzerox[good_left_inds]))\n",
    "\n",
    "        if len(good_right_inds) > min_pixels:\n",
    "            rightx_current = int(np.mean(nonzerox[good_right_inds]))\n",
    "\n",
    "\n",
    "    # Concatenate the arrays of indices (previously was a list of lists of pixels)\n",
    "    try:\n",
    "        left_lane_inds = np.concatenate(left_lane_inds)\n",
    "        right_lane_inds = np.concatenate(right_lane_inds)\n",
    "    except ValueError:\n",
    "        # Avoids an error if the above is not implemented fully\n",
    "        pass\n",
    "\n",
    "    # Extract left and right line pixel positions\n",
    "    leftx = nonzerox[left_lane_inds]\n",
    "    lefty = nonzeroy[left_lane_inds] \n",
    "    rightx = nonzerox[right_lane_inds]\n",
    "    righty = nonzeroy[right_lane_inds]\n",
    "\n",
    "    return leftx, lefty, rightx, righty, out_img\n",
    "\n",
    "def search_around_poly(binary_warped, left_fit, right_fit, margin=100):\n",
    "    # Grab activated pixels\n",
    "    nonzero = binary_warped.nonzero()\n",
    "    nonzeroy = np.array(nonzero[0])\n",
    "    nonzerox = np.array(nonzero[1])\n",
    "    \n",
    "    ### Set the area of search based on activated x-values ###\n",
    "    ### within the +/- margin of our polynomial function ###\n",
    "    ### Hint: consider the window areas for the similarly named variables ###\n",
    "    ### in the previous quiz, but change the windows to our new search area ###\n",
    "    left_lane_inds = np.where((nonzerox >= (np.polyval(left_fit, nonzeroy) - margin)) &\n",
    "                              (nonzerox <= (np.polyval(left_fit, nonzeroy) + margin)))\n",
    "    right_lane_inds = np.where((nonzerox >= (np.polyval(right_fit, nonzeroy) - margin)) &\n",
    "                              (nonzerox <= (np.polyval(right_fit, nonzeroy) + margin)))\n",
    "    \n",
    "    # Again, extract left and right line pixel positions\n",
    "    leftx = nonzerox[left_lane_inds]\n",
    "    lefty = nonzeroy[left_lane_inds] \n",
    "    rightx = nonzerox[right_lane_inds]\n",
    "    righty = nonzeroy[right_lane_inds]\n",
    "\n",
    "    return leftx, lefty, rightx, righty\n",
    "\n",
    "def fit_lane_polynomials(ylen, leftx, lefty, rightx, righty, order=2):\n",
    "    ### Fit a second order polynomial to each using `np.polyfit` ###\n",
    "    left_fit = np.polyfit(lefty, leftx, order)\n",
    "    right_fit = np.polyfit(righty, rightx, order)\n",
    "\n",
    "    # Generate x and y values for plotting\n",
    "    ploty = np.linspace(0, ylen-1, ylen)\n",
    "    left_fitx = np.polyval(left_fit, ploty)\n",
    "    right_fitx = np.polyval(right_fit, ploty)\n",
    "\n",
    "    return left_fit, right_fit, left_fitx, right_fitx, ploty\n",
    "\n",
    "def get_poly_lanes(img, prev_left_fit=None, prev_right_fit=None, margin=100):\n",
    "    # Apply Sobel Gradient filter, color filter\n",
    "    img_filt = apply_gradx_color_filter(img)\n",
    "\n",
    "    # Undistort and unwarp image\n",
    "    img_undistort = undistort_image(img=img_filt, mtx=mtx, dist=dist)\n",
    "    img_unwarp = warp_perspective(img=img_undistort, M=M)\n",
    "\n",
    "    # Find lane pixels\n",
    "    if prev_left_fit is None or prev_right_fit is None:\n",
    "        leftx, lefty, rightx, righty, out_img = find_lane_pixels(img_unwarp)\n",
    "    else:\n",
    "        # detect lines around previous fit\n",
    "        leftx, lefty, rightx, righty = search_around_poly(img_unwarp, left_fit=prev_left_fit,\n",
    "                                                          right_fit=prev_right_fit, margin=margin)\n",
    "\n",
    "    # Fit polynomials lines to left, right lanes\n",
    "    if len(leftx) and len(rightx):\n",
    "        left_fit, right_fit, left_fitx, right_fitx, ploty = fit_lane_polynomials(img.shape[0], leftx, lefty, rightx, righty)\n",
    "    else:\n",
    "        left_fit = right_fit = left_fitx = right_fitx = ploty = None\n",
    "\n",
    "    return img_unwarp, left_fit, right_fit, left_fitx, right_fitx, img_filt\n",
    "\n",
    "def plot_lane_lines(img, left_x, right_x, y):\n",
    "    for i in range(len(left_x)-1):\n",
    "        cv2.line(img, (int(left_x[i]), int(y[i+1])), (int(left_x[i+1]), int(y[i+1])), color=(255, 0, 0), thickness=5)\n",
    "        cv2.line(img, (int(right_x[i]), int(y[i+1])), (int(right_x[i+1]), int(y[i+1])), color=(255, 0, 0), thickness=5)\n",
    "\n",
    "def weighted_img(img, initial_img, α=0.8, β=1., γ=0.):\n",
    "    \"\"\"\n",
    "    `img` is the output of the hough_lines(), An image with lines drawn on it.\n",
    "    Should be a blank image (all black) with lines drawn on it.\n",
    "\n",
    "    `initial_img` should be the image before any processing.\n",
    "\n",
    "    The result image is computed as follows:\n",
    "\n",
    "    initial_img * α + img * β + γ\n",
    "    NOTE: initial_img and img must be the same shape!\n",
    "    \"\"\"\n",
    "    return cv2.addWeighted(initial_img, α, img, β, γ)\n",
    "\n",
    "def add_lanes_poly(image, left_fitx, right_fitx, y):\n",
    "    # create lanes poly\n",
    "    pts = np.vstack([np.vstack([left_fitx, y]).astype(np.int32).T, \n",
    "                     np.vstack([right_fitx[::-1], y[::-1]]).astype(np.int32).T])\n",
    "    lanes_poly = np.zeros([image.shape[0], image.shape[1], 3])\n",
    "    lanes_img = cv2.fillPoly(lanes_poly,  [pts],  (255, 0, 0))\n",
    "\n",
    "    # unwarp lanes perspective\n",
    "    lanes_img_warp = warp_perspective(img=lanes_img, M=np.linalg.inv(M)).astype(np.uint8)\n",
    "\n",
    "\n",
    "    return weighted_img(img=lanes_img_warp, initial_img=image, α=1.0, β=0.5)\n",
    "\n",
    "def calc_poly_curve_radius(poly_fit, y_eval):\n",
    "    return ((1 + (2*poly_fit[0]*y_eval+poly_fit[1])**2)**1.5)/(2*abs(poly_fit[0]))\n",
    "\n",
    "def calc_lane_curve_radius(poly_fit, y_eval, xm_per_pix, ym_per_pix):\n",
    "    # convert poly fit from pixels to m\n",
    "    real_fit = np.copy(poly_fit)\n",
    "    real_fit[0] *= xm_per_pix/(ym_per_pix**2)\n",
    "    real_fit[1] *= (xm_per_pix/ym_per_pix)\n",
    "    y_eval_m = y_eval*ym_per_pix\n",
    "    \n",
    "    return calc_poly_curve_radius(real_fit, y_eval_m)\n",
    "\n",
    "font                   = cv2.FONT_HERSHEY_SIMPLEX\n",
    "bottomLeftCornerOfText = (50, 50)\n",
    "bottomLeftCornerOfText2 = (50, 100)\n",
    "bottomLeftCornerOfText3 = (50, 150)\n",
    "fontScale              = 1\n",
    "fontColor              = (255,255,255)\n",
    "lineType               = 2\n",
    "\n",
    "class LaneFinding():\n",
    "    def __init__(self, xm_per_pix=3.7/700., ym_per_pix=36/720., n_hist=12):\n",
    "        self.ym_per_pix = ym_per_pix\n",
    "        self.xm_per_pix = xm_per_pix\n",
    "        self.n_hist = n_hist\n",
    "        \n",
    "        # was the line detected in the last iteration?\n",
    "        self.detected = False  \n",
    "        \n",
    "        self.best_x_vals = [None, None]\n",
    "        self.recent_x_vals = [[None, None]]\n",
    "        \n",
    "        self.best_fits = [None, None]  \n",
    "        self.recent_fits = [[None, None]]\n",
    "        \n",
    "        #radius of curvature of the line in some units\n",
    "        self.radius_of_curvatures = [[None, None]]\n",
    "        self.best_radius = None\n",
    "        \n",
    "        #distance in meters of vehicle center from the line\n",
    "        self.line_base_pos = [None]\n",
    "        \n",
    "        self.frame_count = 0\n",
    "        \n",
    "    def update_best_fits(self):\n",
    "        if len(self.recent_fits) > self.n_hist:\n",
    "            self.recent_fits = self.recent_fits[-self.n_hist:]\n",
    "            self.recent_x_vals = self.recent_x_vals[-self.n_hist:]\n",
    "            self.radius_of_curvatures = self.radius_of_curvatures[-self.n_hist:]\n",
    "            self.line_base_pos = self.line_base_pos[-self.n_hist:]\n",
    "        \n",
    "        recent_fits_left = np.array([fits[0] for fits in self.recent_fits if fits[0] is not None])\n",
    "        recent_fits_right = np.array([fits[1] for fits in self.recent_fits if fits[1] is not None])\n",
    "        \n",
    "        best_fit_left = np.average(recent_fits_left, \n",
    "                                   weights=range(len(recent_fits_left), 0, -1), \n",
    "                                   axis=0)\n",
    "        best_fit_right = np.average(recent_fits_right,\n",
    "                                    weights=range(len(recent_fits_right), 0, -1),\n",
    "                                    axis=0)\n",
    "        \n",
    "        if not np.all(np.isnan(best_fit_left)) and not np.all(np.isnan(best_fit_right)):\n",
    "            self.best_fits = [best_fit_left, best_fit_right]\n",
    "#         else:\n",
    "#             ELSE USE PREVIOUS FITS\n",
    "#             self.best_fits = [None, None]\n",
    "\n",
    "        recent_xvals_left = np.array([xvals[0] for xvals in self.recent_x_vals if xvals[0] is not None])\n",
    "        recent_xvals_right = np.array([xvals[1] for xvals in self.recent_x_vals if xvals[1] is not None])\n",
    "        best_xvals_left = np.average(recent_xvals_left, \n",
    "                                     weights=range(len(recent_xvals_right), 0, -1),\n",
    "                                     axis=0)\n",
    "        best_xvals_right = np.average(recent_xvals_right, \n",
    "                                      weights=range(len(recent_xvals_right), 0, -1),\n",
    "                                      axis=0)\n",
    "        if not np.all(np.isnan(best_xvals_left)) and not np.all(np.isnan(best_xvals_left)):\n",
    "            self.best_x_vals = [best_xvals_left, best_xvals_right]\n",
    "#         else:\n",
    "#             ELSE USE PREVIOUS FITS\n",
    "#             print(self.best_x_vals)\n",
    "#             self.best_x_vals = [None, None]\n",
    "\n",
    "        radii_curv_left = np.array([radii[0] for radii in self.radius_of_curvatures if radii[0] is not None])\n",
    "        radii_curv_right = np.array([radii[1] for radii in self.radius_of_curvatures if radii[1] is not None])\n",
    "        avg_radius_left = np.average(radii_curv_left,\n",
    "                                     weights=range(len(radii_curv_left), 0, -1),\n",
    "                                     axis=0)\n",
    "        avg_radius_right = np.average(radii_curv_right,\n",
    "                                      weights=range(len(radii_curv_right), 0, -1),\n",
    "                                      axis=0)\n",
    "        self.best_radius = 0.5*(avg_radius_left + avg_radius_right)\n",
    "        \n",
    "    \n",
    "    def process_image(self, image):\n",
    "        self.frame_count += 1\n",
    "        \n",
    "        ylen = image.shape[0]\n",
    "        ploty = np.linspace(0, ylen-1, ylen)\n",
    "        \n",
    "        img_unwarp, left_fit, right_fit, left_fitx, right_fitx, img_filt = get_poly_lanes(image, prev_left_fit=self.best_fits[0],\n",
    "                                                                                       prev_right_fit=self.best_fits[1])\n",
    "        if left_fit is not None and right_fit is not None:\n",
    "            left_curv_radius = calc_lane_curve_radius(left_fit, image.shape[0], \n",
    "                                                      self.xm_per_pix, self.ym_per_pix)\n",
    "            right_curv_radius = calc_lane_curve_radius(right_fit, image.shape[0], \n",
    "                                                       self.xm_per_pix, self.ym_per_pix)\n",
    "\n",
    "            curve_ratio = left_curv_radius/right_curv_radius\n",
    "            lane_diff = (right_fitx - left_fitx) * self.xm_per_pix\n",
    "\n",
    "            lane_width_base = lane_diff[-1] # lane width at base\n",
    "            lane_width_max = np.max(lane_diff)\n",
    "            lane_width_min = np.min(lane_diff)\n",
    "\n",
    "            if max(left_curv_radius, right_curv_radius) > 1000:\n",
    "                curve_ratio = 1.\n",
    "        else:\n",
    "            lane_width_base = lane_width_min = lane_width_max = curve_ratio = left_curv_radius = right_curv_radius = None\n",
    "            \n",
    "        if (left_fit is not None)  and (right_fit is not None) and (curve_ratio > 0.4) \\\n",
    "            and (curve_ratio < 2.5) and (lane_width_base > 3.0) and \\\n",
    "            (lane_width_base < 4.4) and (lane_width_min > 2.0):\n",
    "            # fit looks good!\n",
    "            self.recent_fits.append([left_fit, right_fit])\n",
    "            self.recent_x_vals.append([left_fitx, right_fitx])\n",
    "            self.radius_of_curvatures.append([left_curv_radius, right_curv_radius])\n",
    "        else:\n",
    "            # fit looks bad!\n",
    "            self.recent_fits.append([None, None])\n",
    "            self.recent_x_vals.append([None, None])\n",
    "            self.radius_of_curvatures.append([None, None])\n",
    "            \n",
    "            ## PRINT STATS WHEN FIT DOESN'T PASS CHECKS\n",
    "            print(\"Lane width base = \", lane_width_base)\n",
    "            print(\"Lane width min = \", lane_width_min)\n",
    "            print(\"Lane width max = \", lane_width_max)\n",
    "            print(\"Curve Ratio = \", curve_ratio)\n",
    "            \n",
    "            ## SAVE IMAGES FOR DEBUGGING\n",
    "#             img_wlanes_tmp = add_lanes_poly(image=image, left_fitx=left_fitx, right_fitx=right_fitx, y=ploty)            \n",
    "#             plot_lane_lines(img_filt, left_fitx, right_fitx, ploty)            \n",
    "#             cv2.putText(img_wlanes_tmp, \"Radius of Curvature (Left) = {0:.1f}\".format(left_curv_radius),\n",
    "#                         bottomLeftCornerOfText, font, fontScale, fontColor, lineType)        \n",
    "#             cv2.putText(img_wlanes_tmp, \"Radius of Curvature (Right) = {0:.1f}\".format(right_curv_radius),\n",
    "#                         bottomLeftCornerOfText2, font, fontScale, fontColor, lineType)\n",
    "#             cv2.putText(img_wlanes_tmp, \"Base Lane Width, min, max = {0:.2f}\".format(lane_width_base),\n",
    "#                         bottomLeftCornerOfText3, font, fontScale, fontColor, lineType)\n",
    "            \n",
    "#             plt.imsave(\"debug/test_{}_grad.png\".format(self.frame_count), img_filt)\n",
    "#             plt.imsave(\"debug/test_{}_unwarp.png\".format(self.frame_count), img_unwarp)\n",
    "#             plt.imsave(\"debug/test_{}.png\".format(self.frame_count), img_wlanes_tmp)\n",
    "        \n",
    "        self.update_best_fits()\n",
    "\n",
    "        if self.best_x_vals[0] is not None:\n",
    "                img_wlanes = add_lanes_poly(image=image, left_fitx=self.best_x_vals[0], right_fitx=self.best_x_vals[1], y=ploty)\n",
    "        else:\n",
    "            img_wlanes = add_lanes_poly(image=image, left_fitx=left_fitx, right_fitx=right_fitx, y=ploty)\n",
    "        \n",
    "        lane_center = 0.5*(self.best_x_vals[0][-1] + self.best_x_vals[1][-1])\n",
    "        lane_offset = (image.shape[1]/2 - lane_center)*self.xm_per_pix\n",
    "        \n",
    "        cv2.putText(img_wlanes, \"Radius of Curvature = {0:.1f}m\".format(self.best_radius),\n",
    "                    bottomLeftCornerOfText, font, fontScale, fontColor, lineType)\n",
    "        if lane_offset > 0:\n",
    "            cv2.putText(img_wlanes, \"Vehicle is {0:.1f}m right of center\".format(abs(lane_offset)),\n",
    "                        bottomLeftCornerOfText2, font, fontScale, fontColor, lineType)\n",
    "        else:\n",
    "            cv2.putText(img_wlanes, \"Vehicle is {0:.2f}m left of center\".format(abs(lane_offset)),\n",
    "                        bottomLeftCornerOfText2, font, fontScale, fontColor, lineType)\n",
    "        return img_wlanes"
   ]
  },
  {
   "cell_type": "markdown",
   "metadata": {},
   "source": [
    "### Process Video"
   ]
  },
  {
   "cell_type": "code",
   "execution_count": 3,
   "metadata": {
    "collapsed": true
   },
   "outputs": [],
   "source": [
    "# inp_video = 'project_video.mp4'\n",
    "inp_video = 'challenge_video.mp4'\n",
    "# pkl_file = 'cameraCalibration_perspectiveTransform_matrices.pkl'\n",
    "pkl_file = 'cameraCalibration_perspectiveTransform_matrices_challenge.pkl'"
   ]
  },
  {
   "cell_type": "code",
   "execution_count": 4,
   "metadata": {
    "collapsed": true
   },
   "outputs": [],
   "source": [
    "try:\n",
    "    with open(pkl_file, 'rb') as f:\n",
    "        data = pickle.load(f)\n",
    "    mtx = data['mtx']\n",
    "    dist = data['dist']\n",
    "    M = data['M']\n",
    "except FileNotFoundError:\n",
    "    print(\"Run 'Advanced_LaneFinding - PreProcessing' to generate camera calibration, \",\n",
    "          \"perspective transform matrices before running this!\")"
   ]
  },
  {
   "cell_type": "code",
   "execution_count": 5,
   "metadata": {
    "collapsed": false
   },
   "outputs": [],
   "source": [
    "# lane_detection = LaneFinding(xm_per_pix=3.7/700., ym_per_pix=36/720., n_hist=12)\n",
    "lane_detection = LaneFinding(xm_per_pix=3.7/650., ym_per_pix=30/720., n_hist=25)"
   ]
  },
  {
   "cell_type": "code",
   "execution_count": 6,
   "metadata": {
    "collapsed": false,
    "scrolled": true
   },
   "outputs": [
    {
     "name": "stdout",
     "output_type": "stream",
     "text": [
      "Moviepy - Building video challenge_video_out.mp4.\n",
      "Moviepy - Writing video challenge_video_out.mp4\n",
      "\n"
     ]
    },
    {
     "name": "stderr",
     "output_type": "stream",
     "text": [
      "t:  18%|████████████▏                                                       | 87/485 [00:11<00:53,  7.44it/s, now=None]"
     ]
    },
    {
     "name": "stdout",
     "output_type": "stream",
     "text": [
      "Lane width base =  3.27520572594\n",
      "Lane width min =  3.26648149746\n",
      "Lane width max =  5.53609807819\n",
      "Curve Ratio =  0.350102781507\n"
     ]
    },
    {
     "name": "stderr",
     "output_type": "stream",
     "text": [
      "t:  18%|████████████▍                                                       | 89/485 [00:11<00:54,  7.27it/s, now=None]"
     ]
    },
    {
     "name": "stdout",
     "output_type": "stream",
     "text": [
      "Lane width base =  3.29767270112\n",
      "Lane width min =  3.27654457474\n",
      "Lane width max =  5.69568167953\n",
      "Curve Ratio =  0.327688126511\n"
     ]
    },
    {
     "name": "stderr",
     "output_type": "stream",
     "text": [
      "\r",
      "t:  19%|████████████▌                                                       | 90/485 [00:11<00:56,  7.05it/s, now=None]"
     ]
    },
    {
     "name": "stdout",
     "output_type": "stream",
     "text": [
      "Lane width base =  3.31270143952\n",
      "Lane width min =  3.30510926213\n",
      "Lane width max =  5.57781489386\n",
      "Curve Ratio =  0.373341255447\n"
     ]
    },
    {
     "name": "stderr",
     "output_type": "stream",
     "text": [
      "\r",
      "t:  19%|████████████▊                                                       | 91/485 [00:12<00:55,  7.04it/s, now=None]"
     ]
    },
    {
     "name": "stdout",
     "output_type": "stream",
     "text": [
      "Lane width base =  3.29676825426\n",
      "Lane width min =  2.75534720282\n",
      "Lane width max =  3.37938745258\n",
      "Curve Ratio =  0.392369764746\n"
     ]
    },
    {
     "name": "stderr",
     "output_type": "stream",
     "text": [
      "t:  22%|██████████████▌                                                    | 105/485 [00:14<00:55,  6.86it/s, now=None]"
     ]
    },
    {
     "name": "stdout",
     "output_type": "stream",
     "text": [
      "Lane width base =  3.25988064573\n",
      "Lane width min =  2.78407902342\n",
      "Lane width max =  3.36068545519\n",
      "Curve Ratio =  0.339597357923\n"
     ]
    },
    {
     "name": "stderr",
     "output_type": "stream",
     "text": [
      "t:  24%|████████████████▏                                                  | 117/485 [00:15<00:51,  7.22it/s, now=None]"
     ]
    },
    {
     "name": "stdout",
     "output_type": "stream",
     "text": [
      "Lane width base =  3.27824720879\n",
      "Lane width min =  3.27070483544\n",
      "Lane width max =  4.83597178632\n",
      "Curve Ratio =  2.68722635155\n"
     ]
    },
    {
     "name": "stderr",
     "output_type": "stream",
     "text": [
      "t:  26%|█████████████████▏                                                 | 124/485 [00:16<00:47,  7.63it/s, now=None]"
     ]
    },
    {
     "name": "stdout",
     "output_type": "stream",
     "text": [
      "Lane width base =  3.04620283679\n",
      "Lane width min =  1.95916371274\n",
      "Lane width max =  3.34919236107\n",
      "Curve Ratio =  1.0\n"
     ]
    },
    {
     "name": "stderr",
     "output_type": "stream",
     "text": [
      "\r",
      "t:  26%|█████████████████▎                                                 | 125/485 [00:16<00:49,  7.30it/s, now=None]"
     ]
    },
    {
     "name": "stdout",
     "output_type": "stream",
     "text": [
      "Lane width base =  3.13583947987\n",
      "Lane width min =  1.47120602393\n",
      "Lane width max =  3.31063220637\n",
      "Curve Ratio =  1.88200116762\n"
     ]
    },
    {
     "name": "stderr",
     "output_type": "stream",
     "text": [
      "t:  26%|█████████████████▌                                                 | 127/485 [00:17<00:49,  7.16it/s, now=None]"
     ]
    },
    {
     "name": "stdout",
     "output_type": "stream",
     "text": [
      "Lane width base =  3.23240247641\n",
      "Lane width min =  1.66321985591\n",
      "Lane width max =  3.30922125528\n",
      "Curve Ratio =  0.685024281832\n"
     ]
    },
    {
     "name": "stderr",
     "output_type": "stream",
     "text": [
      "\r",
      "t:  26%|█████████████████▋                                                 | 128/485 [00:17<00:49,  7.19it/s, now=None]"
     ]
    },
    {
     "name": "stdout",
     "output_type": "stream",
     "text": [
      "Lane width base =  3.16424754821\n",
      "Lane width min =  -3.63132751816\n",
      "Lane width max =  3.33974201583\n",
      "Curve Ratio =  1.0\n"
     ]
    },
    {
     "name": "stderr",
     "output_type": "stream",
     "text": [
      "\r",
      "t:  27%|█████████████████▊                                                 | 129/485 [00:17<00:50,  7.05it/s, now=None]"
     ]
    },
    {
     "name": "stdout",
     "output_type": "stream",
     "text": [
      "Lane width base =  3.26280568309\n",
      "Lane width min =  -1.88858373385\n",
      "Lane width max =  3.33921861453\n",
      "Curve Ratio =  1.0\n"
     ]
    },
    {
     "name": "stderr",
     "output_type": "stream",
     "text": [
      "\r",
      "t:  27%|█████████████████▉                                                 | 130/485 [00:17<00:51,  6.86it/s, now=None]"
     ]
    },
    {
     "name": "stdout",
     "output_type": "stream",
     "text": [
      "Lane width base =  3.30378132699\n",
      "Lane width min =  -1.10989109018\n",
      "Lane width max =  3.33018660328\n",
      "Curve Ratio =  2.01357459434\n"
     ]
    },
    {
     "name": "stderr",
     "output_type": "stream",
     "text": [
      "\r",
      "t:  27%|██████████████████                                                 | 131/485 [00:17<00:51,  6.87it/s, now=None]"
     ]
    },
    {
     "name": "stdout",
     "output_type": "stream",
     "text": [
      "Lane width base =  3.3648501414\n",
      "Lane width min =  3.26310688109\n",
      "Lane width max =  49.9768640467\n",
      "Curve Ratio =  0.111336757825\n"
     ]
    },
    {
     "name": "stderr",
     "output_type": "stream",
     "text": [
      "\r",
      "t:  27%|██████████████████▏                                                | 132/485 [00:17<00:50,  6.92it/s, now=None]"
     ]
    },
    {
     "name": "stdout",
     "output_type": "stream",
     "text": [
      "Lane width base =  2.397196152\n",
      "Lane width min =  -256.082483431\n",
      "Lane width max =  3.35008111096\n",
      "Curve Ratio =  0.0114435192842\n"
     ]
    },
    {
     "name": "stderr",
     "output_type": "stream",
     "text": [
      "\r",
      "t:  27%|██████████████████▎                                                | 133/485 [00:18<00:52,  6.74it/s, now=None]"
     ]
    },
    {
     "name": "stdout",
     "output_type": "stream",
     "text": [
      "Lane width base =  3.08688065473\n",
      "Lane width min =  -553.933274977\n",
      "Lane width max =  3.30456758136\n",
      "Curve Ratio =  0.0110165561934\n"
     ]
    },
    {
     "name": "stderr",
     "output_type": "stream",
     "text": [
      "\r",
      "t:  28%|██████████████████▌                                                | 134/485 [00:18<00:57,  6.06it/s, now=None]"
     ]
    },
    {
     "name": "stdout",
     "output_type": "stream",
     "text": [
      "Lane width base =  -0.821895738495\n",
      "Lane width min =  -683.910770668\n",
      "Lane width max =  -0.458987472606\n",
      "Curve Ratio =  0.00804622665178\n"
     ]
    },
    {
     "name": "stderr",
     "output_type": "stream",
     "text": [
      "\r",
      "t:  28%|██████████████████▋                                                | 135/485 [00:18<01:00,  5.81it/s, now=None]"
     ]
    },
    {
     "name": "stdout",
     "output_type": "stream",
     "text": [
      "Lane width base =  -7.13539020617\n",
      "Lane width min =  -7.13539020617\n",
      "Lane width max =  157.455250929\n",
      "Curve Ratio =  0.076073249544\n"
     ]
    },
    {
     "name": "stderr",
     "output_type": "stream",
     "text": [
      "\r",
      "t:  28%|██████████████████▊                                                | 136/485 [00:18<00:57,  6.03it/s, now=None]"
     ]
    },
    {
     "name": "stdout",
     "output_type": "stream",
     "text": [
      "Lane width base =  0.88930723474\n",
      "Lane width min =  0.88930723474\n",
      "Lane width max =  4.13321215087\n",
      "Curve Ratio =  1.75034278942\n"
     ]
    },
    {
     "name": "stderr",
     "output_type": "stream",
     "text": [
      "t:  28%|███████████████████                                                | 138/485 [00:18<00:56,  6.17it/s, now=None]"
     ]
    },
    {
     "name": "stdout",
     "output_type": "stream",
     "text": [
      "Lane width base =  5.13825032373\n",
      "Lane width min =  3.64735906287\n",
      "Lane width max =  5.13825032373\n",
      "Curve Ratio =  2.01589513593\n"
     ]
    },
    {
     "name": "stderr",
     "output_type": "stream",
     "text": [
      "t:  29%|███████████████████▎                                               | 140/485 [00:19<00:57,  5.95it/s, now=None]"
     ]
    },
    {
     "name": "stdout",
     "output_type": "stream",
     "text": [
      "Lane width base =  2.83235329814\n",
      "Lane width min =  2.83235329814\n",
      "Lane width max =  4.17542795853\n",
      "Curve Ratio =  1.00734822761\n"
     ]
    },
    {
     "name": "stderr",
     "output_type": "stream",
     "text": [
      "\r",
      "t:  29%|███████████████████▍                                               | 141/485 [00:19<01:02,  5.48it/s, now=None]"
     ]
    },
    {
     "name": "stdout",
     "output_type": "stream",
     "text": [
      "Lane width base =  1.63864429559\n",
      "Lane width min =  1.63864429559\n",
      "Lane width max =  4.05944267887\n",
      "Curve Ratio =  0.356504224004\n"
     ]
    },
    {
     "name": "stderr",
     "output_type": "stream",
     "text": [
      "\r",
      "t:  29%|███████████████████▌                                               | 142/485 [00:19<01:06,  5.15it/s, now=None]"
     ]
    },
    {
     "name": "stdout",
     "output_type": "stream",
     "text": [
      "Lane width base =  1.37922680148\n",
      "Lane width min =  1.37922680148\n",
      "Lane width max =  4.0955704046\n",
      "Curve Ratio =  0.261894477224\n"
     ]
    },
    {
     "name": "stderr",
     "output_type": "stream",
     "text": [
      "\r",
      "t:  29%|███████████████████▊                                               | 143/485 [00:19<01:07,  5.04it/s, now=None]"
     ]
    },
    {
     "name": "stdout",
     "output_type": "stream",
     "text": [
      "Lane width base =  1.27382808601\n",
      "Lane width min =  1.27382808601\n",
      "Lane width max =  4.05284275564\n",
      "Curve Ratio =  0.149649581013\n"
     ]
    },
    {
     "name": "stderr",
     "output_type": "stream",
     "text": [
      "\r",
      "t:  30%|███████████████████▉                                               | 144/485 [00:20<01:13,  4.64it/s, now=None]"
     ]
    },
    {
     "name": "stdout",
     "output_type": "stream",
     "text": [
      "Lane width base =  1.92716687263\n",
      "Lane width min =  1.92716687263\n",
      "Lane width max =  3.98143569839\n",
      "Curve Ratio =  1.0\n"
     ]
    },
    {
     "name": "stderr",
     "output_type": "stream",
     "text": [
      "\r",
      "t:  30%|████████████████████                                               | 145/485 [00:20<01:23,  4.08it/s, now=None]"
     ]
    },
    {
     "name": "stdout",
     "output_type": "stream",
     "text": [
      "Lane width base =  2.54197228082\n",
      "Lane width min =  2.54197228082\n",
      "Lane width max =  4.02792428304\n",
      "Curve Ratio =  0.246656106617\n"
     ]
    },
    {
     "name": "stderr",
     "output_type": "stream",
     "text": [
      "t:  41%|███████████████████████████▏                                       | 197/485 [00:33<00:48,  5.92it/s, now=None]"
     ]
    },
    {
     "name": "stdout",
     "output_type": "stream",
     "text": [
      "Lane width base =  3.29929793\n",
      "Lane width min =  3.19848459535\n",
      "Lane width max =  4.881849762\n",
      "Curve Ratio =  0.364618843427\n"
     ]
    },
    {
     "name": "stderr",
     "output_type": "stream",
     "text": [
      "\r",
      "t:  41%|███████████████████████████▎                                       | 198/485 [00:34<00:47,  6.06it/s, now=None]"
     ]
    },
    {
     "name": "stdout",
     "output_type": "stream",
     "text": [
      "Lane width base =  3.29786623069\n",
      "Lane width min =  3.20339289975\n",
      "Lane width max =  7.68256263404\n",
      "Curve Ratio =  0.128097142884\n"
     ]
    },
    {
     "name": "stderr",
     "output_type": "stream",
     "text": [
      "\r",
      "t:  41%|███████████████████████████▍                                       | 199/485 [00:34<00:47,  6.01it/s, now=None]"
     ]
    },
    {
     "name": "stdout",
     "output_type": "stream",
     "text": [
      "Lane width base =  3.31454632082\n",
      "Lane width min =  3.20527032507\n",
      "Lane width max =  6.82487031711\n",
      "Curve Ratio =  0.172151363332\n"
     ]
    },
    {
     "name": "stderr",
     "output_type": "stream",
     "text": [
      "t:  50%|█████████████████████████████████▍                                 | 242/485 [00:40<00:31,  7.63it/s, now=None]"
     ]
    },
    {
     "name": "stdout",
     "output_type": "stream",
     "text": [
      "Lane width base =  3.24498563018\n",
      "Lane width min =  1.99180197465\n",
      "Lane width max =  3.26208397106\n",
      "Curve Ratio =  0.282601113565\n"
     ]
    },
    {
     "name": "stderr",
     "output_type": "stream",
     "text": [
      "t:  52%|██████████████████████████████████▋                                | 251/485 [00:41<00:31,  7.48it/s, now=None]"
     ]
    },
    {
     "name": "stdout",
     "output_type": "stream",
     "text": [
      "Lane width base =  3.29501282112\n",
      "Lane width min =  3.23605152432\n",
      "Lane width max =  4.50120362977\n",
      "Curve Ratio =  0.336073798113\n"
     ]
    },
    {
     "name": "stderr",
     "output_type": "stream",
     "text": [
      "\r",
      "t:  52%|██████████████████████████████████▊                                | 252/485 [00:41<00:32,  7.18it/s, now=None]"
     ]
    },
    {
     "name": "stdout",
     "output_type": "stream",
     "text": [
      "Lane width base =  3.30087429069\n",
      "Lane width min =  3.25113666513\n",
      "Lane width max =  4.76870692816\n",
      "Curve Ratio =  0.299388548436\n"
     ]
    },
    {
     "name": "stderr",
     "output_type": "stream",
     "text": [
      "t:  53%|███████████████████████████████████▎                               | 256/485 [00:42<00:30,  7.42it/s, now=None]"
     ]
    },
    {
     "name": "stdout",
     "output_type": "stream",
     "text": [
      "Lane width base =  3.30745744423\n",
      "Lane width min =  2.83610811314\n",
      "Lane width max =  3.35419316463\n",
      "Curve Ratio =  0.369209233993\n"
     ]
    },
    {
     "name": "stderr",
     "output_type": "stream",
     "text": [
      "t:  54%|████████████████████████████████████▏                              | 262/485 [00:42<00:29,  7.61it/s, now=None]"
     ]
    },
    {
     "name": "stdout",
     "output_type": "stream",
     "text": [
      "Lane width base =  3.44077544265\n",
      "Lane width min =  3.32448682175\n",
      "Lane width max =  5.86094051302\n",
      "Curve Ratio =  0.33680878656\n"
     ]
    },
    {
     "name": "stderr",
     "output_type": "stream",
     "text": [
      "\r",
      "t:  54%|████████████████████████████████████▎                              | 263/485 [00:43<00:30,  7.32it/s, now=None]"
     ]
    },
    {
     "name": "stdout",
     "output_type": "stream",
     "text": [
      "Lane width base =  3.38608573444\n",
      "Lane width min =  3.29581097687\n",
      "Lane width max =  6.07680460397\n",
      "Curve Ratio =  0.218452806208\n"
     ]
    },
    {
     "name": "stderr",
     "output_type": "stream",
     "text": [
      "\r",
      "t:  54%|████████████████████████████████████▍                              | 264/485 [00:43<00:31,  7.12it/s, now=None]"
     ]
    },
    {
     "name": "stdout",
     "output_type": "stream",
     "text": [
      "Lane width base =  3.39515064341\n",
      "Lane width min =  3.29006158441\n",
      "Lane width max =  6.7834529945\n",
      "Curve Ratio =  0.195646358017\n"
     ]
    },
    {
     "name": "stderr",
     "output_type": "stream",
     "text": [
      "\r",
      "t:  55%|████████████████████████████████████▌                              | 265/485 [00:43<00:31,  7.00it/s, now=None]"
     ]
    },
    {
     "name": "stdout",
     "output_type": "stream",
     "text": [
      "Lane width base =  3.40018661515\n",
      "Lane width min =  3.27990632817\n",
      "Lane width max =  7.52212335514\n",
      "Curve Ratio =  0.166945706997\n"
     ]
    },
    {
     "name": "stderr",
     "output_type": "stream",
     "text": [
      "\r",
      "t:  55%|████████████████████████████████████▋                              | 266/485 [00:43<00:32,  6.77it/s, now=None]"
     ]
    },
    {
     "name": "stdout",
     "output_type": "stream",
     "text": [
      "Lane width base =  3.39798254621\n",
      "Lane width min =  3.2944101763\n",
      "Lane width max =  8.33566188339\n",
      "Curve Ratio =  0.136819847431\n"
     ]
    },
    {
     "name": "stderr",
     "output_type": "stream",
     "text": [
      "\r",
      "t:  55%|████████████████████████████████████▉                              | 267/485 [00:43<00:32,  6.77it/s, now=None]"
     ]
    },
    {
     "name": "stdout",
     "output_type": "stream",
     "text": [
      "Lane width base =  3.4039360878\n",
      "Lane width min =  3.28768765106\n",
      "Lane width max =  9.23411638031\n",
      "Curve Ratio =  0.117187975668\n"
     ]
    },
    {
     "name": "stderr",
     "output_type": "stream",
     "text": [
      "\r",
      "t:  55%|█████████████████████████████████████                              | 268/485 [00:43<00:32,  6.77it/s, now=None]"
     ]
    },
    {
     "name": "stdout",
     "output_type": "stream",
     "text": [
      "Lane width base =  3.4156986523\n",
      "Lane width min =  3.28523650804\n",
      "Lane width max =  10.6494691653\n",
      "Curve Ratio =  0.095165169418\n"
     ]
    },
    {
     "name": "stderr",
     "output_type": "stream",
     "text": [
      "\r",
      "t:  55%|█████████████████████████████████████▏                             | 269/485 [00:44<00:32,  6.64it/s, now=None]"
     ]
    },
    {
     "name": "stdout",
     "output_type": "stream",
     "text": [
      "Lane width base =  3.40857529378\n",
      "Lane width min =  3.32364995419\n",
      "Lane width max =  10.3826096184\n",
      "Curve Ratio =  0.103180140631\n"
     ]
    },
    {
     "name": "stderr",
     "output_type": "stream",
     "text": [
      "\r",
      "t:  56%|█████████████████████████████████████▎                             | 270/485 [00:44<00:32,  6.63it/s, now=None]"
     ]
    },
    {
     "name": "stdout",
     "output_type": "stream",
     "text": [
      "Lane width base =  3.38155760877\n",
      "Lane width min =  3.35275590183\n",
      "Lane width max =  8.61622028878\n",
      "Curve Ratio =  0.143589194562\n"
     ]
    },
    {
     "name": "stderr",
     "output_type": "stream",
     "text": [
      "t:  56%|█████████████████████████████████████▋                             | 273/485 [00:44<00:29,  7.20it/s, now=None]"
     ]
    },
    {
     "name": "stdout",
     "output_type": "stream",
     "text": [
      "Lane width base =  3.33057804221\n",
      "Lane width min =  0.909916812004\n",
      "Lane width max =  3.39795333922\n",
      "Curve Ratio =  0.206154070642\n"
     ]
    },
    {
     "name": "stderr",
     "output_type": "stream",
     "text": [
      "\r",
      "t:  56%|█████████████████████████████████████▊                             | 274/485 [00:44<00:29,  7.05it/s, now=None]"
     ]
    },
    {
     "name": "stdout",
     "output_type": "stream",
     "text": [
      "Lane width base =  3.32594296412\n",
      "Lane width min =  0.522686570308\n",
      "Lane width max =  3.3537552028\n",
      "Curve Ratio =  0.203647630152\n"
     ]
    },
    {
     "name": "stderr",
     "output_type": "stream",
     "text": [
      "\r",
      "t:  57%|█████████████████████████████████████▉                             | 275/485 [00:44<00:30,  6.85it/s, now=None]"
     ]
    },
    {
     "name": "stdout",
     "output_type": "stream",
     "text": [
      "Lane width base =  3.29389776947\n",
      "Lane width min =  1.54544048714\n",
      "Lane width max =  3.30711299537\n",
      "Curve Ratio =  0.224230104777\n"
     ]
    },
    {
     "name": "stderr",
     "output_type": "stream",
     "text": []
    },
    {
     "name": "stdout",
     "output_type": "stream",
     "text": [
      "Moviepy - Done !\n",
      "Moviepy - video ready challenge_video_out.mp4\n",
      "Wall time: 1min 14s\n"
     ]
    }
   ],
   "source": [
    "from moviepy.editor import VideoFileClip\n",
    "clip1 = VideoFileClip(inp_video)#.subclip(0,5)\n",
    "white_clip = clip1.fl_image(lane_detection.process_image)\n",
    "%time white_clip.write_videofile(\"{}_out.mp4\".format(inp_video.split('.')[0]), audio=False)\n",
    "clip1.close()"
   ]
  },
  {
   "cell_type": "markdown",
   "metadata": {},
   "source": [
    "### Process Test Images"
   ]
  },
  {
   "cell_type": "code",
   "execution_count": 9,
   "metadata": {
    "collapsed": true
   },
   "outputs": [],
   "source": [
    "pkl_file = 'cameraCalibration_perspectiveTransform_matrices.pkl'"
   ]
  },
  {
   "cell_type": "code",
   "execution_count": 10,
   "metadata": {
    "collapsed": true
   },
   "outputs": [],
   "source": [
    "try:\n",
    "    with open(pkl_file, 'rb') as f:\n",
    "        data = pickle.load(f)\n",
    "    mtx = data['mtx']\n",
    "    dist = data['dist']\n",
    "    M = data['M']\n",
    "except FileNotFoundError:\n",
    "    print(\"Run 'Advanced_LaneFinding - PreProcessing' to generate camera calibration, \",\n",
    "          \"perspective transform matrices before running this!\")"
   ]
  },
  {
   "cell_type": "code",
   "execution_count": 11,
   "metadata": {
    "collapsed": false
   },
   "outputs": [],
   "source": [
    "test_images = [f for f in os.listdir(\"test_images\") if f.endswith('.jpg') or f.endswith('.png')]\n",
    "for test_image in test_images:\n",
    "    lane_detection = LaneFinding()\n",
    "    \n",
    "    img = cv2.imread(os.path.join(\"test_images/\", test_image))\n",
    "    img = cv2.cvtColor(img, cv2.COLOR_BGR2RGB)\n",
    "    proc_img = lane_detection.process_image(img)\n",
    "    proc_img = cv2.cvtColor(proc_img, cv2.COLOR_RGB2BGR)\n",
    "    \n",
    "    cv2.imwrite(os.path.join('output_images/', test_image), proc_img)"
   ]
  },
  {
   "cell_type": "code",
   "execution_count": null,
   "metadata": {
    "collapsed": true
   },
   "outputs": [],
   "source": []
  }
 ],
 "metadata": {
  "anaconda-cloud": {},
  "kernelspec": {
   "display_name": "Python [conda root]",
   "language": "python",
   "name": "conda-root-py"
  },
  "language_info": {
   "codemirror_mode": {
    "name": "ipython",
    "version": 3
   },
   "file_extension": ".py",
   "mimetype": "text/x-python",
   "name": "python",
   "nbconvert_exporter": "python",
   "pygments_lexer": "ipython3",
   "version": "3.5.2"
  }
 },
 "nbformat": 4,
 "nbformat_minor": 1
}
