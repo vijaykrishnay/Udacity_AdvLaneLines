{
 "cells": [
  {
   "cell_type": "markdown",
   "metadata": {},
   "source": [
    "# Project: Advanced Lane Finding - Main"
   ]
  },
  {
   "cell_type": "markdown",
   "metadata": {},
   "source": [
    "### <font color='red'> Note: Run 'Advanced_LaneFinding - PreProcessing' to generate camera calibration, perspective transform matrices before running this! </font>\n",
    "\n",
    "### Pipeline procedure\n",
    "1. Load camera calibration, perspective transform matrices\n",
    "2. Gradient & color filtering\n",
    "3. Undistort & unwarp\n",
    "4. Find lane lines:\n",
    "    a) Use sliding window for first image or when reset is needed\n",
    "    b) Use lookback for subsequent images"
   ]
  },
  {
   "cell_type": "markdown",
   "metadata": {},
   "source": [
    "### Import libraries"
   ]
  },
  {
   "cell_type": "code",
   "execution_count": 1,
   "metadata": {
    "collapsed": false
   },
   "outputs": [],
   "source": [
    "import numpy as np\n",
    "import cv2\n",
    "import matplotlib.pyplot as plt\n",
    "import matplotlib.image as mpimg\n",
    "import glob\n",
    "import pickle\n",
    "\n",
    "%matplotlib inline"
   ]
  },
  {
   "cell_type": "code",
   "execution_count": 3,
   "metadata": {
    "collapsed": false
   },
   "outputs": [],
   "source": [
    "try:\n",
    "    with open('cameraCalibration_perspectiveTransform_matrices.pkl', 'rb') as f:\n",
    "        data = pickle.load(f)\n",
    "    mtx = data['mtx']\n",
    "    dist = data['dist']\n",
    "    M = data['M']\n",
    "except FileNotFoundError:\n",
    "    print(\"Run 'Advanced_LaneFinding - PreProcessing' to generate camera calibration, \",\n",
    "          \"perspective transform matrices before running this!\")\n",
    "\n",
    "def apply_gradx_color_filter(img, s_thresh=(170, 255), sx_thresh=(20, 100)):\n",
    "    \"\"\"Apply sobel filter along x and s-channel color filter\"\"\"\n",
    "    img = np.copy(img)\n",
    "\n",
    "    # Convert to HLS color space and separate the V channel\n",
    "    hls = cv2.cvtColor(img, cv2.COLOR_RGB2HLS)\n",
    "    l_channel = hls[:,:,1]\n",
    "    s_channel = hls[:,:,2]\n",
    "\n",
    "    # Sobel x\n",
    "    sobelx = cv2.Sobel(l_channel, cv2.CV_64F, 1, 0) # Take the derivative in x\n",
    "    abs_sobelx = np.absolute(sobelx) # Absolute x derivative to accentuate lines away from horizontal\n",
    "    scaled_sobel = np.uint8(255*abs_sobelx/np.max(abs_sobelx))\n",
    "\n",
    "    # Threshold x gradient\n",
    "    sxbinary = np.zeros_like(scaled_sobel)\n",
    "    sxbinary[(scaled_sobel >= sx_thresh[0]) & (scaled_sobel <= sx_thresh[1])] = 1\n",
    "\n",
    "    # Threshold color channel\n",
    "    s_binary = np.zeros_like(s_channel)\n",
    "    s_binary[(s_channel >= s_thresh[0]) & (s_channel <= s_thresh[1])] = 1\n",
    "\n",
    "    # # Stack each channel\n",
    "    # color_binary = np.dstack(( np.zeros_like(sxbinary), sxbinary, s_binary)) * 255\n",
    "\n",
    "    combined = np.zeros_like(s_channel)\n",
    "    combined[((sxbinary == 1)  | (s_binary == 1))] = 1\n",
    "\n",
    "    return combined\n",
    "\n",
    "def undistort_image(img, mtx, dist):\n",
    "    return cv2.undistort(img, mtx, dist, None, mtx)\n",
    "\n",
    "def warp_perspective(img, M):\n",
    "    \"\"\"\n",
    "    `img` is the undistored image\n",
    "    `M` is the perspective transform matrix\n",
    "    \"\"\"\n",
    "    warped = cv2.warpPerspective(img, M, (img.shape[1], img.shape[0]), \n",
    "                                      flags=cv2.INTER_LINEAR)\n",
    "    return warped\n",
    "\n",
    "def find_lane_pixels(binary_warped, nwindows=9, margin=100, min_pixels=50):\n",
    "    # Take a histogram of the bottom half of the image\n",
    "    histogram = np.sum(binary_warped[binary_warped.shape[0]//2:,:], axis=0)\n",
    "\n",
    "    # Create an output image to draw on and visualize the result\n",
    "    out_img = np.dstack((binary_warped, binary_warped, binary_warped))\n",
    "\n",
    "    # Find the peak of the left and right halves of the histogram\n",
    "    # These will be the starting point for the left and right lines\n",
    "    midpoint = np.int(histogram.shape[0]//2)\n",
    "    leftx_base = np.argmax(histogram[:midpoint])\n",
    "    rightx_base = np.argmax(histogram[midpoint:]) + midpoint\n",
    "\n",
    "    # Set height of windows - based on nwindows above and image shape\n",
    "    window_height = np.int(binary_warped.shape[0]//nwindows)\n",
    "    # Identify the x and y positions of all nonzero pixels in the image\n",
    "    nonzero = binary_warped.nonzero()\n",
    "    nonzeroy = np.array(nonzero[0])\n",
    "    nonzerox = np.array(nonzero[1])\n",
    "    # Current positions to be updated later for each window in nwindows\n",
    "    leftx_current = leftx_base\n",
    "    rightx_current = rightx_base\n",
    "\n",
    "    # Create empty lists to receive left and right lane pixel indices\n",
    "    left_lane_inds = []\n",
    "    right_lane_inds = []\n",
    "\n",
    "    # Step through the windows one by one\n",
    "    for window in range(nwindows):\n",
    "        # Identify window boundaries in x and y (and right and left)\n",
    "        win_y_low = binary_warped.shape[0] - (window+1)*window_height\n",
    "        win_y_high = binary_warped.shape[0] - window*window_height\n",
    "\n",
    "        ### TO-DO: Find the four below boundaries of the window ###\n",
    "        win_xleft_low = leftx_current - margin  # Update this\n",
    "        win_xleft_high = leftx_current + margin  # Update this\n",
    "        win_xright_low = rightx_current - margin  # Update this\n",
    "        win_xright_high = rightx_current + margin  # Update this\n",
    "\n",
    "        # Draw the windows on the visualization image\n",
    "        cv2.rectangle(out_img,(win_xleft_low,win_y_low),\n",
    "                              (win_xleft_high,win_y_high),\n",
    "                      (0,255,0), 2) \n",
    "        cv2.rectangle(out_img,(win_xright_low,win_y_low),\n",
    "                              (win_xright_high,win_y_high),\n",
    "                      (0,255,0), 2)\n",
    "\n",
    "        ### indIdentify the nonzero pixels in x and y within the window ###\n",
    "        good_left_inds = np.where((nonzerox >= win_xleft_low) &\n",
    "                                  (nonzerox < win_xleft_high) &\n",
    "                                  (nonzeroy >= win_y_low) &\n",
    "                                  (nonzeroy < win_y_high))[0]\n",
    "        # list(zip(nonzerox[nz_left], nonzeroy[nz_left]))\n",
    "        good_right_inds = np.where((nonzerox >= win_xright_low) &\n",
    "                                  (nonzerox < win_xright_high) &\n",
    "                                  (nonzeroy >= win_y_low) &\n",
    "                                  (nonzeroy < win_y_high))[0]\n",
    "\n",
    "        # Append these indices to the lists\n",
    "        left_lane_inds.append(good_left_inds)\n",
    "        right_lane_inds.append(good_right_inds)\n",
    "\n",
    "        ### If you found > min_pixels, recenter next window ###\n",
    "        ### (`right` or `leftx_current`) on their mean position ###\n",
    "        if len(good_left_inds) > min_pixels:\n",
    "            leftx_current = int(np.mean(nonzerox[good_left_inds]))\n",
    "\n",
    "        if len(good_right_inds) > min_pixels:\n",
    "            rightx_current = int(np.mean(nonzerox[good_right_inds]))\n",
    "\n",
    "\n",
    "    # Concatenate the arrays of indices (previously was a list of lists of pixels)\n",
    "    try:\n",
    "        left_lane_inds = np.concatenate(left_lane_inds)\n",
    "        right_lane_inds = np.concatenate(right_lane_inds)\n",
    "    except ValueError:\n",
    "        # Avoids an error if the above is not implemented fully\n",
    "        pass\n",
    "\n",
    "    # Extract left and right line pixel positions\n",
    "    leftx = nonzerox[left_lane_inds]\n",
    "    lefty = nonzeroy[left_lane_inds] \n",
    "    rightx = nonzerox[right_lane_inds]\n",
    "    righty = nonzeroy[right_lane_inds]\n",
    "\n",
    "    return leftx, lefty, rightx, righty, out_img\n",
    "\n",
    "def search_around_poly(binary_warped, left_fit, right_fit, margin=100):\n",
    "    # Grab activated pixels\n",
    "    nonzero = binary_warped.nonzero()\n",
    "    nonzeroy = np.array(nonzero[0])\n",
    "    nonzerox = np.array(nonzero[1])\n",
    "    \n",
    "    ### Set the area of search based on activated x-values ###\n",
    "    ### within the +/- margin of our polynomial function ###\n",
    "    ### Hint: consider the window areas for the similarly named variables ###\n",
    "    ### in the previous quiz, but change the windows to our new search area ###\n",
    "    left_lane_inds = np.where((nonzerox >= (np.polyval(left_fit, nonzeroy) - margin)) &\n",
    "                              (nonzerox <= (np.polyval(left_fit, nonzeroy) + margin)))\n",
    "    right_lane_inds = np.where((nonzerox >= (np.polyval(right_fit, nonzeroy) - margin)) &\n",
    "                              (nonzerox <= (np.polyval(right_fit, nonzeroy) + margin)))\n",
    "    \n",
    "    # Again, extract left and right line pixel positions\n",
    "    leftx = nonzerox[left_lane_inds]\n",
    "    lefty = nonzeroy[left_lane_inds] \n",
    "    rightx = nonzerox[right_lane_inds]\n",
    "    righty = nonzeroy[right_lane_inds]\n",
    "\n",
    "    return leftx, lefty, rightx, righty\n",
    "\n",
    "def fit_lane_polynomials(ylen, leftx, lefty, rightx, righty, order=2):\n",
    "    ### Fit a second order polynomial to each using `np.polyfit` ###\n",
    "    left_fit = np.polyfit(lefty, leftx, order)\n",
    "    right_fit = np.polyfit(righty, rightx, order)\n",
    "\n",
    "    # Generate x and y values for plotting\n",
    "    ploty = np.linspace(0, ylen-1, ylen)\n",
    "    left_fitx = np.polyval(left_fit, ploty)\n",
    "    right_fitx = np.polyval(right_fit, ploty)\n",
    "\n",
    "    return left_fit, right_fit, left_fitx, right_fitx, ploty\n",
    "\n",
    "def get_poly_lanes(img, prev_left_fit=None, prev_right_fit=None):\n",
    "    # Apply Sobel Gradient filter, color filter\n",
    "    img_filt = apply_gradx_color_filter(img)\n",
    "\n",
    "    # Undistort and unwarp image\n",
    "    img_undistort = undistort_image(img=img_filt, mtx=mtx, dist=dist)\n",
    "    img_unwarp = warp_perspective(img=img_undistort, M=M)\n",
    "\n",
    "    # Find lane pixels\n",
    "    if prev_left_fit is None or prev_right_fit is None:\n",
    "        leftx, lefty, rightx, righty, out_img = find_lane_pixels(img_unwarp)\n",
    "    else:\n",
    "        # detect lines around previous fit\n",
    "        leftx, lefty, rightx, righty = search_around_poly(img_unwarp, left_fit=prev_left_fit,\n",
    "                                                          right_fit=prev_right_fit, margin=50)\n",
    "\n",
    "    # Fit polynomials lines to left, right lanes\n",
    "    left_fit, right_fit, left_fitx, right_fitx, ploty = fit_lane_polynomials(img.shape[0], leftx, lefty, rightx, righty)\n",
    "\n",
    "    return img_unwarp, left_fit, right_fit, left_fitx, right_fitx, ploty\n",
    "\n",
    "def plot_lane_lines(img, left_x, right_x, y):\n",
    "    for i in range(len(left_x)-1):\n",
    "        cv2.line(img, (int(left_x[i]), int(y[i+1])), (int(left_x[i+1]), int(y[i+1])), color=(255, 0, 0), thickness=5)\n",
    "        cv2.line(img, (int(right_x[i]), int(y[i+1])), (int(right_x[i+1]), int(y[i+1])), color=(255, 0, 0), thickness=5)\n",
    "\n",
    "def weighted_img(img, initial_img, α=0.8, β=1., γ=0.):\n",
    "    \"\"\"\n",
    "    `img` is the output of the hough_lines(), An image with lines drawn on it.\n",
    "    Should be a blank image (all black) with lines drawn on it.\n",
    "\n",
    "    `initial_img` should be the image before any processing.\n",
    "\n",
    "    The result image is computed as follows:\n",
    "\n",
    "    initial_img * α + img * β + γ\n",
    "    NOTE: initial_img and img must be the same shape!\n",
    "    \"\"\"\n",
    "    return cv2.addWeighted(initial_img, α, img, β, γ)\n",
    "\n",
    "def add_lanes_poly(image, left_fitx, right_fitx, y):\n",
    "    # create lanes poly\n",
    "    pts = np.vstack([np.vstack([left_fitx, y]).astype(np.int32).T, \n",
    "                     np.vstack([right_fitx[::-1], y[::-1]]).astype(np.int32).T])\n",
    "    lanes_poly = np.zeros([image.shape[0], image.shape[1], 3])\n",
    "    lanes_img = cv2.fillPoly(lanes_poly,  [pts],  (255, 0, 0))\n",
    "\n",
    "    # unwarp lanes perspective\n",
    "    lanes_img_warp = warp_perspective(img=lanes_img, M=np.linalg.inv(M)).astype(np.uint8)\n",
    "\n",
    "\n",
    "    return weighted_img(img=lanes_img_warp, initial_img=image, α=1.0, β=0.5)\n",
    "\n",
    "def calc_poly_curve_radius(poly_fit, y_eval):\n",
    "    return ((1 + (2*poly_fit[0]*y_eval+poly_fit[1])**2)**1.5)/(2*abs(poly_fit[0]))\n",
    "\n",
    "def calc_lane_curve_radius(poly_fit, y_eval, xm_per_pix, ym_per_pix):\n",
    "    # convert poly fit from pixels to m\n",
    "    real_fit = np.copy(poly_fit)\n",
    "    real_fit[0] *= xm_per_pix/(ym_per_pix**2)\n",
    "    real_fit[1] *= (xm_per_pix/ym_per_pix)\n",
    "    y_eval_m = y_eval*ym_per_pix\n",
    "    \n",
    "    return calc_poly_curve_radius(real_fit, y_eval_m)\n",
    "\n",
    "class LaneFinding():\n",
    "    def __init__(self):\n",
    "        self.ym_per_pix = 30/720.\n",
    "        self.xm_per_pix = 3.7/700.\n",
    "        self.n_hist = 15\n",
    "        \n",
    "        # was the line detected in the last iteration?\n",
    "        self.detected = False  \n",
    "        \n",
    "        self.best_x_vals = [None, None]\n",
    "        self.recent_x_vals = [[None, None]]\n",
    "        \n",
    "        self.best_fits = [None, None]  \n",
    "        self.recent_fits = [[None, None]]\n",
    "        \n",
    "        #radius of curvature of the line in some units\n",
    "        self.radius_of_curvatures = [[None, None]]\n",
    "        self.best_radius = None\n",
    "        \n",
    "        #distance in meters of vehicle center from the line\n",
    "        self.line_base_pos = [None]\n",
    "        \n",
    "    def update_best_fits(self):\n",
    "        if len(self.recent_fits) > self.n_hist:\n",
    "            self.recent_fits = self.recent_fits[-self.n_hist:]\n",
    "            self.recent_x_vals = self.recent_x_vals[-self.n_hist:]\n",
    "            self.radius_of_curvatures = self.radius_of_curvatures[-self.n_hist:]\n",
    "            self.line_base_pos = self.line_base_pos[-self.n_hist:]\n",
    "        \n",
    "        best_fit_left = np.mean(np.array([fits[0] for fits in self.recent_fits if fits[0] is not None]), axis=0)\n",
    "        best_fit_right = np.mean(np.array([fits[1] for fits in self.recent_fits if fits[1] is not None]), axis=0)\n",
    "        if not np.all(np.isnan(best_fit_left)) and not np.all(np.isnan(best_fit_right)):\n",
    "            self.best_fits = [best_fit_left, best_fit_right]\n",
    "        else:\n",
    "            self.best_fits = [None, None]\n",
    "        \n",
    "        best_xvals_left = np.mean(np.array([xvals[0] for xvals in self.recent_x_vals if xvals[0] is not None]), axis=0)\n",
    "        best_xvals_right = np.mean(np.array([xvals[1] for xvals in self.recent_x_vals if xvals[1] is not None]), axis=0)\n",
    "        if not np.all(np.isnan(best_xvals_left)) and not np.all(np.isnan(best_xvals_left)):\n",
    "            self.best_x_vals = [best_xvals_left, best_xvals_right]\n",
    "        else:\n",
    "            self.best_x_vals = [None, None]\n",
    "        \n",
    "        avg_radius_left = np.mean(np.array([radii[0] for radii in self.radius_of_curvatures if radii[0] is not None]), axis=0)\n",
    "        avg_radius_right = np.mean(np.array([radii[1] for radii in self.radius_of_curvatures if radii[1] is not None]), axis=0)\n",
    "        self.best_radius = 0.5*(avg_radius_left + avg_radius_right)\n",
    "        \n",
    "    \n",
    "    def process_image(self, image):\n",
    "        img_unwarp, left_fit, right_fit, left_fitx, right_fitx, ploty = get_poly_lanes(image, prev_left_fit=self.best_fits[0],\n",
    "                                                                                       prev_right_fit=self.best_fits[1])\n",
    "        \n",
    "        left_curv_radius = calc_lane_curve_radius(left_fit, image.shape[0], \n",
    "                                                  self.xm_per_pix, self.ym_per_pix)\n",
    "        right_curv_radius = calc_lane_curve_radius(right_fit, image.shape[0], \n",
    "                                                   self.xm_per_pix, self.ym_per_pix)\n",
    "        \n",
    "        curve_ratio = left_curv_radius/right_curv_radius\n",
    "        lane_diff = (right_fitx - left_fitx) * self.xm_per_pix\n",
    "        \n",
    "        lane_width_avg = np.mean(lane_diff)\n",
    "        lane_width_max = np.max(lane_diff)\n",
    "        lane_width_min = np.min(lane_diff)\n",
    "        \n",
    "        if min(left_curv_radius, right_curv_radius) > 1000:\n",
    "            curve_ratio = 1.\n",
    "            \n",
    "        if (curve_ratio > 0.5) and (curve_ratio < 2) and (lane_width_avg > 3.55) and \\\n",
    "            (lane_width_avg < 3.85) and ((lane_width_max - lane_width_min) < 0.5):\n",
    "            # fit looks good!\n",
    "            self.recent_fits.append([left_fit, right_fit])\n",
    "            self.recent_x_vals.append([left_fitx, right_fitx])\n",
    "            self.radius_of_curvatures.append([left_curv_radius, right_curv_radius])\n",
    "        else:\n",
    "            # fit looks bad!\n",
    "            self.recent_fits.append([None, None])\n",
    "            self.recent_x_vals.append([None, None])\n",
    "            self.radius_of_curvatures.append([None, None])\n",
    "            \n",
    "            print(\"Lane width mean = \", lane_width_avg)\n",
    "            print(\"Lane width min = \", lane_width_min)\n",
    "            print(\"Lane width max = \", lane_width_max)\n",
    "            print(\"Curve Ratio = \", curve_ratio)\n",
    "        \n",
    "        self.update_best_fits()\n",
    "\n",
    "        if self.best_x_vals[0] is not None:\n",
    "            img_wlanes = add_lanes_poly(image=image, left_fitx=self.best_x_vals[0], right_fitx=self.best_x_vals[1], y=ploty)\n",
    "        else:\n",
    "            img_wlanes = add_lanes_poly(image=image, left_fitx=left_fitx, right_fitx=right_fitx, y=ploty)\n",
    "\n",
    "        font                   = cv2.FONT_HERSHEY_SIMPLEX\n",
    "        bottomLeftCornerOfText = (50, 50)\n",
    "        bottomLeftCornerOfText2 = (50, 100)\n",
    "        bottomLeftCornerOfText3 = (50, 150)\n",
    "        fontScale              = 1\n",
    "        fontColor              = (255,255,255)\n",
    "        lineType               = 2\n",
    "        \n",
    "        cv2.putText(img_wlanes, \"Radius of Curvature (Left) = {0:.1f}\".format(left_curv_radius),\n",
    "                    bottomLeftCornerOfText, font, fontScale, fontColor, lineType)        \n",
    "        cv2.putText(img_wlanes, \"Radius of Curvature (Right) = {0:.1f}\".format(right_curv_radius),\n",
    "                    bottomLeftCornerOfText2, font, fontScale, fontColor, lineType)\n",
    "        cv2.putText(img_wlanes, \"Radius of Curvature = {0:.1f}\".format(self.best_radius),\n",
    "                    bottomLeftCornerOfText3, font, fontScale, fontColor, lineType)\n",
    "        return img_wlanes"
   ]
  },
  {
   "cell_type": "markdown",
   "metadata": {},
   "source": [
    "### Testing Video"
   ]
  },
  {
   "cell_type": "code",
   "execution_count": 4,
   "metadata": {
    "collapsed": true
   },
   "outputs": [],
   "source": [
    "lane_detection = LaneFinding()"
   ]
  },
  {
   "cell_type": "code",
   "execution_count": 5,
   "metadata": {
    "collapsed": false
   },
   "outputs": [
    {
     "name": "stdout",
     "output_type": "stream",
     "text": [
      "Moviepy - Building video project_video_out.mp4.\n",
      "Moviepy - Writing video project_video_out.mp4\n",
      "\n"
     ]
    },
    {
     "name": "stderr",
     "output_type": "stream",
     "text": [
      "t:   2%|█▍                                                                 | 28/1260 [00:03<02:49,  7.26it/s, now=None]"
     ]
    },
    {
     "name": "stdout",
     "output_type": "stream",
     "text": [
      "Lane width mean =  3.87215012994\n",
      "Lane width min =  3.72434011093\n",
      "Lane width max =  3.9913397332\n",
      "Curve Ratio =  1.08014663492\n"
     ]
    },
    {
     "name": "stderr",
     "output_type": "stream",
     "text": [
      "t:   5%|███▏                                                               | 61/1260 [00:09<03:14,  6.15it/s, now=None]"
     ]
    },
    {
     "name": "stdout",
     "output_type": "stream",
     "text": [
      "Lane width mean =  3.54814669332\n",
      "Lane width min =  3.49198772375\n",
      "Lane width max =  3.60470959536\n",
      "Curve Ratio =  0.998584718439\n"
     ]
    },
    {
     "name": "stderr",
     "output_type": "stream",
     "text": [
      "\r",
      "t:   5%|███▎                                                               | 62/1260 [00:09<03:18,  6.04it/s, now=None]"
     ]
    },
    {
     "name": "stdout",
     "output_type": "stream",
     "text": [
      "Lane width mean =  3.51085623383\n",
      "Lane width min =  3.42785245667\n",
      "Lane width max =  3.60064503609\n",
      "Curve Ratio =  0.980093218856\n"
     ]
    },
    {
     "name": "stderr",
     "output_type": "stream",
     "text": [
      "\r",
      "t:   5%|███▎                                                               | 63/1260 [00:09<03:18,  6.02it/s, now=None]"
     ]
    },
    {
     "name": "stdout",
     "output_type": "stream",
     "text": [
      "Lane width mean =  3.52699657276\n",
      "Lane width min =  3.41447939898\n",
      "Lane width max =  3.58204594695\n",
      "Curve Ratio =  1.17521741415\n"
     ]
    },
    {
     "name": "stderr",
     "output_type": "stream",
     "text": [
      "\r",
      "t:   5%|███▍                                                               | 64/1260 [00:09<03:17,  6.06it/s, now=None]"
     ]
    },
    {
     "name": "stdout",
     "output_type": "stream",
     "text": [
      "Lane width mean =  3.50855213491\n",
      "Lane width min =  3.38947437504\n",
      "Lane width max =  3.5789007198\n",
      "Curve Ratio =  1.13876415007\n"
     ]
    },
    {
     "name": "stderr",
     "output_type": "stream",
     "text": [
      "\r",
      "t:   5%|███▍                                                               | 65/1260 [00:09<03:15,  6.10it/s, now=None]"
     ]
    },
    {
     "name": "stdout",
     "output_type": "stream",
     "text": [
      "Lane width mean =  3.52689479403\n",
      "Lane width min =  3.40516748286\n",
      "Lane width max =  3.58590086442\n",
      "Curve Ratio =  1.18231598308\n"
     ]
    },
    {
     "name": "stderr",
     "output_type": "stream",
     "text": [
      "\r",
      "t:   5%|███▌                                                               | 66/1260 [00:10<03:15,  6.11it/s, now=None]"
     ]
    },
    {
     "name": "stdout",
     "output_type": "stream",
     "text": [
      "Lane width mean =  3.50332635128\n",
      "Lane width min =  3.37086719605\n",
      "Lane width max =  3.58597332935\n",
      "Curve Ratio =  1.14385964671\n"
     ]
    },
    {
     "name": "stderr",
     "output_type": "stream",
     "text": [
      "\r",
      "t:   5%|███▌                                                               | 67/1260 [00:10<03:13,  6.17it/s, now=None]"
     ]
    },
    {
     "name": "stdout",
     "output_type": "stream",
     "text": [
      "Lane width mean =  3.50986516226\n",
      "Lane width min =  3.40145190064\n",
      "Lane width max =  3.59685089193\n",
      "Curve Ratio =  1.06125049091\n"
     ]
    },
    {
     "name": "stderr",
     "output_type": "stream",
     "text": [
      "\r",
      "t:   5%|███▌                                                               | 68/1260 [00:10<03:18,  6.01it/s, now=None]"
     ]
    },
    {
     "name": "stdout",
     "output_type": "stream",
     "text": [
      "Lane width mean =  3.53120510794\n",
      "Lane width min =  3.43312900307\n",
      "Lane width max =  3.61340672394\n",
      "Curve Ratio =  1.04556672884\n"
     ]
    },
    {
     "name": "stderr",
     "output_type": "stream",
     "text": [
      "\r",
      "t:   5%|███▋                                                               | 69/1260 [00:10<03:17,  6.03it/s, now=None]"
     ]
    },
    {
     "name": "stdout",
     "output_type": "stream",
     "text": [
      "Lane width mean =  3.49392991025\n",
      "Lane width min =  3.36686943057\n",
      "Lane width max =  3.58038397131\n",
      "Curve Ratio =  1.11153474899\n"
     ]
    },
    {
     "name": "stderr",
     "output_type": "stream",
     "text": [
      "\r",
      "t:   6%|███▋                                                               | 70/1260 [00:10<03:14,  6.12it/s, now=None]"
     ]
    },
    {
     "name": "stdout",
     "output_type": "stream",
     "text": [
      "Lane width mean =  3.54189831342\n",
      "Lane width min =  3.437713644\n",
      "Lane width max =  3.58367944014\n",
      "Curve Ratio =  1.20268476145\n"
     ]
    },
    {
     "name": "stderr",
     "output_type": "stream",
     "text": [
      "\r",
      "t:   6%|███▊                                                               | 71/1260 [00:10<03:17,  6.02it/s, now=None]"
     ]
    },
    {
     "name": "stdout",
     "output_type": "stream",
     "text": [
      "Lane width mean =  3.52040041073\n",
      "Lane width min =  3.38734168592\n",
      "Lane width max =  3.56797875986\n",
      "Curve Ratio =  1.33287143592\n"
     ]
    },
    {
     "name": "stderr",
     "output_type": "stream",
     "text": [
      "\r",
      "t:   6%|███▊                                                               | 72/1260 [00:11<03:22,  5.86it/s, now=None]"
     ]
    },
    {
     "name": "stdout",
     "output_type": "stream",
     "text": [
      "Lane width mean =  3.54602830541\n",
      "Lane width min =  3.41276182706\n",
      "Lane width max =  3.5907216107\n",
      "Curve Ratio =  1.40467975302\n"
     ]
    },
    {
     "name": "stderr",
     "output_type": "stream",
     "text": [
      "t:   7%|████▊                                                              | 90/1260 [00:14<04:36,  4.23it/s, now=None]"
     ]
    },
    {
     "name": "stdout",
     "output_type": "stream",
     "text": [
      "Lane width mean =  3.52020686415\n",
      "Lane width min =  3.4392979117\n",
      "Lane width max =  3.66292029242\n",
      "Curve Ratio =  0.867342552582\n"
     ]
    },
    {
     "name": "stderr",
     "output_type": "stream",
     "text": [
      "t:   7%|████▉                                                              | 93/1260 [00:14<04:09,  4.67it/s, now=None]"
     ]
    },
    {
     "name": "stdout",
     "output_type": "stream",
     "text": [
      "Lane width mean =  3.54603456325\n",
      "Lane width min =  3.50091609593\n",
      "Lane width max =  3.66377253444\n",
      "Curve Ratio =  0.829766343195\n"
     ]
    },
    {
     "name": "stderr",
     "output_type": "stream",
     "text": [
      "\r",
      "t:   7%|████▉                                                              | 94/1260 [00:15<03:58,  4.89it/s, now=None]"
     ]
    },
    {
     "name": "stdout",
     "output_type": "stream",
     "text": [
      "Lane width mean =  3.52933536421\n",
      "Lane width min =  3.48346112968\n",
      "Lane width max =  3.65807584046\n",
      "Curve Ratio =  0.787849195189\n"
     ]
    },
    {
     "name": "stderr",
     "output_type": "stream",
     "text": [
      "t:  10%|██████▍                                                           | 123/1260 [00:19<02:32,  7.46it/s, now=None]"
     ]
    },
    {
     "name": "stdout",
     "output_type": "stream",
     "text": [
      "Lane width mean =  3.53815209003\n",
      "Lane width min =  3.51492266232\n",
      "Lane width max =  3.60385981173\n",
      "Curve Ratio =  0.897541203138\n"
     ]
    },
    {
     "name": "stderr",
     "output_type": "stream",
     "text": [
      "\r",
      "t:  10%|██████▍                                                           | 124/1260 [00:19<02:39,  7.11it/s, now=None]"
     ]
    },
    {
     "name": "stdout",
     "output_type": "stream",
     "text": [
      "Lane width mean =  3.53677327189\n",
      "Lane width min =  3.51253518858\n",
      "Lane width max =  3.60913537597\n",
      "Curve Ratio =  0.855927302848\n"
     ]
    },
    {
     "name": "stderr",
     "output_type": "stream",
     "text": [
      "\r",
      "t:  10%|██████▌                                                           | 125/1260 [00:19<02:44,  6.91it/s, now=None]"
     ]
    },
    {
     "name": "stdout",
     "output_type": "stream",
     "text": [
      "Lane width mean =  3.52438901\n",
      "Lane width min =  3.49875533471\n",
      "Lane width max =  3.60039006206\n",
      "Curve Ratio =  0.86721226163\n"
     ]
    },
    {
     "name": "stderr",
     "output_type": "stream",
     "text": [
      "t:  10%|██████▊                                                           | 129/1260 [00:20<02:39,  7.09it/s, now=None]"
     ]
    },
    {
     "name": "stdout",
     "output_type": "stream",
     "text": [
      "Lane width mean =  3.5205150901\n",
      "Lane width min =  3.49259115782\n",
      "Lane width max =  3.59668559438\n",
      "Curve Ratio =  0.87908130362\n"
     ]
    },
    {
     "name": "stderr",
     "output_type": "stream",
     "text": [
      "\r",
      "t:  10%|██████▊                                                           | 130/1260 [00:20<02:42,  6.96it/s, now=None]"
     ]
    },
    {
     "name": "stdout",
     "output_type": "stream",
     "text": [
      "Lane width mean =  3.52784945041\n",
      "Lane width min =  3.48890554528\n",
      "Lane width max =  3.59296574314\n",
      "Curve Ratio =  0.940626203719\n"
     ]
    },
    {
     "name": "stderr",
     "output_type": "stream",
     "text": [
      "\r",
      "t:  10%|██████▊                                                           | 131/1260 [00:20<02:42,  6.93it/s, now=None]"
     ]
    },
    {
     "name": "stdout",
     "output_type": "stream",
     "text": [
      "Lane width mean =  3.52091318992\n",
      "Lane width min =  3.4732194816\n",
      "Lane width max =  3.59168256565\n",
      "Curve Ratio =  0.945655110437\n"
     ]
    },
    {
     "name": "stderr",
     "output_type": "stream",
     "text": [
      "\r",
      "t:  10%|██████▉                                                           | 132/1260 [00:20<02:41,  6.97it/s, now=None]"
     ]
    },
    {
     "name": "stdout",
     "output_type": "stream",
     "text": [
      "Lane width mean =  3.49398615004\n",
      "Lane width min =  3.43469138988\n",
      "Lane width max =  3.57963040409\n",
      "Curve Ratio =  0.936868438531\n"
     ]
    },
    {
     "name": "stderr",
     "output_type": "stream",
     "text": [
      "\r",
      "t:  11%|██████▉                                                           | 133/1260 [00:20<02:42,  6.92it/s, now=None]"
     ]
    },
    {
     "name": "stdout",
     "output_type": "stream",
     "text": [
      "Lane width mean =  3.51395509765\n",
      "Lane width min =  3.46926125915\n",
      "Lane width max =  3.60803547354\n",
      "Curve Ratio =  0.882060339839\n"
     ]
    },
    {
     "name": "stderr",
     "output_type": "stream",
     "text": [
      "\r",
      "t:  11%|███████                                                           | 134/1260 [00:20<02:44,  6.82it/s, now=None]"
     ]
    },
    {
     "name": "stdout",
     "output_type": "stream",
     "text": [
      "Lane width mean =  3.49896376315\n",
      "Lane width min =  3.42049840828\n",
      "Lane width max =  3.60111193666\n",
      "Curve Ratio =  0.939283664905\n"
     ]
    },
    {
     "name": "stderr",
     "output_type": "stream",
     "text": [
      "\r",
      "t:  11%|███████                                                           | 135/1260 [00:20<02:45,  6.80it/s, now=None]"
     ]
    },
    {
     "name": "stdout",
     "output_type": "stream",
     "text": [
      "Lane width mean =  3.5156425126\n",
      "Lane width min =  3.45009958745\n",
      "Lane width max =  3.59678315346\n",
      "Curve Ratio =  0.959354568659\n"
     ]
    },
    {
     "name": "stderr",
     "output_type": "stream",
     "text": [
      "\r",
      "t:  11%|███████                                                           | 136/1260 [00:21<02:46,  6.75it/s, now=None]"
     ]
    },
    {
     "name": "stdout",
     "output_type": "stream",
     "text": [
      "Lane width mean =  3.54224536092\n",
      "Lane width min =  3.4737181201\n",
      "Lane width max =  3.59050083382\n",
      "Curve Ratio =  1.05374405483\n"
     ]
    },
    {
     "name": "stderr",
     "output_type": "stream",
     "text": [
      "t:  12%|███████▊                                                          | 148/1260 [00:22<02:30,  7.40it/s, now=None]"
     ]
    },
    {
     "name": "stdout",
     "output_type": "stream",
     "text": [
      "Lane width mean =  3.51478922196\n",
      "Lane width min =  3.44301966032\n",
      "Lane width max =  3.59674256492\n",
      "Curve Ratio =  0.974984374002\n"
     ]
    },
    {
     "name": "stderr",
     "output_type": "stream",
     "text": [
      "\r",
      "t:  12%|███████▊                                                          | 149/1260 [00:22<02:36,  7.08it/s, now=None]"
     ]
    },
    {
     "name": "stdout",
     "output_type": "stream",
     "text": [
      "Lane width mean =  3.51824706183\n",
      "Lane width min =  3.44918544131\n",
      "Lane width max =  3.60075194656\n",
      "Curve Ratio =  0.967617511438\n"
     ]
    },
    {
     "name": "stderr",
     "output_type": "stream",
     "text": [
      "t:  15%|█████████▋                                                        | 186/1260 [00:27<02:22,  7.54it/s, now=None]"
     ]
    },
    {
     "name": "stdout",
     "output_type": "stream",
     "text": [
      "Lane width mean =  3.47893097893\n",
      "Lane width min =  3.35576580705\n",
      "Lane width max =  3.78646262476\n",
      "Curve Ratio =  0.706820487344\n"
     ]
    },
    {
     "name": "stderr",
     "output_type": "stream",
     "text": [
      "\r",
      "t:  15%|█████████▊                                                        | 187/1260 [00:27<02:28,  7.24it/s, now=None]"
     ]
    },
    {
     "name": "stdout",
     "output_type": "stream",
     "text": [
      "Lane width mean =  3.47437502615\n",
      "Lane width min =  3.35801607853\n",
      "Lane width max =  3.77426191026\n",
      "Curve Ratio =  0.693784490642\n"
     ]
    },
    {
     "name": "stderr",
     "output_type": "stream",
     "text": [
      "\r",
      "t:  15%|█████████▊                                                        | 188/1260 [00:28<02:29,  7.19it/s, now=None]"
     ]
    },
    {
     "name": "stdout",
     "output_type": "stream",
     "text": [
      "Lane width mean =  3.44643128738\n",
      "Lane width min =  3.33514496194\n",
      "Lane width max =  3.7619650141\n",
      "Curve Ratio =  0.633610063639\n"
     ]
    },
    {
     "name": "stderr",
     "output_type": "stream",
     "text": [
      "\r",
      "t:  15%|█████████▉                                                        | 189/1260 [00:28<02:32,  7.01it/s, now=None]"
     ]
    },
    {
     "name": "stdout",
     "output_type": "stream",
     "text": [
      "Lane width mean =  3.43837939284\n",
      "Lane width min =  3.32460320633\n",
      "Lane width max =  3.73101955058\n",
      "Curve Ratio =  0.704428642872\n"
     ]
    },
    {
     "name": "stderr",
     "output_type": "stream",
     "text": [
      "\r",
      "t:  15%|█████████▉                                                        | 190/1260 [00:28<02:34,  6.92it/s, now=None]"
     ]
    },
    {
     "name": "stdout",
     "output_type": "stream",
     "text": [
      "Lane width mean =  3.43399557728\n",
      "Lane width min =  3.33265416581\n",
      "Lane width max =  3.71154641335\n",
      "Curve Ratio =  0.689092773663\n"
     ]
    },
    {
     "name": "stderr",
     "output_type": "stream",
     "text": [
      "\r",
      "t:  15%|██████████                                                        | 191/1260 [00:28<02:30,  7.09it/s, now=None]"
     ]
    },
    {
     "name": "stdout",
     "output_type": "stream",
     "text": [
      "Lane width mean =  3.41745995834\n",
      "Lane width min =  3.32451763903\n",
      "Lane width max =  3.68387284974\n",
      "Curve Ratio =  0.67097206685\n"
     ]
    },
    {
     "name": "stderr",
     "output_type": "stream",
     "text": [
      "\r",
      "t:  15%|██████████                                                        | 192/1260 [00:28<02:35,  6.85it/s, now=None]"
     ]
    },
    {
     "name": "stdout",
     "output_type": "stream",
     "text": [
      "Lane width mean =  3.43453623342\n",
      "Lane width min =  3.34101573449\n",
      "Lane width max =  3.67217489504\n",
      "Curve Ratio =  0.750615701333\n"
     ]
    },
    {
     "name": "stderr",
     "output_type": "stream",
     "text": [
      "\r",
      "t:  15%|██████████                                                        | 193/1260 [00:28<02:37,  6.79it/s, now=None]"
     ]
    },
    {
     "name": "stdout",
     "output_type": "stream",
     "text": [
      "Lane width mean =  3.41875325699\n",
      "Lane width min =  3.33478291842\n",
      "Lane width max =  3.66191714773\n",
      "Curve Ratio =  0.691747253623\n"
     ]
    },
    {
     "name": "stderr",
     "output_type": "stream",
     "text": [
      "\r",
      "t:  15%|██████████▏                                                       | 194/1260 [00:29<02:36,  6.80it/s, now=None]"
     ]
    },
    {
     "name": "stdout",
     "output_type": "stream",
     "text": [
      "Lane width mean =  3.41922706205\n",
      "Lane width min =  3.33480826104\n",
      "Lane width max =  3.63359608526\n",
      "Curve Ratio =  0.774211091866\n"
     ]
    },
    {
     "name": "stderr",
     "output_type": "stream",
     "text": [
      "\r",
      "t:  15%|██████████▏                                                       | 195/1260 [00:29<02:34,  6.89it/s, now=None]"
     ]
    },
    {
     "name": "stdout",
     "output_type": "stream",
     "text": [
      "Lane width mean =  3.42163880471\n",
      "Lane width min =  3.32215788263\n",
      "Lane width max =  3.60631814912\n",
      "Curve Ratio =  0.857594443005\n"
     ]
    },
    {
     "name": "stderr",
     "output_type": "stream",
     "text": [
      "\r",
      "t:  16%|██████████▎                                                       | 196/1260 [00:29<02:36,  6.81it/s, now=None]"
     ]
    },
    {
     "name": "stdout",
     "output_type": "stream",
     "text": [
      "Lane width mean =  3.52543004749\n",
      "Lane width min =  3.40657519879\n",
      "Lane width max =  3.63283351612\n",
      "Curve Ratio =  1.02274811704\n"
     ]
    },
    {
     "name": "stderr",
     "output_type": "stream",
     "text": [
      "t:  16%|██████████▍                                                       | 200/1260 [00:29<02:23,  7.38it/s, now=None]"
     ]
    },
    {
     "name": "stdout",
     "output_type": "stream",
     "text": [
      "Lane width mean =  3.85073817908\n",
      "Lane width min =  3.68371107757\n",
      "Lane width max =  3.90953611828\n",
      "Curve Ratio =  1.56681156164\n"
     ]
    },
    {
     "name": "stderr",
     "output_type": "stream",
     "text": [
      "\r",
      "t:  16%|██████████▌                                                       | 201/1260 [00:30<02:30,  7.06it/s, now=None]"
     ]
    },
    {
     "name": "stdout",
     "output_type": "stream",
     "text": [
      "Lane width mean =  3.89429626855\n",
      "Lane width min =  3.68589905729\n",
      "Lane width max =  3.9645993717\n",
      "Curve Ratio =  1.65027661682\n"
     ]
    },
    {
     "name": "stderr",
     "output_type": "stream",
     "text": [
      "t:  20%|████████████▉                                                     | 246/1260 [00:36<02:18,  7.34it/s, now=None]"
     ]
    },
    {
     "name": "stdout",
     "output_type": "stream",
     "text": [
      "Lane width mean =  3.54472638722\n",
      "Lane width min =  3.39654573375\n",
      "Lane width max =  3.6869507986\n",
      "Curve Ratio =  1.01272462904\n"
     ]
    },
    {
     "name": "stderr",
     "output_type": "stream",
     "text": [
      "t:  20%|████████████▉                                                     | 248/1260 [00:36<02:15,  7.46it/s, now=None]"
     ]
    },
    {
     "name": "stdout",
     "output_type": "stream",
     "text": [
      "Lane width mean =  3.50065828537\n",
      "Lane width min =  3.31888543185\n",
      "Lane width max =  3.66129503887\n",
      "Curve Ratio =  1.04449181292\n"
     ]
    },
    {
     "name": "stderr",
     "output_type": "stream",
     "text": [
      "\r",
      "t:  20%|█████████████                                                     | 249/1260 [00:36<02:17,  7.35it/s, now=None]"
     ]
    },
    {
     "name": "stdout",
     "output_type": "stream",
     "text": [
      "Lane width mean =  3.53092402303\n",
      "Lane width min =  3.30025360638\n",
      "Lane width max =  3.66367070138\n",
      "Curve Ratio =  1.24904285622\n"
     ]
    },
    {
     "name": "stderr",
     "output_type": "stream",
     "text": [
      "\r",
      "t:  20%|█████████████                                                     | 250/1260 [00:36<02:26,  6.91it/s, now=None]"
     ]
    },
    {
     "name": "stdout",
     "output_type": "stream",
     "text": [
      "Lane width mean =  3.52551259679\n",
      "Lane width min =  3.33911475219\n",
      "Lane width max =  3.66308883671\n",
      "Curve Ratio =  1.11365858056\n"
     ]
    },
    {
     "name": "stderr",
     "output_type": "stream",
     "text": [
      "\r",
      "t:  20%|█████████████▏                                                    | 251/1260 [00:36<02:22,  7.06it/s, now=None]"
     ]
    },
    {
     "name": "stdout",
     "output_type": "stream",
     "text": [
      "Lane width mean =  3.54928021006\n",
      "Lane width min =  3.34087277656\n",
      "Lane width max =  3.6696593812\n",
      "Curve Ratio =  1.21361640904\n"
     ]
    },
    {
     "name": "stderr",
     "output_type": "stream",
     "text": [
      "t:  20%|█████████████▍                                                    | 257/1260 [00:37<02:22,  7.03it/s, now=None]"
     ]
    },
    {
     "name": "stdout",
     "output_type": "stream",
     "text": [
      "Lane width mean =  3.53513971759\n",
      "Lane width min =  3.29669293632\n",
      "Lane width max =  3.641421804\n",
      "Curve Ratio =  1.32908784028\n"
     ]
    },
    {
     "name": "stderr",
     "output_type": "stream",
     "text": [
      "\r",
      "t:  20%|█████████████▌                                                    | 258/1260 [00:37<02:26,  6.85it/s, now=None]"
     ]
    },
    {
     "name": "stdout",
     "output_type": "stream",
     "text": [
      "Lane width mean =  3.50422759514\n",
      "Lane width min =  3.23249984277\n",
      "Lane width max =  3.60805881751\n",
      "Curve Ratio =  1.42870202311\n"
     ]
    },
    {
     "name": "stderr",
     "output_type": "stream",
     "text": [
      "\r",
      "t:  21%|█████████████▌                                                    | 259/1260 [00:37<02:24,  6.92it/s, now=None]"
     ]
    },
    {
     "name": "stdout",
     "output_type": "stream",
     "text": [
      "Lane width mean =  3.5237600435\n",
      "Lane width min =  3.21488924417\n",
      "Lane width max =  3.62938108202\n",
      "Curve Ratio =  1.6666380063\n"
     ]
    },
    {
     "name": "stderr",
     "output_type": "stream",
     "text": [
      "\r",
      "t:  21%|█████████████▌                                                    | 260/1260 [00:38<02:23,  6.98it/s, now=None]"
     ]
    },
    {
     "name": "stdout",
     "output_type": "stream",
     "text": [
      "Lane width mean =  3.49079458556\n",
      "Lane width min =  3.1858154146\n",
      "Lane width max =  3.60940079648\n",
      "Curve Ratio =  1.48360031424\n"
     ]
    },
    {
     "name": "stderr",
     "output_type": "stream",
     "text": [
      "t:  22%|██████████████▎                                                   | 274/1260 [00:40<02:14,  7.33it/s, now=None]"
     ]
    },
    {
     "name": "stdout",
     "output_type": "stream",
     "text": [
      "Lane width mean =  3.51276264073\n",
      "Lane width min =  3.26781810664\n",
      "Lane width max =  3.67058311599\n",
      "Curve Ratio =  1.23776935963\n"
     ]
    },
    {
     "name": "stderr",
     "output_type": "stream",
     "text": [
      "\r",
      "t:  22%|██████████████▍                                                   | 275/1260 [00:40<02:15,  7.26it/s, now=None]"
     ]
    },
    {
     "name": "stdout",
     "output_type": "stream",
     "text": [
      "Lane width mean =  3.54185674991\n",
      "Lane width min =  3.30575159422\n",
      "Lane width max =  3.66483088195\n",
      "Curve Ratio =  1.31310979513\n"
     ]
    },
    {
     "name": "stderr",
     "output_type": "stream",
     "text": [
      "t:  24%|███████████████▊                                                  | 302/1260 [00:43<02:05,  7.61it/s, now=None]"
     ]
    },
    {
     "name": "stdout",
     "output_type": "stream",
     "text": [
      "Lane width mean =  3.70697100999\n",
      "Lane width min =  3.55103100697\n",
      "Lane width max =  3.7601744451\n",
      "Curve Ratio =  2.57857287545\n"
     ]
    },
    {
     "name": "stderr",
     "output_type": "stream",
     "text": [
      "\r",
      "t:  24%|███████████████▊                                                  | 303/1260 [00:43<02:12,  7.20it/s, now=None]"
     ]
    },
    {
     "name": "stdout",
     "output_type": "stream",
     "text": [
      "Lane width mean =  3.69815294909\n",
      "Lane width min =  3.55046643245\n",
      "Lane width max =  3.7479287135\n",
      "Curve Ratio =  2.36221953619\n"
     ]
    },
    {
     "name": "stderr",
     "output_type": "stream",
     "text": [
      "\r",
      "t:  24%|███████████████▉                                                  | 304/1260 [00:44<02:16,  7.00it/s, now=None]"
     ]
    },
    {
     "name": "stdout",
     "output_type": "stream",
     "text": [
      "Lane width mean =  3.68572592494\n",
      "Lane width min =  3.54743823359\n",
      "Lane width max =  3.73201165967\n",
      "Curve Ratio =  2.27147750756\n"
     ]
    },
    {
     "name": "stderr",
     "output_type": "stream",
     "text": [
      "\r",
      "t:  24%|███████████████▉                                                  | 305/1260 [00:44<02:13,  7.17it/s, now=None]"
     ]
    },
    {
     "name": "stdout",
     "output_type": "stream",
     "text": [
      "Lane width mean =  3.7206352785\n",
      "Lane width min =  3.58794801189\n",
      "Lane width max =  3.76837050111\n",
      "Curve Ratio =  2.79332678626\n"
     ]
    },
    {
     "name": "stderr",
     "output_type": "stream",
     "text": [
      "t:  24%|████████████████                                                  | 307/1260 [00:44<02:16,  6.98it/s, now=None]"
     ]
    },
    {
     "name": "stdout",
     "output_type": "stream",
     "text": [
      "Lane width mean =  3.70130853192\n",
      "Lane width min =  3.57554624353\n",
      "Lane width max =  3.74465770181\n",
      "Curve Ratio =  2.90202577466\n"
     ]
    },
    {
     "name": "stderr",
     "output_type": "stream",
     "text": [
      "t:  25%|████████████████▎                                                 | 311/1260 [00:45<02:12,  7.18it/s, now=None]"
     ]
    },
    {
     "name": "stdout",
     "output_type": "stream",
     "text": [
      "Lane width mean =  3.54345224997\n",
      "Lane width min =  3.39689845932\n",
      "Lane width max =  3.65495098623\n",
      "Curve Ratio =  1.29856707519\n"
     ]
    },
    {
     "name": "stderr",
     "output_type": "stream",
     "text": [
      "\r",
      "t:  25%|████████████████▎                                                 | 312/1260 [00:45<02:12,  7.15it/s, now=None]"
     ]
    },
    {
     "name": "stdout",
     "output_type": "stream",
     "text": [
      "Lane width mean =  3.54895577735\n",
      "Lane width min =  3.39958781008\n",
      "Lane width max =  3.64812964914\n",
      "Curve Ratio =  1.43204699306\n"
     ]
    },
    {
     "name": "stderr",
     "output_type": "stream",
     "text": [
      "\r",
      "t:  25%|████████████████▍                                                 | 313/1260 [00:45<02:12,  7.14it/s, now=None]"
     ]
    },
    {
     "name": "stdout",
     "output_type": "stream",
     "text": [
      "Lane width mean =  3.464063639\n",
      "Lane width min =  3.27218725092\n",
      "Lane width max =  3.61702644922\n",
      "Curve Ratio =  1.27024275349\n"
     ]
    },
    {
     "name": "stderr",
     "output_type": "stream",
     "text": [
      "\r",
      "t:  25%|████████████████▍                                                 | 314/1260 [00:45<02:12,  7.13it/s, now=None]"
     ]
    },
    {
     "name": "stdout",
     "output_type": "stream",
     "text": [
      "Lane width mean =  3.50260356799\n",
      "Lane width min =  3.35598233778\n",
      "Lane width max =  3.61862730475\n",
      "Curve Ratio =  1.24059043255\n"
     ]
    },
    {
     "name": "stderr",
     "output_type": "stream",
     "text": [
      "\r",
      "t:  25%|████████████████▌                                                 | 315/1260 [00:45<02:17,  6.90it/s, now=None]"
     ]
    },
    {
     "name": "stdout",
     "output_type": "stream",
     "text": [
      "Lane width mean =  3.50737581834\n",
      "Lane width min =  3.33883996597\n",
      "Lane width max =  3.60612204376\n",
      "Curve Ratio =  1.55939414567\n"
     ]
    },
    {
     "name": "stderr",
     "output_type": "stream",
     "text": [
      "\r",
      "t:  25%|████████████████▌                                                 | 316/1260 [00:45<02:16,  6.93it/s, now=None]"
     ]
    },
    {
     "name": "stdout",
     "output_type": "stream",
     "text": [
      "Lane width mean =  3.54224723195\n",
      "Lane width min =  3.38075216886\n",
      "Lane width max =  3.6012772908\n",
      "Curve Ratio =  2.14833107602\n"
     ]
    },
    {
     "name": "stderr",
     "output_type": "stream",
     "text": [
      "\r",
      "t:  25%|████████████████▌                                                 | 317/1260 [00:45<02:15,  6.98it/s, now=None]"
     ]
    },
    {
     "name": "stdout",
     "output_type": "stream",
     "text": [
      "Lane width mean =  3.55818837303\n",
      "Lane width min =  3.38393342322\n",
      "Lane width max =  3.61927939256\n",
      "Curve Ratio =  3.3221119219\n"
     ]
    },
    {
     "name": "stderr",
     "output_type": "stream",
     "text": [
      "\r",
      "t:  25%|████████████████▋                                                 | 318/1260 [00:46<02:14,  7.02it/s, now=None]"
     ]
    },
    {
     "name": "stdout",
     "output_type": "stream",
     "text": [
      "Lane width mean =  3.49108280702\n",
      "Lane width min =  3.31586777102\n",
      "Lane width max =  3.55142608975\n",
      "Curve Ratio =  2.23768327348\n"
     ]
    },
    {
     "name": "stderr",
     "output_type": "stream",
     "text": [
      "\r",
      "t:  25%|████████████████▋                                                 | 319/1260 [00:46<02:18,  6.80it/s, now=None]"
     ]
    },
    {
     "name": "stdout",
     "output_type": "stream",
     "text": [
      "Lane width mean =  3.52200720563\n",
      "Lane width min =  3.34676570617\n",
      "Lane width max =  3.58067019793\n",
      "Curve Ratio =  2.52927368768\n"
     ]
    },
    {
     "name": "stderr",
     "output_type": "stream",
     "text": [
      "\r",
      "t:  25%|████████████████▊                                                 | 320/1260 [00:46<02:16,  6.90it/s, now=None]"
     ]
    },
    {
     "name": "stdout",
     "output_type": "stream",
     "text": [
      "Lane width mean =  3.49077106806\n",
      "Lane width min =  3.32701670998\n",
      "Lane width max =  3.55371955287\n",
      "Curve Ratio =  1.87960394943\n"
     ]
    },
    {
     "name": "stderr",
     "output_type": "stream",
     "text": [
      "\r",
      "t:  25%|████████████████▊                                                 | 321/1260 [00:46<02:17,  6.82it/s, now=None]"
     ]
    },
    {
     "name": "stdout",
     "output_type": "stream",
     "text": [
      "Lane width mean =  3.51954813634\n",
      "Lane width min =  3.34314530056\n",
      "Lane width max =  3.58172518935\n",
      "Curve Ratio =  2.3163853566\n"
     ]
    },
    {
     "name": "stderr",
     "output_type": "stream",
     "text": [
      "\r",
      "t:  26%|████████████████▊                                                 | 322/1260 [00:46<02:16,  6.89it/s, now=None]"
     ]
    },
    {
     "name": "stdout",
     "output_type": "stream",
     "text": [
      "Lane width mean =  3.5180503389\n",
      "Lane width min =  3.31030665974\n",
      "Lane width max =  3.59238566824\n",
      "Curve Ratio =  2.74797237103\n"
     ]
    },
    {
     "name": "stderr",
     "output_type": "stream",
     "text": [
      "\r",
      "t:  26%|████████████████▉                                                 | 323/1260 [00:46<02:16,  6.85it/s, now=None]"
     ]
    },
    {
     "name": "stdout",
     "output_type": "stream",
     "text": [
      "Lane width mean =  3.51934242403\n",
      "Lane width min =  3.32085374654\n",
      "Lane width max =  3.58973404904\n",
      "Curve Ratio =  2.60352989131\n"
     ]
    },
    {
     "name": "stderr",
     "output_type": "stream",
     "text": [
      "\r",
      "t:  26%|████████████████▉                                                 | 324/1260 [00:46<02:18,  6.77it/s, now=None]"
     ]
    },
    {
     "name": "stdout",
     "output_type": "stream",
     "text": [
      "Lane width mean =  3.5799855949\n",
      "Lane width min =  3.39027310701\n",
      "Lane width max =  3.64392780089\n",
      "Curve Ratio =  2.79164103395\n"
     ]
    },
    {
     "name": "stderr",
     "output_type": "stream",
     "text": [
      "\r",
      "t:  26%|█████████████████                                                 | 325/1260 [00:47<02:17,  6.80it/s, now=None]"
     ]
    },
    {
     "name": "stdout",
     "output_type": "stream",
     "text": [
      "Lane width mean =  3.55873155683\n",
      "Lane width min =  3.36081923397\n",
      "Lane width max =  3.6292871804\n",
      "Curve Ratio =  2.5281391463\n"
     ]
    },
    {
     "name": "stderr",
     "output_type": "stream",
     "text": [
      "\r",
      "t:  26%|█████████████████                                                 | 326/1260 [00:47<02:26,  6.37it/s, now=None]"
     ]
    },
    {
     "name": "stdout",
     "output_type": "stream",
     "text": [
      "Lane width mean =  3.54914990318\n",
      "Lane width min =  3.36604594482\n",
      "Lane width max =  3.63596169676\n",
      "Curve Ratio =  1.0\n"
     ]
    },
    {
     "name": "stderr",
     "output_type": "stream",
     "text": [
      "t:  26%|█████████████████▍                                                | 332/1260 [00:48<02:08,  7.23it/s, now=None]"
     ]
    },
    {
     "name": "stdout",
     "output_type": "stream",
     "text": [
      "Lane width mean =  3.49188033814\n",
      "Lane width min =  3.26013900029\n",
      "Lane width max =  3.65137035968\n",
      "Curve Ratio =  1.0\n"
     ]
    },
    {
     "name": "stderr",
     "output_type": "stream",
     "text": [
      "\r",
      "t:  26%|█████████████████▍                                                | 333/1260 [00:48<02:10,  7.12it/s, now=None]"
     ]
    },
    {
     "name": "stdout",
     "output_type": "stream",
     "text": [
      "Lane width mean =  3.46490496785\n",
      "Lane width min =  3.25555510144\n",
      "Lane width max =  3.65369061619\n",
      "Curve Ratio =  1.0\n"
     ]
    },
    {
     "name": "stderr",
     "output_type": "stream",
     "text": [
      "\r",
      "t:  27%|█████████████████▍                                                | 334/1260 [00:48<02:10,  7.07it/s, now=None]"
     ]
    },
    {
     "name": "stdout",
     "output_type": "stream",
     "text": [
      "Lane width mean =  3.47995313712\n",
      "Lane width min =  3.2818679306\n",
      "Lane width max =  3.65770288273\n",
      "Curve Ratio =  1.0\n"
     ]
    },
    {
     "name": "stderr",
     "output_type": "stream",
     "text": [
      "\r",
      "t:  27%|█████████████████▌                                                | 335/1260 [00:48<02:12,  6.98it/s, now=None]"
     ]
    },
    {
     "name": "stdout",
     "output_type": "stream",
     "text": [
      "Lane width mean =  3.48509356996\n",
      "Lane width min =  3.30050822926\n",
      "Lane width max =  3.65684720848\n",
      "Curve Ratio =  1.0\n"
     ]
    },
    {
     "name": "stderr",
     "output_type": "stream",
     "text": [
      "t:  27%|█████████████████▉                                                | 342/1260 [00:49<02:05,  7.31it/s, now=None]"
     ]
    },
    {
     "name": "stdout",
     "output_type": "stream",
     "text": [
      "Lane width mean =  3.46359955219\n",
      "Lane width min =  3.26194650127\n",
      "Lane width max =  3.59506823845\n",
      "Curve Ratio =  1.0\n"
     ]
    },
    {
     "name": "stderr",
     "output_type": "stream",
     "text": [
      "\r",
      "t:  27%|█████████████████▉                                                | 343/1260 [00:49<02:06,  7.25it/s, now=None]"
     ]
    },
    {
     "name": "stdout",
     "output_type": "stream",
     "text": [
      "Lane width mean =  3.51075142282\n",
      "Lane width min =  3.31221439014\n",
      "Lane width max =  3.58760624362\n",
      "Curve Ratio =  1.0\n"
     ]
    },
    {
     "name": "stderr",
     "output_type": "stream",
     "text": [
      "t:  27%|██████████████████                                                | 345/1260 [00:49<02:10,  7.01it/s, now=None]"
     ]
    },
    {
     "name": "stdout",
     "output_type": "stream",
     "text": [
      "Lane width mean =  3.59109926125\n",
      "Lane width min =  3.47482609523\n",
      "Lane width max =  3.62996469779\n",
      "Curve Ratio =  4.02057562947\n"
     ]
    },
    {
     "name": "stderr",
     "output_type": "stream",
     "text": [
      "t:  29%|███████████████████                                               | 364/1260 [00:52<02:07,  7.00it/s, now=None]"
     ]
    },
    {
     "name": "stdout",
     "output_type": "stream",
     "text": [
      "Lane width mean =  3.51678861498\n",
      "Lane width min =  3.32194148959\n",
      "Lane width max =  3.60021994678\n",
      "Curve Ratio =  1.0\n"
     ]
    },
    {
     "name": "stderr",
     "output_type": "stream",
     "text": [
      "t:  29%|███████████████████▏                                              | 366/1260 [00:52<02:09,  6.89it/s, now=None]"
     ]
    },
    {
     "name": "stdout",
     "output_type": "stream",
     "text": [
      "Lane width mean =  3.54336959656\n",
      "Lane width min =  3.35838700318\n",
      "Lane width max =  3.62475193548\n",
      "Curve Ratio =  1.0\n"
     ]
    },
    {
     "name": "stderr",
     "output_type": "stream",
     "text": [
      "t:  29%|███████████████████▎                                              | 369/1260 [00:53<02:07,  6.99it/s, now=None]"
     ]
    },
    {
     "name": "stdout",
     "output_type": "stream",
     "text": [
      "Lane width mean =  3.53674966409\n",
      "Lane width min =  3.30244968843\n",
      "Lane width max =  3.62435358177\n",
      "Curve Ratio =  1.0\n"
     ]
    },
    {
     "name": "stderr",
     "output_type": "stream",
     "text": [
      "t:  30%|███████████████████▋                                              | 376/1260 [00:54<02:00,  7.33it/s, now=None]"
     ]
    },
    {
     "name": "stdout",
     "output_type": "stream",
     "text": [
      "Lane width mean =  3.4904057508\n",
      "Lane width min =  3.31656401302\n",
      "Lane width max =  3.68050584281\n",
      "Curve Ratio =  1.0\n"
     ]
    },
    {
     "name": "stderr",
     "output_type": "stream",
     "text": [
      "\r",
      "t:  30%|███████████████████▋                                              | 377/1260 [00:54<02:01,  7.26it/s, now=None]"
     ]
    },
    {
     "name": "stdout",
     "output_type": "stream",
     "text": [
      "Lane width mean =  3.50850236417\n",
      "Lane width min =  3.3810402839\n",
      "Lane width max =  3.68775919031\n",
      "Curve Ratio =  1.0\n"
     ]
    },
    {
     "name": "stderr",
     "output_type": "stream",
     "text": [
      "\r",
      "t:  30%|███████████████████▊                                              | 378/1260 [00:54<02:04,  7.07it/s, now=None]"
     ]
    },
    {
     "name": "stdout",
     "output_type": "stream",
     "text": [
      "Lane width mean =  3.49548715736\n",
      "Lane width min =  3.37510144618\n",
      "Lane width max =  3.69234029295\n",
      "Curve Ratio =  1.0\n"
     ]
    },
    {
     "name": "stderr",
     "output_type": "stream",
     "text": [
      "\r",
      "t:  30%|███████████████████▊                                              | 379/1260 [00:54<02:08,  6.87it/s, now=None]"
     ]
    },
    {
     "name": "stdout",
     "output_type": "stream",
     "text": [
      "Lane width mean =  3.54561302149\n",
      "Lane width min =  3.4647335542\n",
      "Lane width max =  3.69092310208\n",
      "Curve Ratio =  1.0\n"
     ]
    },
    {
     "name": "stderr",
     "output_type": "stream",
     "text": [
      "t:  32%|█████████████████████▎                                            | 407/1260 [00:58<01:57,  7.28it/s, now=None]"
     ]
    },
    {
     "name": "stdout",
     "output_type": "stream",
     "text": [
      "Lane width mean =  3.85776277003\n",
      "Lane width min =  3.66057727671\n",
      "Lane width max =  4.10306576658\n",
      "Curve Ratio =  1.0\n"
     ]
    },
    {
     "name": "stderr",
     "output_type": "stream",
     "text": [
      "\r",
      "t:  32%|█████████████████████▎                                            | 408/1260 [00:58<02:01,  7.03it/s, now=None]"
     ]
    },
    {
     "name": "stdout",
     "output_type": "stream",
     "text": [
      "Lane width mean =  3.85164286474\n",
      "Lane width min =  3.64090292146\n",
      "Lane width max =  4.07091214535\n",
      "Curve Ratio =  1.0\n"
     ]
    },
    {
     "name": "stderr",
     "output_type": "stream",
     "text": [
      "t:  34%|██████████████████████▋                                           | 433/1260 [01:02<01:54,  7.19it/s, now=None]"
     ]
    },
    {
     "name": "stdout",
     "output_type": "stream",
     "text": [
      "Lane width mean =  3.90817595528\n",
      "Lane width min =  3.63259346661\n",
      "Lane width max =  4.09121372837\n",
      "Curve Ratio =  1.0\n"
     ]
    },
    {
     "name": "stderr",
     "output_type": "stream",
     "text": [
      "\r",
      "t:  34%|██████████████████████▋                                           | 434/1260 [01:02<01:59,  6.91it/s, now=None]"
     ]
    },
    {
     "name": "stdout",
     "output_type": "stream",
     "text": [
      "Lane width mean =  3.87014247967\n",
      "Lane width min =  3.63043023686\n",
      "Lane width max =  3.98235559742\n",
      "Curve Ratio =  1.0\n"
     ]
    },
    {
     "name": "stderr",
     "output_type": "stream",
     "text": [
      "\r",
      "t:  35%|██████████████████████▊                                           | 435/1260 [01:02<01:58,  6.97it/s, now=None]"
     ]
    },
    {
     "name": "stdout",
     "output_type": "stream",
     "text": [
      "Lane width mean =  3.86610938838\n",
      "Lane width min =  3.6106999049\n",
      "Lane width max =  3.95878777758\n",
      "Curve Ratio =  1.0\n"
     ]
    },
    {
     "name": "stderr",
     "output_type": "stream",
     "text": [
      "t:  38%|████████████████████████▉                                         | 477/1260 [01:08<01:44,  7.51it/s, now=None]"
     ]
    },
    {
     "name": "stdout",
     "output_type": "stream",
     "text": [
      "Lane width mean =  3.85744578196\n",
      "Lane width min =  3.59423109328\n",
      "Lane width max =  4.04118487338\n",
      "Curve Ratio =  1.0\n"
     ]
    },
    {
     "name": "stderr",
     "output_type": "stream",
     "text": [
      "\r",
      "t:  38%|█████████████████████████                                         | 478/1260 [01:08<01:48,  7.20it/s, now=None]"
     ]
    },
    {
     "name": "stdout",
     "output_type": "stream",
     "text": [
      "Lane width mean =  3.88167604554\n",
      "Lane width min =  3.59906753581\n",
      "Lane width max =  4.06240800053\n",
      "Curve Ratio =  1.0\n"
     ]
    },
    {
     "name": "stderr",
     "output_type": "stream",
     "text": [
      "\r",
      "t:  38%|█████████████████████████                                         | 479/1260 [01:08<01:51,  7.02it/s, now=None]"
     ]
    },
    {
     "name": "stdout",
     "output_type": "stream",
     "text": [
      "Lane width mean =  3.8901935187\n",
      "Lane width min =  3.5997048877\n",
      "Lane width max =  4.04212790561\n",
      "Curve Ratio =  1.0\n"
     ]
    },
    {
     "name": "stderr",
     "output_type": "stream",
     "text": [
      "\r",
      "t:  38%|█████████████████████████▏                                        | 480/1260 [01:08<01:55,  6.77it/s, now=None]"
     ]
    },
    {
     "name": "stdout",
     "output_type": "stream",
     "text": [
      "Lane width mean =  3.92935530851\n",
      "Lane width min =  3.63074801794\n",
      "Lane width max =  4.09067414554\n",
      "Curve Ratio =  1.0\n"
     ]
    },
    {
     "name": "stderr",
     "output_type": "stream",
     "text": [
      "\r",
      "t:  38%|█████████████████████████▏                                        | 481/1260 [01:08<01:56,  6.71it/s, now=None]"
     ]
    },
    {
     "name": "stdout",
     "output_type": "stream",
     "text": [
      "Lane width mean =  3.91628221583\n",
      "Lane width min =  3.6352332436\n",
      "Lane width max =  4.09352735629\n",
      "Curve Ratio =  1.0\n"
     ]
    },
    {
     "name": "stderr",
     "output_type": "stream",
     "text": [
      "\r",
      "t:  38%|█████████████████████████▏                                        | 482/1260 [01:08<01:57,  6.61it/s, now=None]"
     ]
    },
    {
     "name": "stdout",
     "output_type": "stream",
     "text": [
      "Lane width mean =  3.96109172596\n",
      "Lane width min =  3.66501233696\n",
      "Lane width max =  4.14029500015\n",
      "Curve Ratio =  1.0\n"
     ]
    },
    {
     "name": "stderr",
     "output_type": "stream",
     "text": [
      "\r",
      "t:  38%|█████████████████████████▎                                        | 483/1260 [01:08<02:00,  6.43it/s, now=None]"
     ]
    },
    {
     "name": "stdout",
     "output_type": "stream",
     "text": [
      "Lane width mean =  3.97814575448\n",
      "Lane width min =  3.68459793005\n",
      "Lane width max =  4.14847847887\n",
      "Curve Ratio =  1.0\n"
     ]
    },
    {
     "name": "stderr",
     "output_type": "stream",
     "text": [
      "\r",
      "t:  38%|█████████████████████████▎                                        | 484/1260 [01:09<01:58,  6.55it/s, now=None]"
     ]
    },
    {
     "name": "stdout",
     "output_type": "stream",
     "text": [
      "Lane width mean =  3.93710208516\n",
      "Lane width min =  3.65492614583\n",
      "Lane width max =  4.07146966413\n",
      "Curve Ratio =  1.0\n"
     ]
    },
    {
     "name": "stderr",
     "output_type": "stream",
     "text": [
      "\r",
      "t:  38%|█████████████████████████▍                                        | 485/1260 [01:09<02:00,  6.44it/s, now=None]"
     ]
    },
    {
     "name": "stdout",
     "output_type": "stream",
     "text": [
      "Lane width mean =  3.94375671764\n",
      "Lane width min =  3.66714356201\n",
      "Lane width max =  4.09513107052\n",
      "Curve Ratio =  1.0\n"
     ]
    },
    {
     "name": "stderr",
     "output_type": "stream",
     "text": [
      "\r",
      "t:  39%|█████████████████████████▍                                        | 486/1260 [01:09<02:01,  6.36it/s, now=None]"
     ]
    },
    {
     "name": "stdout",
     "output_type": "stream",
     "text": [
      "Lane width mean =  3.87339415491\n",
      "Lane width min =  3.64180581515\n",
      "Lane width max =  3.97638535868\n",
      "Curve Ratio =  1.0\n"
     ]
    },
    {
     "name": "stderr",
     "output_type": "stream",
     "text": [
      "\r",
      "t:  39%|█████████████████████████▌                                        | 487/1260 [01:09<02:03,  6.26it/s, now=None]"
     ]
    },
    {
     "name": "stdout",
     "output_type": "stream",
     "text": [
      "Lane width mean =  3.87196399859\n",
      "Lane width min =  3.67419448628\n",
      "Lane width max =  3.98977115738\n",
      "Curve Ratio =  1.0\n"
     ]
    },
    {
     "name": "stderr",
     "output_type": "stream",
     "text": [
      "t:  39%|█████████████████████████▉                                        | 494/1260 [01:10<01:44,  7.36it/s, now=None]"
     ]
    },
    {
     "name": "stdout",
     "output_type": "stream",
     "text": [
      "Lane width mean =  3.85888624754\n",
      "Lane width min =  3.68672322987\n",
      "Lane width max =  3.98349326165\n",
      "Curve Ratio =  1.0\n"
     ]
    },
    {
     "name": "stderr",
     "output_type": "stream",
     "text": [
      "\r",
      "t:  39%|█████████████████████████▉                                        | 495/1260 [01:10<01:50,  6.95it/s, now=None]"
     ]
    },
    {
     "name": "stdout",
     "output_type": "stream",
     "text": [
      "Lane width mean =  3.8783655718\n",
      "Lane width min =  3.67761216609\n",
      "Lane width max =  3.98712125623\n",
      "Curve Ratio =  1.0\n"
     ]
    },
    {
     "name": "stderr",
     "output_type": "stream",
     "text": [
      "t:  39%|██████████████████████████                                        | 497/1260 [01:11<01:49,  6.95it/s, now=None]"
     ]
    },
    {
     "name": "stdout",
     "output_type": "stream",
     "text": [
      "Lane width mean =  3.8536370348\n",
      "Lane width min =  3.66380951644\n",
      "Lane width max =  3.94939496781\n",
      "Curve Ratio =  1.0\n"
     ]
    },
    {
     "name": "stderr",
     "output_type": "stream",
     "text": [
      "t:  40%|██████████████████████████▏                                       | 499/1260 [01:11<01:51,  6.80it/s, now=None]"
     ]
    },
    {
     "name": "stdout",
     "output_type": "stream",
     "text": [
      "Lane width mean =  3.86081647341\n",
      "Lane width min =  3.71891419874\n",
      "Lane width max =  4.00591675538\n",
      "Curve Ratio =  1.0\n"
     ]
    },
    {
     "name": "stderr",
     "output_type": "stream",
     "text": [
      "\r",
      "t:  40%|██████████████████████████▏                                       | 500/1260 [01:11<01:52,  6.77it/s, now=None]"
     ]
    },
    {
     "name": "stdout",
     "output_type": "stream",
     "text": [
      "Lane width mean =  3.91547059567\n",
      "Lane width min =  3.70565596434\n",
      "Lane width max =  4.04837284526\n",
      "Curve Ratio =  1.0\n"
     ]
    },
    {
     "name": "stderr",
     "output_type": "stream",
     "text": [
      "\r",
      "t:  40%|██████████████████████████▏                                       | 501/1260 [01:11<01:55,  6.55it/s, now=None]"
     ]
    },
    {
     "name": "stdout",
     "output_type": "stream",
     "text": [
      "Lane width mean =  3.96188303243\n",
      "Lane width min =  3.71067943037\n",
      "Lane width max =  4.09647661802\n",
      "Curve Ratio =  1.0\n"
     ]
    },
    {
     "name": "stderr",
     "output_type": "stream",
     "text": [
      "\r",
      "t:  40%|██████████████████████████▎                                       | 502/1260 [01:11<01:56,  6.53it/s, now=None]"
     ]
    },
    {
     "name": "stdout",
     "output_type": "stream",
     "text": [
      "Lane width mean =  4.0135170588\n",
      "Lane width min =  3.74084396729\n",
      "Lane width max =  4.15105375368\n",
      "Curve Ratio =  1.0\n"
     ]
    },
    {
     "name": "stderr",
     "output_type": "stream",
     "text": [
      "\r",
      "t:  40%|██████████████████████████▎                                       | 503/1260 [01:11<01:57,  6.42it/s, now=None]"
     ]
    },
    {
     "name": "stdout",
     "output_type": "stream",
     "text": [
      "Lane width mean =  3.96856958043\n",
      "Lane width min =  3.74029520469\n",
      "Lane width max =  4.13288906047\n",
      "Curve Ratio =  1.0\n"
     ]
    },
    {
     "name": "stderr",
     "output_type": "stream",
     "text": [
      "\r",
      "t:  40%|██████████████████████████▍                                       | 504/1260 [01:12<01:57,  6.45it/s, now=None]"
     ]
    },
    {
     "name": "stdout",
     "output_type": "stream",
     "text": [
      "Lane width mean =  3.97102058155\n",
      "Lane width min =  3.72575935582\n",
      "Lane width max =  4.10018237675\n",
      "Curve Ratio =  1.0\n"
     ]
    },
    {
     "name": "stderr",
     "output_type": "stream",
     "text": [
      "\r",
      "t:  40%|██████████████████████████▍                                       | 505/1260 [01:12<01:59,  6.33it/s, now=None]"
     ]
    },
    {
     "name": "stdout",
     "output_type": "stream",
     "text": [
      "Lane width mean =  3.97402273919\n",
      "Lane width min =  3.73685507176\n",
      "Lane width max =  4.12661566118\n",
      "Curve Ratio =  1.0\n"
     ]
    },
    {
     "name": "stderr",
     "output_type": "stream",
     "text": [
      "\r",
      "t:  40%|██████████████████████████▌                                       | 506/1260 [01:12<02:00,  6.28it/s, now=None]"
     ]
    },
    {
     "name": "stdout",
     "output_type": "stream",
     "text": [
      "Lane width mean =  3.97208562113\n",
      "Lane width min =  3.738563475\n",
      "Lane width max =  4.15595022721\n",
      "Curve Ratio =  1.0\n"
     ]
    },
    {
     "name": "stderr",
     "output_type": "stream",
     "text": [
      "\r",
      "t:  40%|██████████████████████████▌                                       | 507/1260 [01:12<01:58,  6.35it/s, now=None]"
     ]
    },
    {
     "name": "stdout",
     "output_type": "stream",
     "text": [
      "Lane width mean =  3.99950772961\n",
      "Lane width min =  3.73589898355\n",
      "Lane width max =  4.166029553\n",
      "Curve Ratio =  1.0\n"
     ]
    },
    {
     "name": "stderr",
     "output_type": "stream",
     "text": [
      "\r",
      "t:  40%|██████████████████████████▌                                       | 508/1260 [01:12<01:57,  6.38it/s, now=None]"
     ]
    },
    {
     "name": "stdout",
     "output_type": "stream",
     "text": [
      "Lane width mean =  3.96861546648\n",
      "Lane width min =  3.68240272361\n",
      "Lane width max =  4.09805063525\n",
      "Curve Ratio =  1.0\n"
     ]
    },
    {
     "name": "stderr",
     "output_type": "stream",
     "text": [
      "\r",
      "t:  40%|██████████████████████████▋                                       | 509/1260 [01:12<01:57,  6.38it/s, now=None]"
     ]
    },
    {
     "name": "stdout",
     "output_type": "stream",
     "text": [
      "Lane width mean =  3.98764418739\n",
      "Lane width min =  3.66036512624\n",
      "Lane width max =  4.14494576301\n",
      "Curve Ratio =  1.0\n"
     ]
    },
    {
     "name": "stderr",
     "output_type": "stream",
     "text": [
      "\r",
      "t:  40%|██████████████████████████▋                                       | 510/1260 [01:13<01:56,  6.45it/s, now=None]"
     ]
    },
    {
     "name": "stdout",
     "output_type": "stream",
     "text": [
      "Lane width mean =  3.96322253211\n",
      "Lane width min =  3.61818102731\n",
      "Lane width max =  4.09587991604\n",
      "Curve Ratio =  3.25067354519\n"
     ]
    },
    {
     "name": "stderr",
     "output_type": "stream",
     "text": [
      "\r",
      "t:  41%|██████████████████████████▊                                       | 511/1260 [01:13<01:56,  6.45it/s, now=None]"
     ]
    },
    {
     "name": "stdout",
     "output_type": "stream",
     "text": [
      "Lane width mean =  3.95161471165\n",
      "Lane width min =  3.62700604255\n",
      "Lane width max =  4.06692326167\n",
      "Curve Ratio =  2.61013957261\n"
     ]
    },
    {
     "name": "stderr",
     "output_type": "stream",
     "text": [
      "\r",
      "t:  41%|██████████████████████████▊                                       | 512/1260 [01:13<01:56,  6.41it/s, now=None]"
     ]
    },
    {
     "name": "stdout",
     "output_type": "stream",
     "text": [
      "Lane width mean =  3.93332932313\n",
      "Lane width min =  3.6707242512\n",
      "Lane width max =  4.04243626985\n",
      "Curve Ratio =  1.0\n"
     ]
    },
    {
     "name": "stderr",
     "output_type": "stream",
     "text": [
      "\r",
      "t:  41%|██████████████████████████▊                                       | 513/1260 [01:13<01:56,  6.43it/s, now=None]"
     ]
    },
    {
     "name": "stdout",
     "output_type": "stream",
     "text": [
      "Lane width mean =  3.85690478802\n",
      "Lane width min =  3.6940250984\n",
      "Lane width max =  3.95813821083\n",
      "Curve Ratio =  1.0\n"
     ]
    },
    {
     "name": "stderr",
     "output_type": "stream",
     "text": [
      "\r",
      "t:  41%|██████████████████████████▉                                       | 514/1260 [01:13<01:57,  6.36it/s, now=None]"
     ]
    },
    {
     "name": "stdout",
     "output_type": "stream",
     "text": [
      "Lane width mean =  3.89875116789\n",
      "Lane width min =  3.71914735317\n",
      "Lane width max =  4.06252360849\n",
      "Curve Ratio =  1.0\n"
     ]
    },
    {
     "name": "stderr",
     "output_type": "stream",
     "text": [
      "\r",
      "t:  41%|██████████████████████████▉                                       | 515/1260 [01:13<02:00,  6.20it/s, now=None]"
     ]
    },
    {
     "name": "stdout",
     "output_type": "stream",
     "text": [
      "Lane width mean =  3.86952799085\n",
      "Lane width min =  3.70585994398\n",
      "Lane width max =  3.99443749535\n",
      "Curve Ratio =  1.0\n"
     ]
    },
    {
     "name": "stderr",
     "output_type": "stream",
     "text": [
      "\r",
      "t:  41%|███████████████████████████                                       | 516/1260 [01:14<01:57,  6.35it/s, now=None]"
     ]
    },
    {
     "name": "stdout",
     "output_type": "stream",
     "text": [
      "Lane width mean =  3.92570197347\n",
      "Lane width min =  3.71441947839\n",
      "Lane width max =  4.12034438882\n",
      "Curve Ratio =  1.0\n"
     ]
    },
    {
     "name": "stderr",
     "output_type": "stream",
     "text": [
      "\r",
      "t:  41%|███████████████████████████                                       | 517/1260 [01:14<01:56,  6.37it/s, now=None]"
     ]
    },
    {
     "name": "stdout",
     "output_type": "stream",
     "text": [
      "Lane width mean =  3.95830340374\n",
      "Lane width min =  3.70670285639\n",
      "Lane width max =  4.14612151039\n",
      "Curve Ratio =  1.0\n"
     ]
    },
    {
     "name": "stderr",
     "output_type": "stream",
     "text": [
      "\r",
      "t:  41%|███████████████████████████▏                                      | 518/1260 [01:14<01:58,  6.28it/s, now=None]"
     ]
    },
    {
     "name": "stdout",
     "output_type": "stream",
     "text": [
      "Lane width mean =  3.94017136422\n",
      "Lane width min =  3.68014887142\n",
      "Lane width max =  4.07970690365\n",
      "Curve Ratio =  1.0\n"
     ]
    },
    {
     "name": "stderr",
     "output_type": "stream",
     "text": [
      "\r",
      "t:  41%|███████████████████████████▏                                      | 519/1260 [01:14<02:02,  6.06it/s, now=None]"
     ]
    },
    {
     "name": "stdout",
     "output_type": "stream",
     "text": [
      "Lane width mean =  3.99127078991\n",
      "Lane width min =  3.70011558702\n",
      "Lane width max =  4.18418574035\n",
      "Curve Ratio =  1.0\n"
     ]
    },
    {
     "name": "stderr",
     "output_type": "stream",
     "text": [
      "\r",
      "t:  41%|███████████████████████████▏                                      | 520/1260 [01:14<02:00,  6.14it/s, now=None]"
     ]
    },
    {
     "name": "stdout",
     "output_type": "stream",
     "text": [
      "Lane width mean =  3.93219604854\n",
      "Lane width min =  3.72835298288\n",
      "Lane width max =  4.09967832187\n",
      "Curve Ratio =  1.0\n"
     ]
    },
    {
     "name": "stderr",
     "output_type": "stream",
     "text": [
      "\r",
      "t:  41%|███████████████████████████▎                                      | 521/1260 [01:14<02:01,  6.09it/s, now=None]"
     ]
    },
    {
     "name": "stdout",
     "output_type": "stream",
     "text": [
      "Lane width mean =  3.93185711215\n",
      "Lane width min =  3.72915890937\n",
      "Lane width max =  4.13146513708\n",
      "Curve Ratio =  1.0\n"
     ]
    },
    {
     "name": "stderr",
     "output_type": "stream",
     "text": [
      "\r",
      "t:  41%|███████████████████████████▎                                      | 522/1260 [01:14<01:59,  6.18it/s, now=None]"
     ]
    },
    {
     "name": "stdout",
     "output_type": "stream",
     "text": [
      "Lane width mean =  3.93664932047\n",
      "Lane width min =  3.74814391698\n",
      "Lane width max =  4.15194851751\n",
      "Curve Ratio =  1.0\n"
     ]
    },
    {
     "name": "stderr",
     "output_type": "stream",
     "text": [
      "\r",
      "t:  42%|███████████████████████████▍                                      | 523/1260 [01:15<02:01,  6.05it/s, now=None]"
     ]
    },
    {
     "name": "stdout",
     "output_type": "stream",
     "text": [
      "Lane width mean =  3.91561570039\n",
      "Lane width min =  3.723807993\n",
      "Lane width max =  4.10759737431\n",
      "Curve Ratio =  1.0\n"
     ]
    },
    {
     "name": "stderr",
     "output_type": "stream",
     "text": [
      "\r",
      "t:  42%|███████████████████████████▍                                      | 524/1260 [01:15<02:02,  6.00it/s, now=None]"
     ]
    },
    {
     "name": "stdout",
     "output_type": "stream",
     "text": [
      "Lane width mean =  3.86536566486\n",
      "Lane width min =  3.67507328961\n",
      "Lane width max =  3.95605156078\n",
      "Curve Ratio =  1.0\n"
     ]
    },
    {
     "name": "stderr",
     "output_type": "stream",
     "text": [
      "t:  42%|███████████████████████████▌                                      | 526/1260 [01:15<01:54,  6.39it/s, now=None]"
     ]
    },
    {
     "name": "stdout",
     "output_type": "stream",
     "text": [
      "Lane width mean =  3.90915841385\n",
      "Lane width min =  3.70631774602\n",
      "Lane width max =  4.05587323946\n",
      "Curve Ratio =  1.0\n"
     ]
    },
    {
     "name": "stderr",
     "output_type": "stream",
     "text": [
      "\r",
      "t:  42%|███████████████████████████▌                                      | 527/1260 [01:15<01:53,  6.47it/s, now=None]"
     ]
    },
    {
     "name": "stdout",
     "output_type": "stream",
     "text": [
      "Lane width mean =  3.93944028208\n",
      "Lane width min =  3.71041256523\n",
      "Lane width max =  4.08147885182\n",
      "Curve Ratio =  1.0\n"
     ]
    },
    {
     "name": "stderr",
     "output_type": "stream",
     "text": [
      "\r",
      "t:  42%|███████████████████████████▋                                      | 528/1260 [01:15<01:52,  6.48it/s, now=None]"
     ]
    },
    {
     "name": "stdout",
     "output_type": "stream",
     "text": [
      "Lane width mean =  3.98927608926\n",
      "Lane width min =  3.70154103067\n",
      "Lane width max =  4.09838027127\n",
      "Curve Ratio =  1.0\n"
     ]
    },
    {
     "name": "stderr",
     "output_type": "stream",
     "text": [
      "\r",
      "t:  42%|███████████████████████████▋                                      | 529/1260 [01:16<01:52,  6.49it/s, now=None]"
     ]
    },
    {
     "name": "stdout",
     "output_type": "stream",
     "text": [
      "Lane width mean =  3.96572943557\n",
      "Lane width min =  3.70947742973\n",
      "Lane width max =  4.0904060798\n",
      "Curve Ratio =  1.0\n"
     ]
    },
    {
     "name": "stderr",
     "output_type": "stream",
     "text": [
      "\r",
      "t:  42%|███████████████████████████▊                                      | 530/1260 [01:16<01:51,  6.57it/s, now=None]"
     ]
    },
    {
     "name": "stdout",
     "output_type": "stream",
     "text": [
      "Lane width mean =  3.87861421607\n",
      "Lane width min =  3.71842470627\n",
      "Lane width max =  4.05094144829\n",
      "Curve Ratio =  1.0\n"
     ]
    },
    {
     "name": "stderr",
     "output_type": "stream",
     "text": [
      "t:  43%|████████████████████████████                                      | 536/1260 [01:17<01:40,  7.22it/s, now=None]"
     ]
    },
    {
     "name": "stdout",
     "output_type": "stream",
     "text": [
      "Lane width mean =  3.90437509741\n",
      "Lane width min =  3.73074834326\n",
      "Lane width max =  4.25479041339\n",
      "Curve Ratio =  1.0\n"
     ]
    },
    {
     "name": "stderr",
     "output_type": "stream",
     "text": [
      "\r",
      "t:  43%|████████████████████████████▏                                     | 537/1260 [01:17<01:40,  7.20it/s, now=None]"
     ]
    },
    {
     "name": "stdout",
     "output_type": "stream",
     "text": [
      "Lane width mean =  3.92477865359\n",
      "Lane width min =  3.71956314322\n",
      "Lane width max =  4.36874590274\n",
      "Curve Ratio =  0.424223030926\n"
     ]
    },
    {
     "name": "stderr",
     "output_type": "stream",
     "text": [
      "\r",
      "t:  43%|████████████████████████████▏                                     | 538/1260 [01:17<01:40,  7.19it/s, now=None]"
     ]
    },
    {
     "name": "stdout",
     "output_type": "stream",
     "text": [
      "Lane width mean =  3.98590537878\n",
      "Lane width min =  3.71779464083\n",
      "Lane width max =  4.44688516261\n",
      "Curve Ratio =  0.0646085289566\n"
     ]
    },
    {
     "name": "stderr",
     "output_type": "stream",
     "text": [
      "\r",
      "t:  43%|████████████████████████████▏                                     | 539/1260 [01:17<01:40,  7.20it/s, now=None]"
     ]
    },
    {
     "name": "stdout",
     "output_type": "stream",
     "text": [
      "Lane width mean =  3.98068585863\n",
      "Lane width min =  3.70617438312\n",
      "Lane width max =  4.4981698079\n",
      "Curve Ratio =  0.171650484058\n"
     ]
    },
    {
     "name": "stderr",
     "output_type": "stream",
     "text": [
      "\r",
      "t:  43%|████████████████████████████▎                                     | 540/1260 [01:17<01:42,  7.05it/s, now=None]"
     ]
    },
    {
     "name": "stdout",
     "output_type": "stream",
     "text": [
      "Lane width mean =  3.96819586999\n",
      "Lane width min =  3.69234004499\n",
      "Lane width max =  4.39071128279\n",
      "Curve Ratio =  0.107777343567\n"
     ]
    },
    {
     "name": "stderr",
     "output_type": "stream",
     "text": [
      "\r",
      "t:  43%|████████████████████████████▎                                     | 541/1260 [01:17<01:42,  7.02it/s, now=None]"
     ]
    },
    {
     "name": "stdout",
     "output_type": "stream",
     "text": [
      "Lane width mean =  3.90415232332\n",
      "Lane width min =  3.67528479944\n",
      "Lane width max =  4.20307526589\n",
      "Curve Ratio =  1.0\n"
     ]
    },
    {
     "name": "stderr",
     "output_type": "stream",
     "text": [
      "\r",
      "t:  43%|████████████████████████████▍                                     | 542/1260 [01:17<01:42,  7.02it/s, now=None]"
     ]
    },
    {
     "name": "stdout",
     "output_type": "stream",
     "text": [
      "Lane width mean =  3.93882805716\n",
      "Lane width min =  3.69002452707\n",
      "Lane width max =  4.42184772121\n",
      "Curve Ratio =  0.0251541060593\n"
     ]
    },
    {
     "name": "stderr",
     "output_type": "stream",
     "text": [
      "\r",
      "t:  43%|████████████████████████████▍                                     | 543/1260 [01:18<01:46,  6.76it/s, now=None]"
     ]
    },
    {
     "name": "stdout",
     "output_type": "stream",
     "text": [
      "Lane width mean =  3.9430604717\n",
      "Lane width min =  3.68469299811\n",
      "Lane width max =  4.39734540383\n",
      "Curve Ratio =  0.0382968937587\n"
     ]
    },
    {
     "name": "stderr",
     "output_type": "stream",
     "text": [
      "\r",
      "t:  43%|████████████████████████████▍                                     | 544/1260 [01:18<01:44,  6.86it/s, now=None]"
     ]
    },
    {
     "name": "stdout",
     "output_type": "stream",
     "text": [
      "Lane width mean =  3.90464237746\n",
      "Lane width min =  3.67505289759\n",
      "Lane width max =  4.35397970872\n",
      "Curve Ratio =  0.249925503123\n"
     ]
    },
    {
     "name": "stderr",
     "output_type": "stream",
     "text": [
      "\r",
      "t:  43%|████████████████████████████▌                                     | 545/1260 [01:18<01:46,  6.72it/s, now=None]"
     ]
    },
    {
     "name": "stdout",
     "output_type": "stream",
     "text": [
      "Lane width mean =  3.9073756971\n",
      "Lane width min =  3.66444462441\n",
      "Lane width max =  4.27110918116\n",
      "Curve Ratio =  1.0\n"
     ]
    },
    {
     "name": "stderr",
     "output_type": "stream",
     "text": [
      "\r",
      "t:  43%|████████████████████████████▌                                     | 546/1260 [01:18<01:46,  6.68it/s, now=None]"
     ]
    },
    {
     "name": "stdout",
     "output_type": "stream",
     "text": [
      "Lane width mean =  3.94891560375\n",
      "Lane width min =  3.67520980817\n",
      "Lane width max =  4.4309592004\n",
      "Curve Ratio =  0.153808672651\n"
     ]
    },
    {
     "name": "stderr",
     "output_type": "stream",
     "text": [
      "\r",
      "t:  43%|████████████████████████████▋                                     | 547/1260 [01:18<01:44,  6.80it/s, now=None]"
     ]
    },
    {
     "name": "stdout",
     "output_type": "stream",
     "text": [
      "Lane width mean =  4.02954231832\n",
      "Lane width min =  3.67255634493\n",
      "Lane width max =  4.67002170048\n",
      "Curve Ratio =  0.00858658107067\n"
     ]
    },
    {
     "name": "stderr",
     "output_type": "stream",
     "text": [
      "\r",
      "t:  43%|████████████████████████████▋                                     | 548/1260 [01:18<01:39,  7.12it/s, now=None]"
     ]
    },
    {
     "name": "stdout",
     "output_type": "stream",
     "text": [
      "Lane width mean =  4.01913045892\n",
      "Lane width min =  3.66355151269\n",
      "Lane width max =  4.58402421778\n",
      "Curve Ratio =  0.02229313795\n"
     ]
    },
    {
     "name": "stderr",
     "output_type": "stream",
     "text": [
      "\r",
      "t:  44%|████████████████████████████▊                                     | 549/1260 [01:18<01:43,  6.88it/s, now=None]"
     ]
    },
    {
     "name": "stdout",
     "output_type": "stream",
     "text": [
      "Lane width mean =  4.06630499638\n",
      "Lane width min =  3.68354379914\n",
      "Lane width max =  4.72984234377\n",
      "Curve Ratio =  0.00361450364676\n"
     ]
    },
    {
     "name": "stderr",
     "output_type": "stream",
     "text": [
      "\r",
      "t:  44%|████████████████████████████▊                                     | 550/1260 [01:19<01:39,  7.14it/s, now=None]"
     ]
    },
    {
     "name": "stdout",
     "output_type": "stream",
     "text": [
      "Lane width mean =  4.11677698211\n",
      "Lane width min =  3.6818818732\n",
      "Lane width max =  4.60876390698\n",
      "Curve Ratio =  1.0\n"
     ]
    },
    {
     "name": "stderr",
     "output_type": "stream",
     "text": [
      "\r",
      "t:  44%|████████████████████████████▊                                     | 551/1260 [01:19<01:39,  7.13it/s, now=None]"
     ]
    },
    {
     "name": "stdout",
     "output_type": "stream",
     "text": [
      "Lane width mean =  4.21449544688\n",
      "Lane width min =  3.78134251344\n",
      "Lane width max =  5.28337693221\n",
      "Curve Ratio =  0.671770590397\n"
     ]
    },
    {
     "name": "stderr",
     "output_type": "stream",
     "text": [
      "\r",
      "t:  44%|████████████████████████████▉                                     | 552/1260 [01:19<01:39,  7.13it/s, now=None]"
     ]
    },
    {
     "name": "stdout",
     "output_type": "stream",
     "text": [
      "Lane width mean =  4.25617142433\n",
      "Lane width min =  3.77339425022\n",
      "Lane width max =  5.31406600425\n",
      "Curve Ratio =  0.956054587534\n"
     ]
    },
    {
     "name": "stderr",
     "output_type": "stream",
     "text": [
      "\r",
      "t:  44%|████████████████████████████▉                                     | 553/1260 [01:19<01:43,  6.86it/s, now=None]"
     ]
    },
    {
     "name": "stdout",
     "output_type": "stream",
     "text": [
      "Lane width mean =  4.25006025315\n",
      "Lane width min =  3.75461547002\n",
      "Lane width max =  5.27463803325\n",
      "Curve Ratio =  0.992661490754\n"
     ]
    },
    {
     "name": "stderr",
     "output_type": "stream",
     "text": [
      "\r",
      "t:  44%|█████████████████████████████                                     | 554/1260 [01:19<01:45,  6.71it/s, now=None]"
     ]
    },
    {
     "name": "stdout",
     "output_type": "stream",
     "text": [
      "Lane width mean =  4.31668320465\n",
      "Lane width min =  3.73476258398\n",
      "Lane width max =  5.38558665308\n",
      "Curve Ratio =  0.800595203541\n"
     ]
    },
    {
     "name": "stderr",
     "output_type": "stream",
     "text": [
      "\r",
      "t:  44%|█████████████████████████████                                     | 555/1260 [01:19<01:46,  6.62it/s, now=None]"
     ]
    },
    {
     "name": "stdout",
     "output_type": "stream",
     "text": [
      "Lane width mean =  4.30808112022\n",
      "Lane width min =  3.6575186893\n",
      "Lane width max =  5.28263497457\n",
      "Curve Ratio =  0.020027424268\n"
     ]
    },
    {
     "name": "stderr",
     "output_type": "stream",
     "text": [
      "\r",
      "t:  44%|█████████████████████████████                                     | 556/1260 [01:19<01:44,  6.76it/s, now=None]"
     ]
    },
    {
     "name": "stdout",
     "output_type": "stream",
     "text": [
      "Lane width mean =  4.32652053984\n",
      "Lane width min =  3.64250112278\n",
      "Lane width max =  5.38620196741\n",
      "Curve Ratio =  0.190338653784\n"
     ]
    },
    {
     "name": "stderr",
     "output_type": "stream",
     "text": [
      "\r",
      "t:  44%|█████████████████████████████▏                                    | 557/1260 [01:20<01:46,  6.62it/s, now=None]"
     ]
    },
    {
     "name": "stdout",
     "output_type": "stream",
     "text": [
      "Lane width mean =  4.1855641606\n",
      "Lane width min =  3.6147965041\n",
      "Lane width max =  4.90346529097\n",
      "Curve Ratio =  0.278173597348\n"
     ]
    },
    {
     "name": "stderr",
     "output_type": "stream",
     "text": [
      "\r",
      "t:  44%|█████████████████████████████▏                                    | 558/1260 [01:20<01:46,  6.60it/s, now=None]"
     ]
    },
    {
     "name": "stdout",
     "output_type": "stream",
     "text": [
      "Lane width mean =  4.11960799\n",
      "Lane width min =  3.65671870045\n",
      "Lane width max =  4.54652670309\n",
      "Curve Ratio =  1.0\n"
     ]
    },
    {
     "name": "stderr",
     "output_type": "stream",
     "text": [
      "\r",
      "t:  44%|█████████████████████████████▎                                    | 559/1260 [01:20<01:49,  6.40it/s, now=None]"
     ]
    },
    {
     "name": "stdout",
     "output_type": "stream",
     "text": [
      "Lane width mean =  4.33353551311\n",
      "Lane width min =  3.7133790272\n",
      "Lane width max =  4.84075349166\n",
      "Curve Ratio =  1.0\n"
     ]
    },
    {
     "name": "stderr",
     "output_type": "stream",
     "text": [
      "\r",
      "t:  44%|█████████████████████████████▎                                    | 560/1260 [01:20<01:44,  6.68it/s, now=None]"
     ]
    },
    {
     "name": "stdout",
     "output_type": "stream",
     "text": [
      "Lane width mean =  4.77634890732\n",
      "Lane width min =  3.91226639804\n",
      "Lane width max =  5.80927322255\n",
      "Curve Ratio =  4.36525660616\n"
     ]
    },
    {
     "name": "stderr",
     "output_type": "stream",
     "text": [
      "\r",
      "t:  45%|█████████████████████████████▍                                    | 561/1260 [01:20<01:48,  6.42it/s, now=None]"
     ]
    },
    {
     "name": "stdout",
     "output_type": "stream",
     "text": [
      "Lane width mean =  4.95709014903\n",
      "Lane width min =  3.92223299975\n",
      "Lane width max =  6.2318965007\n",
      "Curve Ratio =  1.0\n"
     ]
    },
    {
     "name": "stderr",
     "output_type": "stream",
     "text": [
      "\r",
      "t:  45%|█████████████████████████████▍                                    | 562/1260 [01:20<01:49,  6.36it/s, now=None]"
     ]
    },
    {
     "name": "stdout",
     "output_type": "stream",
     "text": [
      "Lane width mean =  5.07161427553\n",
      "Lane width min =  3.99129082772\n",
      "Lane width max =  6.30608242066\n",
      "Curve Ratio =  1.0\n"
     ]
    },
    {
     "name": "stderr",
     "output_type": "stream",
     "text": [
      "\r",
      "t:  45%|█████████████████████████████▍                                    | 563/1260 [01:21<01:47,  6.47it/s, now=None]"
     ]
    },
    {
     "name": "stdout",
     "output_type": "stream",
     "text": [
      "Lane width mean =  4.7024753704\n",
      "Lane width min =  3.9733221542\n",
      "Lane width max =  5.526594187\n",
      "Curve Ratio =  1.0\n"
     ]
    },
    {
     "name": "stderr",
     "output_type": "stream",
     "text": [
      "\r",
      "t:  45%|█████████████████████████████▌                                    | 564/1260 [01:21<01:50,  6.30it/s, now=None]"
     ]
    },
    {
     "name": "stdout",
     "output_type": "stream",
     "text": [
      "Lane width mean =  4.37059355942\n",
      "Lane width min =  3.92525264596\n",
      "Lane width max =  4.96882317744\n",
      "Curve Ratio =  1.0\n"
     ]
    },
    {
     "name": "stderr",
     "output_type": "stream",
     "text": [
      "\r",
      "t:  45%|█████████████████████████████▌                                    | 565/1260 [01:21<01:49,  6.34it/s, now=None]"
     ]
    },
    {
     "name": "stdout",
     "output_type": "stream",
     "text": [
      "Lane width mean =  4.20284603714\n",
      "Lane width min =  3.82034937533\n",
      "Lane width max =  4.58174415932\n",
      "Curve Ratio =  1.02159122137\n"
     ]
    },
    {
     "name": "stderr",
     "output_type": "stream",
     "text": [
      "\r",
      "t:  45%|█████████████████████████████▋                                    | 566/1260 [01:21<01:49,  6.31it/s, now=None]"
     ]
    },
    {
     "name": "stdout",
     "output_type": "stream",
     "text": [
      "Lane width mean =  4.10620959301\n",
      "Lane width min =  3.80622574242\n",
      "Lane width max =  4.60823617788\n",
      "Curve Ratio =  0.381841872103\n"
     ]
    },
    {
     "name": "stderr",
     "output_type": "stream",
     "text": [
      "\r",
      "t:  45%|█████████████████████████████▋                                    | 567/1260 [01:21<01:49,  6.32it/s, now=None]"
     ]
    },
    {
     "name": "stdout",
     "output_type": "stream",
     "text": [
      "Lane width mean =  3.85413806411\n",
      "Lane width min =  3.71202181745\n",
      "Lane width max =  3.90985088518\n",
      "Curve Ratio =  2.24814711379\n"
     ]
    },
    {
     "name": "stderr",
     "output_type": "stream",
     "text": [
      "t:  45%|█████████████████████████████▊                                    | 569/1260 [01:21<01:46,  6.52it/s, now=None]"
     ]
    },
    {
     "name": "stdout",
     "output_type": "stream",
     "text": [
      "Lane width mean =  3.95701587085\n",
      "Lane width min =  3.73832885152\n",
      "Lane width max =  4.05671235816\n",
      "Curve Ratio =  4.41735924175\n"
     ]
    },
    {
     "name": "stderr",
     "output_type": "stream",
     "text": [
      "t:  45%|█████████████████████████████▉                                    | 571/1260 [01:22<01:41,  6.78it/s, now=None]"
     ]
    },
    {
     "name": "stdout",
     "output_type": "stream",
     "text": [
      "Lane width mean =  4.02119709469\n",
      "Lane width min =  3.74985767751\n",
      "Lane width max =  4.11503994157\n",
      "Curve Ratio =  2.4442451709\n"
     ]
    },
    {
     "name": "stderr",
     "output_type": "stream",
     "text": [
      "\r",
      "t:  45%|█████████████████████████████▉                                    | 572/1260 [01:22<01:41,  6.77it/s, now=None]"
     ]
    },
    {
     "name": "stdout",
     "output_type": "stream",
     "text": [
      "Lane width mean =  4.02065068307\n",
      "Lane width min =  3.76751056596\n",
      "Lane width max =  4.10526581659\n",
      "Curve Ratio =  5.24513473613\n"
     ]
    },
    {
     "name": "stderr",
     "output_type": "stream",
     "text": [
      "\r",
      "t:  45%|██████████████████████████████                                    | 573/1260 [01:22<01:42,  6.70it/s, now=None]"
     ]
    },
    {
     "name": "stdout",
     "output_type": "stream",
     "text": [
      "Lane width mean =  4.13486444842\n",
      "Lane width min =  3.78994455807\n",
      "Lane width max =  4.31874669719\n",
      "Curve Ratio =  3.25245012051\n"
     ]
    },
    {
     "name": "stderr",
     "output_type": "stream",
     "text": [
      "\r",
      "t:  46%|██████████████████████████████                                    | 574/1260 [01:22<01:41,  6.78it/s, now=None]"
     ]
    },
    {
     "name": "stdout",
     "output_type": "stream",
     "text": [
      "Lane width mean =  4.10481216551\n",
      "Lane width min =  3.79061477429\n",
      "Lane width max =  4.25249917364\n",
      "Curve Ratio =  3.12321661608\n"
     ]
    },
    {
     "name": "stderr",
     "output_type": "stream",
     "text": [
      "\r",
      "t:  46%|██████████████████████████████                                    | 575/1260 [01:22<01:40,  6.81it/s, now=None]"
     ]
    },
    {
     "name": "stdout",
     "output_type": "stream",
     "text": [
      "Lane width mean =  4.30338245487\n",
      "Lane width min =  3.80980738375\n",
      "Lane width max =  4.9793660092\n",
      "Curve Ratio =  0.519111210609\n"
     ]
    },
    {
     "name": "stderr",
     "output_type": "stream",
     "text": [
      "\r",
      "t:  46%|██████████████████████████████▏                                   | 576/1260 [01:23<01:39,  6.87it/s, now=None]"
     ]
    },
    {
     "name": "stdout",
     "output_type": "stream",
     "text": [
      "Lane width mean =  4.19361815234\n",
      "Lane width min =  3.82814857068\n",
      "Lane width max =  4.71433599243\n",
      "Curve Ratio =  0.373537489723\n"
     ]
    },
    {
     "name": "stderr",
     "output_type": "stream",
     "text": [
      "\r",
      "t:  46%|██████████████████████████████▏                                   | 577/1260 [01:23<01:39,  6.90it/s, now=None]"
     ]
    },
    {
     "name": "stdout",
     "output_type": "stream",
     "text": [
      "Lane width mean =  3.93174200683\n",
      "Lane width min =  3.81413977801\n",
      "Lane width max =  3.97155524291\n",
      "Curve Ratio =  1.0\n"
     ]
    },
    {
     "name": "stderr",
     "output_type": "stream",
     "text": [
      "\r",
      "t:  46%|██████████████████████████████▎                                   | 578/1260 [01:23<01:39,  6.84it/s, now=None]"
     ]
    },
    {
     "name": "stdout",
     "output_type": "stream",
     "text": [
      "Lane width mean =  3.52003495883\n",
      "Lane width min =  2.64308158721\n",
      "Lane width max =  3.85647046583\n",
      "Curve Ratio =  0.0717126827014\n"
     ]
    },
    {
     "name": "stderr",
     "output_type": "stream",
     "text": [
      "t:  46%|██████████████████████████████▍                                   | 580/1260 [01:23<01:37,  6.97it/s, now=None]"
     ]
    },
    {
     "name": "stdout",
     "output_type": "stream",
     "text": [
      "Lane width mean =  3.71271485581\n",
      "Lane width min =  3.45664119556\n",
      "Lane width max =  3.83858792461\n",
      "Curve Ratio =  0.487032302854\n"
     ]
    },
    {
     "name": "stderr",
     "output_type": "stream",
     "text": [
      "\r",
      "t:  46%|██████████████████████████████▍                                   | 581/1260 [01:23<01:39,  6.82it/s, now=None]"
     ]
    },
    {
     "name": "stdout",
     "output_type": "stream",
     "text": [
      "Lane width mean =  3.87254819984\n",
      "Lane width min =  3.8373695315\n",
      "Lane width max =  3.96875720505\n",
      "Curve Ratio =  1.0\n"
     ]
    },
    {
     "name": "stderr",
     "output_type": "stream",
     "text": [
      "\r",
      "t:  46%|██████████████████████████████▍                                   | 582/1260 [01:23<01:37,  6.99it/s, now=None]"
     ]
    },
    {
     "name": "stdout",
     "output_type": "stream",
     "text": [
      "Lane width mean =  3.93127931919\n",
      "Lane width min =  3.82125441338\n",
      "Lane width max =  4.15708159371\n",
      "Curve Ratio =  1.0\n"
     ]
    },
    {
     "name": "stderr",
     "output_type": "stream",
     "text": [
      "t:  47%|██████████████████████████████▋                                   | 586/1260 [01:24<01:30,  7.43it/s, now=None]"
     ]
    },
    {
     "name": "stdout",
     "output_type": "stream",
     "text": [
      "Lane width mean =  3.79624261445\n",
      "Lane width min =  3.74657891785\n",
      "Lane width max =  3.9447313043\n",
      "Curve Ratio =  7.32268806412\n"
     ]
    },
    {
     "name": "stderr",
     "output_type": "stream",
     "text": [
      "\r",
      "t:  47%|██████████████████████████████▋                                   | 587/1260 [01:24<01:32,  7.29it/s, now=None]"
     ]
    },
    {
     "name": "stdout",
     "output_type": "stream",
     "text": [
      "Lane width mean =  3.84651842993\n",
      "Lane width min =  3.78004894918\n",
      "Lane width max =  4.02277053287\n",
      "Curve Ratio =  4.73890242464\n"
     ]
    },
    {
     "name": "stderr",
     "output_type": "stream",
     "text": [
      "\r",
      "t:  47%|██████████████████████████████▊                                   | 588/1260 [01:24<01:35,  7.00it/s, now=None]"
     ]
    },
    {
     "name": "stdout",
     "output_type": "stream",
     "text": [
      "Lane width mean =  3.81888477723\n",
      "Lane width min =  3.7557970349\n",
      "Lane width max =  3.99923099703\n",
      "Curve Ratio =  7.65978541973\n"
     ]
    },
    {
     "name": "stderr",
     "output_type": "stream",
     "text": [
      "\r",
      "t:  47%|██████████████████████████████▊                                   | 589/1260 [01:24<01:35,  7.03it/s, now=None]"
     ]
    },
    {
     "name": "stdout",
     "output_type": "stream",
     "text": [
      "Lane width mean =  3.85674152976\n",
      "Lane width min =  3.74149219647\n",
      "Lane width max =  4.03359505348\n",
      "Curve Ratio =  1.0\n"
     ]
    },
    {
     "name": "stderr",
     "output_type": "stream",
     "text": [
      "\r",
      "t:  47%|██████████████████████████████▉                                   | 590/1260 [01:25<01:34,  7.06it/s, now=None]"
     ]
    },
    {
     "name": "stdout",
     "output_type": "stream",
     "text": [
      "Lane width mean =  3.97735695014\n",
      "Lane width min =  3.75848641565\n",
      "Lane width max =  4.16799819217\n",
      "Curve Ratio =  1.0\n"
     ]
    },
    {
     "name": "stderr",
     "output_type": "stream",
     "text": [
      "\r",
      "t:  47%|██████████████████████████████▉                                   | 591/1260 [01:25<01:38,  6.81it/s, now=None]"
     ]
    },
    {
     "name": "stdout",
     "output_type": "stream",
     "text": [
      "Lane width mean =  3.9421391862\n",
      "Lane width min =  3.77827595575\n",
      "Lane width max =  3.99748506548\n",
      "Curve Ratio =  0.286919772429\n"
     ]
    },
    {
     "name": "stderr",
     "output_type": "stream",
     "text": [
      "\r",
      "t:  47%|███████████████████████████████                                   | 592/1260 [01:25<01:36,  6.90it/s, now=None]"
     ]
    },
    {
     "name": "stdout",
     "output_type": "stream",
     "text": [
      "Lane width mean =  3.97536746458\n",
      "Lane width min =  3.78091692189\n",
      "Lane width max =  4.15268169755\n",
      "Curve Ratio =  1.0\n"
     ]
    },
    {
     "name": "stderr",
     "output_type": "stream",
     "text": [
      "\r",
      "t:  47%|███████████████████████████████                                   | 593/1260 [01:25<01:32,  7.20it/s, now=None]"
     ]
    },
    {
     "name": "stdout",
     "output_type": "stream",
     "text": [
      "Lane width mean =  3.98127967617\n",
      "Lane width min =  3.78255335577\n",
      "Lane width max =  4.15791367096\n",
      "Curve Ratio =  1.0\n"
     ]
    },
    {
     "name": "stderr",
     "output_type": "stream",
     "text": [
      "\r",
      "t:  47%|███████████████████████████████                                   | 594/1260 [01:25<01:36,  6.90it/s, now=None]"
     ]
    },
    {
     "name": "stdout",
     "output_type": "stream",
     "text": [
      "Lane width mean =  4.01411443683\n",
      "Lane width min =  3.77745452305\n",
      "Lane width max =  4.18105899729\n",
      "Curve Ratio =  1.0\n"
     ]
    },
    {
     "name": "stderr",
     "output_type": "stream",
     "text": [
      "\r",
      "t:  47%|███████████████████████████████▏                                  | 595/1260 [01:25<01:35,  6.98it/s, now=None]"
     ]
    },
    {
     "name": "stdout",
     "output_type": "stream",
     "text": [
      "Lane width mean =  3.9943423777\n",
      "Lane width min =  3.78928970598\n",
      "Lane width max =  4.24024185484\n",
      "Curve Ratio =  1.0\n"
     ]
    },
    {
     "name": "stderr",
     "output_type": "stream",
     "text": [
      "\r",
      "t:  47%|███████████████████████████████▏                                  | 596/1260 [01:25<01:34,  7.02it/s, now=None]"
     ]
    },
    {
     "name": "stdout",
     "output_type": "stream",
     "text": [
      "Lane width mean =  4.04187163204\n",
      "Lane width min =  3.79403011278\n",
      "Lane width max =  4.22304896719\n",
      "Curve Ratio =  1.0\n"
     ]
    },
    {
     "name": "stderr",
     "output_type": "stream",
     "text": [
      "\r",
      "t:  47%|███████████████████████████████▎                                  | 597/1260 [01:26<01:34,  7.05it/s, now=None]"
     ]
    },
    {
     "name": "stdout",
     "output_type": "stream",
     "text": [
      "Lane width mean =  4.08558124754\n",
      "Lane width min =  3.78863510524\n",
      "Lane width max =  4.20545464895\n",
      "Curve Ratio =  0.154944911429\n"
     ]
    },
    {
     "name": "stderr",
     "output_type": "stream",
     "text": [
      "\r",
      "t:  47%|███████████████████████████████▎                                  | 598/1260 [01:26<01:34,  7.01it/s, now=None]"
     ]
    },
    {
     "name": "stdout",
     "output_type": "stream",
     "text": [
      "Lane width mean =  4.09198702522\n",
      "Lane width min =  3.82630388729\n",
      "Lane width max =  4.23955163772\n",
      "Curve Ratio =  1.0\n"
     ]
    },
    {
     "name": "stderr",
     "output_type": "stream",
     "text": [
      "\r",
      "t:  48%|███████████████████████████████▍                                  | 599/1260 [01:26<01:33,  7.04it/s, now=None]"
     ]
    },
    {
     "name": "stdout",
     "output_type": "stream",
     "text": [
      "Lane width mean =  4.11224822794\n",
      "Lane width min =  3.83700426658\n",
      "Lane width max =  4.27668275447\n",
      "Curve Ratio =  1.0\n"
     ]
    },
    {
     "name": "stderr",
     "output_type": "stream",
     "text": [
      "\r",
      "t:  48%|███████████████████████████████▍                                  | 600/1260 [01:26<01:33,  7.06it/s, now=None]"
     ]
    },
    {
     "name": "stdout",
     "output_type": "stream",
     "text": [
      "Lane width mean =  4.13824575012\n",
      "Lane width min =  3.84590294485\n",
      "Lane width max =  4.32027155377\n",
      "Curve Ratio =  0.421279193925\n"
     ]
    },
    {
     "name": "stderr",
     "output_type": "stream",
     "text": [
      "\r",
      "t:  48%|███████████████████████████████▍                                  | 601/1260 [01:26<01:36,  6.84it/s, now=None]"
     ]
    },
    {
     "name": "stdout",
     "output_type": "stream",
     "text": [
      "Lane width mean =  4.426162488\n",
      "Lane width min =  3.93445666058\n",
      "Lane width max =  4.9390081056\n",
      "Curve Ratio =  1.07706683959\n"
     ]
    },
    {
     "name": "stderr",
     "output_type": "stream",
     "text": [
      "\r",
      "t:  48%|███████████████████████████████▌                                  | 602/1260 [01:26<01:37,  6.75it/s, now=None]"
     ]
    },
    {
     "name": "stdout",
     "output_type": "stream",
     "text": [
      "Lane width mean =  4.49226323359\n",
      "Lane width min =  3.97184543882\n",
      "Lane width max =  5.04103070698\n",
      "Curve Ratio =  1.0947419443\n"
     ]
    },
    {
     "name": "stderr",
     "output_type": "stream",
     "text": [
      "\r",
      "t:  48%|███████████████████████████████▌                                  | 603/1260 [01:26<01:38,  6.64it/s, now=None]"
     ]
    },
    {
     "name": "stdout",
     "output_type": "stream",
     "text": [
      "Lane width mean =  4.48908269293\n",
      "Lane width min =  3.99378235384\n",
      "Lane width max =  5.06355402553\n",
      "Curve Ratio =  1.25191427251\n"
     ]
    },
    {
     "name": "stderr",
     "output_type": "stream",
     "text": [
      "\r",
      "t:  48%|███████████████████████████████▋                                  | 604/1260 [01:27<01:39,  6.59it/s, now=None]"
     ]
    },
    {
     "name": "stdout",
     "output_type": "stream",
     "text": [
      "Lane width mean =  4.43748347392\n",
      "Lane width min =  3.97316552383\n",
      "Lane width max =  4.96550707991\n",
      "Curve Ratio =  1.18519310809\n"
     ]
    },
    {
     "name": "stderr",
     "output_type": "stream",
     "text": [
      "\r",
      "t:  48%|███████████████████████████████▋                                  | 605/1260 [01:27<01:40,  6.50it/s, now=None]"
     ]
    },
    {
     "name": "stdout",
     "output_type": "stream",
     "text": [
      "Lane width mean =  4.29741216578\n",
      "Lane width min =  3.9489057798\n",
      "Lane width max =  4.72002161403\n",
      "Curve Ratio =  1.23554199129\n"
     ]
    },
    {
     "name": "stderr",
     "output_type": "stream",
     "text": [
      "\r",
      "t:  48%|███████████████████████████████▋                                  | 606/1260 [01:27<01:40,  6.49it/s, now=None]"
     ]
    },
    {
     "name": "stdout",
     "output_type": "stream",
     "text": [
      "Lane width mean =  4.13022719011\n",
      "Lane width min =  3.93137782406\n",
      "Lane width max =  4.33180002447\n",
      "Curve Ratio =  1.00726129689\n"
     ]
    },
    {
     "name": "stderr",
     "output_type": "stream",
     "text": [
      "\r",
      "t:  48%|███████████████████████████████▊                                  | 607/1260 [01:27<01:41,  6.45it/s, now=None]"
     ]
    },
    {
     "name": "stdout",
     "output_type": "stream",
     "text": [
      "Lane width mean =  4.02554870145\n",
      "Lane width min =  3.901735166\n",
      "Lane width max =  4.1153697476\n",
      "Curve Ratio =  0.93287770435\n"
     ]
    },
    {
     "name": "stderr",
     "output_type": "stream",
     "text": [
      "\r",
      "t:  48%|███████████████████████████████▊                                  | 608/1260 [01:27<01:39,  6.54it/s, now=None]"
     ]
    },
    {
     "name": "stdout",
     "output_type": "stream",
     "text": [
      "Lane width mean =  4.09630219196\n",
      "Lane width min =  3.92612739399\n",
      "Lane width max =  4.21703697353\n",
      "Curve Ratio =  0.899950131813\n"
     ]
    },
    {
     "name": "stderr",
     "output_type": "stream",
     "text": [
      "\r",
      "t:  48%|███████████████████████████████▉                                  | 609/1260 [01:27<01:41,  6.42it/s, now=None]"
     ]
    },
    {
     "name": "stdout",
     "output_type": "stream",
     "text": [
      "Lane width mean =  4.14730850925\n",
      "Lane width min =  3.98297817962\n",
      "Lane width max =  4.24986353852\n",
      "Curve Ratio =  0.8908479202\n"
     ]
    },
    {
     "name": "stderr",
     "output_type": "stream",
     "text": [
      "\r",
      "t:  48%|███████████████████████████████▉                                  | 610/1260 [01:27<01:41,  6.41it/s, now=None]"
     ]
    },
    {
     "name": "stdout",
     "output_type": "stream",
     "text": [
      "Lane width mean =  4.14512489638\n",
      "Lane width min =  3.91645343639\n",
      "Lane width max =  4.25587998083\n",
      "Curve Ratio =  0.777257028345\n"
     ]
    },
    {
     "name": "stderr",
     "output_type": "stream",
     "text": [
      "\r",
      "t:  48%|████████████████████████████████                                  | 611/1260 [01:28<01:42,  6.34it/s, now=None]"
     ]
    },
    {
     "name": "stdout",
     "output_type": "stream",
     "text": [
      "Lane width mean =  4.16061000884\n",
      "Lane width min =  3.9017999207\n",
      "Lane width max =  4.30803504345\n",
      "Curve Ratio =  0.776750903185\n"
     ]
    },
    {
     "name": "stderr",
     "output_type": "stream",
     "text": [
      "\r",
      "t:  49%|████████████████████████████████                                  | 612/1260 [01:28<01:42,  6.32it/s, now=None]"
     ]
    },
    {
     "name": "stdout",
     "output_type": "stream",
     "text": [
      "Lane width mean =  4.06247436326\n",
      "Lane width min =  3.88507525002\n",
      "Lane width max =  4.13525078538\n",
      "Curve Ratio =  0.789563574267\n"
     ]
    },
    {
     "name": "stderr",
     "output_type": "stream",
     "text": [
      "\r",
      "t:  49%|████████████████████████████████                                  | 613/1260 [01:28<01:43,  6.24it/s, now=None]"
     ]
    },
    {
     "name": "stdout",
     "output_type": "stream",
     "text": [
      "Lane width mean =  4.03981726984\n",
      "Lane width min =  3.88270643246\n",
      "Lane width max =  4.09248999101\n",
      "Curve Ratio =  0.71915616362\n"
     ]
    },
    {
     "name": "stderr",
     "output_type": "stream",
     "text": [
      "\r",
      "t:  49%|████████████████████████████████▏                                 | 614/1260 [01:28<01:42,  6.27it/s, now=None]"
     ]
    },
    {
     "name": "stdout",
     "output_type": "stream",
     "text": [
      "Lane width mean =  4.00942128516\n",
      "Lane width min =  3.93171869234\n",
      "Lane width max =  4.03540348964\n",
      "Curve Ratio =  0.839849480348\n"
     ]
    },
    {
     "name": "stderr",
     "output_type": "stream",
     "text": [
      "\r",
      "t:  49%|████████████████████████████████▏                                 | 615/1260 [01:28<01:40,  6.39it/s, now=None]"
     ]
    },
    {
     "name": "stdout",
     "output_type": "stream",
     "text": [
      "Lane width mean =  4.03289462576\n",
      "Lane width min =  3.96584913253\n",
      "Lane width max =  4.05882406832\n",
      "Curve Ratio =  0.904294032496\n"
     ]
    },
    {
     "name": "stderr",
     "output_type": "stream",
     "text": [
      "\r",
      "t:  49%|████████████████████████████████▎                                 | 616/1260 [01:28<01:41,  6.34it/s, now=None]"
     ]
    },
    {
     "name": "stdout",
     "output_type": "stream",
     "text": [
      "Lane width mean =  3.93158472557\n",
      "Lane width min =  3.89015693553\n",
      "Lane width max =  3.94927069316\n",
      "Curve Ratio =  0.855192566776\n"
     ]
    },
    {
     "name": "stderr",
     "output_type": "stream",
     "text": [
      "t:  50%|████████████████████████████████▉                                 | 628/1260 [01:30<01:27,  7.20it/s, now=None]"
     ]
    },
    {
     "name": "stdout",
     "output_type": "stream",
     "text": [
      "Lane width mean =  3.53695872655\n",
      "Lane width min =  3.3072702797\n",
      "Lane width max =  3.69272895581\n",
      "Curve Ratio =  0.863865645288\n"
     ]
    },
    {
     "name": "stderr",
     "output_type": "stream",
     "text": [
      "t:  50%|█████████████████████████████████                                 | 631/1260 [01:31<01:28,  7.09it/s, now=None]"
     ]
    },
    {
     "name": "stdout",
     "output_type": "stream",
     "text": [
      "Lane width mean =  3.89468613893\n",
      "Lane width min =  3.88989473252\n",
      "Lane width max =  3.90902014692\n",
      "Curve Ratio =  1.04546992078\n"
     ]
    },
    {
     "name": "stderr",
     "output_type": "stream",
     "text": [
      "\r",
      "t:  50%|█████████████████████████████████                                 | 632/1260 [01:31<01:27,  7.17it/s, now=None]"
     ]
    },
    {
     "name": "stdout",
     "output_type": "stream",
     "text": [
      "Lane width mean =  3.97678444793\n",
      "Lane width min =  3.87734991689\n",
      "Lane width max =  4.01168558746\n",
      "Curve Ratio =  0.795374214274\n"
     ]
    },
    {
     "name": "stderr",
     "output_type": "stream",
     "text": [
      "\r",
      "t:  50%|█████████████████████████████████▏                                | 633/1260 [01:31<01:33,  6.71it/s, now=None]"
     ]
    },
    {
     "name": "stdout",
     "output_type": "stream",
     "text": [
      "Lane width mean =  3.97669581909\n",
      "Lane width min =  3.89318045762\n",
      "Lane width max =  4.00588244342\n",
      "Curve Ratio =  0.82339430554\n"
     ]
    },
    {
     "name": "stderr",
     "output_type": "stream",
     "text": [
      "\r",
      "t:  50%|█████████████████████████████████▏                                | 634/1260 [01:31<01:34,  6.62it/s, now=None]"
     ]
    },
    {
     "name": "stdout",
     "output_type": "stream",
     "text": [
      "Lane width mean =  3.90211247576\n",
      "Lane width min =  3.86995101981\n",
      "Lane width max =  3.91604935902\n",
      "Curve Ratio =  0.841406614522\n"
     ]
    },
    {
     "name": "stderr",
     "output_type": "stream",
     "text": [
      "t:  51%|█████████████████████████████████▎                                | 637/1260 [01:31<01:28,  7.04it/s, now=None]"
     ]
    },
    {
     "name": "stdout",
     "output_type": "stream",
     "text": [
      "Lane width mean =  3.50267021371\n",
      "Lane width min =  3.42201663003\n",
      "Lane width max =  3.71256877308\n",
      "Curve Ratio =  2.32180976385\n"
     ]
    },
    {
     "name": "stderr",
     "output_type": "stream",
     "text": [
      "\r",
      "t:  51%|█████████████████████████████████▍                                | 638/1260 [01:32<01:29,  6.93it/s, now=None]"
     ]
    },
    {
     "name": "stdout",
     "output_type": "stream",
     "text": [
      "Lane width mean =  3.48789178577\n",
      "Lane width min =  3.41344118\n",
      "Lane width max =  3.68933411572\n",
      "Curve Ratio =  2.1187279717\n"
     ]
    },
    {
     "name": "stderr",
     "output_type": "stream",
     "text": [
      "\r",
      "t:  51%|█████████████████████████████████▍                                | 639/1260 [01:32<01:28,  7.04it/s, now=None]"
     ]
    },
    {
     "name": "stdout",
     "output_type": "stream",
     "text": [
      "Lane width mean =  3.52084013364\n",
      "Lane width min =  3.46585655958\n",
      "Lane width max =  3.68426973319\n",
      "Curve Ratio =  1.4618480025\n"
     ]
    },
    {
     "name": "stderr",
     "output_type": "stream",
     "text": [
      "t:  51%|█████████████████████████████████▋                                | 642/1260 [01:32<01:25,  7.22it/s, now=None]"
     ]
    },
    {
     "name": "stdout",
     "output_type": "stream",
     "text": [
      "Lane width mean =  3.86754469841\n",
      "Lane width min =  3.74204826844\n",
      "Lane width max =  3.93369335565\n",
      "Curve Ratio =  0.834912571995\n"
     ]
    },
    {
     "name": "stderr",
     "output_type": "stream",
     "text": [
      "t:  53%|██████████████████████████████████▋                               | 662/1260 [01:35<01:20,  7.42it/s, now=None]"
     ]
    },
    {
     "name": "stdout",
     "output_type": "stream",
     "text": [
      "Lane width mean =  3.68057555194\n",
      "Lane width min =  3.56785333505\n",
      "Lane width max =  3.73509688002\n",
      "Curve Ratio =  0.480965541624\n"
     ]
    },
    {
     "name": "stderr",
     "output_type": "stream",
     "text": [
      "\r",
      "t:  53%|██████████████████████████████████▋                               | 663/1260 [01:35<01:21,  7.33it/s, now=None]"
     ]
    },
    {
     "name": "stdout",
     "output_type": "stream",
     "text": [
      "Lane width mean =  3.68123413643\n",
      "Lane width min =  3.5657736947\n",
      "Lane width max =  3.7371736193\n",
      "Curve Ratio =  0.454344776407\n"
     ]
    },
    {
     "name": "stderr",
     "output_type": "stream",
     "text": [
      "t:  56%|████████████████████████████████████▋                             | 700/1260 [01:41<01:16,  7.29it/s, now=None]"
     ]
    },
    {
     "name": "stdout",
     "output_type": "stream",
     "text": [
      "Lane width mean =  3.52034980065\n",
      "Lane width min =  3.44152887849\n",
      "Lane width max =  3.59431202163\n",
      "Curve Ratio =  0.986678345209\n"
     ]
    },
    {
     "name": "stderr",
     "output_type": "stream",
     "text": [
      "\r",
      "t:  56%|████████████████████████████████████▋                             | 701/1260 [01:41<01:18,  7.13it/s, now=None]"
     ]
    },
    {
     "name": "stdout",
     "output_type": "stream",
     "text": [
      "Lane width mean =  3.51056259291\n",
      "Lane width min =  3.45449249099\n",
      "Lane width max =  3.6005454211\n",
      "Curve Ratio =  1.09609216733\n"
     ]
    },
    {
     "name": "stderr",
     "output_type": "stream",
     "text": [
      "\r",
      "t:  56%|████████████████████████████████████▊                             | 702/1260 [01:41<01:20,  6.97it/s, now=None]"
     ]
    },
    {
     "name": "stdout",
     "output_type": "stream",
     "text": [
      "Lane width mean =  3.53639074492\n",
      "Lane width min =  3.4813498593\n",
      "Lane width max =  3.61146103498\n",
      "Curve Ratio =  1.05845556683\n"
     ]
    },
    {
     "name": "stderr",
     "output_type": "stream",
     "text": [
      "\r",
      "t:  56%|████████████████████████████████████▊                             | 703/1260 [01:41<01:20,  6.91it/s, now=None]"
     ]
    },
    {
     "name": "stdout",
     "output_type": "stream",
     "text": [
      "Lane width mean =  3.54290643217\n",
      "Lane width min =  3.51341165203\n",
      "Lane width max =  3.62727512289\n",
      "Curve Ratio =  1.20550522522\n"
     ]
    },
    {
     "name": "stderr",
     "output_type": "stream",
     "text": [
      "\r",
      "t:  56%|████████████████████████████████████▉                             | 704/1260 [01:41<01:22,  6.78it/s, now=None]"
     ]
    },
    {
     "name": "stdout",
     "output_type": "stream",
     "text": [
      "Lane width mean =  3.53897556907\n",
      "Lane width min =  3.5003582226\n",
      "Lane width max =  3.65449122492\n",
      "Curve Ratio =  1.36791284983\n"
     ]
    },
    {
     "name": "stderr",
     "output_type": "stream",
     "text": [
      "\r",
      "t:  56%|████████████████████████████████████▉                             | 705/1260 [01:41<01:21,  6.85it/s, now=None]"
     ]
    },
    {
     "name": "stdout",
     "output_type": "stream",
     "text": [
      "Lane width mean =  3.5235848614\n",
      "Lane width min =  3.48335646723\n",
      "Lane width max =  3.64392896361\n",
      "Curve Ratio =  1.38930207858\n"
     ]
    },
    {
     "name": "stderr",
     "output_type": "stream",
     "text": [
      "\r",
      "t:  56%|████████████████████████████████████▉                             | 706/1260 [01:41<01:18,  7.03it/s, now=None]"
     ]
    },
    {
     "name": "stdout",
     "output_type": "stream",
     "text": [
      "Lane width mean =  3.53292059287\n",
      "Lane width min =  3.49201896303\n",
      "Lane width max =  3.6463638299\n",
      "Curve Ratio =  1.26408034853\n"
     ]
    },
    {
     "name": "stderr",
     "output_type": "stream",
     "text": [
      "\r",
      "t:  56%|█████████████████████████████████████                             | 707/1260 [01:42<01:20,  6.83it/s, now=None]"
     ]
    },
    {
     "name": "stdout",
     "output_type": "stream",
     "text": [
      "Lane width mean =  3.5484652572\n",
      "Lane width min =  3.51655609919\n",
      "Lane width max =  3.63793164581\n",
      "Curve Ratio =  1.20530059906\n"
     ]
    },
    {
     "name": "stderr",
     "output_type": "stream",
     "text": [
      "t:  56%|█████████████████████████████████████▏                            | 709/1260 [01:42<01:16,  7.21it/s, now=None]"
     ]
    },
    {
     "name": "stdout",
     "output_type": "stream",
     "text": [
      "Lane width mean =  3.52999534283\n",
      "Lane width min =  3.49707600748\n",
      "Lane width max =  3.62222289178\n",
      "Curve Ratio =  1.21806516852\n"
     ]
    },
    {
     "name": "stderr",
     "output_type": "stream",
     "text": [
      "\r",
      "t:  56%|█████████████████████████████████████▏                            | 710/1260 [01:42<01:16,  7.16it/s, now=None]"
     ]
    },
    {
     "name": "stdout",
     "output_type": "stream",
     "text": [
      "Lane width mean =  3.51584756549\n",
      "Lane width min =  3.45888379314\n",
      "Lane width max =  3.61184108955\n",
      "Curve Ratio =  1.11779377637\n"
     ]
    },
    {
     "name": "stderr",
     "output_type": "stream",
     "text": [
      "\r",
      "t:  56%|█████████████████████████████████████▏                            | 711/1260 [01:42<01:18,  7.00it/s, now=None]"
     ]
    },
    {
     "name": "stdout",
     "output_type": "stream",
     "text": [
      "Lane width mean =  3.53006470661\n",
      "Lane width min =  3.49837228231\n",
      "Lane width max =  3.61771721997\n",
      "Curve Ratio =  1.19047705813\n"
     ]
    },
    {
     "name": "stderr",
     "output_type": "stream",
     "text": [
      "t:  57%|█████████████████████████████████████▍                            | 714/1260 [01:43<01:15,  7.22it/s, now=None]"
     ]
    },
    {
     "name": "stdout",
     "output_type": "stream",
     "text": [
      "Lane width mean =  3.53186350436\n",
      "Lane width min =  3.51043033143\n",
      "Lane width max =  3.58923639207\n",
      "Curve Ratio =  1.11875120705\n"
     ]
    },
    {
     "name": "stderr",
     "output_type": "stream",
     "text": [
      "\r",
      "t:  57%|█████████████████████████████████████▍                            | 715/1260 [01:43<01:15,  7.19it/s, now=None]"
     ]
    },
    {
     "name": "stdout",
     "output_type": "stream",
     "text": [
      "Lane width mean =  3.50545994152\n",
      "Lane width min =  3.47737592271\n",
      "Lane width max =  3.56454980621\n",
      "Curve Ratio =  1.08689961605\n"
     ]
    },
    {
     "name": "stderr",
     "output_type": "stream",
     "text": [
      "\r",
      "t:  57%|█████████████████████████████████████▌                            | 716/1260 [01:43<01:15,  7.17it/s, now=None]"
     ]
    },
    {
     "name": "stdout",
     "output_type": "stream",
     "text": [
      "Lane width mean =  3.51234544081\n",
      "Lane width min =  3.49121316955\n",
      "Lane width max =  3.56436430555\n",
      "Curve Ratio =  1.09530633653\n"
     ]
    },
    {
     "name": "stderr",
     "output_type": "stream",
     "text": [
      "t:  58%|██████████████████████████████████████▏                           | 728/1260 [01:44<01:08,  7.80it/s, now=None]"
     ]
    },
    {
     "name": "stdout",
     "output_type": "stream",
     "text": [
      "Lane width mean =  3.65710044981\n",
      "Lane width min =  3.50303554341\n",
      "Lane width max =  3.71198513392\n",
      "Curve Ratio =  0.432124037615\n"
     ]
    },
    {
     "name": "stderr",
     "output_type": "stream",
     "text": [
      "\r",
      "t:  58%|██████████████████████████████████████▏                           | 729/1260 [01:45<01:11,  7.48it/s, now=None]"
     ]
    },
    {
     "name": "stdout",
     "output_type": "stream",
     "text": [
      "Lane width mean =  3.65308218723\n",
      "Lane width min =  3.51978623881\n",
      "Lane width max =  3.70109904029\n",
      "Curve Ratio =  0.45626575615\n"
     ]
    },
    {
     "name": "stderr",
     "output_type": "stream",
     "text": [
      "t:  59%|██████████████████████████████████████▊                           | 740/1260 [01:46<01:07,  7.72it/s, now=None]"
     ]
    },
    {
     "name": "stdout",
     "output_type": "stream",
     "text": [
      "Lane width mean =  3.5378468587\n",
      "Lane width min =  3.53589550587\n",
      "Lane width max =  3.54348803014\n",
      "Curve Ratio =  1.01618598168\n"
     ]
    },
    {
     "name": "stderr",
     "output_type": "stream",
     "text": [
      "\r",
      "t:  59%|██████████████████████████████████████▊                           | 741/1260 [01:46<01:09,  7.44it/s, now=None]"
     ]
    },
    {
     "name": "stdout",
     "output_type": "stream",
     "text": [
      "Lane width mean =  3.5379704665\n",
      "Lane width min =  3.53550423944\n",
      "Lane width max =  3.54502654063\n",
      "Curve Ratio =  1.01927354595\n"
     ]
    },
    {
     "name": "stderr",
     "output_type": "stream",
     "text": [
      "\r",
      "t:  59%|██████████████████████████████████████▊                           | 742/1260 [01:46<01:10,  7.32it/s, now=None]"
     ]
    },
    {
     "name": "stdout",
     "output_type": "stream",
     "text": [
      "Lane width mean =  3.52436720407\n",
      "Lane width min =  3.49497493912\n",
      "Lane width max =  3.58714878758\n",
      "Curve Ratio =  1.41512055158\n"
     ]
    },
    {
     "name": "stderr",
     "output_type": "stream",
     "text": [
      "\r",
      "t:  59%|██████████████████████████████████████▉                           | 743/1260 [01:46<01:10,  7.32it/s, now=None]"
     ]
    },
    {
     "name": "stdout",
     "output_type": "stream",
     "text": [
      "Lane width mean =  3.52935637798\n",
      "Lane width min =  3.50174952721\n",
      "Lane width max =  3.59625663063\n",
      "Curve Ratio =  1.38870768559\n"
     ]
    },
    {
     "name": "stderr",
     "output_type": "stream",
     "text": [
      "\r",
      "t:  59%|██████████████████████████████████████▉                           | 744/1260 [01:47<01:11,  7.18it/s, now=None]"
     ]
    },
    {
     "name": "stdout",
     "output_type": "stream",
     "text": [
      "Lane width mean =  3.51846553841\n",
      "Lane width min =  3.48177823288\n",
      "Lane width max =  3.60463666517\n",
      "Curve Ratio =  1.52714589083\n"
     ]
    },
    {
     "name": "stderr",
     "output_type": "stream",
     "text": [
      "\r",
      "t:  59%|███████████████████████████████████████                           | 745/1260 [01:47<01:12,  7.14it/s, now=None]"
     ]
    },
    {
     "name": "stdout",
     "output_type": "stream",
     "text": [
      "Lane width mean =  3.53834804135\n",
      "Lane width min =  3.5008619199\n",
      "Lane width max =  3.63762120255\n",
      "Curve Ratio =  1.52608724405\n"
     ]
    },
    {
     "name": "stderr",
     "output_type": "stream",
     "text": [
      "t:  60%|███████████████████████████████████████▋                          | 758/1260 [01:48<01:06,  7.60it/s, now=None]"
     ]
    },
    {
     "name": "stdout",
     "output_type": "stream",
     "text": [
      "Lane width mean =  3.64652521097\n",
      "Lane width min =  3.49284491122\n",
      "Lane width max =  3.70151009545\n",
      "Curve Ratio =  0.450192611435\n"
     ]
    },
    {
     "name": "stderr",
     "output_type": "stream",
     "text": [
      "\r",
      "t:  60%|███████████████████████████████████████▊                          | 759/1260 [01:48<01:07,  7.45it/s, now=None]"
     ]
    },
    {
     "name": "stdout",
     "output_type": "stream",
     "text": [
      "Lane width mean =  3.65004874154\n",
      "Lane width min =  3.50642010883\n",
      "Lane width max =  3.70368035899\n",
      "Curve Ratio =  0.453505456461\n"
     ]
    },
    {
     "name": "stderr",
     "output_type": "stream",
     "text": [
      "t:  61%|████████████████████████████████████████                          | 764/1260 [01:49<01:04,  7.70it/s, now=None]"
     ]
    },
    {
     "name": "stdout",
     "output_type": "stream",
     "text": [
      "Lane width mean =  3.70189991041\n",
      "Lane width min =  3.43316822944\n",
      "Lane width max =  3.79704090294\n",
      "Curve Ratio =  0.203088298926\n"
     ]
    },
    {
     "name": "stderr",
     "output_type": "stream",
     "text": [
      "\r",
      "t:  61%|████████████████████████████████████████                          | 765/1260 [01:49<01:05,  7.52it/s, now=None]"
     ]
    },
    {
     "name": "stdout",
     "output_type": "stream",
     "text": [
      "Lane width mean =  3.71293072586\n",
      "Lane width min =  3.47258854293\n",
      "Lane width max =  3.79484630721\n",
      "Curve Ratio =  0.349174118857\n"
     ]
    },
    {
     "name": "stderr",
     "output_type": "stream",
     "text": [
      "\r",
      "t:  61%|████████████████████████████████████████                          | 766/1260 [01:49<01:06,  7.38it/s, now=None]"
     ]
    },
    {
     "name": "stdout",
     "output_type": "stream",
     "text": [
      "Lane width mean =  3.66452624804\n",
      "Lane width min =  3.47169564463\n",
      "Lane width max =  3.74226386443\n",
      "Curve Ratio =  0.283331593207\n"
     ]
    },
    {
     "name": "stderr",
     "output_type": "stream",
     "text": [
      "\r",
      "t:  61%|████████████████████████████████████████▏                         | 767/1260 [01:50<01:07,  7.30it/s, now=None]"
     ]
    },
    {
     "name": "stdout",
     "output_type": "stream",
     "text": [
      "Lane width mean =  3.67289784326\n",
      "Lane width min =  3.49145075828\n",
      "Lane width max =  3.75276738814\n",
      "Curve Ratio =  0.244574166259\n"
     ]
    },
    {
     "name": "stderr",
     "output_type": "stream",
     "text": [
      "\r",
      "t:  61%|████████████████████████████████████████▏                         | 768/1260 [01:50<01:07,  7.24it/s, now=None]"
     ]
    },
    {
     "name": "stdout",
     "output_type": "stream",
     "text": [
      "Lane width mean =  3.64404545791\n",
      "Lane width min =  3.45584108472\n",
      "Lane width max =  3.72850075106\n",
      "Curve Ratio =  0.209860659853\n"
     ]
    },
    {
     "name": "stderr",
     "output_type": "stream",
     "text": [
      "\r",
      "t:  61%|████████████████████████████████████████▎                         | 769/1260 [01:50<01:10,  6.94it/s, now=None]"
     ]
    },
    {
     "name": "stdout",
     "output_type": "stream",
     "text": [
      "Lane width mean =  3.6001879321\n",
      "Lane width min =  3.39555525442\n",
      "Lane width max =  3.67645862072\n",
      "Curve Ratio =  0.332266687077\n"
     ]
    },
    {
     "name": "stderr",
     "output_type": "stream",
     "text": [
      "\r",
      "t:  61%|████████████████████████████████████████▎                         | 770/1260 [01:50<01:09,  7.02it/s, now=None]"
     ]
    },
    {
     "name": "stdout",
     "output_type": "stream",
     "text": [
      "Lane width mean =  3.59425275523\n",
      "Lane width min =  3.4256575892\n",
      "Lane width max =  3.65429601156\n",
      "Curve Ratio =  0.458788678003\n"
     ]
    },
    {
     "name": "stderr",
     "output_type": "stream",
     "text": [
      "t:  61%|████████████████████████████████████████▍                         | 772/1260 [01:50<01:06,  7.31it/s, now=None]"
     ]
    },
    {
     "name": "stdout",
     "output_type": "stream",
     "text": [
      "Lane width mean =  3.66474444521\n",
      "Lane width min =  3.53808725647\n",
      "Lane width max =  3.71727934186\n",
      "Curve Ratio =  0.486757979008\n"
     ]
    },
    {
     "name": "stderr",
     "output_type": "stream",
     "text": [
      "t:  62%|████████████████████████████████████████▋                         | 776/1260 [01:51<01:05,  7.34it/s, now=None]"
     ]
    },
    {
     "name": "stdout",
     "output_type": "stream",
     "text": [
      "Lane width mean =  3.62505953349\n",
      "Lane width min =  3.46472531893\n",
      "Lane width max =  3.6854096234\n",
      "Curve Ratio =  0.393479549464\n"
     ]
    },
    {
     "name": "stderr",
     "output_type": "stream",
     "text": [
      "\r",
      "t:  62%|████████████████████████████████████████▋                         | 777/1260 [01:51<01:06,  7.24it/s, now=None]"
     ]
    },
    {
     "name": "stdout",
     "output_type": "stream",
     "text": [
      "Lane width mean =  3.60187220492\n",
      "Lane width min =  3.42837230913\n",
      "Lane width max =  3.66218120953\n",
      "Curve Ratio =  0.409444560973\n"
     ]
    },
    {
     "name": "stderr",
     "output_type": "stream",
     "text": [
      "t:  62%|████████████████████████████████████████▊                         | 779/1260 [01:51<01:09,  6.94it/s, now=None]"
     ]
    },
    {
     "name": "stdout",
     "output_type": "stream",
     "text": [
      "Lane width mean =  3.54937905373\n",
      "Lane width min =  3.38284514415\n",
      "Lane width max =  3.62168452417\n",
      "Curve Ratio =  0.730837227464\n"
     ]
    },
    {
     "name": "stderr",
     "output_type": "stream",
     "text": [
      "t:  62%|█████████████████████████████████████████▏                        | 787/1260 [01:52<01:04,  7.31it/s, now=None]"
     ]
    },
    {
     "name": "stdout",
     "output_type": "stream",
     "text": [
      "Lane width mean =  3.65943840721\n",
      "Lane width min =  3.55105813665\n",
      "Lane width max =  3.70800417969\n",
      "Curve Ratio =  0.462535687029\n"
     ]
    },
    {
     "name": "stderr",
     "output_type": "stream",
     "text": [
      "\r",
      "t:  63%|█████████████████████████████████████████▎                        | 788/1260 [01:53<01:07,  7.01it/s, now=None]"
     ]
    },
    {
     "name": "stdout",
     "output_type": "stream",
     "text": [
      "Lane width mean =  3.61257683355\n",
      "Lane width min =  3.46711665816\n",
      "Lane width max =  3.68474417236\n",
      "Curve Ratio =  0.18859235148\n"
     ]
    },
    {
     "name": "stderr",
     "output_type": "stream",
     "text": [
      "t:  63%|█████████████████████████████████████████▍                        | 791/1260 [01:53<01:04,  7.30it/s, now=None]"
     ]
    },
    {
     "name": "stdout",
     "output_type": "stream",
     "text": [
      "Lane width mean =  3.58435651073\n",
      "Lane width min =  3.47930532306\n",
      "Lane width max =  3.6260043918\n",
      "Curve Ratio =  0.494212987991\n"
     ]
    },
    {
     "name": "stderr",
     "output_type": "stream",
     "text": [
      "\r",
      "t:  63%|█████████████████████████████████████████▍                        | 792/1260 [01:53<01:05,  7.12it/s, now=None]"
     ]
    },
    {
     "name": "stdout",
     "output_type": "stream",
     "text": [
      "Lane width mean =  3.60938566293\n",
      "Lane width min =  3.50158563314\n",
      "Lane width max =  3.65633260428\n",
      "Curve Ratio =  0.429369285295\n"
     ]
    },
    {
     "name": "stderr",
     "output_type": "stream",
     "text": [
      "t:  63%|█████████████████████████████████████████▋                        | 795/1260 [01:53<01:05,  7.05it/s, now=None]"
     ]
    },
    {
     "name": "stdout",
     "output_type": "stream",
     "text": [
      "Lane width mean =  3.54893013391\n",
      "Lane width min =  3.45751214599\n",
      "Lane width max =  3.58057840421\n",
      "Curve Ratio =  0.654065633009\n"
     ]
    },
    {
     "name": "stderr",
     "output_type": "stream",
     "text": [
      "\r",
      "t:  63%|█████████████████████████████████████████▋                        | 796/1260 [01:54<01:06,  7.02it/s, now=None]"
     ]
    },
    {
     "name": "stdout",
     "output_type": "stream",
     "text": [
      "Lane width mean =  3.52526638872\n",
      "Lane width min =  3.46124412114\n",
      "Lane width max =  3.54707115372\n",
      "Curve Ratio =  0.818651273882\n"
     ]
    },
    {
     "name": "stderr",
     "output_type": "stream",
     "text": [
      "\r",
      "t:  63%|█████████████████████████████████████████▋                        | 797/1260 [01:54<01:05,  7.05it/s, now=None]"
     ]
    },
    {
     "name": "stdout",
     "output_type": "stream",
     "text": [
      "Lane width mean =  3.54294654385\n",
      "Lane width min =  3.47175717779\n",
      "Lane width max =  3.56891543395\n",
      "Curve Ratio =  0.705902426224\n"
     ]
    },
    {
     "name": "stderr",
     "output_type": "stream",
     "text": [
      "\r",
      "t:  63%|█████████████████████████████████████████▊                        | 798/1260 [01:54<01:05,  7.07it/s, now=None]"
     ]
    },
    {
     "name": "stdout",
     "output_type": "stream",
     "text": [
      "Lane width mean =  3.5449991371\n",
      "Lane width min =  3.4852146251\n",
      "Lane width max =  3.56832402193\n",
      "Curve Ratio =  0.720977006838\n"
     ]
    },
    {
     "name": "stderr",
     "output_type": "stream",
     "text": [
      "t:  63%|█████████████████████████████████████████▉                        | 800/1260 [01:54<01:04,  7.10it/s, now=None]"
     ]
    },
    {
     "name": "stdout",
     "output_type": "stream",
     "text": [
      "Lane width mean =  3.61232775921\n",
      "Lane width min =  3.4815176889\n",
      "Lane width max =  3.66895546838\n",
      "Curve Ratio =  0.392704879781\n"
     ]
    },
    {
     "name": "stderr",
     "output_type": "stream",
     "text": [
      "\r",
      "t:  64%|█████████████████████████████████████████▉                        | 801/1260 [01:54<01:04,  7.14it/s, now=None]"
     ]
    },
    {
     "name": "stdout",
     "output_type": "stream",
     "text": [
      "Lane width mean =  3.62996471424\n",
      "Lane width min =  3.51236152711\n",
      "Lane width max =  3.6814683068\n",
      "Curve Ratio =  0.442962002369\n"
     ]
    },
    {
     "name": "stderr",
     "output_type": "stream",
     "text": [
      "\r",
      "t:  64%|██████████████████████████████████████████                        | 802/1260 [01:54<01:04,  7.13it/s, now=None]"
     ]
    },
    {
     "name": "stdout",
     "output_type": "stream",
     "text": [
      "Lane width mean =  3.64891054526\n",
      "Lane width min =  3.53199505548\n",
      "Lane width max =  3.69765300985\n",
      "Curve Ratio =  0.465246238851\n"
     ]
    },
    {
     "name": "stderr",
     "output_type": "stream",
     "text": [
      "t:  64%|██████████████████████████████████████████▏                       | 805/1260 [01:55<01:00,  7.54it/s, now=None]"
     ]
    },
    {
     "name": "stdout",
     "output_type": "stream",
     "text": [
      "Lane width mean =  3.52819371103\n",
      "Lane width min =  3.41072294169\n",
      "Lane width max =  3.56752496576\n",
      "Curve Ratio =  0.684805826293\n"
     ]
    },
    {
     "name": "stderr",
     "output_type": "stream",
     "text": [
      "\r",
      "t:  64%|██████████████████████████████████████████▏                       | 806/1260 [01:55<01:00,  7.47it/s, now=None]"
     ]
    },
    {
     "name": "stdout",
     "output_type": "stream",
     "text": [
      "Lane width mean =  3.52907325269\n",
      "Lane width min =  3.44079208408\n",
      "Lane width max =  3.55858297372\n",
      "Curve Ratio =  0.767058902709\n"
     ]
    },
    {
     "name": "stderr",
     "output_type": "stream",
     "text": [
      "\r",
      "t:  64%|██████████████████████████████████████████▎                       | 807/1260 [01:55<01:03,  7.12it/s, now=None]"
     ]
    },
    {
     "name": "stdout",
     "output_type": "stream",
     "text": [
      "Lane width mean =  3.54372860827\n",
      "Lane width min =  3.44065908633\n",
      "Lane width max =  3.57915657199\n",
      "Curve Ratio =  0.697414476136\n"
     ]
    },
    {
     "name": "stderr",
     "output_type": "stream",
     "text": [
      "\r",
      "t:  64%|██████████████████████████████████████████▎                       | 808/1260 [01:55<01:04,  7.03it/s, now=None]"
     ]
    },
    {
     "name": "stdout",
     "output_type": "stream",
     "text": [
      "Lane width mean =  3.52639029216\n",
      "Lane width min =  3.42304958545\n",
      "Lane width max =  3.56116901079\n",
      "Curve Ratio =  0.730105361244\n"
     ]
    },
    {
     "name": "stderr",
     "output_type": "stream",
     "text": [
      "t:  66%|███████████████████████████████████████████▋                      | 835/1260 [01:59<00:55,  7.59it/s, now=None]"
     ]
    },
    {
     "name": "stdout",
     "output_type": "stream",
     "text": [
      "Lane width mean =  3.80159724252\n",
      "Lane width min =  3.4491036255\n",
      "Lane width max =  3.94390213029\n",
      "Curve Ratio =  0.497915348105\n"
     ]
    },
    {
     "name": "stderr",
     "output_type": "stream",
     "text": [
      "\r",
      "t:  66%|███████████████████████████████████████████▊                      | 836/1260 [01:59<00:57,  7.41it/s, now=None]"
     ]
    },
    {
     "name": "stdout",
     "output_type": "stream",
     "text": [
      "Lane width mean =  3.84811290151\n",
      "Lane width min =  3.46117566496\n",
      "Lane width max =  3.99497238755\n",
      "Curve Ratio =  0.416914462398\n"
     ]
    },
    {
     "name": "stderr",
     "output_type": "stream",
     "text": [
      "\r",
      "t:  66%|███████████████████████████████████████████▊                      | 837/1260 [01:59<00:57,  7.32it/s, now=None]"
     ]
    },
    {
     "name": "stdout",
     "output_type": "stream",
     "text": [
      "Lane width mean =  3.8909139761\n",
      "Lane width min =  3.49292849622\n",
      "Lane width max =  4.03964836982\n",
      "Curve Ratio =  0.373272425582\n"
     ]
    },
    {
     "name": "stderr",
     "output_type": "stream",
     "text": [
      "\r",
      "t:  67%|███████████████████████████████████████████▉                      | 838/1260 [01:59<00:58,  7.20it/s, now=None]"
     ]
    },
    {
     "name": "stdout",
     "output_type": "stream",
     "text": [
      "Lane width mean =  3.87407805476\n",
      "Lane width min =  3.5297126365\n",
      "Lane width max =  4.00871909137\n",
      "Curve Ratio =  0.517857044857\n"
     ]
    },
    {
     "name": "stderr",
     "output_type": "stream",
     "text": [
      "\r",
      "t:  67%|███████████████████████████████████████████▉                      | 839/1260 [02:00<00:58,  7.17it/s, now=None]"
     ]
    },
    {
     "name": "stdout",
     "output_type": "stream",
     "text": [
      "Lane width mean =  3.85444613835\n",
      "Lane width min =  3.54591491485\n",
      "Lane width max =  3.97055177352\n",
      "Curve Ratio =  0.556954432543\n"
     ]
    },
    {
     "name": "stderr",
     "output_type": "stream",
     "text": [
      "t:  67%|████████████████████████████████████████████                      | 841/1260 [02:00<00:56,  7.39it/s, now=None]"
     ]
    },
    {
     "name": "stdout",
     "output_type": "stream",
     "text": [
      "Lane width mean =  3.85945603784\n",
      "Lane width min =  3.58305627859\n",
      "Lane width max =  3.97133372977\n",
      "Curve Ratio =  0.619442536189\n"
     ]
    },
    {
     "name": "stderr",
     "output_type": "stream",
     "text": [
      "\r",
      "t:  67%|████████████████████████████████████████████                      | 842/1260 [02:00<00:58,  7.13it/s, now=None]"
     ]
    },
    {
     "name": "stdout",
     "output_type": "stream",
     "text": [
      "Lane width mean =  3.91910137513\n",
      "Lane width min =  3.62236781191\n",
      "Lane width max =  4.05229343753\n",
      "Curve Ratio =  0.61853498624\n"
     ]
    },
    {
     "name": "stderr",
     "output_type": "stream",
     "text": [
      "\r",
      "t:  67%|████████████████████████████████████████████▏                     | 843/1260 [02:00<00:59,  7.04it/s, now=None]"
     ]
    },
    {
     "name": "stdout",
     "output_type": "stream",
     "text": [
      "Lane width mean =  3.93309856388\n",
      "Lane width min =  3.63625907939\n",
      "Lane width max =  4.10061684615\n",
      "Curve Ratio =  0.692386270722\n"
     ]
    },
    {
     "name": "stderr",
     "output_type": "stream",
     "text": [
      "\r",
      "t:  67%|████████████████████████████████████████████▏                     | 844/1260 [02:00<00:58,  7.15it/s, now=None]"
     ]
    },
    {
     "name": "stdout",
     "output_type": "stream",
     "text": [
      "Lane width mean =  3.96636382702\n",
      "Lane width min =  3.6578322245\n",
      "Lane width max =  4.16535427028\n",
      "Curve Ratio =  0.726590315922\n"
     ]
    },
    {
     "name": "stderr",
     "output_type": "stream",
     "text": [
      "\r",
      "t:  67%|████████████████████████████████████████████▎                     | 845/1260 [02:00<00:58,  7.14it/s, now=None]"
     ]
    },
    {
     "name": "stdout",
     "output_type": "stream",
     "text": [
      "Lane width mean =  3.95922357783\n",
      "Lane width min =  3.64491938463\n",
      "Lane width max =  4.1214737824\n",
      "Curve Ratio =  0.609014028854\n"
     ]
    },
    {
     "name": "stderr",
     "output_type": "stream",
     "text": [
      "\r",
      "t:  67%|████████████████████████████████████████████▎                     | 846/1260 [02:01<00:58,  7.04it/s, now=None]"
     ]
    },
    {
     "name": "stdout",
     "output_type": "stream",
     "text": [
      "Lane width mean =  3.91683675246\n",
      "Lane width min =  3.6284382331\n",
      "Lane width max =  4.03978947219\n",
      "Curve Ratio =  0.574492812057\n"
     ]
    },
    {
     "name": "stderr",
     "output_type": "stream",
     "text": [
      "\r",
      "t:  67%|████████████████████████████████████████████▎                     | 847/1260 [02:01<00:58,  7.06it/s, now=None]"
     ]
    },
    {
     "name": "stdout",
     "output_type": "stream",
     "text": [
      "Lane width mean =  3.91826077473\n",
      "Lane width min =  3.55238134508\n",
      "Lane width max =  4.0478507054\n",
      "Curve Ratio =  0.293414603926\n"
     ]
    },
    {
     "name": "stderr",
     "output_type": "stream",
     "text": [
      "\r",
      "t:  67%|████████████████████████████████████████████▍                     | 848/1260 [02:01<00:58,  7.01it/s, now=None]"
     ]
    },
    {
     "name": "stdout",
     "output_type": "stream",
     "text": [
      "Lane width mean =  3.97877690945\n",
      "Lane width min =  3.58666499582\n",
      "Lane width max =  4.1305745179\n",
      "Curve Ratio =  0.295419513515\n"
     ]
    },
    {
     "name": "stderr",
     "output_type": "stream",
     "text": [
      "\r",
      "t:  67%|████████████████████████████████████████████▍                     | 849/1260 [02:01<01:00,  6.80it/s, now=None]"
     ]
    },
    {
     "name": "stdout",
     "output_type": "stream",
     "text": [
      "Lane width mean =  3.99396580799\n",
      "Lane width min =  3.60799844247\n",
      "Lane width max =  4.13389649454\n",
      "Curve Ratio =  0.254724530925\n"
     ]
    },
    {
     "name": "stderr",
     "output_type": "stream",
     "text": [
      "\r",
      "t:  67%|████████████████████████████████████████████▌                     | 850/1260 [02:01<00:59,  6.89it/s, now=None]"
     ]
    },
    {
     "name": "stdout",
     "output_type": "stream",
     "text": [
      "Lane width mean =  3.99617438124\n",
      "Lane width min =  3.62524273498\n",
      "Lane width max =  4.13427574773\n",
      "Curve Ratio =  0.340173504153\n"
     ]
    },
    {
     "name": "stderr",
     "output_type": "stream",
     "text": [
      "\r",
      "t:  68%|████████████████████████████████████████████▌                     | 851/1260 [02:01<00:59,  6.90it/s, now=None]"
     ]
    },
    {
     "name": "stdout",
     "output_type": "stream",
     "text": [
      "Lane width mean =  3.98963094676\n",
      "Lane width min =  3.63978545919\n",
      "Lane width max =  4.12356091007\n",
      "Curve Ratio =  0.353049842737\n"
     ]
    },
    {
     "name": "stderr",
     "output_type": "stream",
     "text": [
      "\r",
      "t:  68%|████████████████████████████████████████████▋                     | 852/1260 [02:01<00:58,  6.93it/s, now=None]"
     ]
    },
    {
     "name": "stdout",
     "output_type": "stream",
     "text": [
      "Lane width mean =  4.0066888245\n",
      "Lane width min =  3.67655970902\n",
      "Lane width max =  4.13920112274\n",
      "Curve Ratio =  0.439367595159\n"
     ]
    },
    {
     "name": "stderr",
     "output_type": "stream",
     "text": [
      "\r",
      "t:  68%|████████████████████████████████████████████▋                     | 853/1260 [02:02<00:59,  6.90it/s, now=None]"
     ]
    },
    {
     "name": "stdout",
     "output_type": "stream",
     "text": [
      "Lane width mean =  3.98009444116\n",
      "Lane width min =  3.68927388758\n",
      "Lane width max =  4.13053022876\n",
      "Curve Ratio =  0.603466668149\n"
     ]
    },
    {
     "name": "stderr",
     "output_type": "stream",
     "text": [
      "\r",
      "t:  68%|████████████████████████████████████████████▋                     | 854/1260 [02:02<00:58,  6.93it/s, now=None]"
     ]
    },
    {
     "name": "stdout",
     "output_type": "stream",
     "text": [
      "Lane width mean =  4.01582690623\n",
      "Lane width min =  3.70865246775\n",
      "Lane width max =  4.17072188776\n",
      "Curve Ratio =  0.5662852287\n"
     ]
    },
    {
     "name": "stderr",
     "output_type": "stream",
     "text": [
      "\r",
      "t:  68%|████████████████████████████████████████████▊                     | 855/1260 [02:02<00:58,  6.94it/s, now=None]"
     ]
    },
    {
     "name": "stdout",
     "output_type": "stream",
     "text": [
      "Lane width mean =  4.04033974648\n",
      "Lane width min =  3.72279825068\n",
      "Lane width max =  4.22649646953\n",
      "Curve Ratio =  0.626370634669\n"
     ]
    },
    {
     "name": "stderr",
     "output_type": "stream",
     "text": [
      "\r",
      "t:  68%|████████████████████████████████████████████▊                     | 856/1260 [02:02<00:58,  6.85it/s, now=None]"
     ]
    },
    {
     "name": "stdout",
     "output_type": "stream",
     "text": [
      "Lane width mean =  4.06968349849\n",
      "Lane width min =  3.77590101225\n",
      "Lane width max =  4.41805971009\n",
      "Curve Ratio =  1.24384376366\n"
     ]
    },
    {
     "name": "stderr",
     "output_type": "stream",
     "text": [
      "\r",
      "t:  68%|████████████████████████████████████████████▉                     | 857/1260 [02:02<00:58,  6.86it/s, now=None]"
     ]
    },
    {
     "name": "stdout",
     "output_type": "stream",
     "text": [
      "Lane width mean =  4.0691122876\n",
      "Lane width min =  3.77608448935\n",
      "Lane width max =  4.44583587935\n",
      "Curve Ratio =  1.37511127921\n"
     ]
    },
    {
     "name": "stderr",
     "output_type": "stream",
     "text": [
      "\r",
      "t:  68%|████████████████████████████████████████████▉                     | 858/1260 [02:02<00:59,  6.72it/s, now=None]"
     ]
    },
    {
     "name": "stdout",
     "output_type": "stream",
     "text": [
      "Lane width mean =  4.03169329437\n",
      "Lane width min =  3.7322268916\n",
      "Lane width max =  4.35069275742\n",
      "Curve Ratio =  1.08553431951\n"
     ]
    },
    {
     "name": "stderr",
     "output_type": "stream",
     "text": [
      "\r",
      "t:  68%|████████████████████████████████████████████▉                     | 859/1260 [02:02<01:02,  6.42it/s, now=None]"
     ]
    },
    {
     "name": "stdout",
     "output_type": "stream",
     "text": [
      "Lane width mean =  3.9996553558\n",
      "Lane width min =  3.73566597107\n",
      "Lane width max =  4.32323009326\n",
      "Curve Ratio =  1.27069954432\n"
     ]
    },
    {
     "name": "stderr",
     "output_type": "stream",
     "text": [
      "\r",
      "t:  68%|█████████████████████████████████████████████                     | 860/1260 [02:03<01:02,  6.37it/s, now=None]"
     ]
    },
    {
     "name": "stdout",
     "output_type": "stream",
     "text": [
      "Lane width mean =  3.99823927657\n",
      "Lane width min =  3.70714573812\n",
      "Lane width max =  4.32751249243\n",
      "Curve Ratio =  1.17543518514\n"
     ]
    },
    {
     "name": "stderr",
     "output_type": "stream",
     "text": [
      "\r",
      "t:  68%|█████████████████████████████████████████████                     | 861/1260 [02:03<01:00,  6.58it/s, now=None]"
     ]
    },
    {
     "name": "stdout",
     "output_type": "stream",
     "text": [
      "Lane width mean =  3.97544803384\n",
      "Lane width min =  3.65823923419\n",
      "Lane width max =  4.24094076801\n",
      "Curve Ratio =  0.789377749544\n"
     ]
    },
    {
     "name": "stderr",
     "output_type": "stream",
     "text": [
      "\r",
      "t:  68%|█████████████████████████████████████████████▏                    | 862/1260 [02:03<01:01,  6.52it/s, now=None]"
     ]
    },
    {
     "name": "stdout",
     "output_type": "stream",
     "text": [
      "Lane width mean =  4.00576343987\n",
      "Lane width min =  3.67308467936\n",
      "Lane width max =  4.30792313454\n",
      "Curve Ratio =  0.863446049078\n"
     ]
    },
    {
     "name": "stderr",
     "output_type": "stream",
     "text": [
      "\r",
      "t:  68%|█████████████████████████████████████████████▏                    | 863/1260 [02:03<01:02,  6.36it/s, now=None]"
     ]
    },
    {
     "name": "stdout",
     "output_type": "stream",
     "text": [
      "Lane width mean =  4.02321235219\n",
      "Lane width min =  3.67571445567\n",
      "Lane width max =  4.34776496566\n",
      "Curve Ratio =  0.897110662064\n"
     ]
    },
    {
     "name": "stderr",
     "output_type": "stream",
     "text": [
      "\r",
      "t:  69%|█████████████████████████████████████████████▎                    | 864/1260 [02:03<01:02,  6.33it/s, now=None]"
     ]
    },
    {
     "name": "stdout",
     "output_type": "stream",
     "text": [
      "Lane width mean =  4.07489470501\n",
      "Lane width min =  3.69276323502\n",
      "Lane width max =  4.43745191936\n",
      "Curve Ratio =  0.912024024639\n"
     ]
    },
    {
     "name": "stderr",
     "output_type": "stream",
     "text": [
      "\r",
      "t:  69%|█████████████████████████████████████████████▎                    | 865/1260 [02:03<01:01,  6.42it/s, now=None]"
     ]
    },
    {
     "name": "stdout",
     "output_type": "stream",
     "text": [
      "Lane width mean =  4.14243642155\n",
      "Lane width min =  3.72591551766\n",
      "Lane width max =  4.5750255464\n",
      "Curve Ratio =  1.08006112566\n"
     ]
    },
    {
     "name": "stderr",
     "output_type": "stream",
     "text": [
      "\r",
      "t:  69%|█████████████████████████████████████████████▎                    | 866/1260 [02:04<01:00,  6.47it/s, now=None]"
     ]
    },
    {
     "name": "stdout",
     "output_type": "stream",
     "text": [
      "Lane width mean =  4.10160705837\n",
      "Lane width min =  3.71466137524\n",
      "Lane width max =  4.52010340976\n",
      "Curve Ratio =  1.12199683353\n"
     ]
    },
    {
     "name": "stderr",
     "output_type": "stream",
     "text": [
      "\r",
      "t:  69%|█████████████████████████████████████████████▍                    | 867/1260 [02:04<01:02,  6.34it/s, now=None]"
     ]
    },
    {
     "name": "stdout",
     "output_type": "stream",
     "text": [
      "Lane width mean =  4.17540823663\n",
      "Lane width min =  3.72824200345\n",
      "Lane width max =  4.64814849561\n",
      "Curve Ratio =  1.10623690527\n"
     ]
    },
    {
     "name": "stderr",
     "output_type": "stream",
     "text": [
      "\r",
      "t:  69%|█████████████████████████████████████████████▍                    | 868/1260 [02:04<01:01,  6.35it/s, now=None]"
     ]
    },
    {
     "name": "stdout",
     "output_type": "stream",
     "text": [
      "Lane width mean =  4.15860711753\n",
      "Lane width min =  3.7258698419\n",
      "Lane width max =  4.62842240502\n",
      "Curve Ratio =  1.15218414273\n"
     ]
    },
    {
     "name": "stderr",
     "output_type": "stream",
     "text": [
      "\r",
      "t:  69%|█████████████████████████████████████████████▌                    | 869/1260 [02:04<01:00,  6.48it/s, now=None]"
     ]
    },
    {
     "name": "stdout",
     "output_type": "stream",
     "text": [
      "Lane width mean =  4.12628710952\n",
      "Lane width min =  3.70341207959\n",
      "Lane width max =  4.59106150368\n",
      "Curve Ratio =  1.1657628921\n"
     ]
    },
    {
     "name": "stderr",
     "output_type": "stream",
     "text": [
      "\r",
      "t:  69%|█████████████████████████████████████████████▌                    | 870/1260 [02:04<01:00,  6.44it/s, now=None]"
     ]
    },
    {
     "name": "stdout",
     "output_type": "stream",
     "text": [
      "Lane width mean =  4.15321922069\n",
      "Lane width min =  3.69570089861\n",
      "Lane width max =  4.66707877747\n",
      "Curve Ratio =  1.22629503534\n"
     ]
    },
    {
     "name": "stderr",
     "output_type": "stream",
     "text": [
      "\r",
      "t:  69%|█████████████████████████████████████████████▌                    | 871/1260 [02:04<01:00,  6.44it/s, now=None]"
     ]
    },
    {
     "name": "stdout",
     "output_type": "stream",
     "text": [
      "Lane width mean =  4.12068988415\n",
      "Lane width min =  3.64185899318\n",
      "Lane width max =  4.56867123296\n",
      "Curve Ratio =  0.875637051662\n"
     ]
    },
    {
     "name": "stderr",
     "output_type": "stream",
     "text": [
      "\r",
      "t:  69%|█████████████████████████████████████████████▋                    | 872/1260 [02:05<01:01,  6.34it/s, now=None]"
     ]
    },
    {
     "name": "stdout",
     "output_type": "stream",
     "text": [
      "Lane width mean =  4.18415267886\n",
      "Lane width min =  3.60739166238\n",
      "Lane width max =  4.60791448032\n",
      "Curve Ratio =  0.397903289182\n"
     ]
    },
    {
     "name": "stderr",
     "output_type": "stream",
     "text": [
      "\r",
      "t:  69%|█████████████████████████████████████████████▋                    | 873/1260 [02:05<01:00,  6.36it/s, now=None]"
     ]
    },
    {
     "name": "stdout",
     "output_type": "stream",
     "text": [
      "Lane width mean =  4.18021960714\n",
      "Lane width min =  3.60657203633\n",
      "Lane width max =  4.5536212212\n",
      "Curve Ratio =  0.316353204298\n"
     ]
    },
    {
     "name": "stderr",
     "output_type": "stream",
     "text": [
      "\r",
      "t:  69%|█████████████████████████████████████████████▊                    | 874/1260 [02:05<00:59,  6.44it/s, now=None]"
     ]
    },
    {
     "name": "stdout",
     "output_type": "stream",
     "text": [
      "Lane width mean =  4.23569214506\n",
      "Lane width min =  3.65500261273\n",
      "Lane width max =  4.67231306024\n",
      "Curve Ratio =  0.521605902889\n"
     ]
    },
    {
     "name": "stderr",
     "output_type": "stream",
     "text": [
      "\r",
      "t:  69%|█████████████████████████████████████████████▊                    | 875/1260 [02:05<00:59,  6.43it/s, now=None]"
     ]
    },
    {
     "name": "stdout",
     "output_type": "stream",
     "text": [
      "Lane width mean =  4.21884789037\n",
      "Lane width min =  3.64934087332\n",
      "Lane width max =  4.59090346784\n",
      "Curve Ratio =  0.352866173067\n"
     ]
    },
    {
     "name": "stderr",
     "output_type": "stream",
     "text": [
      "\r",
      "t:  70%|█████████████████████████████████████████████▉                    | 876/1260 [02:05<01:01,  6.23it/s, now=None]"
     ]
    },
    {
     "name": "stdout",
     "output_type": "stream",
     "text": [
      "Lane width mean =  4.15069276664\n",
      "Lane width min =  3.64772903863\n",
      "Lane width max =  4.40840671468\n",
      "Curve Ratio =  0.106147360495\n"
     ]
    },
    {
     "name": "stderr",
     "output_type": "stream",
     "text": [
      "\r",
      "t:  70%|█████████████████████████████████████████████▉                    | 877/1260 [02:05<00:59,  6.45it/s, now=None]"
     ]
    },
    {
     "name": "stdout",
     "output_type": "stream",
     "text": [
      "Lane width mean =  4.18828132981\n",
      "Lane width min =  3.68394235295\n",
      "Lane width max =  4.48009137767\n",
      "Curve Ratio =  0.196134440514\n"
     ]
    },
    {
     "name": "stderr",
     "output_type": "stream",
     "text": [
      "\r",
      "t:  70%|█████████████████████████████████████████████▉                    | 878/1260 [02:05<00:59,  6.44it/s, now=None]"
     ]
    },
    {
     "name": "stdout",
     "output_type": "stream",
     "text": [
      "Lane width mean =  4.20466940527\n",
      "Lane width min =  3.73496247612\n",
      "Lane width max =  4.50244756062\n",
      "Curve Ratio =  0.341775359774\n"
     ]
    },
    {
     "name": "stderr",
     "output_type": "stream",
     "text": [
      "\r",
      "t:  70%|██████████████████████████████████████████████                    | 879/1260 [02:06<00:59,  6.43it/s, now=None]"
     ]
    },
    {
     "name": "stdout",
     "output_type": "stream",
     "text": [
      "Lane width mean =  4.17749479391\n",
      "Lane width min =  3.74544925131\n",
      "Lane width max =  4.47888588742\n",
      "Curve Ratio =  0.5428661495\n"
     ]
    },
    {
     "name": "stderr",
     "output_type": "stream",
     "text": [
      "\r",
      "t:  70%|██████████████████████████████████████████████                    | 880/1260 [02:06<00:59,  6.37it/s, now=None]"
     ]
    },
    {
     "name": "stdout",
     "output_type": "stream",
     "text": [
      "Lane width mean =  4.16153473333\n",
      "Lane width min =  3.73289973125\n",
      "Lane width max =  4.49015614136\n",
      "Curve Ratio =  0.640412903778\n"
     ]
    },
    {
     "name": "stderr",
     "output_type": "stream",
     "text": [
      "\r",
      "t:  70%|██████████████████████████████████████████████▏                   | 881/1260 [02:06<00:57,  6.58it/s, now=None]"
     ]
    },
    {
     "name": "stdout",
     "output_type": "stream",
     "text": [
      "Lane width mean =  4.15491568693\n",
      "Lane width min =  3.73674426651\n",
      "Lane width max =  4.49461969307\n",
      "Curve Ratio =  0.714293643755\n"
     ]
    },
    {
     "name": "stderr",
     "output_type": "stream",
     "text": [
      "\r",
      "t:  70%|██████████████████████████████████████████████▏                   | 882/1260 [02:06<00:57,  6.52it/s, now=None]"
     ]
    },
    {
     "name": "stdout",
     "output_type": "stream",
     "text": [
      "Lane width mean =  4.20951202136\n",
      "Lane width min =  3.70975966591\n",
      "Lane width max =  4.57678729467\n",
      "Curve Ratio =  0.476910652975\n"
     ]
    },
    {
     "name": "stderr",
     "output_type": "stream",
     "text": [
      "\r",
      "t:  70%|██████████████████████████████████████████████▎                   | 883/1260 [02:06<00:58,  6.49it/s, now=None]"
     ]
    },
    {
     "name": "stdout",
     "output_type": "stream",
     "text": [
      "Lane width mean =  4.18721651504\n",
      "Lane width min =  3.74074143179\n",
      "Lane width max =  4.6177926665\n",
      "Curve Ratio =  0.93155752122\n"
     ]
    },
    {
     "name": "stderr",
     "output_type": "stream",
     "text": [
      "\r",
      "t:  70%|██████████████████████████████████████████████▎                   | 884/1260 [02:06<00:58,  6.46it/s, now=None]"
     ]
    },
    {
     "name": "stdout",
     "output_type": "stream",
     "text": [
      "Lane width mean =  4.12458385675\n",
      "Lane width min =  3.72319130011\n",
      "Lane width max =  4.45879526526\n",
      "Curve Ratio =  0.670170569445\n"
     ]
    },
    {
     "name": "stderr",
     "output_type": "stream",
     "text": [
      "\r",
      "t:  70%|██████████████████████████████████████████████▎                   | 885/1260 [02:07<00:58,  6.44it/s, now=None]"
     ]
    },
    {
     "name": "stdout",
     "output_type": "stream",
     "text": [
      "Lane width mean =  4.08209886879\n",
      "Lane width min =  3.71357532116\n",
      "Lane width max =  4.32848335832\n",
      "Curve Ratio =  0.381253280501\n"
     ]
    },
    {
     "name": "stderr",
     "output_type": "stream",
     "text": [
      "\r",
      "t:  70%|██████████████████████████████████████████████▍                   | 886/1260 [02:07<00:58,  6.43it/s, now=None]"
     ]
    },
    {
     "name": "stdout",
     "output_type": "stream",
     "text": [
      "Lane width mean =  3.98202343329\n",
      "Lane width min =  3.68374368086\n",
      "Lane width max =  4.19394269645\n",
      "Curve Ratio =  0.469832795028\n"
     ]
    },
    {
     "name": "stderr",
     "output_type": "stream",
     "text": [
      "\r",
      "t:  70%|██████████████████████████████████████████████▍                   | 887/1260 [02:07<00:59,  6.32it/s, now=None]"
     ]
    },
    {
     "name": "stdout",
     "output_type": "stream",
     "text": [
      "Lane width mean =  4.00366570556\n",
      "Lane width min =  3.72554183164\n",
      "Lane width max =  4.22527790674\n",
      "Curve Ratio =  0.630540749671\n"
     ]
    },
    {
     "name": "stderr",
     "output_type": "stream",
     "text": [
      "\r",
      "t:  70%|██████████████████████████████████████████████▌                   | 888/1260 [02:07<00:59,  6.29it/s, now=None]"
     ]
    },
    {
     "name": "stdout",
     "output_type": "stream",
     "text": [
      "Lane width mean =  3.95291676925\n",
      "Lane width min =  3.74104423818\n",
      "Lane width max =  4.15743167472\n",
      "Curve Ratio =  0.956425893651\n"
     ]
    },
    {
     "name": "stderr",
     "output_type": "stream",
     "text": [
      "\r",
      "t:  71%|██████████████████████████████████████████████▌                   | 889/1260 [02:07<00:58,  6.31it/s, now=None]"
     ]
    },
    {
     "name": "stdout",
     "output_type": "stream",
     "text": [
      "Lane width mean =  3.95007744233\n",
      "Lane width min =  3.75929997904\n",
      "Lane width max =  4.21765001657\n",
      "Curve Ratio =  1.54827113121\n"
     ]
    },
    {
     "name": "stderr",
     "output_type": "stream",
     "text": [
      "\r",
      "t:  71%|██████████████████████████████████████████████▌                   | 890/1260 [02:07<00:57,  6.40it/s, now=None]"
     ]
    },
    {
     "name": "stdout",
     "output_type": "stream",
     "text": [
      "Lane width mean =  4.01131699371\n",
      "Lane width min =  3.76110475754\n",
      "Lane width max =  4.32077827278\n",
      "Curve Ratio =  1.36306684352\n"
     ]
    },
    {
     "name": "stderr",
     "output_type": "stream",
     "text": [
      "\r",
      "t:  71%|██████████████████████████████████████████████▋                   | 891/1260 [02:07<00:58,  6.28it/s, now=None]"
     ]
    },
    {
     "name": "stdout",
     "output_type": "stream",
     "text": [
      "Lane width mean =  4.02982001833\n",
      "Lane width min =  3.7625128954\n",
      "Lane width max =  4.35094328015\n",
      "Curve Ratio =  1.39111864954\n"
     ]
    },
    {
     "name": "stderr",
     "output_type": "stream",
     "text": [
      "\r",
      "t:  71%|██████████████████████████████████████████████▋                   | 892/1260 [02:08<00:58,  6.31it/s, now=None]"
     ]
    },
    {
     "name": "stdout",
     "output_type": "stream",
     "text": [
      "Lane width mean =  4.06473494569\n",
      "Lane width min =  3.75449839562\n",
      "Lane width max =  4.41136060422\n",
      "Curve Ratio =  1.27345746958\n"
     ]
    },
    {
     "name": "stderr",
     "output_type": "stream",
     "text": [
      "\r",
      "t:  71%|██████████████████████████████████████████████▊                   | 893/1260 [02:08<00:57,  6.37it/s, now=None]"
     ]
    },
    {
     "name": "stdout",
     "output_type": "stream",
     "text": [
      "Lane width mean =  4.04229302599\n",
      "Lane width min =  3.71267323612\n",
      "Lane width max =  4.35282776061\n",
      "Curve Ratio =  1.0\n"
     ]
    },
    {
     "name": "stderr",
     "output_type": "stream",
     "text": [
      "\r",
      "t:  71%|██████████████████████████████████████████████▊                   | 894/1260 [02:08<00:57,  6.40it/s, now=None]"
     ]
    },
    {
     "name": "stdout",
     "output_type": "stream",
     "text": [
      "Lane width mean =  4.01339159791\n",
      "Lane width min =  3.6571946631\n",
      "Lane width max =  4.29709634108\n",
      "Curve Ratio =  0.537374530039\n"
     ]
    },
    {
     "name": "stderr",
     "output_type": "stream",
     "text": [
      "\r",
      "t:  71%|██████████████████████████████████████████████▉                   | 895/1260 [02:08<00:57,  6.33it/s, now=None]"
     ]
    },
    {
     "name": "stdout",
     "output_type": "stream",
     "text": [
      "Lane width mean =  3.97780417849\n",
      "Lane width min =  3.67870154184\n",
      "Lane width max =  4.27663221619\n",
      "Curve Ratio =  0.996839659332\n"
     ]
    },
    {
     "name": "stderr",
     "output_type": "stream",
     "text": [
      "\r",
      "t:  71%|██████████████████████████████████████████████▉                   | 896/1260 [02:08<00:57,  6.37it/s, now=None]"
     ]
    },
    {
     "name": "stdout",
     "output_type": "stream",
     "text": [
      "Lane width mean =  3.95961138638\n",
      "Lane width min =  3.66029421481\n",
      "Lane width max =  4.22894905141\n",
      "Curve Ratio =  0.822712144242\n"
     ]
    },
    {
     "name": "stderr",
     "output_type": "stream",
     "text": [
      "\r",
      "t:  71%|██████████████████████████████████████████████▉                   | 897/1260 [02:08<00:56,  6.38it/s, now=None]"
     ]
    },
    {
     "name": "stdout",
     "output_type": "stream",
     "text": [
      "Lane width mean =  3.99473961065\n",
      "Lane width min =  3.67437437282\n",
      "Lane width max =  4.28614211694\n",
      "Curve Ratio =  0.821260807795\n"
     ]
    },
    {
     "name": "stderr",
     "output_type": "stream",
     "text": [
      "\r",
      "t:  71%|███████████████████████████████████████████████                   | 898/1260 [02:09<00:56,  6.42it/s, now=None]"
     ]
    },
    {
     "name": "stdout",
     "output_type": "stream",
     "text": [
      "Lane width mean =  4.00021880754\n",
      "Lane width min =  3.68408630858\n",
      "Lane width max =  4.31991220917\n",
      "Curve Ratio =  1.02180125793\n"
     ]
    },
    {
     "name": "stderr",
     "output_type": "stream",
     "text": [
      "\r",
      "t:  71%|███████████████████████████████████████████████                   | 899/1260 [02:09<00:57,  6.32it/s, now=None]"
     ]
    },
    {
     "name": "stdout",
     "output_type": "stream",
     "text": [
      "Lane width mean =  4.01615397236\n",
      "Lane width min =  3.68596476666\n",
      "Lane width max =  4.36586105573\n",
      "Curve Ratio =  1.12113006572\n"
     ]
    },
    {
     "name": "stderr",
     "output_type": "stream",
     "text": [
      "\r",
      "t:  71%|███████████████████████████████████████████████▏                  | 900/1260 [02:09<00:56,  6.33it/s, now=None]"
     ]
    },
    {
     "name": "stdout",
     "output_type": "stream",
     "text": [
      "Lane width mean =  3.97690048573\n",
      "Lane width min =  3.67989371586\n",
      "Lane width max =  4.30909562022\n",
      "Curve Ratio =  1.18307322787\n"
     ]
    },
    {
     "name": "stderr",
     "output_type": "stream",
     "text": [
      "\r",
      "t:  72%|███████████████████████████████████████████████▏                  | 901/1260 [02:09<00:55,  6.41it/s, now=None]"
     ]
    },
    {
     "name": "stdout",
     "output_type": "stream",
     "text": [
      "Lane width mean =  3.9378790621\n",
      "Lane width min =  3.67682424919\n",
      "Lane width max =  4.27825369785\n",
      "Curve Ratio =  1.37300864986\n"
     ]
    },
    {
     "name": "stderr",
     "output_type": "stream",
     "text": [
      "\r",
      "t:  72%|███████████████████████████████████████████████▏                  | 902/1260 [02:09<00:55,  6.41it/s, now=None]"
     ]
    },
    {
     "name": "stdout",
     "output_type": "stream",
     "text": [
      "Lane width mean =  3.98339991226\n",
      "Lane width min =  3.68783312481\n",
      "Lane width max =  4.35709975153\n",
      "Curve Ratio =  1.36795956003\n"
     ]
    },
    {
     "name": "stderr",
     "output_type": "stream",
     "text": [
      "\r",
      "t:  72%|███████████████████████████████████████████████▎                  | 903/1260 [02:09<00:55,  6.41it/s, now=None]"
     ]
    },
    {
     "name": "stdout",
     "output_type": "stream",
     "text": [
      "Lane width mean =  4.01096353395\n",
      "Lane width min =  3.67736860477\n",
      "Lane width max =  4.42949383367\n",
      "Curve Ratio =  1.36796501459\n"
     ]
    },
    {
     "name": "stderr",
     "output_type": "stream",
     "text": [
      "\r",
      "t:  72%|███████████████████████████████████████████████▎                  | 904/1260 [02:10<00:54,  6.49it/s, now=None]"
     ]
    },
    {
     "name": "stdout",
     "output_type": "stream",
     "text": [
      "Lane width mean =  4.06231605544\n",
      "Lane width min =  3.69030782904\n",
      "Lane width max =  4.54291465588\n",
      "Curve Ratio =  1.45765054326\n"
     ]
    },
    {
     "name": "stderr",
     "output_type": "stream",
     "text": [
      "\r",
      "t:  72%|███████████████████████████████████████████████▍                  | 905/1260 [02:10<00:54,  6.46it/s, now=None]"
     ]
    },
    {
     "name": "stdout",
     "output_type": "stream",
     "text": [
      "Lane width mean =  4.09465018919\n",
      "Lane width min =  3.70203270085\n",
      "Lane width max =  4.60965485256\n",
      "Curve Ratio =  1.53631759154\n"
     ]
    },
    {
     "name": "stderr",
     "output_type": "stream",
     "text": [
      "\r",
      "t:  72%|███████████████████████████████████████████████▍                  | 906/1260 [02:10<00:53,  6.65it/s, now=None]"
     ]
    },
    {
     "name": "stdout",
     "output_type": "stream",
     "text": [
      "Lane width mean =  4.06876100664\n",
      "Lane width min =  3.6261021681\n",
      "Lane width max =  4.51311622313\n",
      "Curve Ratio =  1.00560083443\n"
     ]
    },
    {
     "name": "stderr",
     "output_type": "stream",
     "text": [
      "\r",
      "t:  72%|███████████████████████████████████████████████▌                  | 907/1260 [02:10<00:55,  6.35it/s, now=None]"
     ]
    },
    {
     "name": "stdout",
     "output_type": "stream",
     "text": [
      "Lane width mean =  4.09644348535\n",
      "Lane width min =  3.6137091812\n",
      "Lane width max =  4.52879429656\n",
      "Curve Ratio =  0.795570471195\n"
     ]
    },
    {
     "name": "stderr",
     "output_type": "stream",
     "text": [
      "\r",
      "t:  72%|███████████████████████████████████████████████▌                  | 908/1260 [02:10<00:54,  6.44it/s, now=None]"
     ]
    },
    {
     "name": "stdout",
     "output_type": "stream",
     "text": [
      "Lane width mean =  4.05219163945\n",
      "Lane width min =  3.64354152599\n",
      "Lane width max =  4.47596753622\n",
      "Curve Ratio =  1.05260182905\n"
     ]
    },
    {
     "name": "stderr",
     "output_type": "stream",
     "text": [
      "\r",
      "t:  72%|███████████████████████████████████████████████▌                  | 909/1260 [02:10<00:54,  6.43it/s, now=None]"
     ]
    },
    {
     "name": "stdout",
     "output_type": "stream",
     "text": [
      "Lane width mean =  4.03772338362\n",
      "Lane width min =  3.61583216797\n",
      "Lane width max =  4.40224023571\n",
      "Curve Ratio =  0.807433158699\n"
     ]
    },
    {
     "name": "stderr",
     "output_type": "stream",
     "text": [
      "\r",
      "t:  72%|███████████████████████████████████████████████▋                  | 910/1260 [02:10<00:52,  6.62it/s, now=None]"
     ]
    },
    {
     "name": "stdout",
     "output_type": "stream",
     "text": [
      "Lane width mean =  3.98856430544\n",
      "Lane width min =  3.60683196663\n",
      "Lane width max =  4.29712372494\n",
      "Curve Ratio =  0.767044304087\n"
     ]
    },
    {
     "name": "stderr",
     "output_type": "stream",
     "text": [
      "\r",
      "t:  72%|███████████████████████████████████████████████▋                  | 911/1260 [02:11<00:53,  6.48it/s, now=None]"
     ]
    },
    {
     "name": "stdout",
     "output_type": "stream",
     "text": [
      "Lane width mean =  3.98663340087\n",
      "Lane width min =  3.61415682375\n",
      "Lane width max =  4.29187162036\n",
      "Curve Ratio =  0.803288268205\n"
     ]
    },
    {
     "name": "stderr",
     "output_type": "stream",
     "text": [
      "\r",
      "t:  72%|███████████████████████████████████████████████▊                  | 912/1260 [02:11<00:53,  6.46it/s, now=None]"
     ]
    },
    {
     "name": "stdout",
     "output_type": "stream",
     "text": [
      "Lane width mean =  4.03356858494\n",
      "Lane width min =  3.63185798995\n",
      "Lane width max =  4.34558897973\n",
      "Curve Ratio =  0.738232175816\n"
     ]
    },
    {
     "name": "stderr",
     "output_type": "stream",
     "text": [
      "\r",
      "t:  72%|███████████████████████████████████████████████▊                  | 913/1260 [02:11<00:52,  6.64it/s, now=None]"
     ]
    },
    {
     "name": "stdout",
     "output_type": "stream",
     "text": [
      "Lane width mean =  3.98857477218\n",
      "Lane width min =  3.63703469075\n",
      "Lane width max =  4.29397941286\n",
      "Curve Ratio =  0.869067506722\n"
     ]
    },
    {
     "name": "stderr",
     "output_type": "stream",
     "text": [
      "\r",
      "t:  73%|███████████████████████████████████████████████▉                  | 914/1260 [02:11<00:53,  6.46it/s, now=None]"
     ]
    },
    {
     "name": "stdout",
     "output_type": "stream",
     "text": [
      "Lane width mean =  3.99255242134\n",
      "Lane width min =  3.650401253\n",
      "Lane width max =  4.3191269761\n",
      "Curve Ratio =  0.955871865039\n"
     ]
    },
    {
     "name": "stderr",
     "output_type": "stream",
     "text": [
      "\r",
      "t:  73%|███████████████████████████████████████████████▉                  | 915/1260 [02:11<00:52,  6.53it/s, now=None]"
     ]
    },
    {
     "name": "stdout",
     "output_type": "stream",
     "text": [
      "Lane width mean =  4.02931995216\n",
      "Lane width min =  3.64836470965\n",
      "Lane width max =  4.36328437169\n",
      "Curve Ratio =  0.868163129731\n"
     ]
    },
    {
     "name": "stderr",
     "output_type": "stream",
     "text": [
      "\r",
      "t:  73%|███████████████████████████████████████████████▉                  | 916/1260 [02:11<00:53,  6.49it/s, now=None]"
     ]
    },
    {
     "name": "stdout",
     "output_type": "stream",
     "text": [
      "Lane width mean =  4.00725156969\n",
      "Lane width min =  3.62840317026\n",
      "Lane width max =  4.29741573128\n",
      "Curve Ratio =  0.763602907114\n"
     ]
    },
    {
     "name": "stderr",
     "output_type": "stream",
     "text": [
      "\r",
      "t:  73%|████████████████████████████████████████████████                  | 917/1260 [02:12<00:53,  6.46it/s, now=None]"
     ]
    },
    {
     "name": "stdout",
     "output_type": "stream",
     "text": [
      "Lane width mean =  4.05148028373\n",
      "Lane width min =  3.59501677983\n",
      "Lane width max =  4.3699307125\n",
      "Curve Ratio =  0.617914760496\n"
     ]
    },
    {
     "name": "stderr",
     "output_type": "stream",
     "text": [
      "\r",
      "t:  73%|████████████████████████████████████████████████                  | 918/1260 [02:12<00:53,  6.40it/s, now=None]"
     ]
    },
    {
     "name": "stdout",
     "output_type": "stream",
     "text": [
      "Lane width mean =  4.00702446999\n",
      "Lane width min =  3.5188737124\n",
      "Lane width max =  4.24682381391\n",
      "Curve Ratio =  0.276738149641\n"
     ]
    },
    {
     "name": "stderr",
     "output_type": "stream",
     "text": [
      "\r",
      "t:  73%|████████████████████████████████████████████████▏                 | 919/1260 [02:12<00:53,  6.40it/s, now=None]"
     ]
    },
    {
     "name": "stdout",
     "output_type": "stream",
     "text": [
      "Lane width mean =  4.0305510766\n",
      "Lane width min =  3.55372248096\n",
      "Lane width max =  4.25953753453\n",
      "Curve Ratio =  0.255611298158\n"
     ]
    },
    {
     "name": "stderr",
     "output_type": "stream",
     "text": [
      "\r",
      "t:  73%|████████████████████████████████████████████████▏                 | 920/1260 [02:12<00:54,  6.27it/s, now=None]"
     ]
    },
    {
     "name": "stdout",
     "output_type": "stream",
     "text": [
      "Lane width mean =  3.99868617119\n",
      "Lane width min =  3.58642682963\n",
      "Lane width max =  4.20844138298\n",
      "Curve Ratio =  0.360892021061\n"
     ]
    },
    {
     "name": "stderr",
     "output_type": "stream",
     "text": [
      "\r",
      "t:  73%|████████████████████████████████████████████████▏                 | 921/1260 [02:12<00:53,  6.29it/s, now=None]"
     ]
    },
    {
     "name": "stdout",
     "output_type": "stream",
     "text": [
      "Lane width mean =  3.95715970721\n",
      "Lane width min =  3.61567841098\n",
      "Lane width max =  4.11963503007\n",
      "Curve Ratio =  0.377917833055\n"
     ]
    },
    {
     "name": "stderr",
     "output_type": "stream",
     "text": [
      "\r",
      "t:  73%|████████████████████████████████████████████████▎                 | 922/1260 [02:12<00:53,  6.36it/s, now=None]"
     ]
    },
    {
     "name": "stdout",
     "output_type": "stream",
     "text": [
      "Lane width mean =  3.97302763587\n",
      "Lane width min =  3.65251251137\n",
      "Lane width max =  4.16836043111\n",
      "Curve Ratio =  0.564901598849\n"
     ]
    },
    {
     "name": "stderr",
     "output_type": "stream",
     "text": [
      "\r",
      "t:  73%|████████████████████████████████████████████████▎                 | 923/1260 [02:12<00:53,  6.29it/s, now=None]"
     ]
    },
    {
     "name": "stdout",
     "output_type": "stream",
     "text": [
      "Lane width mean =  3.96075941168\n",
      "Lane width min =  3.68099985181\n",
      "Lane width max =  4.15352397706\n",
      "Curve Ratio =  0.684635279964\n"
     ]
    },
    {
     "name": "stderr",
     "output_type": "stream",
     "text": [
      "\r",
      "t:  73%|████████████████████████████████████████████████▍                 | 924/1260 [02:13<00:53,  6.25it/s, now=None]"
     ]
    },
    {
     "name": "stdout",
     "output_type": "stream",
     "text": [
      "Lane width mean =  3.97273877515\n",
      "Lane width min =  3.69788882573\n",
      "Lane width max =  4.18463495427\n",
      "Curve Ratio =  0.751561443473\n"
     ]
    },
    {
     "name": "stderr",
     "output_type": "stream",
     "text": [
      "\r",
      "t:  73%|████████████████████████████████████████████████▍                 | 925/1260 [02:13<00:53,  6.27it/s, now=None]"
     ]
    },
    {
     "name": "stdout",
     "output_type": "stream",
     "text": [
      "Lane width mean =  3.90377255227\n",
      "Lane width min =  3.70694194906\n",
      "Lane width max =  4.10622909605\n",
      "Curve Ratio =  1.01978598278\n"
     ]
    },
    {
     "name": "stderr",
     "output_type": "stream",
     "text": [
      "\r",
      "t:  73%|████████████████████████████████████████████████▌                 | 926/1260 [02:13<00:52,  6.31it/s, now=None]"
     ]
    },
    {
     "name": "stdout",
     "output_type": "stream",
     "text": [
      "Lane width mean =  3.8848427572\n",
      "Lane width min =  3.71172850703\n",
      "Lane width max =  4.08387212418\n",
      "Curve Ratio =  1.10138259089\n"
     ]
    },
    {
     "name": "stderr",
     "output_type": "stream",
     "text": [
      "\r",
      "t:  74%|████████████████████████████████████████████████▌                 | 927/1260 [02:13<00:54,  6.15it/s, now=None]"
     ]
    },
    {
     "name": "stdout",
     "output_type": "stream",
     "text": [
      "Lane width mean =  3.91988726196\n",
      "Lane width min =  3.72686343354\n",
      "Lane width max =  4.12192844843\n",
      "Curve Ratio =  1.03750878974\n"
     ]
    },
    {
     "name": "stderr",
     "output_type": "stream",
     "text": [
      "\r",
      "t:  74%|████████████████████████████████████████████████▌                 | 928/1260 [02:13<00:52,  6.30it/s, now=None]"
     ]
    },
    {
     "name": "stdout",
     "output_type": "stream",
     "text": [
      "Lane width mean =  3.92987987976\n",
      "Lane width min =  3.73114680715\n",
      "Lane width max =  4.15178330628\n",
      "Curve Ratio =  1.09798924471\n"
     ]
    },
    {
     "name": "stderr",
     "output_type": "stream",
     "text": [
      "\r",
      "t:  74%|████████████████████████████████████████████████▋                 | 929/1260 [02:13<00:52,  6.34it/s, now=None]"
     ]
    },
    {
     "name": "stdout",
     "output_type": "stream",
     "text": [
      "Lane width mean =  3.96860726636\n",
      "Lane width min =  3.72898430197\n",
      "Lane width max =  4.24555523137\n",
      "Curve Ratio =  1.16553952979\n"
     ]
    },
    {
     "name": "stderr",
     "output_type": "stream",
     "text": [
      "\r",
      "t:  74%|████████████████████████████████████████████████▋                 | 930/1260 [02:14<00:50,  6.49it/s, now=None]"
     ]
    },
    {
     "name": "stdout",
     "output_type": "stream",
     "text": [
      "Lane width mean =  3.94132240556\n",
      "Lane width min =  3.72370168405\n",
      "Lane width max =  4.19684047642\n",
      "Curve Ratio =  1.17885341212\n"
     ]
    },
    {
     "name": "stderr",
     "output_type": "stream",
     "text": [
      "\r",
      "t:  74%|████████████████████████████████████████████████▊                 | 931/1260 [02:14<00:52,  6.21it/s, now=None]"
     ]
    },
    {
     "name": "stdout",
     "output_type": "stream",
     "text": [
      "Lane width mean =  3.92311471824\n",
      "Lane width min =  3.70855327355\n",
      "Lane width max =  4.16249034288\n",
      "Curve Ratio =  1.10409288311\n"
     ]
    },
    {
     "name": "stderr",
     "output_type": "stream",
     "text": [
      "\r",
      "t:  74%|████████████████████████████████████████████████▊                 | 932/1260 [02:14<00:52,  6.21it/s, now=None]"
     ]
    },
    {
     "name": "stdout",
     "output_type": "stream",
     "text": [
      "Lane width mean =  3.93907171949\n",
      "Lane width min =  3.71675299239\n",
      "Lane width max =  4.20289326316\n",
      "Curve Ratio =  1.17073494123\n"
     ]
    },
    {
     "name": "stderr",
     "output_type": "stream",
     "text": [
      "\r",
      "t:  74%|████████████████████████████████████████████████▊                 | 933/1260 [02:14<00:51,  6.35it/s, now=None]"
     ]
    },
    {
     "name": "stdout",
     "output_type": "stream",
     "text": [
      "Lane width mean =  3.90894196057\n",
      "Lane width min =  3.71007488975\n",
      "Lane width max =  4.14818447105\n",
      "Curve Ratio =  1.15141614182\n"
     ]
    },
    {
     "name": "stderr",
     "output_type": "stream",
     "text": [
      "\r",
      "t:  74%|████████████████████████████████████████████████▉                 | 934/1260 [02:14<00:52,  6.25it/s, now=None]"
     ]
    },
    {
     "name": "stdout",
     "output_type": "stream",
     "text": [
      "Lane width mean =  3.9351300408\n",
      "Lane width min =  3.69952479186\n",
      "Lane width max =  4.1683053313\n",
      "Curve Ratio =  0.990658619786\n"
     ]
    },
    {
     "name": "stderr",
     "output_type": "stream",
     "text": [
      "\r",
      "t:  74%|████████████████████████████████████████████████▉                 | 935/1260 [02:14<00:52,  6.16it/s, now=None]"
     ]
    },
    {
     "name": "stdout",
     "output_type": "stream",
     "text": [
      "Lane width mean =  3.90241140647\n",
      "Lane width min =  3.70652398674\n",
      "Lane width max =  4.14382896135\n",
      "Curve Ratio =  1.16066596344\n"
     ]
    },
    {
     "name": "stderr",
     "output_type": "stream",
     "text": [
      "\r",
      "t:  74%|█████████████████████████████████████████████████                 | 936/1260 [02:15<00:53,  6.08it/s, now=None]"
     ]
    },
    {
     "name": "stdout",
     "output_type": "stream",
     "text": [
      "Lane width mean =  3.89145164492\n",
      "Lane width min =  3.70219245333\n",
      "Lane width max =  4.17296384931\n",
      "Curve Ratio =  1.29636357169\n"
     ]
    },
    {
     "name": "stderr",
     "output_type": "stream",
     "text": [
      "\r",
      "t:  74%|█████████████████████████████████████████████████                 | 937/1260 [02:15<00:52,  6.11it/s, now=None]"
     ]
    },
    {
     "name": "stdout",
     "output_type": "stream",
     "text": [
      "Lane width mean =  3.90851044753\n",
      "Lane width min =  3.69971274517\n",
      "Lane width max =  4.19951792745\n",
      "Curve Ratio =  1.26647063965\n"
     ]
    },
    {
     "name": "stderr",
     "output_type": "stream",
     "text": [
      "\r",
      "t:  74%|█████████████████████████████████████████████████▏                | 938/1260 [02:15<00:52,  6.16it/s, now=None]"
     ]
    },
    {
     "name": "stdout",
     "output_type": "stream",
     "text": [
      "Lane width mean =  3.90018991432\n",
      "Lane width min =  3.68273448011\n",
      "Lane width max =  4.20449693822\n",
      "Curve Ratio =  1.26051385704\n"
     ]
    },
    {
     "name": "stderr",
     "output_type": "stream",
     "text": [
      "\r",
      "t:  75%|█████████████████████████████████████████████████▏                | 939/1260 [02:15<00:51,  6.20it/s, now=None]"
     ]
    },
    {
     "name": "stdout",
     "output_type": "stream",
     "text": [
      "Lane width mean =  3.90896332185\n",
      "Lane width min =  3.66741860866\n",
      "Lane width max =  4.17425208343\n",
      "Curve Ratio =  1.07114452612\n"
     ]
    },
    {
     "name": "stderr",
     "output_type": "stream",
     "text": [
      "\r",
      "t:  75%|█████████████████████████████████████████████████▏                | 940/1260 [02:15<00:50,  6.35it/s, now=None]"
     ]
    },
    {
     "name": "stdout",
     "output_type": "stream",
     "text": [
      "Lane width mean =  3.90069938049\n",
      "Lane width min =  3.64909590244\n",
      "Lane width max =  4.19644487604\n",
      "Curve Ratio =  1.13211424373\n"
     ]
    },
    {
     "name": "stderr",
     "output_type": "stream",
     "text": [
      "\r",
      "t:  75%|█████████████████████████████████████████████████▎                | 941/1260 [02:15<00:51,  6.21it/s, now=None]"
     ]
    },
    {
     "name": "stdout",
     "output_type": "stream",
     "text": [
      "Lane width mean =  3.8926090424\n",
      "Lane width min =  3.58687569387\n",
      "Lane width max =  4.15963200095\n",
      "Curve Ratio =  0.886282390734\n"
     ]
    },
    {
     "name": "stderr",
     "output_type": "stream",
     "text": [
      "\r",
      "t:  75%|█████████████████████████████████████████████████▎                | 942/1260 [02:15<00:49,  6.38it/s, now=None]"
     ]
    },
    {
     "name": "stdout",
     "output_type": "stream",
     "text": [
      "Lane width mean =  3.91236900091\n",
      "Lane width min =  3.59119468498\n",
      "Lane width max =  4.16437868408\n",
      "Curve Ratio =  0.79774985601\n"
     ]
    },
    {
     "name": "stderr",
     "output_type": "stream",
     "text": [
      "\r",
      "t:  75%|█████████████████████████████████████████████████▍                | 943/1260 [02:16<00:50,  6.28it/s, now=None]"
     ]
    },
    {
     "name": "stdout",
     "output_type": "stream",
     "text": [
      "Lane width mean =  3.87780647225\n",
      "Lane width min =  3.55832442807\n",
      "Lane width max =  4.04752253684\n",
      "Curve Ratio =  0.565742731476\n"
     ]
    },
    {
     "name": "stderr",
     "output_type": "stream",
     "text": [
      "\r",
      "t:  75%|█████████████████████████████████████████████████▍                | 944/1260 [02:16<00:51,  6.15it/s, now=None]"
     ]
    },
    {
     "name": "stdout",
     "output_type": "stream",
     "text": [
      "Lane width mean =  3.97299987578\n",
      "Lane width min =  3.5810908408\n",
      "Lane width max =  4.20805851277\n",
      "Curve Ratio =  0.524259735016\n"
     ]
    },
    {
     "name": "stderr",
     "output_type": "stream",
     "text": [
      "\r",
      "t:  75%|█████████████████████████████████████████████████▌                | 945/1260 [02:16<00:51,  6.08it/s, now=None]"
     ]
    },
    {
     "name": "stdout",
     "output_type": "stream",
     "text": [
      "Lane width mean =  3.9213017742\n",
      "Lane width min =  3.60936257788\n",
      "Lane width max =  4.12189175109\n",
      "Curve Ratio =  0.61221745396\n"
     ]
    },
    {
     "name": "stderr",
     "output_type": "stream",
     "text": [
      "\r",
      "t:  75%|█████████████████████████████████████████████████▌                | 946/1260 [02:16<00:50,  6.26it/s, now=None]"
     ]
    },
    {
     "name": "stdout",
     "output_type": "stream",
     "text": [
      "Lane width mean =  3.92199473862\n",
      "Lane width min =  3.59659201022\n",
      "Lane width max =  4.07959686503\n",
      "Curve Ratio =  0.481647800439\n"
     ]
    },
    {
     "name": "stderr",
     "output_type": "stream",
     "text": [
      "\r",
      "t:  75%|█████████████████████████████████████████████████▌                | 947/1260 [02:16<00:51,  6.12it/s, now=None]"
     ]
    },
    {
     "name": "stdout",
     "output_type": "stream",
     "text": [
      "Lane width mean =  3.97077770143\n",
      "Lane width min =  3.64059747064\n",
      "Lane width max =  4.18793732448\n",
      "Curve Ratio =  0.614582264101\n"
     ]
    },
    {
     "name": "stderr",
     "output_type": "stream",
     "text": [
      "\r",
      "t:  75%|█████████████████████████████████████████████████▋                | 948/1260 [02:16<00:51,  6.11it/s, now=None]"
     ]
    },
    {
     "name": "stdout",
     "output_type": "stream",
     "text": [
      "Lane width mean =  3.92207828477\n",
      "Lane width min =  3.65271689531\n",
      "Lane width max =  4.11908807298\n",
      "Curve Ratio =  0.735104473689\n"
     ]
    },
    {
     "name": "stderr",
     "output_type": "stream",
     "text": [
      "\r",
      "t:  75%|█████████████████████████████████████████████████▋                | 949/1260 [02:17<00:50,  6.18it/s, now=None]"
     ]
    },
    {
     "name": "stdout",
     "output_type": "stream",
     "text": [
      "Lane width mean =  3.96553815056\n",
      "Lane width min =  3.68331672835\n",
      "Lane width max =  4.20120381222\n",
      "Curve Ratio =  0.829722979941\n"
     ]
    },
    {
     "name": "stderr",
     "output_type": "stream",
     "text": [
      "\r",
      "t:  75%|█████████████████████████████████████████████████▊                | 950/1260 [02:17<00:50,  6.10it/s, now=None]"
     ]
    },
    {
     "name": "stdout",
     "output_type": "stream",
     "text": [
      "Lane width mean =  3.97673658142\n",
      "Lane width min =  3.69066029822\n",
      "Lane width max =  4.26462999462\n",
      "Curve Ratio =  1.00573899418\n"
     ]
    },
    {
     "name": "stderr",
     "output_type": "stream",
     "text": [
      "\r",
      "t:  75%|█████████████████████████████████████████████████▊                | 951/1260 [02:17<00:50,  6.14it/s, now=None]"
     ]
    },
    {
     "name": "stdout",
     "output_type": "stream",
     "text": [
      "Lane width mean =  4.00887469773\n",
      "Lane width min =  3.69395484144\n",
      "Lane width max =  4.33238890933\n",
      "Curve Ratio =  1.0307209498\n"
     ]
    },
    {
     "name": "stderr",
     "output_type": "stream",
     "text": [
      "\r",
      "t:  76%|█████████████████████████████████████████████████▊                | 952/1260 [02:17<00:50,  6.13it/s, now=None]"
     ]
    },
    {
     "name": "stdout",
     "output_type": "stream",
     "text": [
      "Lane width mean =  4.0886737264\n",
      "Lane width min =  3.70601331052\n",
      "Lane width max =  4.4514687682\n",
      "Curve Ratio =  0.920412618544\n"
     ]
    },
    {
     "name": "stderr",
     "output_type": "stream",
     "text": [
      "\r",
      "t:  76%|█████████████████████████████████████████████████▉                | 953/1260 [02:17<00:49,  6.16it/s, now=None]"
     ]
    },
    {
     "name": "stdout",
     "output_type": "stream",
     "text": [
      "Lane width mean =  4.01110820378\n",
      "Lane width min =  3.62439176487\n",
      "Lane width max =  4.27342316434\n",
      "Curve Ratio =  0.510115946185\n"
     ]
    },
    {
     "name": "stderr",
     "output_type": "stream",
     "text": [
      "\r",
      "t:  76%|█████████████████████████████████████████████████▉                | 954/1260 [02:17<00:49,  6.20it/s, now=None]"
     ]
    },
    {
     "name": "stdout",
     "output_type": "stream",
     "text": [
      "Lane width mean =  4.06545536578\n",
      "Lane width min =  3.61806201695\n",
      "Lane width max =  4.33447991809\n",
      "Curve Ratio =  0.247300487071\n"
     ]
    },
    {
     "name": "stderr",
     "output_type": "stream",
     "text": [
      "\r",
      "t:  76%|██████████████████████████████████████████████████                | 955/1260 [02:18<00:49,  6.18it/s, now=None]"
     ]
    },
    {
     "name": "stdout",
     "output_type": "stream",
     "text": [
      "Lane width mean =  4.02194885408\n",
      "Lane width min =  3.64103381769\n",
      "Lane width max =  4.22774920121\n",
      "Curve Ratio =  0.300597913352\n"
     ]
    },
    {
     "name": "stderr",
     "output_type": "stream",
     "text": [
      "\r",
      "t:  76%|██████████████████████████████████████████████████                | 956/1260 [02:18<00:49,  6.12it/s, now=None]"
     ]
    },
    {
     "name": "stdout",
     "output_type": "stream",
     "text": [
      "Lane width mean =  3.94901060155\n",
      "Lane width min =  3.62573328925\n",
      "Lane width max =  4.06774723561\n",
      "Curve Ratio =  0.143037827233\n"
     ]
    },
    {
     "name": "stderr",
     "output_type": "stream",
     "text": [
      "\r",
      "t:  76%|██████████████████████████████████████████████████▏               | 957/1260 [02:18<00:48,  6.21it/s, now=None]"
     ]
    },
    {
     "name": "stdout",
     "output_type": "stream",
     "text": [
      "Lane width mean =  3.98612122825\n",
      "Lane width min =  3.64313666143\n",
      "Lane width max =  4.1119950677\n",
      "Curve Ratio =  0.0394325739313\n"
     ]
    },
    {
     "name": "stderr",
     "output_type": "stream",
     "text": [
      "\r",
      "t:  76%|██████████████████████████████████████████████████▏               | 958/1260 [02:18<00:48,  6.19it/s, now=None]"
     ]
    },
    {
     "name": "stdout",
     "output_type": "stream",
     "text": [
      "Lane width mean =  3.92037265484\n",
      "Lane width min =  3.66279634873\n",
      "Lane width max =  4.00742103957\n",
      "Curve Ratio =  0.16703905194\n"
     ]
    },
    {
     "name": "stderr",
     "output_type": "stream",
     "text": [
      "\r",
      "t:  76%|██████████████████████████████████████████████████▏               | 959/1260 [02:18<00:48,  6.26it/s, now=None]"
     ]
    },
    {
     "name": "stdout",
     "output_type": "stream",
     "text": [
      "Lane width mean =  3.97057705767\n",
      "Lane width min =  3.69728633228\n",
      "Lane width max =  4.0703812694\n",
      "Curve Ratio =  0.210614083359\n"
     ]
    },
    {
     "name": "stderr",
     "output_type": "stream",
     "text": [
      "\r",
      "t:  76%|██████████████████████████████████████████████████▎               | 960/1260 [02:18<00:48,  6.19it/s, now=None]"
     ]
    },
    {
     "name": "stdout",
     "output_type": "stream",
     "text": [
      "Lane width mean =  3.90383082645\n",
      "Lane width min =  3.72825619544\n",
      "Lane width max =  4.01837676522\n",
      "Curve Ratio =  0.720140011244\n"
     ]
    },
    {
     "name": "stderr",
     "output_type": "stream",
     "text": [
      "\r",
      "t:  76%|██████████████████████████████████████████████████▎               | 961/1260 [02:19<00:46,  6.44it/s, now=None]"
     ]
    },
    {
     "name": "stdout",
     "output_type": "stream",
     "text": [
      "Lane width mean =  3.88839377283\n",
      "Lane width min =  3.73083512345\n",
      "Lane width max =  3.96693651309\n",
      "Curve Ratio =  0.660075022819\n"
     ]
    },
    {
     "name": "stderr",
     "output_type": "stream",
     "text": [
      "\r",
      "t:  76%|██████████████████████████████████████████████████▍               | 962/1260 [02:19<00:47,  6.28it/s, now=None]"
     ]
    },
    {
     "name": "stdout",
     "output_type": "stream",
     "text": [
      "Lane width mean =  3.9200595123\n",
      "Lane width min =  3.73975119631\n",
      "Lane width max =  4.06917547359\n",
      "Curve Ratio =  0.845599963316\n"
     ]
    },
    {
     "name": "stderr",
     "output_type": "stream",
     "text": [
      "\r",
      "t:  76%|██████████████████████████████████████████████████▍               | 963/1260 [02:19<00:47,  6.24it/s, now=None]"
     ]
    },
    {
     "name": "stdout",
     "output_type": "stream",
     "text": [
      "Lane width mean =  3.89251470427\n",
      "Lane width min =  3.7633908449\n",
      "Lane width max =  4.09421953477\n",
      "Curve Ratio =  1.51320284699\n"
     ]
    },
    {
     "name": "stderr",
     "output_type": "stream",
     "text": [
      "\r",
      "t:  77%|██████████████████████████████████████████████████▍               | 964/1260 [02:19<00:48,  6.08it/s, now=None]"
     ]
    },
    {
     "name": "stdout",
     "output_type": "stream",
     "text": [
      "Lane width mean =  3.92021654094\n",
      "Lane width min =  3.75350377974\n",
      "Lane width max =  4.12817005863\n",
      "Curve Ratio =  1.34514168042\n"
     ]
    },
    {
     "name": "stderr",
     "output_type": "stream",
     "text": [
      "\r",
      "t:  77%|██████████████████████████████████████████████████▌               | 965/1260 [02:19<00:48,  6.14it/s, now=None]"
     ]
    },
    {
     "name": "stdout",
     "output_type": "stream",
     "text": [
      "Lane width mean =  3.8593026838\n",
      "Lane width min =  3.66682288224\n",
      "Lane width max =  3.96563910304\n",
      "Curve Ratio =  1.0\n"
     ]
    },
    {
     "name": "stderr",
     "output_type": "stream",
     "text": [
      "t:  77%|██████████████████████████████████████████████████▊               | 970/1260 [02:20<00:41,  7.03it/s, now=None]"
     ]
    },
    {
     "name": "stdout",
     "output_type": "stream",
     "text": [
      "Lane width mean =  3.87800032845\n",
      "Lane width min =  3.70752349137\n",
      "Lane width max =  4.0298605067\n",
      "Curve Ratio =  1.0\n"
     ]
    },
    {
     "name": "stderr",
     "output_type": "stream",
     "text": [
      "\r",
      "t:  77%|██████████████████████████████████████████████████▊               | 971/1260 [02:20<00:42,  6.75it/s, now=None]"
     ]
    },
    {
     "name": "stdout",
     "output_type": "stream",
     "text": [
      "Lane width mean =  3.8756398679\n",
      "Lane width min =  3.72653562827\n",
      "Lane width max =  4.0515991044\n",
      "Curve Ratio =  1.0\n"
     ]
    },
    {
     "name": "stderr",
     "output_type": "stream",
     "text": [
      "\r",
      "t:  77%|██████████████████████████████████████████████████▉               | 972/1260 [02:20<00:42,  6.78it/s, now=None]"
     ]
    },
    {
     "name": "stdout",
     "output_type": "stream",
     "text": [
      "Lane width mean =  3.90186554387\n",
      "Lane width min =  3.73925099898\n",
      "Lane width max =  4.14009738635\n",
      "Curve Ratio =  1.0\n"
     ]
    },
    {
     "name": "stderr",
     "output_type": "stream",
     "text": [
      "\r",
      "t:  77%|██████████████████████████████████████████████████▉               | 973/1260 [02:20<00:44,  6.48it/s, now=None]"
     ]
    },
    {
     "name": "stdout",
     "output_type": "stream",
     "text": [
      "Lane width mean =  3.87922355306\n",
      "Lane width min =  3.73859821489\n",
      "Lane width max =  4.18021957209\n",
      "Curve Ratio =  4.67677493512\n"
     ]
    },
    {
     "name": "stderr",
     "output_type": "stream",
     "text": [
      "\r",
      "t:  77%|███████████████████████████████████████████████████               | 974/1260 [02:21<00:44,  6.37it/s, now=None]"
     ]
    },
    {
     "name": "stdout",
     "output_type": "stream",
     "text": [
      "Lane width mean =  3.90965485375\n",
      "Lane width min =  3.73310157439\n",
      "Lane width max =  4.2057709212\n",
      "Curve Ratio =  2.75598359207\n"
     ]
    },
    {
     "name": "stderr",
     "output_type": "stream",
     "text": [
      "\r",
      "t:  77%|███████████████████████████████████████████████████               | 975/1260 [02:21<00:43,  6.57it/s, now=None]"
     ]
    },
    {
     "name": "stdout",
     "output_type": "stream",
     "text": [
      "Lane width mean =  3.90180893816\n",
      "Lane width min =  3.72980012269\n",
      "Lane width max =  4.23880141541\n",
      "Curve Ratio =  5.83638082712\n"
     ]
    },
    {
     "name": "stderr",
     "output_type": "stream",
     "text": [
      "\r",
      "t:  77%|███████████████████████████████████████████████████               | 976/1260 [02:21<00:43,  6.52it/s, now=None]"
     ]
    },
    {
     "name": "stdout",
     "output_type": "stream",
     "text": [
      "Lane width mean =  3.861884239\n",
      "Lane width min =  3.65979523372\n",
      "Lane width max =  4.14737236621\n",
      "Curve Ratio =  1.0\n"
     ]
    },
    {
     "name": "stderr",
     "output_type": "stream",
     "text": [
      "\r",
      "t:  78%|███████████████████████████████████████████████████▏              | 977/1260 [02:21<00:43,  6.55it/s, now=None]"
     ]
    },
    {
     "name": "stdout",
     "output_type": "stream",
     "text": [
      "Lane width mean =  3.90869416019\n",
      "Lane width min =  3.66708809839\n",
      "Lane width max =  4.3118100101\n",
      "Curve Ratio =  1.0\n"
     ]
    },
    {
     "name": "stderr",
     "output_type": "stream",
     "text": [
      "\r",
      "t:  78%|███████████████████████████████████████████████████▏              | 978/1260 [02:21<00:42,  6.60it/s, now=None]"
     ]
    },
    {
     "name": "stdout",
     "output_type": "stream",
     "text": [
      "Lane width mean =  3.89501839416\n",
      "Lane width min =  3.64312677175\n",
      "Lane width max =  4.3853850744\n",
      "Curve Ratio =  1.0\n"
     ]
    },
    {
     "name": "stderr",
     "output_type": "stream",
     "text": [
      "\r",
      "t:  78%|███████████████████████████████████████████████████▎              | 979/1260 [02:21<00:43,  6.48it/s, now=None]"
     ]
    },
    {
     "name": "stdout",
     "output_type": "stream",
     "text": [
      "Lane width mean =  3.90720147463\n",
      "Lane width min =  3.64260664208\n",
      "Lane width max =  4.43569857226\n",
      "Curve Ratio =  1.90419438328\n"
     ]
    },
    {
     "name": "stderr",
     "output_type": "stream",
     "text": [
      "\r",
      "t:  78%|███████████████████████████████████████████████████▎              | 980/1260 [02:22<00:44,  6.34it/s, now=None]"
     ]
    },
    {
     "name": "stdout",
     "output_type": "stream",
     "text": [
      "Lane width mean =  3.90049430442\n",
      "Lane width min =  3.63455720312\n",
      "Lane width max =  4.37249124905\n",
      "Curve Ratio =  10.8420413099\n"
     ]
    },
    {
     "name": "stderr",
     "output_type": "stream",
     "text": [
      "\r",
      "t:  78%|███████████████████████████████████████████████████▍              | 981/1260 [02:22<00:44,  6.33it/s, now=None]"
     ]
    },
    {
     "name": "stdout",
     "output_type": "stream",
     "text": [
      "Lane width mean =  3.90100658242\n",
      "Lane width min =  3.63080141413\n",
      "Lane width max =  4.36344604798\n",
      "Curve Ratio =  10.3089100407\n"
     ]
    },
    {
     "name": "stderr",
     "output_type": "stream",
     "text": [
      "t:  78%|███████████████████████████████████████████████████▌              | 984/1260 [02:22<00:42,  6.52it/s, now=None]"
     ]
    },
    {
     "name": "stdout",
     "output_type": "stream",
     "text": [
      "Lane width mean =  3.88939076814\n",
      "Lane width min =  3.6336773995\n",
      "Lane width max =  4.1286928292\n",
      "Curve Ratio =  0.945902122519\n"
     ]
    },
    {
     "name": "stderr",
     "output_type": "stream",
     "text": [
      "\r",
      "t:  78%|███████████████████████████████████████████████████▌              | 985/1260 [02:22<00:41,  6.69it/s, now=None]"
     ]
    },
    {
     "name": "stdout",
     "output_type": "stream",
     "text": [
      "Lane width mean =  3.90099056506\n",
      "Lane width min =  3.63930961373\n",
      "Lane width max =  4.17242773761\n",
      "Curve Ratio =  1.03311648527\n"
     ]
    },
    {
     "name": "stderr",
     "output_type": "stream",
     "text": [
      "\r",
      "t:  78%|███████████████████████████████████████████████████▋              | 986/1260 [02:22<00:41,  6.60it/s, now=None]"
     ]
    },
    {
     "name": "stdout",
     "output_type": "stream",
     "text": [
      "Lane width mean =  3.96344463929\n",
      "Lane width min =  3.66153240804\n",
      "Lane width max =  4.45212218237\n",
      "Curve Ratio =  2.29243850377\n"
     ]
    },
    {
     "name": "stderr",
     "output_type": "stream",
     "text": [
      "\r",
      "t:  78%|███████████████████████████████████████████████████▋              | 987/1260 [02:23<00:42,  6.50it/s, now=None]"
     ]
    },
    {
     "name": "stdout",
     "output_type": "stream",
     "text": [
      "Lane width mean =  4.00257779029\n",
      "Lane width min =  3.67223291217\n",
      "Lane width max =  4.56782117656\n",
      "Curve Ratio =  3.15861283066\n"
     ]
    },
    {
     "name": "stderr",
     "output_type": "stream",
     "text": [
      "\r",
      "t:  78%|███████████████████████████████████████████████████▊              | 988/1260 [02:23<00:40,  6.70it/s, now=None]"
     ]
    },
    {
     "name": "stdout",
     "output_type": "stream",
     "text": [
      "Lane width mean =  3.96722958864\n",
      "Lane width min =  3.64249608098\n",
      "Lane width max =  4.54564646467\n",
      "Curve Ratio =  5.11492364084\n"
     ]
    },
    {
     "name": "stderr",
     "output_type": "stream",
     "text": [
      "\r",
      "t:  78%|███████████████████████████████████████████████████▊              | 989/1260 [02:23<00:41,  6.61it/s, now=None]"
     ]
    },
    {
     "name": "stdout",
     "output_type": "stream",
     "text": [
      "Lane width mean =  4.07234914179\n",
      "Lane width min =  3.70555416788\n",
      "Lane width max =  4.8196851135\n",
      "Curve Ratio =  30.5115686741\n"
     ]
    },
    {
     "name": "stderr",
     "output_type": "stream",
     "text": [
      "\r",
      "t:  79%|███████████████████████████████████████████████████▊              | 990/1260 [02:23<00:41,  6.58it/s, now=None]"
     ]
    },
    {
     "name": "stdout",
     "output_type": "stream",
     "text": [
      "Lane width mean =  4.0677157106\n",
      "Lane width min =  3.60719737689\n",
      "Lane width max =  4.64647347319\n",
      "Curve Ratio =  3.01450089538\n"
     ]
    },
    {
     "name": "stderr",
     "output_type": "stream",
     "text": [
      "\r",
      "t:  79%|███████████████████████████████████████████████████▉              | 991/1260 [02:23<00:40,  6.64it/s, now=None]"
     ]
    },
    {
     "name": "stdout",
     "output_type": "stream",
     "text": [
      "Lane width mean =  4.02695006369\n",
      "Lane width min =  3.64997608998\n",
      "Lane width max =  4.49534404463\n",
      "Curve Ratio =  1.49374225071\n"
     ]
    },
    {
     "name": "stderr",
     "output_type": "stream",
     "text": [
      "\r",
      "t:  79%|███████████████████████████████████████████████████▉              | 992/1260 [02:23<00:40,  6.56it/s, now=None]"
     ]
    },
    {
     "name": "stdout",
     "output_type": "stream",
     "text": [
      "Lane width mean =  4.05533302468\n",
      "Lane width min =  3.65759120272\n",
      "Lane width max =  4.46694703604\n",
      "Curve Ratio =  1.06255771683\n"
     ]
    },
    {
     "name": "stderr",
     "output_type": "stream",
     "text": [
      "\r",
      "t:  79%|████████████████████████████████████████████████████              | 993/1260 [02:23<00:39,  6.72it/s, now=None]"
     ]
    },
    {
     "name": "stdout",
     "output_type": "stream",
     "text": [
      "Lane width mean =  4.03082143765\n",
      "Lane width min =  3.63705485216\n",
      "Lane width max =  4.479320974\n",
      "Curve Ratio =  1.29999869434\n"
     ]
    },
    {
     "name": "stderr",
     "output_type": "stream",
     "text": [
      "\r",
      "t:  79%|████████████████████████████████████████████████████              | 994/1260 [02:24<00:39,  6.71it/s, now=None]"
     ]
    },
    {
     "name": "stdout",
     "output_type": "stream",
     "text": [
      "Lane width mean =  4.03132992971\n",
      "Lane width min =  3.64731960791\n",
      "Lane width max =  4.53561366798\n",
      "Curve Ratio =  1.68965670795\n"
     ]
    },
    {
     "name": "stderr",
     "output_type": "stream",
     "text": [
      "\r",
      "t:  79%|████████████████████████████████████████████████████              | 995/1260 [02:24<00:39,  6.79it/s, now=None]"
     ]
    },
    {
     "name": "stdout",
     "output_type": "stream",
     "text": [
      "Lane width mean =  3.92873849152\n",
      "Lane width min =  3.64162163857\n",
      "Lane width max =  4.24481110133\n",
      "Curve Ratio =  1.08258483953\n"
     ]
    },
    {
     "name": "stderr",
     "output_type": "stream",
     "text": [
      "\r",
      "t:  79%|████████████████████████████████████████████████████▏             | 996/1260 [02:24<00:39,  6.67it/s, now=None]"
     ]
    },
    {
     "name": "stdout",
     "output_type": "stream",
     "text": [
      "Lane width mean =  3.854657581\n",
      "Lane width min =  3.6234700002\n",
      "Lane width max =  3.96341090786\n",
      "Curve Ratio =  0.77052480861\n"
     ]
    },
    {
     "name": "stderr",
     "output_type": "stream",
     "text": [
      "t:  79%|████████████████████████████████████████████████████▎             | 998/1260 [02:24<00:37,  6.96it/s, now=None]"
     ]
    },
    {
     "name": "stdout",
     "output_type": "stream",
     "text": [
      "Lane width mean =  3.85267323354\n",
      "Lane width min =  3.63086965283\n",
      "Lane width max =  3.94184136492\n",
      "Curve Ratio =  0.519814743965\n"
     ]
    },
    {
     "name": "stderr",
     "output_type": "stream",
     "text": [
      "\r",
      "t:  79%|████████████████████████████████████████████████████▎             | 999/1260 [02:24<00:38,  6.85it/s, now=None]"
     ]
    },
    {
     "name": "stdout",
     "output_type": "stream",
     "text": [
      "Lane width mean =  3.92398425255\n",
      "Lane width min =  3.65491155658\n",
      "Lane width max =  4.02320101565\n",
      "Curve Ratio =  0.477551100684\n"
     ]
    },
    {
     "name": "stderr",
     "output_type": "stream",
     "text": [
      "\r",
      "t:  79%|███████████████████████████████████████████████████▌             | 1000/1260 [02:25<00:38,  6.67it/s, now=None]"
     ]
    },
    {
     "name": "stdout",
     "output_type": "stream",
     "text": [
      "Lane width mean =  4.01332358832\n",
      "Lane width min =  3.71584858605\n",
      "Lane width max =  4.21560468701\n",
      "Curve Ratio =  0.803527224055\n"
     ]
    },
    {
     "name": "stderr",
     "output_type": "stream",
     "text": [
      "\r",
      "t:  79%|███████████████████████████████████████████████████▋             | 1001/1260 [02:25<00:38,  6.78it/s, now=None]"
     ]
    },
    {
     "name": "stdout",
     "output_type": "stream",
     "text": [
      "Lane width mean =  4.09250471649\n",
      "Lane width min =  3.85155612373\n",
      "Lane width max =  4.3825756115\n",
      "Curve Ratio =  1.11183694881\n"
     ]
    },
    {
     "name": "stderr",
     "output_type": "stream",
     "text": [
      "\r",
      "t:  80%|███████████████████████████████████████████████████▋             | 1002/1260 [02:25<00:38,  6.78it/s, now=None]"
     ]
    },
    {
     "name": "stdout",
     "output_type": "stream",
     "text": [
      "Lane width mean =  4.27967453446\n",
      "Lane width min =  3.89053924253\n",
      "Lane width max =  4.65060108867\n",
      "Curve Ratio =  0.955833773516\n"
     ]
    },
    {
     "name": "stderr",
     "output_type": "stream",
     "text": [
      "\r",
      "t:  80%|███████████████████████████████████████████████████▋             | 1003/1260 [02:25<00:38,  6.75it/s, now=None]"
     ]
    },
    {
     "name": "stdout",
     "output_type": "stream",
     "text": [
      "Lane width mean =  4.37245640686\n",
      "Lane width min =  3.909231024\n",
      "Lane width max =  4.77836986585\n",
      "Curve Ratio =  0.844325821392\n"
     ]
    },
    {
     "name": "stderr",
     "output_type": "stream",
     "text": [
      "\r",
      "t:  80%|███████████████████████████████████████████████████▊             | 1004/1260 [02:25<00:37,  6.80it/s, now=None]"
     ]
    },
    {
     "name": "stdout",
     "output_type": "stream",
     "text": [
      "Lane width mean =  4.49999954528\n",
      "Lane width min =  3.94066439599\n",
      "Lane width max =  5.04366324006\n",
      "Curve Ratio =  0.945923272871\n"
     ]
    },
    {
     "name": "stderr",
     "output_type": "stream",
     "text": [
      "\r",
      "t:  80%|███████████████████████████████████████████████████▊             | 1005/1260 [02:25<00:37,  6.82it/s, now=None]"
     ]
    },
    {
     "name": "stdout",
     "output_type": "stream",
     "text": [
      "Lane width mean =  4.44341933835\n",
      "Lane width min =  3.97519379126\n",
      "Lane width max =  4.85906712239\n",
      "Curve Ratio =  0.863547702461\n"
     ]
    },
    {
     "name": "stderr",
     "output_type": "stream",
     "text": [
      "\r",
      "t:  80%|███████████████████████████████████████████████████▉             | 1006/1260 [02:25<00:37,  6.75it/s, now=None]"
     ]
    },
    {
     "name": "stdout",
     "output_type": "stream",
     "text": [
      "Lane width mean =  4.19486176621\n",
      "Lane width min =  3.82417651668\n",
      "Lane width max =  4.64047692797\n",
      "Curve Ratio =  1.41570166039\n"
     ]
    },
    {
     "name": "stderr",
     "output_type": "stream",
     "text": [
      "\r",
      "t:  80%|███████████████████████████████████████████████████▉             | 1007/1260 [02:26<00:37,  6.69it/s, now=None]"
     ]
    },
    {
     "name": "stdout",
     "output_type": "stream",
     "text": [
      "Lane width mean =  4.21851947013\n",
      "Lane width min =  3.84516541489\n",
      "Lane width max =  4.65802807207\n",
      "Curve Ratio =  1.25784722584\n"
     ]
    },
    {
     "name": "stderr",
     "output_type": "stream",
     "text": [
      "\r",
      "t:  80%|████████████████████████████████████████████████████             | 1008/1260 [02:26<00:37,  6.72it/s, now=None]"
     ]
    },
    {
     "name": "stdout",
     "output_type": "stream",
     "text": [
      "Lane width mean =  3.9650185849\n",
      "Lane width min =  3.80500515104\n",
      "Lane width max =  4.16902513809\n",
      "Curve Ratio =  1.1367502304\n"
     ]
    },
    {
     "name": "stderr",
     "output_type": "stream",
     "text": [
      "\r",
      "t:  80%|████████████████████████████████████████████████████             | 1009/1260 [02:26<00:37,  6.72it/s, now=None]"
     ]
    },
    {
     "name": "stdout",
     "output_type": "stream",
     "text": [
      "Lane width mean =  4.01560816709\n",
      "Lane width min =  3.79907869384\n",
      "Lane width max =  4.24639771079\n",
      "Curve Ratio =  1.04309199864\n"
     ]
    },
    {
     "name": "stderr",
     "output_type": "stream",
     "text": [
      "\r",
      "t:  80%|████████████████████████████████████████████████████             | 1010/1260 [02:26<00:37,  6.66it/s, now=None]"
     ]
    },
    {
     "name": "stdout",
     "output_type": "stream",
     "text": [
      "Lane width mean =  4.08428072915\n",
      "Lane width min =  3.80419467843\n",
      "Lane width max =  4.3092197159\n",
      "Curve Ratio =  0.857630423567\n"
     ]
    },
    {
     "name": "stderr",
     "output_type": "stream",
     "text": [
      "\r",
      "t:  80%|████████████████████████████████████████████████████▏            | 1011/1260 [02:26<00:37,  6.59it/s, now=None]"
     ]
    },
    {
     "name": "stdout",
     "output_type": "stream",
     "text": [
      "Lane width mean =  3.89115692931\n",
      "Lane width min =  3.72842950052\n",
      "Lane width max =  3.96094036391\n",
      "Curve Ratio =  0.578790279726\n"
     ]
    },
    {
     "name": "stderr",
     "output_type": "stream",
     "text": [
      "\r",
      "t:  80%|████████████████████████████████████████████████████▏            | 1012/1260 [02:26<00:37,  6.61it/s, now=None]"
     ]
    },
    {
     "name": "stdout",
     "output_type": "stream",
     "text": [
      "Lane width mean =  4.37393021279\n",
      "Lane width min =  3.82609080135\n",
      "Lane width max =  5.03697582641\n",
      "Curve Ratio =  1.73673570301\n"
     ]
    },
    {
     "name": "stderr",
     "output_type": "stream",
     "text": [
      "\r",
      "t:  80%|████████████████████████████████████████████████████▎            | 1013/1260 [02:26<00:37,  6.59it/s, now=None]"
     ]
    },
    {
     "name": "stdout",
     "output_type": "stream",
     "text": [
      "Lane width mean =  4.38966430956\n",
      "Lane width min =  3.87655277193\n",
      "Lane width max =  5.0635461255\n",
      "Curve Ratio =  2.06361976748\n"
     ]
    },
    {
     "name": "stderr",
     "output_type": "stream",
     "text": [
      "\r",
      "t:  80%|████████████████████████████████████████████████████▎            | 1014/1260 [02:27<00:37,  6.53it/s, now=None]"
     ]
    },
    {
     "name": "stdout",
     "output_type": "stream",
     "text": [
      "Lane width mean =  4.39635528384\n",
      "Lane width min =  3.87877707793\n",
      "Lane width max =  5.11994240111\n",
      "Curve Ratio =  2.53265407563\n"
     ]
    },
    {
     "name": "stderr",
     "output_type": "stream",
     "text": [
      "\r",
      "t:  81%|████████████████████████████████████████████████████▎            | 1015/1260 [02:27<00:38,  6.30it/s, now=None]"
     ]
    },
    {
     "name": "stdout",
     "output_type": "stream",
     "text": [
      "Lane width mean =  4.46370960137\n",
      "Lane width min =  3.87860178511\n",
      "Lane width max =  5.27400003582\n",
      "Curve Ratio =  2.45894564702\n"
     ]
    },
    {
     "name": "stderr",
     "output_type": "stream",
     "text": [
      "\r",
      "t:  81%|████████████████████████████████████████████████████▍            | 1016/1260 [02:27<00:39,  6.22it/s, now=None]"
     ]
    },
    {
     "name": "stdout",
     "output_type": "stream",
     "text": [
      "Lane width mean =  4.41743618709\n",
      "Lane width min =  3.74094694266\n",
      "Lane width max =  5.00785410061\n",
      "Curve Ratio =  0.700942678624\n"
     ]
    },
    {
     "name": "stderr",
     "output_type": "stream",
     "text": [
      "\r",
      "t:  81%|████████████████████████████████████████████████████▍            | 1017/1260 [02:27<00:38,  6.36it/s, now=None]"
     ]
    },
    {
     "name": "stdout",
     "output_type": "stream",
     "text": [
      "Lane width mean =  4.40542313919\n",
      "Lane width min =  3.77633507305\n",
      "Lane width max =  5.02951263386\n",
      "Curve Ratio =  0.976560764835\n"
     ]
    },
    {
     "name": "stderr",
     "output_type": "stream",
     "text": [
      "\r",
      "t:  81%|████████████████████████████████████████████████████▌            | 1018/1260 [02:27<00:39,  6.19it/s, now=None]"
     ]
    },
    {
     "name": "stdout",
     "output_type": "stream",
     "text": [
      "Lane width mean =  4.3149341552\n",
      "Lane width min =  3.73610497867\n",
      "Lane width max =  4.8047616007\n",
      "Curve Ratio =  0.47892494869\n"
     ]
    },
    {
     "name": "stderr",
     "output_type": "stream",
     "text": [
      "\r",
      "t:  81%|████████████████████████████████████████████████████▌            | 1019/1260 [02:27<00:39,  6.12it/s, now=None]"
     ]
    },
    {
     "name": "stdout",
     "output_type": "stream",
     "text": [
      "Lane width mean =  4.3370997726\n",
      "Lane width min =  3.74063780697\n",
      "Lane width max =  4.77282173487\n",
      "Curve Ratio =  0.406518055112\n"
     ]
    },
    {
     "name": "stderr",
     "output_type": "stream",
     "text": [
      "\r",
      "t:  81%|████████████████████████████████████████████████████▌            | 1020/1260 [02:28<00:38,  6.18it/s, now=None]"
     ]
    },
    {
     "name": "stdout",
     "output_type": "stream",
     "text": [
      "Lane width mean =  4.3741777483\n",
      "Lane width min =  3.79992820816\n",
      "Lane width max =  4.87994316223\n",
      "Curve Ratio =  1.0\n"
     ]
    },
    {
     "name": "stderr",
     "output_type": "stream",
     "text": [
      "\r",
      "t:  81%|████████████████████████████████████████████████████▋            | 1021/1260 [02:28<00:38,  6.17it/s, now=None]"
     ]
    },
    {
     "name": "stdout",
     "output_type": "stream",
     "text": [
      "Lane width mean =  4.26354762124\n",
      "Lane width min =  3.8614683578\n",
      "Lane width max =  4.88073133042\n",
      "Curve Ratio =  7.17124179873\n"
     ]
    },
    {
     "name": "stderr",
     "output_type": "stream",
     "text": [
      "\r",
      "t:  81%|████████████████████████████████████████████████████▋            | 1022/1260 [02:28<00:38,  6.24it/s, now=None]"
     ]
    },
    {
     "name": "stdout",
     "output_type": "stream",
     "text": [
      "Lane width mean =  4.34129616672\n",
      "Lane width min =  3.88158832451\n",
      "Lane width max =  4.97873170358\n",
      "Curve Ratio =  11.7214774022\n"
     ]
    },
    {
     "name": "stderr",
     "output_type": "stream",
     "text": [
      "\r",
      "t:  81%|████████████████████████████████████████████████████▊            | 1023/1260 [02:28<00:38,  6.09it/s, now=None]"
     ]
    },
    {
     "name": "stdout",
     "output_type": "stream",
     "text": [
      "Lane width mean =  4.42541922005\n",
      "Lane width min =  3.86140231718\n",
      "Lane width max =  4.9241884409\n",
      "Curve Ratio =  0.705278603348\n"
     ]
    },
    {
     "name": "stderr",
     "output_type": "stream",
     "text": [
      "\r",
      "t:  81%|████████████████████████████████████████████████████▊            | 1024/1260 [02:28<00:38,  6.07it/s, now=None]"
     ]
    },
    {
     "name": "stdout",
     "output_type": "stream",
     "text": [
      "Lane width mean =  4.47115139048\n",
      "Lane width min =  3.8818562938\n",
      "Lane width max =  5.00754714711\n",
      "Curve Ratio =  0.755645987777\n"
     ]
    },
    {
     "name": "stderr",
     "output_type": "stream",
     "text": [
      "\r",
      "t:  81%|████████████████████████████████████████████████████▉            | 1025/1260 [02:28<00:38,  6.08it/s, now=None]"
     ]
    },
    {
     "name": "stdout",
     "output_type": "stream",
     "text": [
      "Lane width mean =  4.52300917111\n",
      "Lane width min =  3.88555802244\n",
      "Lane width max =  4.95458609152\n",
      "Curve Ratio =  0.474933086863\n"
     ]
    },
    {
     "name": "stderr",
     "output_type": "stream",
     "text": [
      "\r",
      "t:  81%|████████████████████████████████████████████████████▉            | 1026/1260 [02:29<00:38,  6.02it/s, now=None]"
     ]
    },
    {
     "name": "stdout",
     "output_type": "stream",
     "text": [
      "Lane width mean =  4.30773784024\n",
      "Lane width min =  3.90576551025\n",
      "Lane width max =  4.57166614381\n",
      "Curve Ratio =  0.677495539562\n"
     ]
    },
    {
     "name": "stderr",
     "output_type": "stream",
     "text": [
      "\r",
      "t:  82%|████████████████████████████████████████████████████▉            | 1027/1260 [02:29<00:38,  6.03it/s, now=None]"
     ]
    },
    {
     "name": "stdout",
     "output_type": "stream",
     "text": [
      "Lane width mean =  4.1619023028\n",
      "Lane width min =  3.94547989006\n",
      "Lane width max =  4.39612018835\n",
      "Curve Ratio =  1.07738331447\n"
     ]
    },
    {
     "name": "stderr",
     "output_type": "stream",
     "text": [
      "\r",
      "t:  82%|█████████████████████████████████████████████████████            | 1028/1260 [02:29<00:38,  5.99it/s, now=None]"
     ]
    },
    {
     "name": "stdout",
     "output_type": "stream",
     "text": [
      "Lane width mean =  4.08884304305\n",
      "Lane width min =  3.94722025541\n",
      "Lane width max =  4.31805823002\n",
      "Curve Ratio =  1.33098489731\n"
     ]
    },
    {
     "name": "stderr",
     "output_type": "stream",
     "text": [
      "\r",
      "t:  82%|█████████████████████████████████████████████████████            | 1029/1260 [02:29<00:38,  6.00it/s, now=None]"
     ]
    },
    {
     "name": "stdout",
     "output_type": "stream",
     "text": [
      "Lane width mean =  4.05034967191\n",
      "Lane width min =  3.95242004335\n",
      "Lane width max =  4.26208021869\n",
      "Curve Ratio =  1.38634298732\n"
     ]
    },
    {
     "name": "stderr",
     "output_type": "stream",
     "text": [
      "\r",
      "t:  82%|█████████████████████████████████████████████████████▏           | 1030/1260 [02:29<00:38,  6.02it/s, now=None]"
     ]
    },
    {
     "name": "stdout",
     "output_type": "stream",
     "text": [
      "Lane width mean =  4.11697195537\n",
      "Lane width min =  3.97737294201\n",
      "Lane width max =  4.40571197708\n",
      "Curve Ratio =  1.56306420704\n"
     ]
    },
    {
     "name": "stderr",
     "output_type": "stream",
     "text": [
      "\r",
      "t:  82%|█████████████████████████████████████████████████████▏           | 1031/1260 [02:29<00:38,  6.00it/s, now=None]"
     ]
    },
    {
     "name": "stdout",
     "output_type": "stream",
     "text": [
      "Lane width mean =  4.02516420228\n",
      "Lane width min =  3.9192810313\n",
      "Lane width max =  4.33401878575\n",
      "Curve Ratio =  2.12113306372\n"
     ]
    },
    {
     "name": "stderr",
     "output_type": "stream",
     "text": [
      "\r",
      "t:  82%|█████████████████████████████████████████████████████▏           | 1032/1260 [02:30<00:37,  6.02it/s, now=None]"
     ]
    },
    {
     "name": "stdout",
     "output_type": "stream",
     "text": [
      "Lane width mean =  4.05705027541\n",
      "Lane width min =  3.9224720167\n",
      "Lane width max =  4.43505056471\n",
      "Curve Ratio =  1.92147266444\n"
     ]
    },
    {
     "name": "stderr",
     "output_type": "stream",
     "text": [
      "\r",
      "t:  82%|█████████████████████████████████████████████████████▎           | 1033/1260 [02:30<00:37,  5.98it/s, now=None]"
     ]
    },
    {
     "name": "stdout",
     "output_type": "stream",
     "text": [
      "Lane width mean =  4.17313042107\n",
      "Lane width min =  3.99832314203\n",
      "Lane width max =  4.60645905543\n",
      "Curve Ratio =  1.75306940899\n"
     ]
    },
    {
     "name": "stderr",
     "output_type": "stream",
     "text": [
      "\r",
      "t:  82%|█████████████████████████████████████████████████████▎           | 1034/1260 [02:30<00:37,  6.02it/s, now=None]"
     ]
    },
    {
     "name": "stdout",
     "output_type": "stream",
     "text": [
      "Lane width mean =  4.10452097639\n",
      "Lane width min =  3.96971904883\n",
      "Lane width max =  4.43942202732\n",
      "Curve Ratio =  1.54262652417\n"
     ]
    },
    {
     "name": "stderr",
     "output_type": "stream",
     "text": [
      "\r",
      "t:  82%|█████████████████████████████████████████████████████▍           | 1035/1260 [02:30<00:38,  5.83it/s, now=None]"
     ]
    },
    {
     "name": "stdout",
     "output_type": "stream",
     "text": [
      "Lane width mean =  3.98629837803\n",
      "Lane width min =  3.89987665436\n",
      "Lane width max =  4.24314410973\n",
      "Curve Ratio =  1.49626198332\n"
     ]
    },
    {
     "name": "stderr",
     "output_type": "stream",
     "text": [
      "t:  82%|█████████████████████████████████████████████████████▌           | 1038/1260 [02:31<00:34,  6.44it/s, now=None]"
     ]
    },
    {
     "name": "stdout",
     "output_type": "stream",
     "text": [
      "Lane width mean =  3.8618690276\n",
      "Lane width min =  3.65187673811\n",
      "Lane width max =  4.05038897003\n",
      "Curve Ratio =  0.957413666831\n"
     ]
    },
    {
     "name": "stderr",
     "output_type": "stream",
     "text": [
      "t:  83%|█████████████████████████████████████████████████████▋           | 1040/1260 [02:31<00:34,  6.42it/s, now=None]"
     ]
    },
    {
     "name": "stdout",
     "output_type": "stream",
     "text": [
      "Lane width mean =  3.85869545858\n",
      "Lane width min =  3.60522633228\n",
      "Lane width max =  4.06855758135\n",
      "Curve Ratio =  0.912812608744\n"
     ]
    },
    {
     "name": "stderr",
     "output_type": "stream",
     "text": [
      "\r",
      "t:  83%|█████████████████████████████████████████████████████▋           | 1041/1260 [02:31<00:34,  6.35it/s, now=None]"
     ]
    },
    {
     "name": "stdout",
     "output_type": "stream",
     "text": [
      "Lane width mean =  3.9062394783\n",
      "Lane width min =  3.60782138556\n",
      "Lane width max =  4.12876370641\n",
      "Curve Ratio =  0.8525771503\n"
     ]
    },
    {
     "name": "stderr",
     "output_type": "stream",
     "text": [
      "\r",
      "t:  83%|█████████████████████████████████████████████████████▊           | 1042/1260 [02:31<00:35,  6.20it/s, now=None]"
     ]
    },
    {
     "name": "stdout",
     "output_type": "stream",
     "text": [
      "Lane width mean =  3.86502678627\n",
      "Lane width min =  3.63934174762\n",
      "Lane width max =  4.05809354525\n",
      "Curve Ratio =  0.919742042621\n"
     ]
    },
    {
     "name": "stderr",
     "output_type": "stream",
     "text": [
      "\r",
      "t:  83%|█████████████████████████████████████████████████████▊           | 1043/1260 [02:31<00:35,  6.08it/s, now=None]"
     ]
    },
    {
     "name": "stdout",
     "output_type": "stream",
     "text": [
      "Lane width mean =  3.91117932355\n",
      "Lane width min =  3.65647152857\n",
      "Lane width max =  4.13600075066\n",
      "Curve Ratio =  0.929288329304\n"
     ]
    },
    {
     "name": "stderr",
     "output_type": "stream",
     "text": [
      "\r",
      "t:  83%|█████████████████████████████████████████████████████▊           | 1044/1260 [02:32<00:36,  5.98it/s, now=None]"
     ]
    },
    {
     "name": "stdout",
     "output_type": "stream",
     "text": [
      "Lane width mean =  3.91861579062\n",
      "Lane width min =  3.67267638878\n",
      "Lane width max =  4.11741820667\n",
      "Curve Ratio =  0.894264338126\n"
     ]
    },
    {
     "name": "stderr",
     "output_type": "stream",
     "text": [
      "\r",
      "t:  83%|█████████████████████████████████████████████████████▉           | 1045/1260 [02:32<00:37,  5.77it/s, now=None]"
     ]
    },
    {
     "name": "stdout",
     "output_type": "stream",
     "text": [
      "Lane width mean =  4.01893299835\n",
      "Lane width min =  3.6834798612\n",
      "Lane width max =  4.39515484255\n",
      "Curve Ratio =  1.08102188993\n"
     ]
    },
    {
     "name": "stderr",
     "output_type": "stream",
     "text": [
      "\r",
      "t:  83%|█████████████████████████████████████████████████████▉           | 1046/1260 [02:32<00:38,  5.63it/s, now=None]"
     ]
    },
    {
     "name": "stdout",
     "output_type": "stream",
     "text": [
      "Lane width mean =  3.93446673364\n",
      "Lane width min =  3.72468890701\n",
      "Lane width max =  4.1056698334\n",
      "Curve Ratio =  0.898622313514\n"
     ]
    },
    {
     "name": "stderr",
     "output_type": "stream",
     "text": [
      "\r",
      "t:  83%|██████████████████████████████████████████████████████           | 1047/1260 [02:32<00:37,  5.63it/s, now=None]"
     ]
    },
    {
     "name": "stdout",
     "output_type": "stream",
     "text": [
      "Lane width mean =  3.94240639198\n",
      "Lane width min =  3.71689649822\n",
      "Lane width max =  4.08555396831\n",
      "Curve Ratio =  0.782613085383\n"
     ]
    },
    {
     "name": "stderr",
     "output_type": "stream",
     "text": [
      "\r",
      "t:  83%|██████████████████████████████████████████████████████           | 1048/1260 [02:32<00:36,  5.73it/s, now=None]"
     ]
    },
    {
     "name": "stdout",
     "output_type": "stream",
     "text": [
      "Lane width mean =  4.08983427806\n",
      "Lane width min =  3.70359830173\n",
      "Lane width max =  4.33513441383\n",
      "Curve Ratio =  0.747549975187\n"
     ]
    },
    {
     "name": "stderr",
     "output_type": "stream",
     "text": [
      "\r",
      "t:  83%|██████████████████████████████████████████████████████           | 1049/1260 [02:32<00:35,  5.98it/s, now=None]"
     ]
    },
    {
     "name": "stdout",
     "output_type": "stream",
     "text": [
      "Lane width mean =  4.10771410972\n",
      "Lane width min =  3.68979409199\n",
      "Lane width max =  4.27180328655\n",
      "Curve Ratio =  0.540323116206\n"
     ]
    },
    {
     "name": "stderr",
     "output_type": "stream",
     "text": [
      "\r",
      "t:  83%|██████████████████████████████████████████████████████▏          | 1050/1260 [02:33<00:34,  6.08it/s, now=None]"
     ]
    },
    {
     "name": "stdout",
     "output_type": "stream",
     "text": [
      "Lane width mean =  4.13456946131\n",
      "Lane width min =  3.68966634757\n",
      "Lane width max =  4.28613475518\n",
      "Curve Ratio =  0.424662821509\n"
     ]
    },
    {
     "name": "stderr",
     "output_type": "stream",
     "text": [
      "\r",
      "t:  83%|██████████████████████████████████████████████████████▏          | 1051/1260 [02:33<00:32,  6.42it/s, now=None]"
     ]
    },
    {
     "name": "stdout",
     "output_type": "stream",
     "text": [
      "Lane width mean =  4.09197179814\n",
      "Lane width min =  3.76176617418\n",
      "Lane width max =  4.21008776912\n",
      "Curve Ratio =  0.477886641647\n"
     ]
    },
    {
     "name": "stderr",
     "output_type": "stream",
     "text": [
      "\r",
      "t:  83%|██████████████████████████████████████████████████████▎          | 1052/1260 [02:33<00:33,  6.28it/s, now=None]"
     ]
    },
    {
     "name": "stdout",
     "output_type": "stream",
     "text": [
      "Lane width mean =  4.07758860442\n",
      "Lane width min =  3.73329500629\n",
      "Lane width max =  4.19271412555\n",
      "Curve Ratio =  0.255148363419\n"
     ]
    },
    {
     "name": "stderr",
     "output_type": "stream",
     "text": [
      "\r",
      "t:  84%|██████████████████████████████████████████████████████▎          | 1053/1260 [02:33<00:32,  6.32it/s, now=None]"
     ]
    },
    {
     "name": "stdout",
     "output_type": "stream",
     "text": [
      "Lane width mean =  4.09867799994\n",
      "Lane width min =  3.66585602165\n",
      "Lane width max =  4.24383316422\n",
      "Curve Ratio =  0.0254252739604\n"
     ]
    },
    {
     "name": "stderr",
     "output_type": "stream",
     "text": [
      "\r",
      "t:  84%|██████████████████████████████████████████████████████▎          | 1054/1260 [02:33<00:31,  6.62it/s, now=None]"
     ]
    },
    {
     "name": "stdout",
     "output_type": "stream",
     "text": [
      "Lane width mean =  3.94961332188\n",
      "Lane width min =  3.82029100325\n",
      "Lane width max =  3.99423687419\n",
      "Curve Ratio =  0.66377014794\n"
     ]
    },
    {
     "name": "stderr",
     "output_type": "stream",
     "text": [
      "\r",
      "t:  84%|██████████████████████████████████████████████████████▍          | 1055/1260 [02:33<00:32,  6.38it/s, now=None]"
     ]
    },
    {
     "name": "stdout",
     "output_type": "stream",
     "text": [
      "Lane width mean =  3.89206396128\n",
      "Lane width min =  3.8715035228\n",
      "Lane width max =  3.94625505642\n",
      "Curve Ratio =  1.36216281849\n"
     ]
    },
    {
     "name": "stderr",
     "output_type": "stream",
     "text": [
      "t:  84%|██████████████████████████████████████████████████████▋          | 1059/1260 [02:34<00:30,  6.61it/s, now=None]"
     ]
    },
    {
     "name": "stdout",
     "output_type": "stream",
     "text": [
      "Lane width mean =  3.59197259662\n",
      "Lane width min =  3.53394531436\n",
      "Lane width max =  3.76552337253\n",
      "Curve Ratio =  2.03074927435\n"
     ]
    },
    {
     "name": "stderr",
     "output_type": "stream",
     "text": [
      "\r",
      "t:  84%|██████████████████████████████████████████████████████▋          | 1060/1260 [02:34<00:30,  6.58it/s, now=None]"
     ]
    },
    {
     "name": "stdout",
     "output_type": "stream",
     "text": [
      "Lane width mean =  3.51498780377\n",
      "Lane width min =  3.45444658441\n",
      "Lane width max =  3.69506247505\n",
      "Curve Ratio =  1.81015434635\n"
     ]
    },
    {
     "name": "stderr",
     "output_type": "stream",
     "text": [
      "\r",
      "t:  84%|██████████████████████████████████████████████████████▋          | 1061/1260 [02:34<00:30,  6.60it/s, now=None]"
     ]
    },
    {
     "name": "stdout",
     "output_type": "stream",
     "text": [
      "Lane width mean =  3.43493215482\n",
      "Lane width min =  3.36494593949\n",
      "Lane width max =  3.6320224151\n",
      "Curve Ratio =  1.68789666319\n"
     ]
    },
    {
     "name": "stderr",
     "output_type": "stream",
     "text": [
      "\r",
      "t:  84%|██████████████████████████████████████████████████████▊          | 1062/1260 [02:34<00:30,  6.55it/s, now=None]"
     ]
    },
    {
     "name": "stdout",
     "output_type": "stream",
     "text": [
      "Lane width mean =  3.45059048996\n",
      "Lane width min =  3.38932250803\n",
      "Lane width max =  3.61660671026\n",
      "Curve Ratio =  1.48507396386\n"
     ]
    },
    {
     "name": "stderr",
     "output_type": "stream",
     "text": [
      "t:  85%|██████████████████████████████████████████████████████▉          | 1065/1260 [02:35<00:28,  6.81it/s, now=None]"
     ]
    },
    {
     "name": "stdout",
     "output_type": "stream",
     "text": [
      "Lane width mean =  3.88180218121\n",
      "Lane width min =  3.68380116936\n",
      "Lane width max =  3.97230566223\n",
      "Curve Ratio =  0.638471010563\n"
     ]
    },
    {
     "name": "stderr",
     "output_type": "stream",
     "text": [
      "\r",
      "t:  85%|██████████████████████████████████████████████████████▉          | 1066/1260 [02:35<00:29,  6.63it/s, now=None]"
     ]
    },
    {
     "name": "stdout",
     "output_type": "stream",
     "text": [
      "Lane width mean =  3.95262417875\n",
      "Lane width min =  3.72575291763\n",
      "Lane width max =  4.06645993231\n",
      "Curve Ratio =  0.649828967581\n"
     ]
    },
    {
     "name": "stderr",
     "output_type": "stream",
     "text": [
      "\r",
      "t:  85%|███████████████████████████████████████████████████████          | 1067/1260 [02:35<00:28,  6.76it/s, now=None]"
     ]
    },
    {
     "name": "stdout",
     "output_type": "stream",
     "text": [
      "Lane width mean =  3.93129350429\n",
      "Lane width min =  3.71375694226\n",
      "Lane width max =  4.0386310446\n",
      "Curve Ratio =  0.654477319433\n"
     ]
    },
    {
     "name": "stderr",
     "output_type": "stream",
     "text": [
      "\r",
      "t:  85%|███████████████████████████████████████████████████████          | 1068/1260 [02:35<00:29,  6.54it/s, now=None]"
     ]
    },
    {
     "name": "stdout",
     "output_type": "stream",
     "text": [
      "Lane width mean =  3.95235222622\n",
      "Lane width min =  3.71947763846\n",
      "Lane width max =  4.07359564292\n",
      "Curve Ratio =  0.666204035012\n"
     ]
    },
    {
     "name": "stderr",
     "output_type": "stream",
     "text": [
      "\r",
      "t:  85%|███████████████████████████████████████████████████████▏         | 1069/1260 [02:35<00:29,  6.40it/s, now=None]"
     ]
    },
    {
     "name": "stdout",
     "output_type": "stream",
     "text": [
      "Lane width mean =  3.91378483554\n",
      "Lane width min =  3.71472012231\n",
      "Lane width max =  4.07320452525\n",
      "Curve Ratio =  0.869071653435\n"
     ]
    },
    {
     "name": "stderr",
     "output_type": "stream",
     "text": [
      "\r",
      "t:  85%|███████████████████████████████████████████████████████▏         | 1070/1260 [02:36<00:30,  6.29it/s, now=None]"
     ]
    },
    {
     "name": "stdout",
     "output_type": "stream",
     "text": [
      "Lane width mean =  3.90376861979\n",
      "Lane width min =  3.71184717394\n",
      "Lane width max =  4.11400309242\n",
      "Curve Ratio =  1.05948201445\n"
     ]
    },
    {
     "name": "stderr",
     "output_type": "stream",
     "text": [
      "\r",
      "t:  85%|███████████████████████████████████████████████████████▎         | 1071/1260 [02:36<00:30,  6.25it/s, now=None]"
     ]
    },
    {
     "name": "stdout",
     "output_type": "stream",
     "text": [
      "Lane width mean =  3.96229757165\n",
      "Lane width min =  3.72106323894\n",
      "Lane width max =  4.20278793342\n",
      "Curve Ratio =  0.996874093698\n"
     ]
    },
    {
     "name": "stderr",
     "output_type": "stream",
     "text": [
      "\r",
      "t:  85%|███████████████████████████████████████████████████████▎         | 1072/1260 [02:36<00:30,  6.21it/s, now=None]"
     ]
    },
    {
     "name": "stdout",
     "output_type": "stream",
     "text": [
      "Lane width mean =  3.90371413277\n",
      "Lane width min =  3.63708110864\n",
      "Lane width max =  4.05165922299\n",
      "Curve Ratio =  0.617635627536\n"
     ]
    },
    {
     "name": "stderr",
     "output_type": "stream",
     "text": [
      "\r",
      "t:  85%|███████████████████████████████████████████████████████▎         | 1073/1260 [02:36<00:29,  6.26it/s, now=None]"
     ]
    },
    {
     "name": "stdout",
     "output_type": "stream",
     "text": [
      "Lane width mean =  3.92988678803\n",
      "Lane width min =  3.63445449471\n",
      "Lane width max =  4.0749364338\n",
      "Curve Ratio =  0.524997631035\n"
     ]
    },
    {
     "name": "stderr",
     "output_type": "stream",
     "text": [
      "\r",
      "t:  85%|███████████████████████████████████████████████████████▍         | 1074/1260 [02:36<00:28,  6.50it/s, now=None]"
     ]
    },
    {
     "name": "stdout",
     "output_type": "stream",
     "text": [
      "Lane width mean =  3.92333622417\n",
      "Lane width min =  3.66733411595\n",
      "Lane width max =  4.11356487719\n",
      "Curve Ratio =  0.784320718229\n"
     ]
    },
    {
     "name": "stderr",
     "output_type": "stream",
     "text": [
      "\r",
      "t:  85%|███████████████████████████████████████████████████████▍         | 1075/1260 [02:36<00:28,  6.47it/s, now=None]"
     ]
    },
    {
     "name": "stdout",
     "output_type": "stream",
     "text": [
      "Lane width mean =  3.89145100384\n",
      "Lane width min =  3.62163820911\n",
      "Lane width max =  4.00530992259\n",
      "Curve Ratio =  0.493897769647\n"
     ]
    },
    {
     "name": "stderr",
     "output_type": "stream",
     "text": [
      "\r",
      "t:  85%|███████████████████████████████████████████████████████▌         | 1076/1260 [02:37<00:28,  6.37it/s, now=None]"
     ]
    },
    {
     "name": "stdout",
     "output_type": "stream",
     "text": [
      "Lane width mean =  3.92490672531\n",
      "Lane width min =  3.64719684974\n",
      "Lane width max =  4.06729051781\n",
      "Curve Ratio =  0.573376756947\n"
     ]
    },
    {
     "name": "stderr",
     "output_type": "stream",
     "text": [
      "\r",
      "t:  85%|███████████████████████████████████████████████████████▌         | 1077/1260 [02:37<00:28,  6.33it/s, now=None]"
     ]
    },
    {
     "name": "stdout",
     "output_type": "stream",
     "text": [
      "Lane width mean =  3.82231655601\n",
      "Lane width min =  3.5782556381\n",
      "Lane width max =  3.90995099663\n",
      "Curve Ratio =  0.486388191404\n"
     ]
    },
    {
     "name": "stderr",
     "output_type": "stream",
     "text": [
      "t:  86%|███████████████████████████████████████████████████████▋         | 1079/1260 [02:37<00:28,  6.45it/s, now=None]"
     ]
    },
    {
     "name": "stdout",
     "output_type": "stream",
     "text": [
      "Lane width mean =  3.8680174841\n",
      "Lane width min =  3.60045274601\n",
      "Lane width max =  4.00784974128\n",
      "Curve Ratio =  0.596826329554\n"
     ]
    },
    {
     "name": "stderr",
     "output_type": "stream",
     "text": [
      "\r",
      "t:  86%|███████████████████████████████████████████████████████▋         | 1080/1260 [02:37<00:28,  6.40it/s, now=None]"
     ]
    },
    {
     "name": "stdout",
     "output_type": "stream",
     "text": [
      "Lane width mean =  3.90179328762\n",
      "Lane width min =  3.60939016946\n",
      "Lane width max =  4.09130449283\n",
      "Curve Ratio =  0.6807357991\n"
     ]
    },
    {
     "name": "stderr",
     "output_type": "stream",
     "text": [
      "\r",
      "t:  86%|███████████████████████████████████████████████████████▊         | 1081/1260 [02:37<00:27,  6.40it/s, now=None]"
     ]
    },
    {
     "name": "stdout",
     "output_type": "stream",
     "text": [
      "Lane width mean =  3.99324546762\n",
      "Lane width min =  3.6352032324\n",
      "Lane width max =  4.1391682694\n",
      "Curve Ratio =  0.345332227609\n"
     ]
    },
    {
     "name": "stderr",
     "output_type": "stream",
     "text": [
      "\r",
      "t:  86%|███████████████████████████████████████████████████████▊         | 1082/1260 [02:38<00:27,  6.44it/s, now=None]"
     ]
    },
    {
     "name": "stdout",
     "output_type": "stream",
     "text": [
      "Lane width mean =  3.9759536993\n",
      "Lane width min =  3.63035337369\n",
      "Lane width max =  4.15866075933\n",
      "Curve Ratio =  0.53488490207\n"
     ]
    },
    {
     "name": "stderr",
     "output_type": "stream",
     "text": [
      "\r",
      "t:  86%|███████████████████████████████████████████████████████▊         | 1083/1260 [02:38<00:27,  6.54it/s, now=None]"
     ]
    },
    {
     "name": "stdout",
     "output_type": "stream",
     "text": [
      "Lane width mean =  3.99309975502\n",
      "Lane width min =  3.63801908038\n",
      "Lane width max =  4.20700539026\n",
      "Curve Ratio =  0.591465583629\n"
     ]
    },
    {
     "name": "stderr",
     "output_type": "stream",
     "text": [
      "\r",
      "t:  86%|███████████████████████████████████████████████████████▉         | 1084/1260 [02:38<00:26,  6.52it/s, now=None]"
     ]
    },
    {
     "name": "stdout",
     "output_type": "stream",
     "text": [
      "Lane width mean =  4.02851828807\n",
      "Lane width min =  3.70385589069\n",
      "Lane width max =  4.28290871556\n",
      "Curve Ratio =  0.800909272881\n"
     ]
    },
    {
     "name": "stderr",
     "output_type": "stream",
     "text": [
      "\r",
      "t:  86%|███████████████████████████████████████████████████████▉         | 1085/1260 [02:38<00:27,  6.34it/s, now=None]"
     ]
    },
    {
     "name": "stdout",
     "output_type": "stream",
     "text": [
      "Lane width mean =  4.00966790189\n",
      "Lane width min =  3.68495017518\n",
      "Lane width max =  4.27890593351\n",
      "Curve Ratio =  0.825506881858\n"
     ]
    },
    {
     "name": "stderr",
     "output_type": "stream",
     "text": [
      "\r",
      "t:  86%|████████████████████████████████████████████████████████         | 1086/1260 [02:38<00:27,  6.38it/s, now=None]"
     ]
    },
    {
     "name": "stdout",
     "output_type": "stream",
     "text": [
      "Lane width mean =  4.07937036356\n",
      "Lane width min =  3.73045377971\n",
      "Lane width max =  4.38882058437\n",
      "Curve Ratio =  0.882873623145\n"
     ]
    },
    {
     "name": "stderr",
     "output_type": "stream",
     "text": [
      "\r",
      "t:  86%|████████████████████████████████████████████████████████         | 1087/1260 [02:38<00:27,  6.37it/s, now=None]"
     ]
    },
    {
     "name": "stdout",
     "output_type": "stream",
     "text": [
      "Lane width mean =  4.00845016162\n",
      "Lane width min =  3.6722595263\n",
      "Lane width max =  4.18478938874\n",
      "Curve Ratio =  0.506351280905\n"
     ]
    },
    {
     "name": "stderr",
     "output_type": "stream",
     "text": [
      "\r",
      "t:  86%|████████████████████████████████████████████████████████▏        | 1088/1260 [02:38<00:26,  6.38it/s, now=None]"
     ]
    },
    {
     "name": "stdout",
     "output_type": "stream",
     "text": [
      "Lane width mean =  4.0121025073\n",
      "Lane width min =  3.69346838385\n",
      "Lane width max =  4.34257567984\n",
      "Curve Ratio =  1.03791770814\n"
     ]
    },
    {
     "name": "stderr",
     "output_type": "stream",
     "text": [
      "\r",
      "t:  86%|████████████████████████████████████████████████████████▏        | 1089/1260 [02:39<00:26,  6.40it/s, now=None]"
     ]
    },
    {
     "name": "stdout",
     "output_type": "stream",
     "text": [
      "Lane width mean =  3.9716862605\n",
      "Lane width min =  3.65741557265\n",
      "Lane width max =  4.14964229966\n",
      "Curve Ratio =  0.554509211708\n"
     ]
    },
    {
     "name": "stderr",
     "output_type": "stream",
     "text": [
      "\r",
      "t:  87%|████████████████████████████████████████████████████████▏        | 1090/1260 [02:39<00:26,  6.36it/s, now=None]"
     ]
    },
    {
     "name": "stdout",
     "output_type": "stream",
     "text": [
      "Lane width mean =  3.89475992236\n",
      "Lane width min =  3.65123799146\n",
      "Lane width max =  4.06584022959\n",
      "Curve Ratio =  0.732746499525\n"
     ]
    },
    {
     "name": "stderr",
     "output_type": "stream",
     "text": [
      "\r",
      "t:  87%|████████████████████████████████████████████████████████▎        | 1091/1260 [02:39<00:26,  6.32it/s, now=None]"
     ]
    },
    {
     "name": "stdout",
     "output_type": "stream",
     "text": [
      "Lane width mean =  3.95645735274\n",
      "Lane width min =  3.6564727637\n",
      "Lane width max =  4.17875982964\n",
      "Curve Ratio =  0.734973836764\n"
     ]
    },
    {
     "name": "stderr",
     "output_type": "stream",
     "text": [
      "\r",
      "t:  87%|████████████████████████████████████████████████████████▎        | 1092/1260 [02:39<00:26,  6.28it/s, now=None]"
     ]
    },
    {
     "name": "stdout",
     "output_type": "stream",
     "text": [
      "Lane width mean =  3.97215107272\n",
      "Lane width min =  3.67209257774\n",
      "Lane width max =  4.23653370724\n",
      "Curve Ratio =  0.873127858052\n"
     ]
    },
    {
     "name": "stderr",
     "output_type": "stream",
     "text": [
      "\r",
      "t:  87%|████████████████████████████████████████████████████████▍        | 1093/1260 [02:39<00:26,  6.31it/s, now=None]"
     ]
    },
    {
     "name": "stdout",
     "output_type": "stream",
     "text": [
      "Lane width mean =  3.98078306144\n",
      "Lane width min =  3.67461379363\n",
      "Lane width max =  4.26499857175\n",
      "Curve Ratio =  0.920051721802\n"
     ]
    },
    {
     "name": "stderr",
     "output_type": "stream",
     "text": [
      "\r",
      "t:  87%|████████████████████████████████████████████████████████▍        | 1094/1260 [02:39<00:26,  6.28it/s, now=None]"
     ]
    },
    {
     "name": "stdout",
     "output_type": "stream",
     "text": [
      "Lane width mean =  4.07081046834\n",
      "Lane width min =  3.70423931573\n",
      "Lane width max =  4.57654109815\n",
      "Curve Ratio =  2.27742480382\n"
     ]
    },
    {
     "name": "stderr",
     "output_type": "stream",
     "text": [
      "\r",
      "t:  87%|████████████████████████████████████████████████████████▍        | 1095/1260 [02:40<00:26,  6.12it/s, now=None]"
     ]
    },
    {
     "name": "stdout",
     "output_type": "stream",
     "text": [
      "Lane width mean =  3.93915590339\n",
      "Lane width min =  3.52942282386\n",
      "Lane width max =  4.25211238778\n",
      "Curve Ratio =  1.0\n"
     ]
    },
    {
     "name": "stderr",
     "output_type": "stream",
     "text": [
      "\r",
      "t:  87%|████████████████████████████████████████████████████████▌        | 1096/1260 [02:40<00:27,  6.06it/s, now=None]"
     ]
    },
    {
     "name": "stdout",
     "output_type": "stream",
     "text": [
      "Lane width mean =  3.91726403564\n",
      "Lane width min =  3.52206644101\n",
      "Lane width max =  4.18193416208\n",
      "Curve Ratio =  1.0\n"
     ]
    },
    {
     "name": "stderr",
     "output_type": "stream",
     "text": [
      "\r",
      "t:  87%|████████████████████████████████████████████████████████▌        | 1097/1260 [02:40<00:27,  5.89it/s, now=None]"
     ]
    },
    {
     "name": "stdout",
     "output_type": "stream",
     "text": [
      "Lane width mean =  3.89177274631\n",
      "Lane width min =  3.51541272799\n",
      "Lane width max =  4.1036558164\n",
      "Curve Ratio =  0.0130460934035\n"
     ]
    },
    {
     "name": "stderr",
     "output_type": "stream",
     "text": [
      "\r",
      "t:  87%|████████████████████████████████████████████████████████▋        | 1098/1260 [02:40<00:27,  5.80it/s, now=None]"
     ]
    },
    {
     "name": "stdout",
     "output_type": "stream",
     "text": [
      "Lane width mean =  3.87238267368\n",
      "Lane width min =  3.55259442334\n",
      "Lane width max =  4.09394687113\n",
      "Curve Ratio =  0.375540349036\n"
     ]
    },
    {
     "name": "stderr",
     "output_type": "stream",
     "text": [
      "\r",
      "t:  87%|████████████████████████████████████████████████████████▋        | 1099/1260 [02:40<00:28,  5.72it/s, now=None]"
     ]
    },
    {
     "name": "stdout",
     "output_type": "stream",
     "text": [
      "Lane width mean =  3.89621588048\n",
      "Lane width min =  3.56105530343\n",
      "Lane width max =  4.11733465209\n",
      "Curve Ratio =  1.0\n"
     ]
    },
    {
     "name": "stderr",
     "output_type": "stream",
     "text": [
      "\r",
      "t:  87%|████████████████████████████████████████████████████████▋        | 1100/1260 [02:40<00:28,  5.67it/s, now=None]"
     ]
    },
    {
     "name": "stdout",
     "output_type": "stream",
     "text": [
      "Lane width mean =  3.88225313095\n",
      "Lane width min =  3.57500415178\n",
      "Lane width max =  4.11346606887\n",
      "Curve Ratio =  0.553686112578\n"
     ]
    },
    {
     "name": "stderr",
     "output_type": "stream",
     "text": [
      "\r",
      "t:  87%|████████████████████████████████████████████████████████▊        | 1101/1260 [02:41<00:27,  5.69it/s, now=None]"
     ]
    },
    {
     "name": "stdout",
     "output_type": "stream",
     "text": [
      "Lane width mean =  3.85999052461\n",
      "Lane width min =  3.58795250626\n",
      "Lane width max =  4.08324254708\n",
      "Curve Ratio =  0.751655511088\n"
     ]
    },
    {
     "name": "stderr",
     "output_type": "stream",
     "text": [
      "\r",
      "t:  87%|████████████████████████████████████████████████████████▊        | 1102/1260 [02:41<00:27,  5.66it/s, now=None]"
     ]
    },
    {
     "name": "stdout",
     "output_type": "stream",
     "text": [
      "Lane width mean =  4.03489190513\n",
      "Lane width min =  3.62840162223\n",
      "Lane width max =  4.33147845262\n",
      "Curve Ratio =  0.294758282474\n"
     ]
    },
    {
     "name": "stderr",
     "output_type": "stream",
     "text": [
      "\r",
      "t:  88%|████████████████████████████████████████████████████████▉        | 1103/1260 [02:41<00:26,  5.91it/s, now=None]"
     ]
    },
    {
     "name": "stdout",
     "output_type": "stream",
     "text": [
      "Lane width mean =  3.98983006055\n",
      "Lane width min =  3.64712125594\n",
      "Lane width max =  4.26937712266\n",
      "Curve Ratio =  0.63892763823\n"
     ]
    },
    {
     "name": "stderr",
     "output_type": "stream",
     "text": [
      "\r",
      "t:  88%|████████████████████████████████████████████████████████▉        | 1104/1260 [02:41<00:26,  5.88it/s, now=None]"
     ]
    },
    {
     "name": "stdout",
     "output_type": "stream",
     "text": [
      "Lane width mean =  4.03557876015\n",
      "Lane width min =  3.64053737809\n",
      "Lane width max =  4.36305850095\n",
      "Curve Ratio =  0.619648411153\n"
     ]
    },
    {
     "name": "stderr",
     "output_type": "stream",
     "text": [
      "\r",
      "t:  88%|█████████████████████████████████████████████████████████        | 1105/1260 [02:41<00:25,  5.97it/s, now=None]"
     ]
    },
    {
     "name": "stdout",
     "output_type": "stream",
     "text": [
      "Lane width mean =  4.04335783145\n",
      "Lane width min =  3.65054709726\n",
      "Lane width max =  4.39504882746\n",
      "Curve Ratio =  0.77910903548\n"
     ]
    },
    {
     "name": "stderr",
     "output_type": "stream",
     "text": [
      "\r",
      "t:  88%|█████████████████████████████████████████████████████████        | 1106/1260 [02:41<00:25,  5.99it/s, now=None]"
     ]
    },
    {
     "name": "stdout",
     "output_type": "stream",
     "text": [
      "Lane width mean =  3.95108167102\n",
      "Lane width min =  3.67989649411\n",
      "Lane width max =  4.31513251606\n",
      "Curve Ratio =  1.48716352905\n"
     ]
    },
    {
     "name": "stderr",
     "output_type": "stream",
     "text": [
      "\r",
      "t:  88%|█████████████████████████████████████████████████████████        | 1107/1260 [02:42<00:25,  5.95it/s, now=None]"
     ]
    },
    {
     "name": "stdout",
     "output_type": "stream",
     "text": [
      "Lane width mean =  4.0699421096\n",
      "Lane width min =  3.7145531742\n",
      "Lane width max =  4.51882987172\n",
      "Curve Ratio =  1.498289088\n"
     ]
    },
    {
     "name": "stderr",
     "output_type": "stream",
     "text": [
      "\r",
      "t:  88%|█████████████████████████████████████████████████████████▏       | 1108/1260 [02:42<00:25,  6.08it/s, now=None]"
     ]
    },
    {
     "name": "stdout",
     "output_type": "stream",
     "text": [
      "Lane width mean =  3.97813149624\n",
      "Lane width min =  3.69141712437\n",
      "Lane width max =  4.32857802026\n",
      "Curve Ratio =  1.36661087376\n"
     ]
    },
    {
     "name": "stderr",
     "output_type": "stream",
     "text": [
      "\r",
      "t:  88%|█████████████████████████████████████████████████████████▏       | 1109/1260 [02:42<00:24,  6.15it/s, now=None]"
     ]
    },
    {
     "name": "stdout",
     "output_type": "stream",
     "text": [
      "Lane width mean =  4.03885520761\n",
      "Lane width min =  3.69392253209\n",
      "Lane width max =  4.4414902\n",
      "Curve Ratio =  1.32426309439\n"
     ]
    },
    {
     "name": "stderr",
     "output_type": "stream",
     "text": [
      "\r",
      "t:  88%|█████████████████████████████████████████████████████████▎       | 1110/1260 [02:42<00:24,  6.22it/s, now=None]"
     ]
    },
    {
     "name": "stdout",
     "output_type": "stream",
     "text": [
      "Lane width mean =  4.02227906541\n",
      "Lane width min =  3.73334770761\n",
      "Lane width max =  4.47900228883\n",
      "Curve Ratio =  2.06530490828\n"
     ]
    },
    {
     "name": "stderr",
     "output_type": "stream",
     "text": [
      "\r",
      "t:  88%|█████████████████████████████████████████████████████████▎       | 1111/1260 [02:42<00:23,  6.27it/s, now=None]"
     ]
    },
    {
     "name": "stdout",
     "output_type": "stream",
     "text": [
      "Lane width mean =  3.91971241826\n",
      "Lane width min =  3.69195176404\n",
      "Lane width max =  4.2822576975\n",
      "Curve Ratio =  1.82095950731\n"
     ]
    },
    {
     "name": "stderr",
     "output_type": "stream",
     "text": [
      "\r",
      "t:  88%|█████████████████████████████████████████████████████████▎       | 1112/1260 [02:42<00:24,  6.06it/s, now=None]"
     ]
    },
    {
     "name": "stdout",
     "output_type": "stream",
     "text": [
      "Lane width mean =  3.97835401417\n",
      "Lane width min =  3.69844083244\n",
      "Lane width max =  4.41807583395\n",
      "Curve Ratio =  2.02736298661\n"
     ]
    },
    {
     "name": "stderr",
     "output_type": "stream",
     "text": [
      "\r",
      "t:  88%|█████████████████████████████████████████████████████████▍       | 1113/1260 [02:43<00:23,  6.21it/s, now=None]"
     ]
    },
    {
     "name": "stdout",
     "output_type": "stream",
     "text": [
      "Lane width mean =  3.93329268575\n",
      "Lane width min =  3.68300484821\n",
      "Lane width max =  4.40170127197\n",
      "Curve Ratio =  2.48904825087\n"
     ]
    },
    {
     "name": "stderr",
     "output_type": "stream",
     "text": [
      "\r",
      "t:  88%|█████████████████████████████████████████████████████████▍       | 1114/1260 [02:43<00:23,  6.26it/s, now=None]"
     ]
    },
    {
     "name": "stdout",
     "output_type": "stream",
     "text": [
      "Lane width mean =  3.95542361688\n",
      "Lane width min =  3.68092782609\n",
      "Lane width max =  4.45165642673\n",
      "Curve Ratio =  2.50392491292\n"
     ]
    },
    {
     "name": "stderr",
     "output_type": "stream",
     "text": [
      "\r",
      "t:  88%|█████████████████████████████████████████████████████████▌       | 1115/1260 [02:43<00:23,  6.30it/s, now=None]"
     ]
    },
    {
     "name": "stdout",
     "output_type": "stream",
     "text": [
      "Lane width mean =  4.01680394601\n",
      "Lane width min =  3.69545236837\n",
      "Lane width max =  4.60006889278\n",
      "Curve Ratio =  2.93222435276\n"
     ]
    },
    {
     "name": "stderr",
     "output_type": "stream",
     "text": [
      "\r",
      "t:  89%|█████████████████████████████████████████████████████████▌       | 1116/1260 [02:43<00:23,  6.24it/s, now=None]"
     ]
    },
    {
     "name": "stdout",
     "output_type": "stream",
     "text": [
      "Lane width mean =  3.89643414684\n",
      "Lane width min =  3.62691148093\n",
      "Lane width max =  4.39307361068\n",
      "Curve Ratio =  2.41837022669\n"
     ]
    },
    {
     "name": "stderr",
     "output_type": "stream",
     "text": [
      "\r",
      "t:  89%|█████████████████████████████████████████████████████████▌       | 1117/1260 [02:43<00:22,  6.29it/s, now=None]"
     ]
    },
    {
     "name": "stdout",
     "output_type": "stream",
     "text": [
      "Lane width mean =  3.85162204319\n",
      "Lane width min =  3.54207683876\n",
      "Lane width max =  4.27937503566\n",
      "Curve Ratio =  1.68129605011\n"
     ]
    },
    {
     "name": "stderr",
     "output_type": "stream",
     "text": [
      "\r",
      "t:  89%|█████████████████████████████████████████████████████████▋       | 1118/1260 [02:43<00:22,  6.32it/s, now=None]"
     ]
    },
    {
     "name": "stdout",
     "output_type": "stream",
     "text": [
      "Lane width mean =  3.83293264139\n",
      "Lane width min =  3.43498383153\n",
      "Lane width max =  4.2178054131\n",
      "Curve Ratio =  0.928498032217\n"
     ]
    },
    {
     "name": "stderr",
     "output_type": "stream",
     "text": [
      "\r",
      "t:  89%|█████████████████████████████████████████████████████████▋       | 1119/1260 [02:44<00:22,  6.23it/s, now=None]"
     ]
    },
    {
     "name": "stdout",
     "output_type": "stream",
     "text": [
      "Lane width mean =  3.88486907848\n",
      "Lane width min =  3.45826495575\n",
      "Lane width max =  4.32125964968\n",
      "Curve Ratio =  1.05004610287\n"
     ]
    },
    {
     "name": "stderr",
     "output_type": "stream",
     "text": [
      "\r",
      "t:  89%|█████████████████████████████████████████████████████████▊       | 1120/1260 [02:44<00:22,  6.28it/s, now=None]"
     ]
    },
    {
     "name": "stdout",
     "output_type": "stream",
     "text": [
      "Lane width mean =  3.96959316487\n",
      "Lane width min =  3.5073293403\n",
      "Lane width max =  4.46456807905\n",
      "Curve Ratio =  1.18962983375\n"
     ]
    },
    {
     "name": "stderr",
     "output_type": "stream",
     "text": [
      "\r",
      "t:  89%|█████████████████████████████████████████████████████████▊       | 1121/1260 [02:44<00:22,  6.31it/s, now=None]"
     ]
    },
    {
     "name": "stdout",
     "output_type": "stream",
     "text": [
      "Lane width mean =  4.02293913963\n",
      "Lane width min =  3.5117936745\n",
      "Lane width max =  4.51070180984\n",
      "Curve Ratio =  0.875870799179\n"
     ]
    },
    {
     "name": "stderr",
     "output_type": "stream",
     "text": [
      "\r",
      "t:  89%|█████████████████████████████████████████████████████████▉       | 1122/1260 [02:44<00:22,  6.21it/s, now=None]"
     ]
    },
    {
     "name": "stdout",
     "output_type": "stream",
     "text": [
      "Lane width mean =  4.10420953977\n",
      "Lane width min =  3.53956622092\n",
      "Lane width max =  4.67550918963\n",
      "Curve Ratio =  1.03566096268\n"
     ]
    },
    {
     "name": "stderr",
     "output_type": "stream",
     "text": [
      "\r",
      "t:  89%|█████████████████████████████████████████████████████████▉       | 1123/1260 [02:44<00:21,  6.36it/s, now=None]"
     ]
    },
    {
     "name": "stdout",
     "output_type": "stream",
     "text": [
      "Lane width mean =  4.19615848971\n",
      "Lane width min =  3.57819623967\n",
      "Lane width max =  4.81575857779\n",
      "Curve Ratio =  1.00743495216\n"
     ]
    },
    {
     "name": "stderr",
     "output_type": "stream",
     "text": [
      "\r",
      "t:  89%|█████████████████████████████████████████████████████████▉       | 1124/1260 [02:44<00:22,  6.14it/s, now=None]"
     ]
    },
    {
     "name": "stdout",
     "output_type": "stream",
     "text": [
      "Lane width mean =  4.11110698702\n",
      "Lane width min =  3.55956888361\n",
      "Lane width max =  4.60025855678\n",
      "Curve Ratio =  0.708204962442\n"
     ]
    },
    {
     "name": "stderr",
     "output_type": "stream",
     "text": [
      "\r",
      "t:  89%|██████████████████████████████████████████████████████████       | 1125/1260 [02:45<00:21,  6.35it/s, now=None]"
     ]
    },
    {
     "name": "stdout",
     "output_type": "stream",
     "text": [
      "Lane width mean =  4.19277089087\n",
      "Lane width min =  3.59494775895\n",
      "Lane width max =  4.74104068316\n",
      "Curve Ratio =  0.758830327307\n"
     ]
    },
    {
     "name": "stderr",
     "output_type": "stream",
     "text": [
      "\r",
      "t:  89%|██████████████████████████████████████████████████████████       | 1126/1260 [02:45<00:21,  6.25it/s, now=None]"
     ]
    },
    {
     "name": "stdout",
     "output_type": "stream",
     "text": [
      "Lane width mean =  4.16821895225\n",
      "Lane width min =  3.63006038273\n",
      "Lane width max =  4.64931223164\n",
      "Curve Ratio =  0.733877902291\n"
     ]
    },
    {
     "name": "stderr",
     "output_type": "stream",
     "text": [
      "\r",
      "t:  89%|██████████████████████████████████████████████████████████▏      | 1127/1260 [02:45<00:21,  6.17it/s, now=None]"
     ]
    },
    {
     "name": "stdout",
     "output_type": "stream",
     "text": [
      "Lane width mean =  4.11185875888\n",
      "Lane width min =  3.60547385253\n",
      "Lane width max =  4.54861669418\n",
      "Curve Ratio =  0.702031102598\n"
     ]
    },
    {
     "name": "stderr",
     "output_type": "stream",
     "text": [
      "\r",
      "t:  90%|██████████████████████████████████████████████████████████▏      | 1128/1260 [02:45<00:22,  5.92it/s, now=None]"
     ]
    },
    {
     "name": "stdout",
     "output_type": "stream",
     "text": [
      "Lane width mean =  4.16965780829\n",
      "Lane width min =  3.61246852363\n",
      "Lane width max =  4.66984632776\n",
      "Curve Ratio =  0.752156508668\n"
     ]
    },
    {
     "name": "stderr",
     "output_type": "stream",
     "text": [
      "\r",
      "t:  90%|██████████████████████████████████████████████████████████▏      | 1129/1260 [02:45<00:22,  5.86it/s, now=None]"
     ]
    },
    {
     "name": "stdout",
     "output_type": "stream",
     "text": [
      "Lane width mean =  4.07071548609\n",
      "Lane width min =  3.60951074851\n",
      "Lane width max =  4.55177678849\n",
      "Curve Ratio =  1.09012466318\n"
     ]
    },
    {
     "name": "stderr",
     "output_type": "stream",
     "text": [
      "\r",
      "t:  90%|██████████████████████████████████████████████████████████▎      | 1130/1260 [02:45<00:23,  5.61it/s, now=None]"
     ]
    },
    {
     "name": "stdout",
     "output_type": "stream",
     "text": [
      "Lane width mean =  4.0343962905\n",
      "Lane width min =  3.57967644326\n",
      "Lane width max =  4.45864819778\n",
      "Curve Ratio =  0.867594827042\n"
     ]
    },
    {
     "name": "stderr",
     "output_type": "stream",
     "text": [
      "\r",
      "t:  90%|██████████████████████████████████████████████████████████▎      | 1131/1260 [02:46<00:22,  5.81it/s, now=None]"
     ]
    },
    {
     "name": "stdout",
     "output_type": "stream",
     "text": [
      "Lane width mean =  4.02407910535\n",
      "Lane width min =  3.59681239787\n",
      "Lane width max =  4.38065845297\n",
      "Curve Ratio =  0.642166687406\n"
     ]
    },
    {
     "name": "stderr",
     "output_type": "stream",
     "text": [
      "\r",
      "t:  90%|██████████████████████████████████████████████████████████▍      | 1132/1260 [02:46<00:22,  5.79it/s, now=None]"
     ]
    },
    {
     "name": "stdout",
     "output_type": "stream",
     "text": [
      "Lane width mean =  3.90512616019\n",
      "Lane width min =  3.563265724\n",
      "Lane width max =  4.14365367119\n",
      "Curve Ratio =  0.473372550662\n"
     ]
    },
    {
     "name": "stderr",
     "output_type": "stream",
     "text": [
      "\r",
      "t:  90%|██████████████████████████████████████████████████████████▍      | 1133/1260 [02:46<00:21,  5.92it/s, now=None]"
     ]
    },
    {
     "name": "stdout",
     "output_type": "stream",
     "text": [
      "Lane width mean =  4.0231631007\n",
      "Lane width min =  3.61715834379\n",
      "Lane width max =  4.37569668212\n",
      "Curve Ratio =  0.663825589355\n"
     ]
    },
    {
     "name": "stderr",
     "output_type": "stream",
     "text": [
      "\r",
      "t:  90%|██████████████████████████████████████████████████████████▌      | 1134/1260 [02:46<00:21,  5.88it/s, now=None]"
     ]
    },
    {
     "name": "stdout",
     "output_type": "stream",
     "text": [
      "Lane width mean =  3.98718477786\n",
      "Lane width min =  3.62019884489\n",
      "Lane width max =  4.31732957418\n",
      "Curve Ratio =  0.762235336373\n"
     ]
    },
    {
     "name": "stderr",
     "output_type": "stream",
     "text": [
      "\r",
      "t:  90%|██████████████████████████████████████████████████████████▌      | 1135/1260 [02:46<00:20,  6.12it/s, now=None]"
     ]
    },
    {
     "name": "stdout",
     "output_type": "stream",
     "text": [
      "Lane width mean =  3.97509295059\n",
      "Lane width min =  3.64079008639\n",
      "Lane width max =  4.30345012451\n",
      "Curve Ratio =  1.0\n"
     ]
    },
    {
     "name": "stderr",
     "output_type": "stream",
     "text": [
      "\r",
      "t:  90%|██████████████████████████████████████████████████████████▌      | 1136/1260 [02:46<00:20,  6.02it/s, now=None]"
     ]
    },
    {
     "name": "stdout",
     "output_type": "stream",
     "text": [
      "Lane width mean =  3.95611091603\n",
      "Lane width min =  3.65430408921\n",
      "Lane width max =  4.28983007048\n",
      "Curve Ratio =  1.19881775974\n"
     ]
    },
    {
     "name": "stderr",
     "output_type": "stream",
     "text": [
      "\r",
      "t:  90%|██████████████████████████████████████████████████████████▋      | 1137/1260 [02:47<00:20,  6.07it/s, now=None]"
     ]
    },
    {
     "name": "stdout",
     "output_type": "stream",
     "text": [
      "Lane width mean =  3.90224382246\n",
      "Lane width min =  3.65290804505\n",
      "Lane width max =  4.25205917878\n",
      "Curve Ratio =  1.60740912633\n"
     ]
    },
    {
     "name": "stderr",
     "output_type": "stream",
     "text": [
      "\r",
      "t:  90%|██████████████████████████████████████████████████████████▋      | 1138/1260 [02:47<00:19,  6.14it/s, now=None]"
     ]
    },
    {
     "name": "stdout",
     "output_type": "stream",
     "text": [
      "Lane width mean =  3.92637725978\n",
      "Lane width min =  3.65106709066\n",
      "Lane width max =  4.27304656224\n",
      "Curve Ratio =  1.42187066815\n"
     ]
    },
    {
     "name": "stderr",
     "output_type": "stream",
     "text": [
      "\r",
      "t:  90%|██████████████████████████████████████████████████████████▊      | 1139/1260 [02:47<00:19,  6.21it/s, now=None]"
     ]
    },
    {
     "name": "stdout",
     "output_type": "stream",
     "text": [
      "Lane width mean =  3.8963567944\n",
      "Lane width min =  3.65607281208\n",
      "Lane width max =  4.22152949413\n",
      "Curve Ratio =  1.56930572557\n"
     ]
    },
    {
     "name": "stderr",
     "output_type": "stream",
     "text": [
      "\r",
      "t:  90%|██████████████████████████████████████████████████████████▊      | 1140/1260 [02:47<00:19,  6.17it/s, now=None]"
     ]
    },
    {
     "name": "stdout",
     "output_type": "stream",
     "text": [
      "Lane width mean =  3.87430696049\n",
      "Lane width min =  3.60935914607\n",
      "Lane width max =  4.1841479058\n",
      "Curve Ratio =  1.27765195711\n"
     ]
    },
    {
     "name": "stderr",
     "output_type": "stream",
     "text": [
      "\r",
      "t:  91%|██████████████████████████████████████████████████████████▊      | 1141/1260 [02:47<00:18,  6.38it/s, now=None]"
     ]
    },
    {
     "name": "stdout",
     "output_type": "stream",
     "text": [
      "Lane width mean =  3.96161539809\n",
      "Lane width min =  3.63628900055\n",
      "Lane width max =  4.34494224897\n",
      "Curve Ratio =  1.4202303248\n"
     ]
    },
    {
     "name": "stderr",
     "output_type": "stream",
     "text": [
      "\r",
      "t:  91%|██████████████████████████████████████████████████████████▉      | 1142/1260 [02:47<00:19,  6.20it/s, now=None]"
     ]
    },
    {
     "name": "stdout",
     "output_type": "stream",
     "text": [
      "Lane width mean =  3.93712716346\n",
      "Lane width min =  3.59201844178\n",
      "Lane width max =  4.25748805678\n",
      "Curve Ratio =  0.842508806211\n"
     ]
    },
    {
     "name": "stderr",
     "output_type": "stream",
     "text": [
      "\r",
      "t:  91%|██████████████████████████████████████████████████████████▉      | 1143/1260 [02:48<00:18,  6.26it/s, now=None]"
     ]
    },
    {
     "name": "stdout",
     "output_type": "stream",
     "text": [
      "Lane width mean =  3.93155443922\n",
      "Lane width min =  3.60727968218\n",
      "Lane width max =  4.26850731328\n",
      "Curve Ratio =  1.0881209856\n"
     ]
    },
    {
     "name": "stderr",
     "output_type": "stream",
     "text": [
      "\r",
      "t:  91%|███████████████████████████████████████████████████████████      | 1144/1260 [02:48<00:18,  6.25it/s, now=None]"
     ]
    },
    {
     "name": "stdout",
     "output_type": "stream",
     "text": [
      "Lane width mean =  3.92914416522\n",
      "Lane width min =  3.62645856236\n",
      "Lane width max =  4.26615905149\n",
      "Curve Ratio =  1.23861676708\n"
     ]
    },
    {
     "name": "stderr",
     "output_type": "stream",
     "text": [
      "\r",
      "t:  91%|███████████████████████████████████████████████████████████      | 1145/1260 [02:48<00:18,  6.30it/s, now=None]"
     ]
    },
    {
     "name": "stdout",
     "output_type": "stream",
     "text": [
      "Lane width mean =  3.84526726617\n",
      "Lane width min =  3.62332730937\n",
      "Lane width max =  4.16164636029\n",
      "Curve Ratio =  1.58153627596\n"
     ]
    },
    {
     "name": "stderr",
     "output_type": "stream",
     "text": [
      "\r",
      "t:  91%|███████████████████████████████████████████████████████████      | 1146/1260 [02:48<00:18,  6.26it/s, now=None]"
     ]
    },
    {
     "name": "stdout",
     "output_type": "stream",
     "text": [
      "Lane width mean =  3.91457175978\n",
      "Lane width min =  3.62801124547\n",
      "Lane width max =  4.27535978768\n",
      "Curve Ratio =  1.47971669221\n"
     ]
    },
    {
     "name": "stderr",
     "output_type": "stream",
     "text": [
      "\r",
      "t:  91%|███████████████████████████████████████████████████████████▏     | 1147/1260 [02:48<00:17,  6.36it/s, now=None]"
     ]
    },
    {
     "name": "stdout",
     "output_type": "stream",
     "text": [
      "Lane width mean =  3.91321758917\n",
      "Lane width min =  3.64311896057\n",
      "Lane width max =  4.31188422224\n",
      "Curve Ratio =  1.73662839935\n"
     ]
    },
    {
     "name": "stderr",
     "output_type": "stream",
     "text": [
      "\r",
      "t:  91%|███████████████████████████████████████████████████████████▏     | 1148/1260 [02:48<00:18,  6.19it/s, now=None]"
     ]
    },
    {
     "name": "stdout",
     "output_type": "stream",
     "text": [
      "Lane width mean =  3.8910925086\n",
      "Lane width min =  3.62471841857\n",
      "Lane width max =  4.28353875574\n",
      "Curve Ratio =  1.63947779153\n"
     ]
    },
    {
     "name": "stderr",
     "output_type": "stream",
     "text": [
      "\r",
      "t:  91%|███████████████████████████████████████████████████████████▎     | 1149/1260 [02:48<00:17,  6.25it/s, now=None]"
     ]
    },
    {
     "name": "stdout",
     "output_type": "stream",
     "text": [
      "Lane width mean =  3.99074455711\n",
      "Lane width min =  3.64663055163\n",
      "Lane width max =  4.42536967464\n",
      "Curve Ratio =  1.47927584872\n"
     ]
    },
    {
     "name": "stderr",
     "output_type": "stream",
     "text": [
      "\r",
      "t:  91%|███████████████████████████████████████████████████████████▎     | 1150/1260 [02:49<00:17,  6.27it/s, now=None]"
     ]
    },
    {
     "name": "stdout",
     "output_type": "stream",
     "text": [
      "Lane width mean =  3.94625938004\n",
      "Lane width min =  3.61996306049\n",
      "Lane width max =  4.35568449069\n",
      "Curve Ratio =  1.39831497339\n"
     ]
    },
    {
     "name": "stderr",
     "output_type": "stream",
     "text": [
      "\r",
      "t:  91%|███████████████████████████████████████████████████████████▍     | 1151/1260 [02:49<00:17,  6.31it/s, now=None]"
     ]
    },
    {
     "name": "stdout",
     "output_type": "stream",
     "text": [
      "Lane width mean =  3.95668226051\n",
      "Lane width min =  3.589995027\n",
      "Lane width max =  4.35976546791\n",
      "Curve Ratio =  1.14544539668\n"
     ]
    },
    {
     "name": "stderr",
     "output_type": "stream",
     "text": [
      "\r",
      "t:  91%|███████████████████████████████████████████████████████████▍     | 1152/1260 [02:49<00:17,  6.15it/s, now=None]"
     ]
    },
    {
     "name": "stdout",
     "output_type": "stream",
     "text": [
      "Lane width mean =  3.94352449194\n",
      "Lane width min =  3.53806602733\n",
      "Lane width max =  4.30772279648\n",
      "Curve Ratio =  0.852200242301\n"
     ]
    },
    {
     "name": "stderr",
     "output_type": "stream",
     "text": [
      "\r",
      "t:  92%|███████████████████████████████████████████████████████████▍     | 1153/1260 [02:49<00:17,  6.16it/s, now=None]"
     ]
    },
    {
     "name": "stdout",
     "output_type": "stream",
     "text": [
      "Lane width mean =  3.92838787963\n",
      "Lane width min =  3.53020270876\n",
      "Lane width max =  4.26926346168\n",
      "Curve Ratio =  0.792005614445\n"
     ]
    },
    {
     "name": "stderr",
     "output_type": "stream",
     "text": [
      "\r",
      "t:  92%|███████████████████████████████████████████████████████████▌     | 1154/1260 [02:49<00:16,  6.29it/s, now=None]"
     ]
    },
    {
     "name": "stdout",
     "output_type": "stream",
     "text": [
      "Lane width mean =  4.05387602782\n",
      "Lane width min =  3.57792677866\n",
      "Lane width max =  4.49070413848\n",
      "Curve Ratio =  0.857053968158\n"
     ]
    },
    {
     "name": "stderr",
     "output_type": "stream",
     "text": [
      "\r",
      "t:  92%|███████████████████████████████████████████████████████████▌     | 1155/1260 [02:49<00:16,  6.45it/s, now=None]"
     ]
    },
    {
     "name": "stdout",
     "output_type": "stream",
     "text": [
      "Lane width mean =  4.00760967027\n",
      "Lane width min =  3.57895189049\n",
      "Lane width max =  4.36812999146\n",
      "Curve Ratio =  0.762191632908\n"
     ]
    },
    {
     "name": "stderr",
     "output_type": "stream",
     "text": [
      "\r",
      "t:  92%|███████████████████████████████████████████████████████████▋     | 1156/1260 [02:50<00:16,  6.25it/s, now=None]"
     ]
    },
    {
     "name": "stdout",
     "output_type": "stream",
     "text": [
      "Lane width mean =  4.02074194798\n",
      "Lane width min =  3.58325698431\n",
      "Lane width max =  4.37561792692\n",
      "Curve Ratio =  0.727449653557\n"
     ]
    },
    {
     "name": "stderr",
     "output_type": "stream",
     "text": [
      "\r",
      "t:  92%|███████████████████████████████████████████████████████████▋     | 1157/1260 [02:50<00:16,  6.30it/s, now=None]"
     ]
    },
    {
     "name": "stdout",
     "output_type": "stream",
     "text": [
      "Lane width mean =  4.13975323406\n",
      "Lane width min =  3.63156141725\n",
      "Lane width max =  4.60889398386\n",
      "Curve Ratio =  0.858647286834\n"
     ]
    },
    {
     "name": "stderr",
     "output_type": "stream",
     "text": [
      "\r",
      "t:  92%|███████████████████████████████████████████████████████████▋     | 1158/1260 [02:50<00:16,  6.33it/s, now=None]"
     ]
    },
    {
     "name": "stdout",
     "output_type": "stream",
     "text": [
      "Lane width mean =  4.08087451768\n",
      "Lane width min =  3.63270274765\n",
      "Lane width max =  4.4593796553\n",
      "Curve Ratio =  0.762301598951\n"
     ]
    },
    {
     "name": "stderr",
     "output_type": "stream",
     "text": [
      "\r",
      "t:  92%|███████████████████████████████████████████████████████████▊     | 1159/1260 [02:50<00:15,  6.35it/s, now=None]"
     ]
    },
    {
     "name": "stdout",
     "output_type": "stream",
     "text": [
      "Lane width mean =  4.0844409156\n",
      "Lane width min =  3.64898081551\n",
      "Lane width max =  4.41562758\n",
      "Curve Ratio =  0.664387920481\n"
     ]
    },
    {
     "name": "stderr",
     "output_type": "stream",
     "text": [
      "\r",
      "t:  92%|███████████████████████████████████████████████████████████▊     | 1160/1260 [02:50<00:16,  6.25it/s, now=None]"
     ]
    },
    {
     "name": "stdout",
     "output_type": "stream",
     "text": [
      "Lane width mean =  4.03766841267\n",
      "Lane width min =  3.66706650985\n",
      "Lane width max =  4.38064468478\n",
      "Curve Ratio =  0.908140910147\n"
     ]
    },
    {
     "name": "stderr",
     "output_type": "stream",
     "text": [
      "\r",
      "t:  92%|███████████████████████████████████████████████████████████▉     | 1161/1260 [02:50<00:15,  6.38it/s, now=None]"
     ]
    },
    {
     "name": "stdout",
     "output_type": "stream",
     "text": [
      "Lane width mean =  3.95034869115\n",
      "Lane width min =  3.67180675594\n",
      "Lane width max =  4.2802053585\n",
      "Curve Ratio =  1.17077585978\n"
     ]
    },
    {
     "name": "stderr",
     "output_type": "stream",
     "text": [
      "\r",
      "t:  92%|███████████████████████████████████████████████████████████▉     | 1162/1260 [02:51<00:15,  6.38it/s, now=None]"
     ]
    },
    {
     "name": "stdout",
     "output_type": "stream",
     "text": [
      "Lane width mean =  4.02245682229\n",
      "Lane width min =  3.6821439514\n",
      "Lane width max =  4.43757803387\n",
      "Curve Ratio =  1.26607933732\n"
     ]
    },
    {
     "name": "stderr",
     "output_type": "stream",
     "text": [
      "\r",
      "t:  92%|███████████████████████████████████████████████████████████▉     | 1163/1260 [02:51<00:15,  6.39it/s, now=None]"
     ]
    },
    {
     "name": "stdout",
     "output_type": "stream",
     "text": [
      "Lane width mean =  3.93813369511\n",
      "Lane width min =  3.65232068006\n",
      "Lane width max =  4.29291538096\n",
      "Curve Ratio =  1.26371226509\n"
     ]
    },
    {
     "name": "stderr",
     "output_type": "stream",
     "text": [
      "\r",
      "t:  92%|████████████████████████████████████████████████████████████     | 1164/1260 [02:51<00:15,  6.24it/s, now=None]"
     ]
    },
    {
     "name": "stdout",
     "output_type": "stream",
     "text": [
      "Lane width mean =  3.93301051184\n",
      "Lane width min =  3.61571317534\n",
      "Lane width max =  4.25594253128\n",
      "Curve Ratio =  1.02085910582\n"
     ]
    },
    {
     "name": "stderr",
     "output_type": "stream",
     "text": [
      "\r",
      "t:  92%|████████████████████████████████████████████████████████████     | 1165/1260 [02:51<00:15,  6.29it/s, now=None]"
     ]
    },
    {
     "name": "stdout",
     "output_type": "stream",
     "text": [
      "Lane width mean =  4.03123639498\n",
      "Lane width min =  3.62980970772\n",
      "Lane width max =  4.39975293635\n",
      "Curve Ratio =  0.853771256551\n"
     ]
    },
    {
     "name": "stderr",
     "output_type": "stream",
     "text": [
      "\r",
      "t:  93%|████████████████████████████████████████████████████████████▏    | 1166/1260 [02:51<00:14,  6.32it/s, now=None]"
     ]
    },
    {
     "name": "stdout",
     "output_type": "stream",
     "text": [
      "Lane width mean =  4.01843176965\n",
      "Lane width min =  3.66207826383\n",
      "Lane width max =  4.41887454455\n",
      "Curve Ratio =  1.19246537056\n"
     ]
    },
    {
     "name": "stderr",
     "output_type": "stream",
     "text": [
      "\r",
      "t:  93%|████████████████████████████████████████████████████████████▏    | 1167/1260 [02:51<00:15,  6.11it/s, now=None]"
     ]
    },
    {
     "name": "stdout",
     "output_type": "stream",
     "text": [
      "Lane width mean =  4.04646690444\n",
      "Lane width min =  3.68676163194\n",
      "Lane width max =  4.50034436339\n",
      "Curve Ratio =  1.52607884938\n"
     ]
    },
    {
     "name": "stderr",
     "output_type": "stream",
     "text": [
      "\r",
      "t:  93%|████████████████████████████████████████████████████████████▎    | 1168/1260 [02:51<00:14,  6.19it/s, now=None]"
     ]
    },
    {
     "name": "stdout",
     "output_type": "stream",
     "text": [
      "Lane width mean =  4.03842125159\n",
      "Lane width min =  3.68317547052\n",
      "Lane width max =  4.45992440639\n",
      "Curve Ratio =  1.37925902225\n"
     ]
    },
    {
     "name": "stderr",
     "output_type": "stream",
     "text": [
      "\r",
      "t:  93%|████████████████████████████████████████████████████████████▎    | 1169/1260 [02:52<00:14,  6.08it/s, now=None]"
     ]
    },
    {
     "name": "stdout",
     "output_type": "stream",
     "text": [
      "Lane width mean =  3.95551164912\n",
      "Lane width min =  3.66236567621\n",
      "Lane width max =  4.24611612315\n",
      "Curve Ratio =  0.984236424283\n"
     ]
    },
    {
     "name": "stderr",
     "output_type": "stream",
     "text": [
      "\r",
      "t:  93%|████████████████████████████████████████████████████████████▎    | 1170/1260 [02:52<00:14,  6.14it/s, now=None]"
     ]
    },
    {
     "name": "stdout",
     "output_type": "stream",
     "text": [
      "Lane width mean =  3.9796676829\n",
      "Lane width min =  3.71058537189\n",
      "Lane width max =  4.34974038323\n",
      "Curve Ratio =  1.5975051041\n"
     ]
    },
    {
     "name": "stderr",
     "output_type": "stream",
     "text": [
      "\r",
      "t:  93%|████████████████████████████████████████████████████████████▍    | 1171/1260 [02:52<00:13,  6.41it/s, now=None]"
     ]
    },
    {
     "name": "stdout",
     "output_type": "stream",
     "text": [
      "Lane width mean =  3.92746839617\n",
      "Lane width min =  3.70561184973\n",
      "Lane width max =  4.32372865807\n",
      "Curve Ratio =  2.16395725732\n"
     ]
    },
    {
     "name": "stderr",
     "output_type": "stream",
     "text": [
      "\r",
      "t:  93%|████████████████████████████████████████████████████████████▍    | 1172/1260 [02:52<00:14,  6.04it/s, now=None]"
     ]
    },
    {
     "name": "stdout",
     "output_type": "stream",
     "text": [
      "Lane width mean =  3.92980875833\n",
      "Lane width min =  3.68945938321\n",
      "Lane width max =  4.33565456737\n",
      "Curve Ratio =  2.10361698761\n"
     ]
    },
    {
     "name": "stderr",
     "output_type": "stream",
     "text": [
      "\r",
      "t:  93%|████████████████████████████████████████████████████████████▌    | 1173/1260 [02:52<00:14,  6.01it/s, now=None]"
     ]
    },
    {
     "name": "stdout",
     "output_type": "stream",
     "text": [
      "Lane width mean =  3.97015683146\n",
      "Lane width min =  3.69698587061\n",
      "Lane width max =  4.43089159438\n",
      "Curve Ratio =  2.3107789323\n"
     ]
    },
    {
     "name": "stderr",
     "output_type": "stream",
     "text": [
      "\r",
      "t:  93%|████████████████████████████████████████████████████████████▌    | 1174/1260 [02:52<00:14,  5.89it/s, now=None]"
     ]
    },
    {
     "name": "stdout",
     "output_type": "stream",
     "text": [
      "Lane width mean =  3.88148213622\n",
      "Lane width min =  3.58710565555\n",
      "Lane width max =  4.21601729285\n",
      "Curve Ratio =  1.28484450411\n"
     ]
    },
    {
     "name": "stderr",
     "output_type": "stream",
     "text": [
      "\r",
      "t:  93%|████████████████████████████████████████████████████████████▌    | 1175/1260 [02:53<00:14,  6.04it/s, now=None]"
     ]
    },
    {
     "name": "stdout",
     "output_type": "stream",
     "text": [
      "Lane width mean =  3.89753929065\n",
      "Lane width min =  3.52298672451\n",
      "Lane width max =  4.1946955553\n",
      "Curve Ratio =  1.0\n"
     ]
    },
    {
     "name": "stderr",
     "output_type": "stream",
     "text": [
      "\r",
      "t:  93%|████████████████████████████████████████████████████████████▋    | 1176/1260 [02:53<00:13,  6.14it/s, now=None]"
     ]
    },
    {
     "name": "stdout",
     "output_type": "stream",
     "text": [
      "Lane width mean =  3.93746054069\n",
      "Lane width min =  3.58316920523\n",
      "Lane width max =  4.2919848638\n",
      "Curve Ratio =  1.0\n"
     ]
    },
    {
     "name": "stderr",
     "output_type": "stream",
     "text": [
      "\r",
      "t:  93%|████████████████████████████████████████████████████████████▋    | 1177/1260 [02:53<00:13,  5.96it/s, now=None]"
     ]
    },
    {
     "name": "stdout",
     "output_type": "stream",
     "text": [
      "Lane width mean =  3.92456888912\n",
      "Lane width min =  3.61736878385\n",
      "Lane width max =  4.3389875478\n",
      "Curve Ratio =  1.77054379527\n"
     ]
    },
    {
     "name": "stderr",
     "output_type": "stream",
     "text": [
      "\r",
      "t:  93%|████████████████████████████████████████████████████████████▊    | 1178/1260 [02:53<00:13,  6.04it/s, now=None]"
     ]
    },
    {
     "name": "stdout",
     "output_type": "stream",
     "text": [
      "Lane width mean =  3.98791573112\n",
      "Lane width min =  3.63677383682\n",
      "Lane width max =  4.41890794525\n",
      "Curve Ratio =  1.71093718439\n"
     ]
    },
    {
     "name": "stderr",
     "output_type": "stream",
     "text": [
      "\r",
      "t:  94%|████████████████████████████████████████████████████████████▊    | 1179/1260 [02:53<00:13,  6.11it/s, now=None]"
     ]
    },
    {
     "name": "stdout",
     "output_type": "stream",
     "text": [
      "Lane width mean =  3.96190651224\n",
      "Lane width min =  3.62770029946\n",
      "Lane width max =  4.37499757126\n",
      "Curve Ratio =  1.7201829433\n"
     ]
    },
    {
     "name": "stderr",
     "output_type": "stream",
     "text": [
      "\r",
      "t:  94%|████████████████████████████████████████████████████████████▊    | 1180/1260 [02:53<00:13,  6.07it/s, now=None]"
     ]
    },
    {
     "name": "stdout",
     "output_type": "stream",
     "text": [
      "Lane width mean =  3.94257270121\n",
      "Lane width min =  3.60737717521\n",
      "Lane width max =  4.28893680019\n",
      "Curve Ratio =  1.07711340165\n"
     ]
    },
    {
     "name": "stderr",
     "output_type": "stream",
     "text": [
      "\r",
      "t:  94%|████████████████████████████████████████████████████████████▉    | 1181/1260 [02:54<00:12,  6.12it/s, now=None]"
     ]
    },
    {
     "name": "stdout",
     "output_type": "stream",
     "text": [
      "Lane width mean =  3.99386864859\n",
      "Lane width min =  3.63668444045\n",
      "Lane width max =  4.39105610161\n",
      "Curve Ratio =  1.29620006604\n"
     ]
    },
    {
     "name": "stderr",
     "output_type": "stream",
     "text": [
      "\r",
      "t:  94%|████████████████████████████████████████████████████████████▉    | 1182/1260 [02:54<00:12,  6.18it/s, now=None]"
     ]
    },
    {
     "name": "stdout",
     "output_type": "stream",
     "text": [
      "Lane width mean =  3.95972913887\n",
      "Lane width min =  3.6228779851\n",
      "Lane width max =  4.32725933754\n",
      "Curve Ratio =  1.18274100739\n"
     ]
    },
    {
     "name": "stderr",
     "output_type": "stream",
     "text": [
      "\r",
      "t:  94%|█████████████████████████████████████████████████████████████    | 1183/1260 [02:54<00:12,  6.23it/s, now=None]"
     ]
    },
    {
     "name": "stdout",
     "output_type": "stream",
     "text": [
      "Lane width mean =  3.98925699289\n",
      "Lane width min =  3.62033291199\n",
      "Lane width max =  4.34622715132\n",
      "Curve Ratio =  0.939804483935\n"
     ]
    },
    {
     "name": "stderr",
     "output_type": "stream",
     "text": [
      "\r",
      "t:  94%|█████████████████████████████████████████████████████████████    | 1184/1260 [02:54<00:12,  6.23it/s, now=None]"
     ]
    },
    {
     "name": "stdout",
     "output_type": "stream",
     "text": [
      "Lane width mean =  3.98350464472\n",
      "Lane width min =  3.62215615057\n",
      "Lane width max =  4.36319461509\n",
      "Curve Ratio =  1.0865403362\n"
     ]
    },
    {
     "name": "stderr",
     "output_type": "stream",
     "text": [
      "\r",
      "t:  94%|█████████████████████████████████████████████████████████████▏   | 1185/1260 [02:54<00:11,  6.36it/s, now=None]"
     ]
    },
    {
     "name": "stdout",
     "output_type": "stream",
     "text": [
      "Lane width mean =  3.93430796291\n",
      "Lane width min =  3.62640372646\n",
      "Lane width max =  4.3664999498\n",
      "Curve Ratio =  1.51204475466\n"
     ]
    },
    {
     "name": "stderr",
     "output_type": "stream",
     "text": [
      "\r",
      "t:  94%|█████████████████████████████████████████████████████████████▏   | 1186/1260 [02:54<00:12,  6.14it/s, now=None]"
     ]
    },
    {
     "name": "stdout",
     "output_type": "stream",
     "text": [
      "Lane width mean =  3.99124332571\n",
      "Lane width min =  3.63071355315\n",
      "Lane width max =  4.43846489289\n",
      "Curve Ratio =  1.37888673679\n"
     ]
    },
    {
     "name": "stderr",
     "output_type": "stream",
     "text": [
      "\r",
      "t:  94%|█████████████████████████████████████████████████████████████▏   | 1187/1260 [02:55<00:11,  6.18it/s, now=None]"
     ]
    },
    {
     "name": "stdout",
     "output_type": "stream",
     "text": [
      "Lane width mean =  3.97386229914\n",
      "Lane width min =  3.55818973313\n",
      "Lane width max =  4.33381533891\n",
      "Curve Ratio =  0.79184783984\n"
     ]
    },
    {
     "name": "stderr",
     "output_type": "stream",
     "text": [
      "\r",
      "t:  94%|█████████████████████████████████████████████████████████████▎   | 1188/1260 [02:55<00:11,  6.24it/s, now=None]"
     ]
    },
    {
     "name": "stdout",
     "output_type": "stream",
     "text": [
      "Lane width mean =  3.94876864045\n",
      "Lane width min =  3.56107980455\n",
      "Lane width max =  4.25375449546\n",
      "Curve Ratio =  0.656936933311\n"
     ]
    },
    {
     "name": "stderr",
     "output_type": "stream",
     "text": [
      "\r",
      "t:  94%|█████████████████████████████████████████████████████████████▎   | 1189/1260 [02:55<00:11,  6.29it/s, now=None]"
     ]
    },
    {
     "name": "stdout",
     "output_type": "stream",
     "text": [
      "Lane width mean =  4.00312130843\n",
      "Lane width min =  3.57691428062\n",
      "Lane width max =  4.29104553516\n",
      "Curve Ratio =  0.389125225137\n"
     ]
    },
    {
     "name": "stderr",
     "output_type": "stream",
     "text": [
      "\r",
      "t:  94%|█████████████████████████████████████████████████████████████▍   | 1190/1260 [02:55<00:11,  6.32it/s, now=None]"
     ]
    },
    {
     "name": "stdout",
     "output_type": "stream",
     "text": [
      "Lane width mean =  3.95675509604\n",
      "Lane width min =  3.59857194204\n",
      "Lane width max =  4.28190037854\n",
      "Curve Ratio =  0.867421404055\n"
     ]
    },
    {
     "name": "stderr",
     "output_type": "stream",
     "text": [
      "\r",
      "t:  95%|█████████████████████████████████████████████████████████████▍   | 1191/1260 [02:55<00:10,  6.34it/s, now=None]"
     ]
    },
    {
     "name": "stdout",
     "output_type": "stream",
     "text": [
      "Lane width mean =  3.92990419526\n",
      "Lane width min =  3.57942553288\n",
      "Lane width max =  4.13474438933\n",
      "Curve Ratio =  0.444215936861\n"
     ]
    },
    {
     "name": "stderr",
     "output_type": "stream",
     "text": [
      "\r",
      "t:  95%|█████████████████████████████████████████████████████████████▍   | 1192/1260 [02:55<00:11,  6.18it/s, now=None]"
     ]
    },
    {
     "name": "stdout",
     "output_type": "stream",
     "text": [
      "Lane width mean =  3.87964661748\n",
      "Lane width min =  3.6199202111\n",
      "Lane width max =  4.08247675375\n",
      "Curve Ratio =  0.769441474975\n"
     ]
    },
    {
     "name": "stderr",
     "output_type": "stream",
     "text": [
      "t:  95%|█████████████████████████████████████████████████████████████▌   | 1194/1260 [02:56<00:10,  6.45it/s, now=None]"
     ]
    },
    {
     "name": "stdout",
     "output_type": "stream",
     "text": [
      "Lane width mean =  3.88741399401\n",
      "Lane width min =  3.60434565802\n",
      "Lane width max =  4.12050764612\n",
      "Curve Ratio =  0.835185079513\n"
     ]
    },
    {
     "name": "stderr",
     "output_type": "stream",
     "text": [
      "t:  95%|█████████████████████████████████████████████████████████████▊   | 1197/1260 [02:56<00:09,  6.82it/s, now=None]"
     ]
    },
    {
     "name": "stdout",
     "output_type": "stream",
     "text": [
      "Lane width mean =  3.83821073835\n",
      "Lane width min =  3.5452480571\n",
      "Lane width max =  4.0727228147\n",
      "Curve Ratio =  0.808181851839\n"
     ]
    },
    {
     "name": "stderr",
     "output_type": "stream",
     "text": [
      "\r",
      "t:  95%|█████████████████████████████████████████████████████████████▊   | 1198/1260 [02:56<00:09,  6.87it/s, now=None]"
     ]
    },
    {
     "name": "stdout",
     "output_type": "stream",
     "text": [
      "Lane width mean =  3.90604755047\n",
      "Lane width min =  3.57187471797\n",
      "Lane width max =  4.17956778817\n",
      "Curve Ratio =  0.813384090978\n"
     ]
    },
    {
     "name": "stderr",
     "output_type": "stream",
     "text": [
      "\r",
      "t:  95%|█████████████████████████████████████████████████████████████▊   | 1199/1260 [02:56<00:08,  6.90it/s, now=None]"
     ]
    },
    {
     "name": "stdout",
     "output_type": "stream",
     "text": [
      "Lane width mean =  4.03548065162\n",
      "Lane width min =  3.64347894218\n",
      "Lane width max =  4.34989303577\n",
      "Curve Ratio =  0.784375133059\n"
     ]
    },
    {
     "name": "stderr",
     "output_type": "stream",
     "text": [
      "\r",
      "t:  95%|█████████████████████████████████████████████████████████████▉   | 1200/1260 [02:57<00:08,  6.79it/s, now=None]"
     ]
    },
    {
     "name": "stdout",
     "output_type": "stream",
     "text": [
      "Lane width mean =  4.10937989763\n",
      "Lane width min =  3.7098968219\n",
      "Lane width max =  4.44388220656\n",
      "Curve Ratio =  0.808514743435\n"
     ]
    },
    {
     "name": "stderr",
     "output_type": "stream",
     "text": [
      "\r",
      "t:  95%|█████████████████████████████████████████████████████████████▉   | 1201/1260 [02:57<00:08,  6.77it/s, now=None]"
     ]
    },
    {
     "name": "stdout",
     "output_type": "stream",
     "text": [
      "Lane width mean =  4.04047658142\n",
      "Lane width min =  3.67242810438\n",
      "Lane width max =  4.27743609029\n",
      "Curve Ratio =  0.608995531796\n"
     ]
    },
    {
     "name": "stderr",
     "output_type": "stream",
     "text": [
      "\r",
      "t:  95%|██████████████████████████████████████████████████████████████   | 1202/1260 [02:57<00:08,  6.75it/s, now=None]"
     ]
    },
    {
     "name": "stdout",
     "output_type": "stream",
     "text": [
      "Lane width mean =  4.06662124402\n",
      "Lane width min =  3.70186970823\n",
      "Lane width max =  4.33206446504\n",
      "Curve Ratio =  0.71133860042\n"
     ]
    },
    {
     "name": "stderr",
     "output_type": "stream",
     "text": [
      "\r",
      "t:  95%|██████████████████████████████████████████████████████████████   | 1203/1260 [02:57<00:08,  6.80it/s, now=None]"
     ]
    },
    {
     "name": "stdout",
     "output_type": "stream",
     "text": [
      "Lane width mean =  4.04486970293\n",
      "Lane width min =  3.69615356542\n",
      "Lane width max =  4.34369533997\n",
      "Curve Ratio =  0.86835139189\n"
     ]
    },
    {
     "name": "stderr",
     "output_type": "stream",
     "text": [
      "\r",
      "t:  96%|██████████████████████████████████████████████████████████████   | 1204/1260 [02:57<00:08,  6.79it/s, now=None]"
     ]
    },
    {
     "name": "stdout",
     "output_type": "stream",
     "text": [
      "Lane width mean =  3.9927905267\n",
      "Lane width min =  3.68268824117\n",
      "Lane width max =  4.26368324828\n",
      "Curve Ratio =  0.880761036537\n"
     ]
    },
    {
     "name": "stderr",
     "output_type": "stream",
     "text": [
      "\r",
      "t:  96%|██████████████████████████████████████████████████████████████▏  | 1205/1260 [02:57<00:07,  6.89it/s, now=None]"
     ]
    },
    {
     "name": "stdout",
     "output_type": "stream",
     "text": [
      "Lane width mean =  3.95364031043\n",
      "Lane width min =  3.69220926774\n",
      "Lane width max =  4.2202070969\n",
      "Curve Ratio =  1.01660842419\n"
     ]
    },
    {
     "name": "stderr",
     "output_type": "stream",
     "text": [
      "\r",
      "t:  96%|██████████████████████████████████████████████████████████████▏  | 1206/1260 [02:57<00:08,  6.73it/s, now=None]"
     ]
    },
    {
     "name": "stdout",
     "output_type": "stream",
     "text": [
      "Lane width mean =  3.8799367847\n",
      "Lane width min =  3.6883185016\n",
      "Lane width max =  4.23646255611\n",
      "Curve Ratio =  1.64894187996\n"
     ]
    },
    {
     "name": "stderr",
     "output_type": "stream",
     "text": [
      "\r",
      "t:  96%|██████████████████████████████████████████████████████████████▎  | 1207/1260 [02:58<00:07,  6.70it/s, now=None]"
     ]
    },
    {
     "name": "stdout",
     "output_type": "stream",
     "text": [
      "Lane width mean =  3.83715657859\n",
      "Lane width min =  3.6594542096\n",
      "Lane width max =  4.22524355121\n",
      "Curve Ratio =  1.93731891537\n"
     ]
    },
    {
     "name": "stderr",
     "output_type": "stream",
     "text": [
      "\r",
      "t:  96%|██████████████████████████████████████████████████████████████▎  | 1208/1260 [02:58<00:07,  6.70it/s, now=None]"
     ]
    },
    {
     "name": "stdout",
     "output_type": "stream",
     "text": [
      "Lane width mean =  3.85894479819\n",
      "Lane width min =  3.64339371815\n",
      "Lane width max =  4.26300011932\n",
      "Curve Ratio =  1.81261676242\n"
     ]
    },
    {
     "name": "stderr",
     "output_type": "stream",
     "text": [
      "\r",
      "t:  96%|██████████████████████████████████████████████████████████████▎  | 1209/1260 [02:58<00:07,  6.82it/s, now=None]"
     ]
    },
    {
     "name": "stdout",
     "output_type": "stream",
     "text": [
      "Lane width mean =  3.7780964448\n",
      "Lane width min =  3.51764104232\n",
      "Lane width max =  4.0755961794\n",
      "Curve Ratio =  1.15067808452\n"
     ]
    },
    {
     "name": "stderr",
     "output_type": "stream",
     "text": [
      "\r",
      "t:  96%|██████████████████████████████████████████████████████████████▍  | 1210/1260 [02:58<00:07,  6.71it/s, now=None]"
     ]
    },
    {
     "name": "stdout",
     "output_type": "stream",
     "text": [
      "Lane width mean =  3.82291382647\n",
      "Lane width min =  3.55929701473\n",
      "Lane width max =  4.19317073414\n",
      "Curve Ratio =  1.47718033776\n"
     ]
    },
    {
     "name": "stderr",
     "output_type": "stream",
     "text": [
      "\r",
      "t:  96%|██████████████████████████████████████████████████████████████▍  | 1211/1260 [02:58<00:07,  6.67it/s, now=None]"
     ]
    },
    {
     "name": "stdout",
     "output_type": "stream",
     "text": [
      "Lane width mean =  3.81988075659\n",
      "Lane width min =  3.56887310342\n",
      "Lane width max =  4.17469184799\n",
      "Curve Ratio =  1.45986016422\n"
     ]
    },
    {
     "name": "stderr",
     "output_type": "stream",
     "text": [
      "\r",
      "t:  96%|██████████████████████████████████████████████████████████████▌  | 1212/1260 [02:58<00:07,  6.61it/s, now=None]"
     ]
    },
    {
     "name": "stdout",
     "output_type": "stream",
     "text": [
      "Lane width mean =  3.82444153565\n",
      "Lane width min =  3.5642999973\n",
      "Lane width max =  4.13074951913\n",
      "Curve Ratio =  1.1862750346\n"
     ]
    },
    {
     "name": "stderr",
     "output_type": "stream",
     "text": [
      "\r",
      "t:  96%|██████████████████████████████████████████████████████████████▌  | 1213/1260 [02:59<00:07,  6.44it/s, now=None]"
     ]
    },
    {
     "name": "stdout",
     "output_type": "stream",
     "text": [
      "Lane width mean =  3.93818381367\n",
      "Lane width min =  3.57845238067\n",
      "Lane width max =  4.28014106919\n",
      "Curve Ratio =  0.923978042719\n"
     ]
    },
    {
     "name": "stderr",
     "output_type": "stream",
     "text": [
      "\r",
      "t:  96%|██████████████████████████████████████████████████████████████▋  | 1214/1260 [02:59<00:07,  6.29it/s, now=None]"
     ]
    },
    {
     "name": "stdout",
     "output_type": "stream",
     "text": [
      "Lane width mean =  3.94525727308\n",
      "Lane width min =  3.61784684873\n",
      "Lane width max =  4.39552108919\n",
      "Curve Ratio =  1.57652515221\n"
     ]
    },
    {
     "name": "stderr",
     "output_type": "stream",
     "text": [
      "\r",
      "t:  96%|██████████████████████████████████████████████████████████████▋  | 1215/1260 [02:59<00:07,  6.30it/s, now=None]"
     ]
    },
    {
     "name": "stdout",
     "output_type": "stream",
     "text": [
      "Lane width mean =  3.90432276569\n",
      "Lane width min =  3.61999007203\n",
      "Lane width max =  4.22571047509\n",
      "Curve Ratio =  1.17766896592\n"
     ]
    },
    {
     "name": "stderr",
     "output_type": "stream",
     "text": [
      "\r",
      "t:  97%|██████████████████████████████████████████████████████████████▋  | 1216/1260 [02:59<00:07,  6.29it/s, now=None]"
     ]
    },
    {
     "name": "stdout",
     "output_type": "stream",
     "text": [
      "Lane width mean =  3.97206128546\n",
      "Lane width min =  3.62765223137\n",
      "Lane width max =  4.33632129111\n",
      "Curve Ratio =  1.09346414983\n"
     ]
    },
    {
     "name": "stderr",
     "output_type": "stream",
     "text": [
      "\r",
      "t:  97%|██████████████████████████████████████████████████████████████▊  | 1217/1260 [02:59<00:06,  6.32it/s, now=None]"
     ]
    },
    {
     "name": "stdout",
     "output_type": "stream",
     "text": [
      "Lane width mean =  3.89844811243\n",
      "Lane width min =  3.63167261344\n",
      "Lane width max =  4.16772095938\n",
      "Curve Ratio =  1.0127738305\n"
     ]
    },
    {
     "name": "stderr",
     "output_type": "stream",
     "text": [
      "\r",
      "t:  97%|██████████████████████████████████████████████████████████████▊  | 1218/1260 [02:59<00:06,  6.31it/s, now=None]"
     ]
    },
    {
     "name": "stdout",
     "output_type": "stream",
     "text": [
      "Lane width mean =  3.91962903468\n",
      "Lane width min =  3.62059349475\n",
      "Lane width max =  4.19536298654\n",
      "Curve Ratio =  0.863587942456\n"
     ]
    },
    {
     "name": "stderr",
     "output_type": "stream",
     "text": [
      "\r",
      "t:  97%|██████████████████████████████████████████████████████████████▉  | 1219/1260 [02:59<00:06,  6.16it/s, now=None]"
     ]
    },
    {
     "name": "stdout",
     "output_type": "stream",
     "text": [
      "Lane width mean =  3.9475899324\n",
      "Lane width min =  3.60606740732\n",
      "Lane width max =  4.25932084273\n",
      "Curve Ratio =  0.831262218201\n"
     ]
    },
    {
     "name": "stderr",
     "output_type": "stream",
     "text": [
      "\r",
      "t:  97%|██████████████████████████████████████████████████████████████▉  | 1220/1260 [03:00<00:06,  6.23it/s, now=None]"
     ]
    },
    {
     "name": "stdout",
     "output_type": "stream",
     "text": [
      "Lane width mean =  3.90248114051\n",
      "Lane width min =  3.53456634257\n",
      "Lane width max =  4.21070242186\n",
      "Curve Ratio =  0.679173410907\n"
     ]
    },
    {
     "name": "stderr",
     "output_type": "stream",
     "text": [
      "\r",
      "t:  97%|██████████████████████████████████████████████████████████████▉  | 1221/1260 [03:00<00:06,  6.27it/s, now=None]"
     ]
    },
    {
     "name": "stdout",
     "output_type": "stream",
     "text": [
      "Lane width mean =  3.96719425911\n",
      "Lane width min =  3.6007457991\n",
      "Lane width max =  4.34806805724\n",
      "Curve Ratio =  1.07794599662\n"
     ]
    },
    {
     "name": "stderr",
     "output_type": "stream",
     "text": [
      "\r",
      "t:  97%|███████████████████████████████████████████████████████████████  | 1222/1260 [03:00<00:06,  6.17it/s, now=None]"
     ]
    },
    {
     "name": "stdout",
     "output_type": "stream",
     "text": [
      "Lane width mean =  3.94663782787\n",
      "Lane width min =  3.62905505927\n",
      "Lane width max =  4.40199653359\n",
      "Curve Ratio =  1.72062199058\n"
     ]
    },
    {
     "name": "stderr",
     "output_type": "stream",
     "text": [
      "\r",
      "t:  97%|███████████████████████████████████████████████████████████████  | 1223/1260 [03:00<00:05,  6.36it/s, now=None]"
     ]
    },
    {
     "name": "stdout",
     "output_type": "stream",
     "text": [
      "Lane width mean =  3.84542250493\n",
      "Lane width min =  3.58274890645\n",
      "Lane width max =  4.15125311067\n",
      "Curve Ratio =  1.21817178663\n"
     ]
    },
    {
     "name": "stderr",
     "output_type": "stream",
     "text": [
      "\r",
      "t:  97%|███████████████████████████████████████████████████████████████▏ | 1224/1260 [03:00<00:05,  6.38it/s, now=None]"
     ]
    },
    {
     "name": "stdout",
     "output_type": "stream",
     "text": [
      "Lane width mean =  3.88363290032\n",
      "Lane width min =  3.59777679712\n",
      "Lane width max =  4.24820430523\n",
      "Curve Ratio =  1.41095451701\n"
     ]
    },
    {
     "name": "stderr",
     "output_type": "stream",
     "text": [
      "\r",
      "t:  97%|███████████████████████████████████████████████████████████████▏ | 1225/1260 [03:00<00:05,  6.39it/s, now=None]"
     ]
    },
    {
     "name": "stdout",
     "output_type": "stream",
     "text": [
      "Lane width mean =  3.83000990218\n",
      "Lane width min =  3.59785823898\n",
      "Lane width max =  4.16990647009\n",
      "Curve Ratio =  1.68809966381\n"
     ]
    },
    {
     "name": "stderr",
     "output_type": "stream",
     "text": [
      "\r",
      "t:  97%|███████████████████████████████████████████████████████████████▏ | 1226/1260 [03:01<00:05,  6.21it/s, now=None]"
     ]
    },
    {
     "name": "stdout",
     "output_type": "stream",
     "text": [
      "Lane width mean =  3.95649910172\n",
      "Lane width min =  3.62677632189\n",
      "Lane width max =  4.50158710051\n",
      "Curve Ratio =  2.40062168475\n"
     ]
    },
    {
     "name": "stderr",
     "output_type": "stream",
     "text": [
      "\r",
      "t:  97%|███████████████████████████████████████████████████████████████▎ | 1227/1260 [03:01<00:05,  6.26it/s, now=None]"
     ]
    },
    {
     "name": "stdout",
     "output_type": "stream",
     "text": [
      "Lane width mean =  4.0578443548\n",
      "Lane width min =  3.66902271595\n",
      "Lane width max =  4.70706101187\n",
      "Curve Ratio =  3.03781955606\n"
     ]
    },
    {
     "name": "stderr",
     "output_type": "stream",
     "text": [
      "\r",
      "t:  97%|███████████████████████████████████████████████████████████████▎ | 1228/1260 [03:01<00:05,  6.26it/s, now=None]"
     ]
    },
    {
     "name": "stdout",
     "output_type": "stream",
     "text": [
      "Lane width mean =  4.00997000331\n",
      "Lane width min =  3.63462908706\n",
      "Lane width max =  4.44281378801\n",
      "Curve Ratio =  1.39679343631\n"
     ]
    },
    {
     "name": "stderr",
     "output_type": "stream",
     "text": [
      "\r",
      "t:  98%|███████████████████████████████████████████████████████████████▍ | 1229/1260 [03:01<00:05,  6.18it/s, now=None]"
     ]
    },
    {
     "name": "stdout",
     "output_type": "stream",
     "text": [
      "Lane width mean =  4.10798619467\n",
      "Lane width min =  3.64430019312\n",
      "Lane width max =  4.64645342301\n",
      "Curve Ratio =  1.57205348308\n"
     ]
    },
    {
     "name": "stderr",
     "output_type": "stream",
     "text": [
      "\r",
      "t:  98%|███████████████████████████████████████████████████████████████▍ | 1230/1260 [03:01<00:04,  6.37it/s, now=None]"
     ]
    },
    {
     "name": "stdout",
     "output_type": "stream",
     "text": [
      "Lane width mean =  4.06781020358\n",
      "Lane width min =  3.61834830472\n",
      "Lane width max =  4.54937381054\n",
      "Curve Ratio =  1.0\n"
     ]
    },
    {
     "name": "stderr",
     "output_type": "stream",
     "text": [
      "\r",
      "t:  98%|███████████████████████████████████████████████████████████████▌ | 1231/1260 [03:01<00:04,  6.34it/s, now=None]"
     ]
    },
    {
     "name": "stdout",
     "output_type": "stream",
     "text": [
      "Lane width mean =  4.01671486255\n",
      "Lane width min =  3.55662313896\n",
      "Lane width max =  4.47623593211\n",
      "Curve Ratio =  1.0\n"
     ]
    },
    {
     "name": "stderr",
     "output_type": "stream",
     "text": [
      "\r",
      "t:  98%|███████████████████████████████████████████████████████████████▌ | 1232/1260 [03:02<00:04,  6.17it/s, now=None]"
     ]
    },
    {
     "name": "stdout",
     "output_type": "stream",
     "text": [
      "Lane width mean =  4.03786473983\n",
      "Lane width min =  3.565542317\n",
      "Lane width max =  4.51399552662\n",
      "Curve Ratio =  1.0\n"
     ]
    },
    {
     "name": "stderr",
     "output_type": "stream",
     "text": [
      "\r",
      "t:  98%|███████████████████████████████████████████████████████████████▌ | 1233/1260 [03:02<00:04,  6.24it/s, now=None]"
     ]
    },
    {
     "name": "stdout",
     "output_type": "stream",
     "text": [
      "Lane width mean =  3.9394139048\n",
      "Lane width min =  3.5040079834\n",
      "Lane width max =  4.26558319743\n",
      "Curve Ratio =  1.0\n"
     ]
    },
    {
     "name": "stderr",
     "output_type": "stream",
     "text": [
      "\r",
      "t:  98%|███████████████████████████████████████████████████████████████▋ | 1234/1260 [03:02<00:04,  6.28it/s, now=None]"
     ]
    },
    {
     "name": "stdout",
     "output_type": "stream",
     "text": [
      "Lane width mean =  3.94786760542\n",
      "Lane width min =  3.54321927862\n",
      "Lane width max =  4.28126062447\n",
      "Curve Ratio =  1.0\n"
     ]
    },
    {
     "name": "stderr",
     "output_type": "stream",
     "text": [
      "\r",
      "t:  98%|███████████████████████████████████████████████████████████████▋ | 1235/1260 [03:02<00:04,  6.15it/s, now=None]"
     ]
    },
    {
     "name": "stdout",
     "output_type": "stream",
     "text": [
      "Lane width mean =  3.97583080975\n",
      "Lane width min =  3.54498916214\n",
      "Lane width max =  4.26087233401\n",
      "Curve Ratio =  1.0\n"
     ]
    },
    {
     "name": "stderr",
     "output_type": "stream",
     "text": [
      "\r",
      "t:  98%|███████████████████████████████████████████████████████████████▊ | 1236/1260 [03:02<00:03,  6.15it/s, now=None]"
     ]
    },
    {
     "name": "stdout",
     "output_type": "stream",
     "text": [
      "Lane width mean =  3.96863568388\n",
      "Lane width min =  3.57008356983\n",
      "Lane width max =  4.22228920246\n",
      "Curve Ratio =  1.0\n"
     ]
    },
    {
     "name": "stderr",
     "output_type": "stream",
     "text": [
      "\r",
      "t:  98%|███████████████████████████████████████████████████████████████▊ | 1237/1260 [03:02<00:03,  6.19it/s, now=None]"
     ]
    },
    {
     "name": "stdout",
     "output_type": "stream",
     "text": [
      "Lane width mean =  4.04606102098\n",
      "Lane width min =  3.62160606064\n",
      "Lane width max =  4.36667399628\n",
      "Curve Ratio =  1.0\n"
     ]
    },
    {
     "name": "stderr",
     "output_type": "stream",
     "text": [
      "\r",
      "t:  98%|███████████████████████████████████████████████████████████████▊ | 1238/1260 [03:03<00:03,  6.16it/s, now=None]"
     ]
    },
    {
     "name": "stdout",
     "output_type": "stream",
     "text": [
      "Lane width mean =  4.04363219847\n",
      "Lane width min =  3.64486830917\n",
      "Lane width max =  4.34139479073\n",
      "Curve Ratio =  1.0\n"
     ]
    },
    {
     "name": "stderr",
     "output_type": "stream",
     "text": [
      "\r",
      "t:  98%|███████████████████████████████████████████████████████████████▉ | 1239/1260 [03:03<00:03,  6.20it/s, now=None]"
     ]
    },
    {
     "name": "stdout",
     "output_type": "stream",
     "text": [
      "Lane width mean =  3.98275266287\n",
      "Lane width min =  3.63756058427\n",
      "Lane width max =  4.28047308454\n",
      "Curve Ratio =  1.0\n"
     ]
    },
    {
     "name": "stderr",
     "output_type": "stream",
     "text": [
      "\r",
      "t:  98%|███████████████████████████████████████████████████████████████▉ | 1240/1260 [03:03<00:03,  6.19it/s, now=None]"
     ]
    },
    {
     "name": "stdout",
     "output_type": "stream",
     "text": [
      "Lane width mean =  4.00770198402\n",
      "Lane width min =  3.62858476385\n",
      "Lane width max =  4.34162181121\n",
      "Curve Ratio =  1.0\n"
     ]
    },
    {
     "name": "stderr",
     "output_type": "stream",
     "text": [
      "\r",
      "t:  98%|████████████████████████████████████████████████████████████████ | 1241/1260 [03:03<00:03,  6.30it/s, now=None]"
     ]
    },
    {
     "name": "stdout",
     "output_type": "stream",
     "text": [
      "Lane width mean =  3.96089722362\n",
      "Lane width min =  3.59126246717\n",
      "Lane width max =  4.26610600515\n",
      "Curve Ratio =  1.0\n"
     ]
    },
    {
     "name": "stderr",
     "output_type": "stream",
     "text": [
      "\r",
      "t:  99%|████████████████████████████████████████████████████████████████ | 1242/1260 [03:03<00:02,  6.33it/s, now=None]"
     ]
    },
    {
     "name": "stdout",
     "output_type": "stream",
     "text": [
      "Lane width mean =  3.92444938079\n",
      "Lane width min =  3.49163039509\n",
      "Lane width max =  4.14041286032\n",
      "Curve Ratio =  1.0\n"
     ]
    },
    {
     "name": "stderr",
     "output_type": "stream",
     "text": [
      "\r",
      "t:  99%|████████████████████████████████████████████████████████████████ | 1243/1260 [03:03<00:02,  6.17it/s, now=None]"
     ]
    },
    {
     "name": "stdout",
     "output_type": "stream",
     "text": [
      "Lane width mean =  3.99941207805\n",
      "Lane width min =  3.50816022173\n",
      "Lane width max =  4.25010773267\n",
      "Curve Ratio =  3.4493957247\n"
     ]
    },
    {
     "name": "stderr",
     "output_type": "stream",
     "text": [
      "\r",
      "t:  99%|████████████████████████████████████████████████████████████████▏| 1244/1260 [03:03<00:02,  6.23it/s, now=None]"
     ]
    },
    {
     "name": "stdout",
     "output_type": "stream",
     "text": [
      "Lane width mean =  3.94042110816\n",
      "Lane width min =  3.55506556255\n",
      "Lane width max =  4.14327663854\n",
      "Curve Ratio =  1.0\n"
     ]
    },
    {
     "name": "stderr",
     "output_type": "stream",
     "text": [
      "\r",
      "t:  99%|████████████████████████████████████████████████████████████████▏| 1245/1260 [03:04<00:02,  6.28it/s, now=None]"
     ]
    },
    {
     "name": "stdout",
     "output_type": "stream",
     "text": [
      "Lane width mean =  3.98401855111\n",
      "Lane width min =  3.57101209104\n",
      "Lane width max =  4.22911639748\n",
      "Curve Ratio =  1.0\n"
     ]
    },
    {
     "name": "stderr",
     "output_type": "stream",
     "text": [
      "\r",
      "t:  99%|████████████████████████████████████████████████████████████████▎| 1246/1260 [03:04<00:02,  6.14it/s, now=None]"
     ]
    },
    {
     "name": "stdout",
     "output_type": "stream",
     "text": [
      "Lane width mean =  3.98799679845\n",
      "Lane width min =  3.62185187128\n",
      "Lane width max =  4.23982824944\n",
      "Curve Ratio =  1.0\n"
     ]
    },
    {
     "name": "stderr",
     "output_type": "stream",
     "text": [
      "\r",
      "t:  99%|████████████████████████████████████████████████████████████████▎| 1247/1260 [03:04<00:02,  6.13it/s, now=None]"
     ]
    },
    {
     "name": "stdout",
     "output_type": "stream",
     "text": [
      "Lane width mean =  3.85737290415\n",
      "Lane width min =  3.66330060442\n",
      "Lane width max =  4.09688063257\n",
      "Curve Ratio =  1.0\n"
     ]
    },
    {
     "name": "stderr",
     "output_type": "stream",
     "text": [
      "\r",
      "t:  99%|████████████████████████████████████████████████████████████████▍| 1248/1260 [03:04<00:01,  6.26it/s, now=None]"
     ]
    },
    {
     "name": "stdout",
     "output_type": "stream",
     "text": [
      "Lane width mean =  3.90872362364\n",
      "Lane width min =  3.68033905752\n",
      "Lane width max =  4.199910456\n",
      "Curve Ratio =  1.0\n"
     ]
    },
    {
     "name": "stderr",
     "output_type": "stream",
     "text": [
      "\r",
      "t:  99%|████████████████████████████████████████████████████████████████▍| 1249/1260 [03:04<00:01,  6.12it/s, now=None]"
     ]
    },
    {
     "name": "stdout",
     "output_type": "stream",
     "text": [
      "Lane width mean =  3.87190343086\n",
      "Lane width min =  3.66994480902\n",
      "Lane width max =  4.10046315731\n",
      "Curve Ratio =  1.0\n"
     ]
    },
    {
     "name": "stderr",
     "output_type": "stream",
     "text": [
      "t:  99%|████████████████████████████████████████████████████████████████▌| 1251/1260 [03:05<00:01,  6.27it/s, now=None]"
     ]
    },
    {
     "name": "stdout",
     "output_type": "stream",
     "text": [
      "Lane width mean =  3.91900856226\n",
      "Lane width min =  3.69923773865\n",
      "Lane width max =  4.2150120557\n",
      "Curve Ratio =  1.0\n"
     ]
    },
    {
     "name": "stderr",
     "output_type": "stream",
     "text": [
      "\r",
      "t:  99%|████████████████████████████████████████████████████████████████▌| 1252/1260 [03:05<00:01,  6.31it/s, now=None]"
     ]
    },
    {
     "name": "stdout",
     "output_type": "stream",
     "text": [
      "Lane width mean =  3.9086462374\n",
      "Lane width min =  3.67899454616\n",
      "Lane width max =  4.1470112654\n",
      "Curve Ratio =  1.0\n"
     ]
    },
    {
     "name": "stderr",
     "output_type": "stream",
     "text": [
      "\r",
      "t:  99%|████████████████████████████████████████████████████████████████▋| 1253/1260 [03:05<00:01,  6.34it/s, now=None]"
     ]
    },
    {
     "name": "stdout",
     "output_type": "stream",
     "text": [
      "Lane width mean =  3.89097931701\n",
      "Lane width min =  3.59654025502\n",
      "Lane width max =  4.06409304275\n",
      "Curve Ratio =  1.0\n"
     ]
    },
    {
     "name": "stderr",
     "output_type": "stream",
     "text": [
      "\r",
      "t: 100%|████████████████████████████████████████████████████████████████▋| 1254/1260 [03:05<00:00,  6.56it/s, now=None]"
     ]
    },
    {
     "name": "stdout",
     "output_type": "stream",
     "text": [
      "Lane width mean =  3.92714060108\n",
      "Lane width min =  3.62645120845\n",
      "Lane width max =  4.08688505237\n",
      "Curve Ratio =  1.0\n"
     ]
    },
    {
     "name": "stderr",
     "output_type": "stream",
     "text": [
      "\r",
      "t: 100%|████████████████████████████████████████████████████████████████▋| 1255/1260 [03:05<00:00,  6.51it/s, now=None]"
     ]
    },
    {
     "name": "stdout",
     "output_type": "stream",
     "text": [
      "Lane width mean =  3.88260462346\n",
      "Lane width min =  3.67440546558\n",
      "Lane width max =  4.05231760372\n",
      "Curve Ratio =  1.0\n"
     ]
    },
    {
     "name": "stderr",
     "output_type": "stream",
     "text": [
      "\r",
      "t: 100%|████████████████████████████████████████████████████████████████▊| 1256/1260 [03:05<00:00,  6.68it/s, now=None]"
     ]
    },
    {
     "name": "stdout",
     "output_type": "stream",
     "text": [
      "Lane width mean =  3.89785686305\n",
      "Lane width min =  3.70296243833\n",
      "Lane width max =  4.09372032735\n",
      "Curve Ratio =  1.0\n"
     ]
    },
    {
     "name": "stderr",
     "output_type": "stream",
     "text": [
      "\r",
      "t: 100%|████████████████████████████████████████████████████████████████▊| 1257/1260 [03:06<00:00,  6.60it/s, now=None]"
     ]
    },
    {
     "name": "stdout",
     "output_type": "stream",
     "text": [
      "Lane width mean =  3.88471790333\n",
      "Lane width min =  3.7346589837\n",
      "Lane width max =  4.09192469059\n",
      "Curve Ratio =  1.0\n"
     ]
    },
    {
     "name": "stderr",
     "output_type": "stream",
     "text": [
      "t: 100%|████████████████████████████████████████████████████████████████▉| 1259/1260 [03:06<00:00,  6.91it/s, now=None]"
     ]
    },
    {
     "name": "stdout",
     "output_type": "stream",
     "text": [
      "Lane width mean =  3.89850654063\n",
      "Lane width min =  3.72427619594\n",
      "Lane width max =  4.1244605633\n",
      "Curve Ratio =  1.0\n"
     ]
    },
    {
     "name": "stderr",
     "output_type": "stream",
     "text": [
      "\r",
      "t: 100%|█████████████████████████████████████████████████████████████████| 1260/1260 [03:06<00:00,  6.65it/s, now=None]"
     ]
    },
    {
     "name": "stdout",
     "output_type": "stream",
     "text": [
      "Lane width mean =  3.90010322085\n",
      "Lane width min =  3.73170188912\n",
      "Lane width max =  4.13199616651\n",
      "Curve Ratio =  1.0\n"
     ]
    },
    {
     "name": "stderr",
     "output_type": "stream",
     "text": []
    },
    {
     "name": "stdout",
     "output_type": "stream",
     "text": [
      "Moviepy - Done !\n",
      "Moviepy - video ready project_video_out.mp4\n",
      "Wall time: 3min 8s\n"
     ]
    }
   ],
   "source": [
    "from moviepy.editor import VideoFileClip\n",
    "white_output = 'project_video_out.mp4'\n",
    "clip1 = VideoFileClip(\"project_video.mp4\")#.subclip(18,25)\n",
    "white_clip = clip1.fl_image(lane_detection.process_image)\n",
    "%time white_clip.write_videofile(white_output, audio=False)\n",
    "clip1.close()"
   ]
  },
  {
   "cell_type": "code",
   "execution_count": null,
   "metadata": {
    "collapsed": true
   },
   "outputs": [],
   "source": []
  },
  {
   "cell_type": "code",
   "execution_count": null,
   "metadata": {
    "collapsed": true
   },
   "outputs": [],
   "source": [
    "from moviepy.editor import VideoFileClip\n",
    "clip1 = VideoFileClip(\"project_video.mp4\").subclip(18,25)"
   ]
  },
  {
   "cell_type": "code",
   "execution_count": null,
   "metadata": {
    "collapsed": false
   },
   "outputs": [],
   "source": [
    "plt.imshow(lane_detection.process_image(clip1.get_frame(2/25.)))"
   ]
  },
  {
   "cell_type": "code",
   "execution_count": null,
   "metadata": {
    "collapsed": true
   },
   "outputs": [],
   "source": []
  }
 ],
 "metadata": {
  "anaconda-cloud": {},
  "kernelspec": {
   "display_name": "Python [conda root]",
   "language": "python",
   "name": "conda-root-py"
  },
  "language_info": {
   "codemirror_mode": {
    "name": "ipython",
    "version": 3
   },
   "file_extension": ".py",
   "mimetype": "text/x-python",
   "name": "python",
   "nbconvert_exporter": "python",
   "pygments_lexer": "ipython3",
   "version": "3.5.2"
  }
 },
 "nbformat": 4,
 "nbformat_minor": 1
}
